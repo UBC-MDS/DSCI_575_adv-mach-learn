{
 "cells": [
  {
   "cell_type": "code",
   "execution_count": null,
   "id": "d2c1be71-0bde-45f4-ae9b-cb6454addb09",
   "metadata": {},
   "outputs": [],
   "source": [
    "import os\n",
    "from openai import OpenAI\n",
    "from dotenv import load_dotenv, find_dotenv\n",
    "\n",
    "# Load API key from .env file\n",
    "_ = load_dotenv(find_dotenv())\n",
    "api_key = os.environ[\"OPENAI_API_KEY\"]\n",
    "\n",
    "# Initialize client\n",
    "client = OpenAI(api_key=api_key)\n",
    "\n",
    "# Define your model\n",
    "llm_model = \"gpt-4o\"  # or \"gpt-3.5-turbo\"\n",
    "\n",
    "# Define function to call chat completion\n",
    "def get_completion(prompt, model=llm_model):\n",
    "    messages = [{\"role\": \"user\", \"content\": prompt}]\n",
    "    response = client.chat.completions.create(\n",
    "        model=model,\n",
    "        messages=messages,\n",
    "        temperature=0,\n",
    "    )\n",
    "    return response.choices[0].message.content\n",
    "\n",
    "# Example usage\n",
    "print(get_completion(\"What is learning?\"))"
   ]
  },
  {
   "cell_type": "code",
   "execution_count": 5,
   "id": "1cccfed4-9bce-46e0-90f5-ff9577ba5646",
   "metadata": {},
   "outputs": [
    {
     "name": "stdout",
     "output_type": "stream",
     "text": [
      "eva coffee: 0.4219\n",
      "coffee break: 0.5673\n",
      "break: 0.0108\n"
     ]
    }
   ],
   "source": [
    "import torch\n",
    "import clip\n",
    "from PIL import Image\n",
    "\n",
    "# Set device\n",
    "device = \"cuda\" if torch.cuda.is_available() else \"cpu\"\n",
    "\n",
    "# Load the model\n",
    "model, preprocess = clip.load(\"ViT-B/32\", device=device)\n",
    "\n",
    "# Load and preprocess the image\n",
    "image = preprocess(Image.open(\"../img/eva-coffee.png\")).unsqueeze(0).to(device)\n",
    "\n",
    "# Define text descriptions\n",
    "texts = [\"eva coffee\", \"coffee break\", \"break\"]\n",
    "text_tokens = clip.tokenize(texts).to(device)\n",
    "\n",
    "# Compute image and text features\n",
    "with torch.no_grad():\n",
    "    image_features = model.encode_image(image)\n",
    "    text_features = model.encode_text(text_tokens)\n",
    "\n",
    "    # Calculate similarity\n",
    "    logits_per_image, _ = model(image, text_tokens)\n",
    "    probs = logits_per_image.softmax(dim=-1).cpu().numpy()\n",
    "\n",
    "# Display results\n",
    "for text, prob in zip(texts, probs[0]):\n",
    "    print(f\"{text}: {prob:.4f}\")"
   ]
  },
  {
   "cell_type": "code",
   "execution_count": 6,
   "id": "c720dd35-74ed-41d6-8c7d-4e47d14cd7d2",
   "metadata": {},
   "outputs": [
    {
     "data": {
      "image/png": "[encoded data removed]",
      "text/plain": [
       "<Figure size 800x600 with 1 Axes>"
      ]
     },
     "metadata": {},
     "output_type": "display_data"
    }
   ],
   "source": [
    "import matplotlib.pyplot as plt\n",
    "from sklearn.decomposition import PCA\n",
    "import numpy as np\n",
    "\n",
    "# Combine features\n",
    "features = torch.cat([image_features, text_features], dim=0).cpu().numpy()\n",
    "\n",
    "# Apply PCA\n",
    "pca = PCA(n_components=2)\n",
    "pca_result = pca.fit_transform(features)\n",
    "\n",
    "# Plot\n",
    "plt.figure(figsize=(8, 6))\n",
    "plt.scatter(pca_result[0, 0], pca_result[0, 1], label=\"Image\", marker='o')\n",
    "for i, text in enumerate(texts):\n",
    "    plt.scatter(pca_result[i+1, 0], pca_result[i+1, 1], label=text, marker='x')\n",
    "plt.legend()\n",
    "plt.title(\"PCA of Image and Text Embeddings\")\n",
    "plt.xlabel(\"PC1\")\n",
    "plt.ylabel(\"PC2\")\n",
    "plt.grid(True)\n",
    "plt.show()"
   ]
  },
  {
   "cell_type": "code",
   "execution_count": null,
   "id": "681e2f74-b14e-45a9-b4fe-f7ec73ba66b8",
   "metadata": {},
   "outputs": [],
   "source": []
  },
  {
   "cell_type": "code",
   "execution_count": null,
   "id": "2a2eac66-1292-4283-a96c-7d8c04e9524a",
   "metadata": {},
   "outputs": [],
   "source": []
  },
  {
   "cell_type": "code",
   "execution_count": null,
   "id": "b0e045df-e110-452b-9685-cb65df8e096f",
   "metadata": {},
   "outputs": [],
   "source": []
  },
  {
   "cell_type": "code",
   "execution_count": null,
   "id": "9406e9e6-7a2f-48be-b21b-632a102e5b65",
   "metadata": {},
   "outputs": [],
   "source": []
  },
  {
   "cell_type": "code",
   "execution_count": null,
   "id": "fb890caf-0256-4dfe-b0a5-eb0f8bc7fadc",
   "metadata": {},
   "outputs": [],
   "source": [
    "from langchain_community.document_loaders import WebBaseLoader\n",
    "\n",
    "# Load the webpage\n",
    "loader = WebBaseLoader(\"https://ubc-mds.github.io/policies/\")\n",
    "docs = loader.load()"
   ]
  },
  {
   "cell_type": "markdown",
   "id": "58fda17d-bb60-42f8-867f-7743ddeaa9b0",
   "metadata": {},
   "source": [
    "```pip install langchain-community```\n",
    "```pip install openai```\n",
    "```pip install chromadb```"
   ]
  },
  {
   "cell_type": "code",
   "execution_count": null,
   "id": "7357794a-c003-4bf7-95ef-4cd1abda8163",
   "metadata": {},
   "outputs": [],
   "source": [
    "from langchain.text_splitter import RecursiveCharacterTextSplitter\n",
    "\n",
    "# Initialize the text splitter\n",
    "text_splitter = RecursiveCharacterTextSplitter(chunk_size=1000, chunk_overlap=100)\n",
    "\n",
    "# Split the document into chunks\n",
    "documents = text_splitter.split_documents(docs)"
   ]
  },
  {
   "cell_type": "code",
   "execution_count": null,
   "id": "e458602b-caac-4e29-a194-bd36ae83a7f9",
   "metadata": {},
   "outputs": [],
   "source": [
    "from langchain.embeddings import OpenAIEmbeddings\n",
    "from langchain.vectorstores import Chroma\n",
    "\n",
    "# Initialize the embeddings model\n",
    "embedding_model = OpenAIEmbeddings()\n",
    "\n",
    "# Create a vector store from the document chunks\n",
    "vectorstore = Chroma.from_documents(documents, embedding=embedding_model)"
   ]
  },
  {
   "cell_type": "code",
   "execution_count": null,
   "id": "4dadcaa8-4e79-438e-957d-94abb5fdc4db",
   "metadata": {},
   "outputs": [],
   "source": [
    "from langchain.chains import RetrievalQA\n",
    "from langchain.chat_models import ChatOpenAI\n",
    "\n",
    "# Initialize the language model\n",
    "llm = ChatOpenAI(model=\"gpt-4\", temperature=0)\n",
    "\n",
    "# Create a retriever from the vector store\n",
    "retriever = vectorstore.as_retriever()\n",
    "\n",
    "# Set up the RetrievalQA chain\n",
    "qa_chain = RetrievalQA.from_chain_type(llm=llm, retriever=retriever)"
   ]
  },
  {
   "cell_type": "code",
   "execution_count": null,
   "id": "52ad67c9-6ada-42f2-9aa1-7d75ee0488ca",
   "metadata": {},
   "outputs": [],
   "source": [
    "# Example question\n",
    "query = \"What is the policy on academic integrity in the MDS program?\"\n",
    "\n",
    "# Get the answer\n",
    "answer = qa_chain.run(query)\n",
    "\n",
    "# Print the answer\n",
    "print(answer)"
   ]
  }
 ],
 "metadata": {
  "kernelspec": {
   "display_name": "Python [conda env:575]",
   "language": "python",
   "name": "conda-env-575-py"
  },
  "language_info": {
   "codemirror_mode": {
    "name": "ipython",
    "version": 3
   },
   "file_extension": ".py",
   "mimetype": "text/x-python",
   "name": "python",
   "nbconvert_exporter": "python",
   "pygments_lexer": "ipython3",
   "version": "3.12.0"
  }
 },
 "nbformat": 4,
 "nbformat_minor": 5
}
