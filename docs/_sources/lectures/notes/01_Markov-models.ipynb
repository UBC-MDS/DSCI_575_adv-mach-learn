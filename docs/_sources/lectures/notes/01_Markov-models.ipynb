{
 "cells": [
  {
   "cell_type": "markdown",
   "metadata": {},
   "source": [
    "![](../img/575_banner.png)"
   ]
  },
  {
   "cell_type": "markdown",
   "metadata": {
    "slideshow": {
     "slide_type": "slide"
    }
   },
   "source": [
    "# Lecture 1: Markov Models \n",
    "\n",
    "UBC Master of Data Science program, 2024-25"
   ]
  },
  {
   "cell_type": "markdown",
   "metadata": {},
   "source": [
    "## Imports and LO"
   ]
  },
  {
   "cell_type": "markdown",
   "metadata": {
    "slideshow": {
     "slide_type": "skip"
    }
   },
   "source": [
    "### Imports "
   ]
  },
  {
   "cell_type": "code",
   "execution_count": 1,
   "metadata": {
    "slideshow": {
     "slide_type": "skip"
    }
   },
   "outputs": [],
   "source": [
    "import os\n",
    "import re\n",
    "import sys\n",
    "import time\n",
    "from collections import Counter, defaultdict\n",
    "\n",
    "import IPython\n",
    "import nltk\n",
    "import numpy as np\n",
    "import pandas as pd\n",
    "from IPython.display import HTML, display\n",
    "from nltk.corpus import stopwords\n",
    "from nltk.tokenize import sent_tokenize, word_tokenize"
   ]
  },
  {
   "cell_type": "markdown",
   "metadata": {
    "slideshow": {
     "slide_type": "skip"
    }
   },
   "source": [
    "### Learning outcomes\n",
    "\n",
    "From this lesson you will be able to\n",
    "\n",
    "- Explain the general idea of a language model and name some of its applications.\n",
    "  \n",
    "- Define Markov chains and explain terminology (states, initial probability distribution over states, and transition matrix) related to Markov chains.\n",
    "- State Markov assumption.\n",
    "- Compute the probability of a sequence of states. \n",
    "- Compute the probability of being in a state at time $t$. \n",
    "- Explain the general idea of a stationary distribution."
   ]
  },
  {
   "cell_type": "markdown",
   "metadata": {},
   "source": [
    "<br><br><br><br>"
   ]
  },
  {
   "cell_type": "markdown",
   "metadata": {
    "slideshow": {
     "slide_type": "slide"
    }
   },
   "source": [
    "## 1. Language models: motivation"
   ]
  },
  {
   "cell_type": "markdown",
   "metadata": {
    "slideshow": {
     "slide_type": "slide"
    }
   },
   "source": [
    "### 1.1 What is a language model? "
   ]
  },
  {
   "cell_type": "markdown",
   "metadata": {},
   "source": [
    "### 🧠 Activity\n",
    "\n",
    "Let's play a quick game. I'll give you a phrase, for example:\n",
    "\n",
    "> **_too much_**\n",
    "\n",
    "Now, I want you to guess what word might come next. You can suggest multiple options and even assign rough probabilities to each one."
   ]
  },
  {
   "cell_type": "markdown",
   "metadata": {},
   "source": [
    "| **Next word** | **probability** |\n",
    "|---------------|-----------------|\n",
    "| work          | 0.10            |\n",
    "| butter        | 0.3             |\n",
    "| rain          |                 |"
   ]
  },
  {
   "cell_type": "markdown",
   "metadata": {},
   "source": [
    "Great! What you just did is what a language model does. It assigns probabilities to possible next words.\n",
    "\n",
    "We just guessed those numbers based on our intuition. But out in the real world, we're surrounded by massive amounts of text such as books, websites, social media, and more.\n",
    "\n",
    "We can use that real data to compute actual probability distributions. For example:\n",
    "\n",
    "$$ P(\\text{work} \\mid \\text{too much}) = \\frac{\\text{count(too much work)}}{\\text{count(too much)}}$$"
   ]
  },
  {
   "cell_type": "markdown",
   "metadata": {},
   "source": [
    "More formally, a language model computes **the probability distribution over sequences of tokens or subtokens**. Given some vocabulary $V$, a language model assigns a probability (a number between 0 and 1) to all sequences of tokens or subtokens in $V$.\n",
    "\n",
    "Intuitively, this probability tells us how \"good\" or plausible a sequence of tokens is.\n",
    "\n",
    "![](../img/voice-assistant-ex.png)\n",
    "\n",
    "For example: \n",
    "\n",
    "- P(I have read this book) > P(eye have red this book) or P(book | read this) > P(book | red this)\n",
    "    \n",
    "- P(How do I start a savings habit?) > P(How to start shaving a rabbit?)\n",
    "\n",
    "<!-- <img src=\"img/voice-assistant-ex.png\" height=\"1400\" width=\"1400\"> -->"
   ]
  },
  {
   "cell_type": "markdown",
   "metadata": {},
   "source": [
    "One of the most common applications for predicting the next word is the 'smart compose' feature in your emails, text messages, and search engines."
   ]
  },
  {
   "cell_type": "code",
   "execution_count": 2,
   "metadata": {
    "scrolled": true,
    "tags": []
   },
   "outputs": [
    {
     "data": {
      "text/html": [
       "\n",
       "        <iframe\n",
       "            width=\"500\"\n",
       "            height=\"500\"\n",
       "            src=\"https://2.bp.blogspot.com/-KlBuhzV_oFw/WvxP_OAkJ1I/AAAAAAAACu0/T0F6lFZl-2QpS0O7VBMhf8wkUPvnRaPIACLcBGAs/s1600/image2.gif\"\n",
       "            frameborder=\"0\"\n",
       "            allowfullscreen\n",
       "            \n",
       "        ></iframe>\n",
       "        "
      ],
      "text/plain": [
       "<IPython.lib.display.IFrame at 0x124756cc0>"
      ]
     },
     "execution_count": 2,
     "metadata": {},
     "output_type": "execute_result"
    }
   ],
   "source": [
    "url = \"https://2.bp.blogspot.com/-KlBuhzV_oFw/WvxP_OAkJ1I/AAAAAAAACu0/T0F6lFZl-2QpS0O7VBMhf8wkUPvnRaPIACLcBGAs/s1600/image2.gif\"\n",
    "\n",
    "IPython.display.IFrame(url, width=500, height=500)"
   ]
  },
  {
   "cell_type": "markdown",
   "metadata": {},
   "source": [
    "<br><br>"
   ]
  },
  {
   "cell_type": "markdown",
   "metadata": {
    "slideshow": {
     "slide_type": "skip"
    }
   },
   "source": [
    "### 1.2 Language modeling: Why should we care?\n",
    "\n",
    "- Powerful idea in NLP and helps in many tasks.\n",
    "\n",
    "- From simple Markov models to advanced systems like ChatGPT, all language models are doing this at their core -- computing probability distributions over words or tokens or subtokens to predict what comes next.\n",
    "\n",
    "- In old days language models were used as a component of a larger system.\n",
    "\n",
    "    - Machine translation \n",
    "        * P(In the age of data algorithms have the answer) > P(the age data of in algorithms answer the have)\n",
    "          \n",
    "    - Spelling correction\n",
    "        * My office is a 10  <span style=\"color:red\">minuet</span> bike ride from my home.  \n",
    "            * P(10 <span style=\"color:blue\">minute</span> bike ride from my home) > P(10 <span style=\"color:red\">minuet</span> bike ride from my home)\n",
    "    - Speech recognition \n",
    "        * P(<span style=\"color:blue\">I read</span> a book) > P(<span style=\"color:red\">Eye red</span> a book)\n",
    "        \n",
    "- Now they are capable of being a standalone systems (e.g., ChatGPT)\n",
    "    - Question answering (e.g., Andrei Markov was born in __)\n",
    "      \n",
    "    - Content generation (e.g., Generating news articles)\n",
    "    - Summarization\n",
    "    - Writing assistants (e.g., https://www.ai21.com/)\n",
    "    - ..."
   ]
  },
  {
   "cell_type": "markdown",
   "metadata": {
    "slideshow": {
     "slide_type": "slide"
    }
   },
   "source": [
    "**Why is this hard?**\n",
    "\n",
    "- Language modeling requires not only linguistic expertise but also extensive world knowledge.\n",
    "  \n",
    "- The machine learning models we've studied so far may not be directly suitable because language modeling demands sequence modeling capabilities.\n",
    "  \n",
    "- **In this course, we will explore models specifically designed to model sequences effectively.** \n",
    "  \n",
    "- We'll start with the simplest kind of language model: **the Markov model of language**.\n",
    "\n",
    "- Later in the course, we will talk about neural language models. \n",
    "- Today's lecture will delve into the theory behind Markov models. Our next lecture will examine some real-world applications of Markov models."
   ]
  },
  {
   "cell_type": "markdown",
   "metadata": {
    "slideshow": {
     "slide_type": "slide"
    }
   },
   "source": [
    "**Markov chains you have seen in MDS so far** \n",
    "\n",
    "- DSCI 512\n",
    "    - You wrote code to generate text using Markov models of language. \n",
    "- DSCI 553\n",
    "    - You used it as a simulation tool to approximate the posterior distribution of your Bayesian modeling parameters of interest.\n",
    "     \n",
    "The model we are going to look at is similar to what you've seen in DSCI 512.     "
   ]
  },
  {
   "cell_type": "markdown",
   "metadata": {},
   "source": [
    "<br><br><br><br>"
   ]
  },
  {
   "cell_type": "markdown",
   "metadata": {},
   "source": [
    "## 2. Markov model intuition"
   ]
  },
  {
   "cell_type": "markdown",
   "metadata": {},
   "source": [
    "### 2.1 Examples of Markov chains \n",
    "\n",
    "**🧠 Activity**\n",
    "\n",
    "Each of you will receive a sticky note with a word on it. Here's what you'll do:\n",
    "\n",
    "- **Carefully remove the sticky note to see the word**. This word is for your eyes only; don't show it to your neighbours!\n",
    "  \n",
    "- Think quickly: what word would logically follow the word on the sticky note? **Write this next word on a new sticky note**. You have about 20 seconds for this step, so trust your instincts!\n",
    "- **Pass your predicted word to the person next to you**. Do not pass the word you received from your neighbour forward. Keep the chain going!\n",
    "\n",
    "- Stop after the last person in your row/table has finished.\n",
    "\n",
    "Whichever row generates the most captivating sentence will be rewarded with treats! 🍫\n",
    "\n",
    "<br><br>"
   ]
  },
  {
   "cell_type": "markdown",
   "metadata": {},
   "source": [
    "- You've just created a simple Markov model of language!\n",
    "  \n",
    "- In predicting the next word from a minimal context, you likely used your linguistic intuition and familiarity with common two-word phrases or collocations.\n",
    "  \n",
    "- You could create more coherent sentences by taking into account more context e.g., previous two words or four words or 100 words.\n",
    "\n",
    "This idea was first used by Shannon in The Shannon's game. See this video by [Jordan Boyd-Graber](https://www.youtube.com/watch?v=0shft1gokac) for more information on this. "
   ]
  },
  {
   "cell_type": "markdown",
   "metadata": {
    "slideshow": {
     "slide_type": "slide"
    }
   },
   "source": [
    "**Example: Does this look like Python code?**\n",
    "\n",
    "```\n",
    "import sys\n",
    "import warnings\n",
    "import ast\n",
    "import numpy.core.overrides import set_module\n",
    "# While not in __all__, matrix_power used to be defined here, so we import\n",
    "# it for backward compatibility\n",
    "    getT = T.fget\n",
    "    getI = I.fget\n",
    "```\n",
    "\n",
    "```\n",
    "def _from_string(data):\n",
    "    for char in '[]':\n",
    "        data = data.replace(char, '')\n",
    "    rows = str.split(';')\n",
    "    rowtup = []\n",
    "        for row in rows:\n",
    "        trow = newrow\n",
    "        coltup.append(thismat)\n",
    "        rowtup.append(concatenate(coltup, axis=-1))\n",
    "            return NotImplemented\n",
    "```"
   ]
  },
  {
   "cell_type": "markdown",
   "metadata": {
    "slideshow": {
     "slide_type": "slide"
    }
   },
   "source": [
    "### How is this text generated?\n",
    "\n",
    "- Imagine you have a peculiar kind of memory, like a strange form of amnesia.\n",
    "\n",
    "- You can only remember **one word at a time**: the current word.\n",
    "\n",
    "- Now picture writing a Python program with this limitation. After writing a word, you forget everything that came before. Your next word choice depends only on the one you just wrote.\n",
    "- To decide what comes next, you consult a list, built from a large collection of Python code,  that tells you which words are most likely to follow the current one.\n",
    "- You repeat this step for each word, gradually generating a new sequence.\n",
    "- This is how a **Markov model** works: it generates text one word at a time, using only the previous word.\n",
    "\n",
    "- You can think of each word as a **state**, and at each time step, you **transition** from one state to another based on learned probabilities.\n",
    "\n",
    "![](../img/Python_generation_Markov.png)\n",
    "<!-- <img src=\"img/Python_generation_Markov.png\" height=\"550\" width=\"550\">  -->\n"
   ]
  },
  {
   "cell_type": "markdown",
   "metadata": {},
   "source": [
    "**Example with daily activities as states**\n",
    "- What kinds of activities does a typical MDS student carry out on a daily basis?\n",
    "\n",
    "![](../img/activity-seqs.png)"
   ]
  },
  {
   "cell_type": "markdown",
   "metadata": {},
   "source": [
    "<br><br>"
   ]
  },
  {
   "cell_type": "markdown",
   "metadata": {
    "slideshow": {
     "slide_type": "slide"
    }
   },
   "source": [
    "### 2.2 Markov chain idea\n",
    "\n",
    "- Often we need to model systems or processes that evolve over time. \n",
    "- We want to represent the state of the world at each specific point via a series of snapshots. \n",
    "- Markov chain idea: Predict future depending upon \n",
    "    - the current state\n",
    "      \n",
    "    - the probability of change    \n",
    "\n",
    "- Examples: \n",
    "    - Weather: Given that today is cold, what will be the weather tomorrow?\n",
    "      \n",
    "    - Stock prices: Given the current market conditions what will be the stock prices tomorrow?\n",
    "    - Text: Given that the speaker has uttered the word **data** what will be the next word? "
   ]
  },
  {
   "cell_type": "markdown",
   "metadata": {},
   "source": [
    "<br><br>"
   ]
  },
  {
   "cell_type": "markdown",
   "metadata": {
    "slideshow": {
     "slide_type": "slide"
    }
   },
   "source": [
    "### 2.3 Markov assumption\n",
    "\n",
    "Suppose we want to calculate probability of a sequence \"there is a crack in everything that 's how the light gets in\" (a phrase from Leonard Cohen's poem [Anthem](https://genius.com/Leonard-cohen-anthem-lyrics)). A naive approach to calculate this probability would be: \n",
    "\n",
    "\\begin{equation}\n",
    "\\begin{split}\n",
    "P(\\text{there is a crack in everything that 's how the light gets in}) = &P(\\text{there}) \\times P(\\text{is}\\mid \\text{there})\\\\ \n",
    "                                              & \\times P(\\text{a} \\mid \\text{there is}) \\times P(\\text{crack}\\mid \\text{there is a})\\\\\n",
    "                                              & \\times P(\\text{in}\\mid \\text{there is a crack})\\\\\n",
    "                                              & \\times P(\\text{everything} \\mid \\text{there is a crack in}) \\\\\n",
    "                                              & \\times P(\\text{that} \\mid \\text{there is a crack in everything}) \\\\                                              \n",
    "                                              & \\dots\\\\        \n",
    "\\end{split}\n",
    "\\end{equation}\n"
   ]
  },
  {
   "cell_type": "markdown",
   "metadata": {},
   "source": [
    "You can also express it as a product of conditional probabilities. \n",
    "$$P(w_{1:n}) = \\prod_{i=1}^n  P(\\text{word}_i \\mid \\text{word}_{1:i-1})$$\n",
    "\n",
    "But this doesn't take us too far, as calculating probability of a word given the entire history (e.g., $P(\\text{light} \\mid \\text{there is a crack in everything that 's how the})$) is not easy because \n",
    "language is creative and any particular context might not have occurred before.  \n",
    "\n",
    "The intuition of Markov models of language (ngram models) is that instead of computing the probability of the next word given its entire history we **approximate** it by considering just the last few words. "
   ]
  },
  {
   "cell_type": "markdown",
   "metadata": {},
   "source": [
    "**Markov assumption: The future is conditionally independent of the past given present**\n",
    "\n",
    "![](../img/bigram-ex.png)\n",
    "\n",
    "<!-- <img src=\"img/bigram-ex.png\" height=\"700\" width=\"700\"> -->\n",
    "\n",
    "\n",
    "$$\n",
    "P(\\text{everything} \\mid \\text{a crack in}) \\approx P(\\text{everything}\\mid\\text{in})\n",
    "$$"
   ]
  },
  {
   "cell_type": "markdown",
   "metadata": {
    "slideshow": {
     "slide_type": "slide"
    }
   },
   "source": [
    "\n",
    "![](../img/Markov_assumption.png)\n",
    "\n",
    "<!-- <img src=\"img/Markov_assumption.png\" height=\"550\" width=\"550\">  -->\n",
    "    \n",
    "**Markov assumption: The future is conditionally independent of the past given present**\n",
    "\n",
    "- In the example above \n",
    "\n",
    "$$P(S_{3} \\mid S_0, S_1, S_2) \\approx P(S_{3} \\mid S_2)$$\n",
    "\n",
    "- Generalizing it to $t$ time steps\n",
    "\n",
    "$$P(S_{t+1} \\mid S_0, \\dots, S_t) \\approx P(S_{t+1} \\mid S_t)$$\n",
    "        "
   ]
  },
  {
   "cell_type": "markdown",
   "metadata": {},
   "source": [
    "With Markov's assumption, the probability of the following sequence would be easier to calculate: \n",
    "\n",
    "\\begin{equation}\n",
    "\\begin{split}\n",
    "P(\\text{there is a crack in everything that 's how the light gets in}) \\approx &P(\\text{there}) \\times P(\\text{is}\\mid \\text{there})\\\\ \n",
    "                                              & \\times P(\\text{a} \\mid \\text{is}) \\times P(\\text{crack}\\mid \\text{a})\\\\\n",
    "                                              & \\times P(\\text{in}\\mid \\text{crack})\\\\\n",
    "                                              & \\times P(\\text{everything} \\mid \\text{in}) \\\\\n",
    "                                              & \\times P(\\text{that} \\mid \\text{everything}) \\\\                                              \n",
    "                                              & \\dots\\\\        \n",
    "\\end{split}\n",
    "\\end{equation}\n"
   ]
  },
  {
   "cell_type": "markdown",
   "metadata": {
    "slideshow": {
     "slide_type": "slide"
    }
   },
   "source": [
    "**Simplistic auto-complete**\n",
    "\n",
    "- Supposed we have typed \"und\" so far and we want to predict the next letter, i.e., the state we would be in in the next time step. \n",
    "- Imagine that you have access to the conditional probability distribution for the next letter given the current letter. \n",
    "- We sample the next letter from this distribution.\n",
    "\n",
    "![](../img/autocomplete_Markov.png)\n",
    "\n",
    "<!-- <img src=\"img/autocomplete_Markov.png\" height=\"1200\" width=\"1200\">  -->"
   ]
  },
  {
   "cell_type": "markdown",
   "metadata": {},
   "source": [
    "<br><br>"
   ]
  },
  {
   "cell_type": "markdown",
   "metadata": {
    "slideshow": {
     "slide_type": "slide"
    }
   },
   "source": [
    "### 2.4 (ASIDE) Markov’s own application of his chains  (1913)\n",
    "\n",
    "\n",
    "- Studied the sequence of 20,000 letters in A. S. Pushkin's poem _Eugeny Onegin_.\n",
    "  \n",
    "- Markov also studied the sequence of 100,000 letters in S. T. Aksakov's novel \"The Childhood of Bagrov, the Grandson\".\n",
    "\n",
    "![](../img/Markov_Pushkin.png)\n",
    "\n",
    "<!-- <img src=\"img/Markov_Pushkin.png\" height=\"800\" width=\"800\">  -->\n"
   ]
  },
  {
   "cell_type": "markdown",
   "metadata": {},
   "source": [
    "<br><br>"
   ]
  },
  {
   "cell_type": "markdown",
   "metadata": {},
   "source": [
    "## ❓❓ Question for you \n",
    "\n",
    "### Exercise 1.1 Conditioning and marginalization (revision)\n",
    "\n",
    "We will be using the following concepts from probability a lot. So let's revise them. \n",
    "- Conditioning\n",
    "    - The process of calculating the probability of an event or variable given certain conditions\n",
    "      \n",
    "    - If you already know that today is Cloudy, what's the probability of rain tomorrow?\n",
    "      \n",
    "- Marginalization \n",
    "    - The process of summing over all possible values of a variable to obtain the probability of another variable\n",
    "      \n",
    "    - What's the overall probability of rain tomorrow regardless of today's weather?"
   ]
  },
  {
   "cell_type": "markdown",
   "metadata": {},
   "source": [
    "**🧠 Activity** \n",
    "\n",
    "Imagine you're trying to forecast if the upcoming days will be **HOT**, **WARM**, or **COLD**, based on recent weather patterns. You have observed the following weather sequences (each represents consecutive days of weather in a different location):\n",
    "\n",
    "- **Sequence 1:** HOT $\\rightarrow$ HOT $\\rightarrow$ WARM$ \\rightarrow$ COLD $\\rightarrow$ WARM  \n",
    "- **Sequence 2:** HOT $\\rightarrow$ WARM $\\rightarrow$ WARM $\\rightarrow$ WARM  \n",
    "- **Sequence 3:** COLD $\\rightarrow$ COLD $\\rightarrow$ WARM $\\rightarrow$ WARM $\\rightarrow$ WARM $\\rightarrow$ HOT  \n",
    "- **Sequence 4:** WARM $\\rightarrow$ HOT $\\rightarrow$ WARM $\\rightarrow$ WARM $\\rightarrow$ WARM $\\rightarrow$ HOT\n",
    "\n",
    "**Transition counts**\n",
    "\n",
    "| From \\ To | COLD | HOT | WARM |\n",
    "|-----------|------|-----|------|\n",
    "| **COLD**  | 1    | 0   | 2    |\n",
    "| **HOT**   | 0    | 1   | 3    |\n",
    "| **WARM**  | 1    | 3   | 6    |\n",
    "---"
   ]
  },
  {
   "cell_type": "markdown",
   "metadata": {},
   "source": [
    "**Questions**\n",
    "\n",
    "1. **Conditional Probability**  \n",
    "What is the estimated probability of HOT **given** that the previous day was WARM? In other words, estimate $P(\\text{HOT} \\mid \\text{WARM})$?\n",
    "\n",
    "    - Answer: $\\frac{3}{10}$\n",
    "\n",
    "3. **Marginal Probability**  \n",
    "What is the estimated probability that Day 1 (i.e., the second day, assuming indexing starts at $T = 0$) is HOT, across all sequences?\n",
    "\n",
    "    - Answer: $\\frac{2}{4}$"
   ]
  },
  {
   "cell_type": "markdown",
   "metadata": {},
   "source": [
    "<br><br><br><br>"
   ]
  },
  {
   "cell_type": "markdown",
   "metadata": {},
   "source": [
    "## 3. Markov chains definition and tasks "
   ]
  },
  {
   "cell_type": "markdown",
   "metadata": {
    "slideshow": {
     "slide_type": "slide"
    }
   },
   "source": [
    "- Let's continue with the same example: forecasting whether the upcoming days will be **HOT**, **WARM**, or **COLD**, based on recent weather patterns.\n",
    "\n",
    "- Now, imagine you have access to **many more sequences**, and you've used them to estimate **transition probabilities** more reliably.\n",
    "\n",
    "- We can model this situation using a **Markov chain**. A Markov chain provides a visual representation that shows:\n",
    "  - The **states** (e.g., HOT, WARM, COLD)\n",
    "  - Their **initial probabilities**, represented as a vector denoted by $\\pi$\n",
    "  - The **transition probabilities** between states\n",
    "\n",
    "![](../img/Markov_chain_small.png)\n",
    "\n",
    "\n",
    "- This is an unrolled version or a single realization of a Markov chain. \n",
    "\n",
    "![](../img/weather-unrolled.png)\n",
    "\n",
    "<!-- <img src=\"img/weather-unrolled.png\" height=\"1000\" width=\"1000\">  -->\n",
    "<!-- <img src=\"img/Markov_chain_small.png\" height=\"400\" width=\"400\">  -->"
   ]
  },
  {
   "cell_type": "markdown",
   "metadata": {},
   "source": [
    "### 3.1 Discrete Markov chain ingredients "
   ]
  },
  {
   "cell_type": "markdown",
   "metadata": {
    "slideshow": {
     "slide_type": "slide"
    }
   },
   "source": [
    "**State space**\n",
    "- We have discrete timesteps: $t = 0, t = 1, \\dots$.\n",
    "  \n",
    "- **State space**: We have a finite set of possible states we can be in at time $t$\n",
    "    - Represent the unique observations in the world.\n",
    "  \n",
    "    - We can be in only one state at a given time.\n",
    " \n",
    "    - In our toy example, the state space $S = \\{HOT, COLD, WARM\\}$."
   ]
  },
  {
   "cell_type": "markdown",
   "metadata": {},
   "source": [
    "<br>"
   ]
  },
  {
   "cell_type": "markdown",
   "metadata": {
    "slideshow": {
     "slide_type": "slide"
    }
   },
   "source": [
    "**Initial probability distribution over states**\n",
    "\n",
    "- State space: $S = \\{\\text{HOT, COLD, WARM}\\}$,\n",
    "\n",
    "- We could start in any state. The probability of starting with a particular state is given by an **initial discrete probability distribution over states**. In our toy example,   \n",
    "    $$\\pi_0 = \\begin{bmatrix} P(\\text{HOT at time 0}) & P(\\text{COLD at time 0}) & P(\\text{WARM at time 0}) \\end{bmatrix} = \\begin{bmatrix} 0.5 & 0.3 & 0.2 \\end{bmatrix}$$    \n",
    "    "
   ]
  },
  {
   "cell_type": "markdown",
   "metadata": {},
   "source": [
    "<br>"
   ]
  },
  {
   "cell_type": "markdown",
   "metadata": {
    "slideshow": {
     "slide_type": "slide"
    }
   },
   "source": [
    "**Transition probability matrix**\n",
    "\n",
    "<!-- <img src=\"img/Markov_chain.png\" height=\"300\" width=\"300\">  -->\n",
    "![](../img/Markov_chain_small.png)\n",
    "\n",
    "- State space: $S = \\{\\text{HOT, COLD, WARM}\\}$, initial probability distribution: $\\pi_0 = \\begin{bmatrix} 0.5 & 0.3 & 0.2 \\end{bmatrix}$\n",
    "- **Transition probability matrix** $T$, where each $a_{ij}$ represents the probability of moving from state $s_i$ to state $s_j$, such that $\\sum_{j=1}^{n} a_{ij} = 1, \\forall i$ \n",
    "\n",
    "$$ T = \n",
    "\\begin{bmatrix}\n",
    "P(\\text{HOT} \\mid \\text{HOT}) & P(\\text{COLD} \\mid \\text{HOT}) & P(\\text{WARM} \\mid \\text{HOT})\\\\\n",
    "P(\\text{HOT} \\mid \\text{COLD}) & P(\\text{COLD} \\mid \\text{COLD}) & P(\\text{WARM} \\mid \\text{COLD})\\\\\n",
    "P(\\text{HOT} \\mid \\text{WARM}) & P(\\text{COLD} \\mid \\text{WARM}) & P(\\text{WARM} \\mid \\text{WARM})\\\\\n",
    "\\end{bmatrix}\n",
    "=\n",
    "\\begin{bmatrix}\n",
    "0.5 & 0.2 & 0.3\\\\\n",
    "0.2 & 0.5 & 0.3\\\\\n",
    "0.3 & 0.1 & 0.6\\\\    \n",
    "\\end{bmatrix}\n",
    "$$ \n"
   ]
  },
  {
   "cell_type": "markdown",
   "metadata": {
    "slideshow": {
     "slide_type": "slide"
    }
   },
   "source": [
    "- Note that each row sums to 1.0.\n",
    "  \n",
    "- Each state has a probability of staying in the same state (or transitioning to itself).\n",
    "- _Note that some people use the the notation where the columns sum to one._\n",
    "- You can think of transition matrix as a data structure used to organize all the conditional probabilities concisely and efficiently.  "
   ]
  },
  {
   "cell_type": "markdown",
   "metadata": {
    "slideshow": {
     "slide_type": "slide"
    }
   },
   "source": [
    "In our weather example state space, initial probability distribution, transition probability matrix are as follows: \n",
    "\n",
    "$$S = \\{\\text{HOT, COLD, WARM}\\}, \\pi_0 = \\begin{bmatrix} 0.5 & 0.3 & 0.2 \\end{bmatrix}$$\n",
    "\n",
    "$$T = \\begin{bmatrix}\n",
    "0.5 & 0.2 & 0.3\\\\\n",
    "0.2 & 0.5 & 0.3\\\\\n",
    "0.3 & 0.1 & 0.6\\\\    \n",
    "\\end{bmatrix}$$"
   ]
  },
  {
   "cell_type": "markdown",
   "metadata": {},
   "source": [
    "<br><br>"
   ]
  },
  {
   "cell_type": "markdown",
   "metadata": {
    "slideshow": {
     "slide_type": "slide"
    }
   },
   "source": [
    "**Markov chain general definition**\n",
    "\n",
    "- A set of $n$ states: $S = \\{s_1, s_2, ..., s_n\\}$\n",
    "- A set of discrete initial probability distribution over states $\\pi_0 = \\begin{bmatrix} \\pi_0(s_1) & \\pi_0(s_2) & \\dots & \\pi_0(s_n) \\end{bmatrix}$\n",
    "\n",
    "- Transition probability matrix $T$, where each $a_{ij}$ represents the probability of moving from state $s_i$ to state $s_j$, such that $\\sum_{j=1}^{n} a_{ij} = 1, \\forall i$ \n",
    "\n",
    "\n",
    "$$ T = \n",
    "\\begin{bmatrix}\n",
    "    a_{11}       & a_{12} & a_{13} & \\dots & a_{1n} \\\\\n",
    "    a_{21}       & a_{22} & a_{23} & \\dots & a_{2n} \\\\\n",
    "    \\dots \\\\\n",
    "    a_{n1}       & a_{n2} & a_{n3} & \\dots & a_{nn}\n",
    "\\end{bmatrix}\n",
    "$$\n"
   ]
  },
  {
   "cell_type": "markdown",
   "metadata": {},
   "source": [
    "<br><br>"
   ]
  },
  {
   "cell_type": "markdown",
   "metadata": {
    "slideshow": {
     "slide_type": "slide"
    }
   },
   "source": [
    "**Homogeneous Markov chains**\n",
    "\n",
    "- Transition probabilities tell you how your state probabilities are going to change over time.\n",
    "  \n",
    "- In this course, we assume **homogeneous Markov chain** where transition probabilities are the same for all time steps $t$. "
   ]
  },
  {
   "cell_type": "markdown",
   "metadata": {
    "slideshow": {
     "slide_type": "slide"
    }
   },
   "source": [
    "<br><br>"
   ]
  },
  {
   "cell_type": "markdown",
   "metadata": {
    "slideshow": {
     "slide_type": "slide"
    }
   },
   "source": [
    "### 3.2 Markov chains tasks "
   ]
  },
  {
   "cell_type": "markdown",
   "metadata": {
    "slideshow": {
     "slide_type": "slide"
    }
   },
   "source": [
    "\n",
    "What can we do with Markov chains? \n",
    "\n",
    "- **Predict probabilities of sequences of states.**\n",
    "\n",
    "- **Compute probability of being in a particular state at time $t$**.\n",
    "\n",
    "- **Stationary distribution**: Find the steady state after running the chain for a long time.\n",
    "- **Generation**: generate sequences that follow the probabilities of the states. \n",
    "    - You will be doing this in the lab. "
   ]
  },
  {
   "cell_type": "markdown",
   "metadata": {
    "slideshow": {
     "slide_type": "slide"
    }
   },
   "source": [
    "#### 3.2.1 Predict probabilities of sequences of states\n",
    "\n",
    "- Given the Markov model: $S = \\{\\text{HOT, COLD, WARM}\\}$, \n",
    "$\\pi_0 = \\begin{bmatrix} 0.5 & 0.3 & 0.2 \\end{bmatrix}$,\n",
    "$$T = \\begin{bmatrix}\n",
    "0.5 & 0.2 & 0.3\\\\\n",
    "0.2 & 0.5 & 0.3\\\\\n",
    "0.3 & 0.1 & 0.6\\\\    \n",
    "\\end{bmatrix}$$\n",
    "\n",
    "- Compute the probability of the sequences: HOT, HOT, WARM, COLD\n",
    "    - Markov assumption: $P(S_{t+1}\\mid S_{0}, S_1, \\dots, S_t) \\approx P(S_{t+1} \\mid S_t)$\n",
    "\n",
    "<!-- <img src=\"img/Markov_chain.png\" height=\"400\" width=\"400\">  -->\n",
    "\n",
    "![](../img/Markov_chain_small.png)\n"
   ]
  },
  {
   "cell_type": "markdown",
   "metadata": {},
   "source": [
    "\\begin{equation}\n",
    "\\begin{split}\n",
    "P(\\textrm{HOT, HOT, WARM, COLD}) \\approx & P(\\text{HOT}) \\times P(\\text{HOT} \\mid \\text{HOT})\\\\ \n",
    "                                  & \\times P(\\text{WARM} \\mid \\text{HOT})\\\\\n",
    "                                  & \\times P(\\text{COLD}\\mid \\text{WARM})\\\\\n",
    "                                 =& 0.5  \\times 0.5 \\times 0.3 \\times 0.1\\\\\n",
    "\\end{split}\n",
    "\\end{equation}"
   ]
  },
  {
   "cell_type": "markdown",
   "metadata": {
    "slideshow": {
     "slide_type": "slide"
    }
   },
   "source": [
    "**Your turn (Activity: 3 minutes)**\n",
    "\n",
    "- Predict probabilities of the following sequences of states on your own. \n",
    "    1. COLD, COLD, WARM\n",
    "    2. HOT, COLD, HOT, COLD\n",
    "    \n",
    "Hint: If we want to predict the future, all that matters is the current state.\n",
    "\n",
    "$S = \\{\\text{HOT, COLD, WARM}\\}$, \n",
    "$\\pi_0 = \\begin{bmatrix} 0.5 & 0.3 & 0.2 \\end{bmatrix}$, \n",
    "$$T = \\begin{bmatrix}\n",
    "0.5 & 0.2 & 0.3\\\\\n",
    "0.2 & 0.5 & 0.3\\\\\n",
    "0.3 & 0.1 & 0.6\\\\    \n",
    "\\end{bmatrix}$$\n",
    "\n",
    "<!-- <img src=\"img/Markov_chain.png\" height=\"300\" width=\"300\">  -->\n",
    "![](../img/Markov_chain_small.png)\n"
   ]
  },
  {
   "cell_type": "markdown",
   "metadata": {},
   "source": [
    "<br><br>"
   ]
  },
  {
   "cell_type": "markdown",
   "metadata": {
    "slideshow": {
     "slide_type": "slide"
    }
   },
   "source": [
    "#### 3.2.2 Computing probability of being in a particular state at time $t$\n",
    "\n",
    "- Example: Assuming that the time starts at 0, what is the probability of HOT at time 1?\n",
    "\n",
    "$$\\begin{equation}\n",
    "\\begin{split}\n",
    "P(\\textrm{HOT at time 1}) =& P(\\textrm{HOT at time 0}) \\times P(\\textrm{HOT} \\mid \\textrm{HOT})\\\\ \n",
    "                                  & + P(\\textrm{COLD at time 0}) \\times P(\\textrm{HOT} \\mid \\textrm{COLD})\\\\\n",
    "                                  &  + P(\\textrm{WARM at time 0}) \\times P(\\textrm{HOT} \\mid \\textrm{WARM})\\\\\n",
    "                                 =& 0.5 \\times 0.5 + 0.3 \\times 0.2 + 0.2\\times 0.3 = 0.37\\\\\n",
    "\\end{split}\n",
    "\\end{equation}$$\n",
    "    \n",
    "<!-- <img src=\"img/Markov_chain.png\" height=\"400\" width=\"400\">  -->\n",
    "![](../img/Markov_chain_small.png)"
   ]
  },
  {
   "cell_type": "markdown",
   "metadata": {
    "slideshow": {
     "slide_type": "slide"
    }
   },
   "source": [
    "**What is the probability of HOT at time 1?**\n",
    "- You can conveniently calculate it as the dot product between $\\pi_0$ and the first column of the transition matrix!\n",
    "\n",
    "$$\\pi_0 = \\begin{bmatrix} P(\\text{HOT at time 0}) & P(\\text{COLD at time 0}) & P(\\text{WARM at time 0}) \\end{bmatrix} = \\begin{bmatrix} 0.5 & 0.3 & 0.2 \\end{bmatrix}$$\n",
    "\n",
    "\n",
    "\n",
    "$$ T = \n",
    "\\begin{bmatrix}\n",
    "P(\\text{HOT} \\mid \\text{HOT}) & P(\\text{COLD} \\mid \\text{HOT}) & P(\\text{WARM} \\mid \\text{HOT})\\\\\n",
    "P(\\text{HOT} \\mid \\text{COLD}) & P(\\text{COLD} \\mid \\text{COLD}) & P(\\text{WARM} \\mid \\text{COLD})\\\\\n",
    "P(\\text{HOT} \\mid \\text{WARM}) & P(\\text{COLD} \\mid \\text{WARM}) & P(\\text{WARM} \\mid \\text{WARM})\\\\\n",
    "\\end{bmatrix}\n",
    "= \\begin{bmatrix}\n",
    "0.5 & 0.2 & 0.3\\\\\n",
    "0.2 & 0.5 & 0.3\\\\\n",
    "0.3 & 0.1 & 0.6\\\\    \n",
    "\\end{bmatrix} $$\n",
    "$$P(\\text{HOT at time 1}) = \\begin{bmatrix} 0.5 & 0.3 & 0.2 \\end{bmatrix}  \\begin{bmatrix} 0.5 \\\\ 0.2 \\\\ 0.3 \\end{bmatrix} = 0.37$$\n",
    "\n",
    "\n",
    "<!-- <img src=\"img/Markov_chain.png\" height=\"400\" width=\"400\">  -->\n",
    "![](../img/Markov_chain_small.png)"
   ]
  },
  {
   "cell_type": "markdown",
   "metadata": {
    "slideshow": {
     "slide_type": "slide"
    }
   },
   "source": [
    "**What is the probability of HOT, COLD, WARM at time 1?**\n",
    "- You can get probabilities of all states HOT, COLD, WARM at time 1 by multiplying $\\pi_0$ by the transition matrix. \n",
    "\n",
    "$$\\pi_1 = \\pi_0T$$\n",
    "\n",
    "$$\\pi_0 = \\begin{bmatrix} P(\\text{HOT at time 0}) & P(\\text{COLD at time 0}) & P(\\text{WARM at time 0}) \\end{bmatrix} = \\begin{bmatrix} 0.5 & 0.3 & 0.2 \\end{bmatrix}$$\n",
    "\n",
    "$$T = \n",
    "\\begin{bmatrix}\n",
    "P(\\text{HOT} \\mid \\text{HOT}) & P(\\text{COLD} \\mid \\text{HOT}) & P(\\text{WARM} \\mid \\text{HOT})\\\\\n",
    "P(\\text{HOT} \\mid \\text{COLD}) & P(\\text{COLD} \\mid \\text{COLD}) & P(\\text{WARM} \\mid \\text{COLD})\\\\\n",
    "P(\\text{HOT} \\mid \\text{WARM}) & P(\\text{COLD} \\mid \\text{WARM}) & P(\\text{WARM} \\mid \\text{WARM})\\\\\n",
    "\\end{bmatrix}\n",
    "= \\begin{bmatrix}\n",
    "0.5 & 0.2 & 0.3\\\\\n",
    "0.2 & 0.5 & 0.3\\\\\n",
    "0.3 & 0.1 & 0.6\\\\    \n",
    "\\end{bmatrix}$$\n",
    "\n",
    "$$\\pi_1 = \\begin{bmatrix} P(\\text{HOT at time 1}) & P(\\text{COLD at time 1}) & P(\\text{WARM at time 1}) \\end{bmatrix} =  \\begin{bmatrix} 0.5 & 0.3 & 0.2 \\end{bmatrix}\\begin{bmatrix} 0.5 & 0.2 & 0.3\\\\ 0.2 & 0.5 & 0.3\\\\ 0.3 & 0.1 & 0.6\\\\ \\end{bmatrix} = \\begin{bmatrix}0.37 & 0.27 & 0.36\\end{bmatrix}$$\n",
    "\n",
    "\n",
    "<!-- <img src=\"img/Markov_chain.png\" height=\"300\" width=\"300\">  -->\n",
    "![](../img/Markov_chain_small.png)\n"
   ]
  },
  {
   "cell_type": "markdown",
   "metadata": {
    "slideshow": {
     "slide_type": "slide"
    }
   },
   "source": [
    "**What is the probability of HOT, COLD, WARM at time 2?**\n",
    "- Similarly can get probabilities of all states HOT, COLD, WARM at time 2 by multiplying $\\pi_1$ by the transition matrix. \n",
    "    $$\\pi_2 = \\pi_1T$$\n",
    "\n",
    "$$\\pi_1 = \\begin{bmatrix} P(\\text{HOT at time 1}) & P(\\text{COLD at time 1}) & P(\\text{WARM at time 1}) \\end{bmatrix} =  \\begin{bmatrix}0.37 & 0.27 & 0.36\\end{bmatrix}$$\n",
    "\n",
    "$$ T = \n",
    "\\begin{bmatrix}\n",
    "P(\\text{HOT} \\mid \\text{HOT}) & P(\\text{COLD} \\mid \\text{HOT}) & P(\\text{WARM} \\mid \\text{HOT})\\\\\n",
    "P(\\text{HOT} \\mid \\text{COLD}) & P(\\text{COLD} \\mid \\text{COLD}) & P(\\text{WARM} \\mid \\text{COLD})\\\\\n",
    "P(\\text{HOT} \\mid \\text{WARM}) & P(\\text{COLD} \\mid \\text{WARM}) & P(\\text{WARM} \\mid \\text{WARM})\\\\\n",
    "\\end{bmatrix}\n",
    "= \\begin{bmatrix}\n",
    "0.5 & 0.2 & 0.3\\\\\n",
    "0.2 & 0.5 & 0.3\\\\\n",
    "0.3 & 0.1 & 0.6\\\\    \n",
    "\\end{bmatrix} $$\n",
    "\n",
    "$$\\pi_2 = \\begin{bmatrix} P(\\text{HOT at time 2}) & P(\\text{COLD at time 2}) & P(\\text{WARM at time 2} \\end{bmatrix} = \\pi_1T = \\begin{bmatrix}0.347 & 0.245 & 0.408\\end{bmatrix}$$\n",
    "\n",
    "\n",
    "<!-- <img src=\"img/Markov_chain.png\" height=\"300\" width=\"300\">  -->\n",
    "![](../img/Markov_chain_small.png)\n"
   ]
  },
  {
   "cell_type": "markdown",
   "metadata": {
    "slideshow": {
     "slide_type": "slide"
    }
   },
   "source": [
    "**Probability of being in a particular state at time $t$**\n",
    "\n",
    "- Calculate \n",
    "\n",
    "$$\\pi_t = \\pi_{t-1} \\times \\text{transition probability matrix } T$$  \n",
    "\n",
    "- Applying the matrix multiplication to the current state probabilities does an **update** to the state probabilities!"
   ]
  },
  {
   "cell_type": "markdown",
   "metadata": {
    "slideshow": {
     "slide_type": "slide"
    }
   },
   "source": [
    "Let's try it out with numpy. "
   ]
  },
  {
   "cell_type": "code",
   "execution_count": 3,
   "metadata": {},
   "outputs": [
    {
     "name": "stdout",
     "output_type": "stream",
     "text": [
      "Initial probability distribution over states:  [0.5 0.3 0.2]\n",
      "The transition probability matrix: \n",
      " [[0.5 0.2 0.3]\n",
      " [0.2 0.5 0.3]\n",
      " [0.3 0.1 0.6]]\n"
     ]
    }
   ],
   "source": [
    "pi_0 = np.array([0.5, 0.3, 0.2])  # initial state probability dist\n",
    "T = np.array([[0.5, 0.2, 0.3], [0.2, 0.5, 0.3], [0.3, 0.1, 0.6]])  # transition matrix\n",
    "\n",
    "print(\"Initial probability distribution over states: \", pi_0)\n",
    "print(\"The transition probability matrix: \\n\", T)"
   ]
  },
  {
   "cell_type": "markdown",
   "metadata": {},
   "source": [
    "You can also get state probabilities at time $t$ by multiplying `pi_0` by the $t^{th}$ power of the transition matrix. For example, you can estimate state probabilities at time step 18 as:  \n",
    "\n",
    "$$\\pi_{18} = \\pi_{0} \\times T^{18}$$  "
   ]
  },
  {
   "cell_type": "code",
   "execution_count": 4,
   "metadata": {},
   "outputs": [
    {
     "data": {
      "text/plain": [
       "array([0.34693878, 0.2244898 , 0.42857143])"
      ]
     },
     "execution_count": 4,
     "metadata": {},
     "output_type": "execute_result"
    }
   ],
   "source": [
    "pi_0 @ np.linalg.matrix_power(T, 18)"
   ]
  },
  {
   "cell_type": "code",
   "execution_count": 5,
   "metadata": {},
   "outputs": [
    {
     "data": {
      "text/html": [
       "<script type=\"esms-options\">{\"shimMode\": true}</script><style>*[data-root-id],\n",
       "*[data-root-id] > * {\n",
       "  box-sizing: border-box;\n",
       "  font-family: var(--jp-ui-font-family);\n",
       "  font-size: var(--jp-ui-font-size1);\n",
       "  color: var(--vscode-editor-foreground, var(--jp-ui-font-color1));\n",
       "}\n",
       "\n",
       "/* Override VSCode background color */\n",
       ".cell-output-ipywidget-background:has(\n",
       "    > .cell-output-ipywidget-background > .lm-Widget > *[data-root-id]\n",
       "  ),\n",
       ".cell-output-ipywidget-background:has(> .lm-Widget > *[data-root-id]) {\n",
       "  background-color: transparent !important;\n",
       "}\n",
       "</style>"
      ]
     },
     "metadata": {},
     "output_type": "display_data"
    },
    {
     "data": {
      "application/javascript": [
       "(function(root) {\n",
       "  function now() {\n",
       "    return new Date();\n",
       "  }\n",
       "\n",
       "  const force = true;\n",
       "  const py_version = '3.6.3'.replace('rc', '-rc.').replace('.dev', '-dev.');\n",
       "  const reloading = false;\n",
       "  const Bokeh = root.Bokeh;\n",
       "\n",
       "  // Set a timeout for this load but only if we are not already initializing\n",
       "  if (typeof (root._bokeh_timeout) === \"undefined\" || (force || !root._bokeh_is_initializing)) {\n",
       "    root._bokeh_timeout = Date.now() + 5000;\n",
       "    root._bokeh_failed_load = false;\n",
       "  }\n",
       "\n",
       "  function run_callbacks() {\n",
       "    try {\n",
       "      root._bokeh_onload_callbacks.forEach(function(callback) {\n",
       "        if (callback != null)\n",
       "          callback();\n",
       "      });\n",
       "    } finally {\n",
       "      delete root._bokeh_onload_callbacks;\n",
       "    }\n",
       "    console.debug(\"Bokeh: all callbacks have finished\");\n",
       "  }\n",
       "\n",
       "  function load_libs(css_urls, js_urls, js_modules, js_exports, callback) {\n",
       "    if (css_urls == null) css_urls = [];\n",
       "    if (js_urls == null) js_urls = [];\n",
       "    if (js_modules == null) js_modules = [];\n",
       "    if (js_exports == null) js_exports = {};\n",
       "\n",
       "    root._bokeh_onload_callbacks.push(callback);\n",
       "\n",
       "    if (root._bokeh_is_loading > 0) {\n",
       "      // Don't load bokeh if it is still initializing\n",
       "      console.debug(\"Bokeh: BokehJS is being loaded, scheduling callback at\", now());\n",
       "      return null;\n",
       "    } else if (js_urls.length === 0 && js_modules.length === 0 && Object.keys(js_exports).length === 0) {\n",
       "      // There is nothing to load\n",
       "      run_callbacks();\n",
       "      return null;\n",
       "    }\n",
       "\n",
       "    function on_load() {\n",
       "      root._bokeh_is_loading--;\n",
       "      if (root._bokeh_is_loading === 0) {\n",
       "        console.debug(\"Bokeh: all BokehJS libraries/stylesheets loaded\");\n",
       "        run_callbacks()\n",
       "      }\n",
       "    }\n",
       "    window._bokeh_on_load = on_load\n",
       "\n",
       "    function on_error(e) {\n",
       "      const src_el = e.srcElement\n",
       "      console.error(\"failed to load \" + (src_el.href || src_el.src));\n",
       "    }\n",
       "\n",
       "    const skip = [];\n",
       "    if (window.requirejs) {\n",
       "      window.requirejs.config({'packages': {}, 'paths': {}, 'shim': {}});\n",
       "      root._bokeh_is_loading = css_urls.length + 0;\n",
       "    } else {\n",
       "      root._bokeh_is_loading = css_urls.length + js_urls.length + js_modules.length + Object.keys(js_exports).length;\n",
       "    }\n",
       "\n",
       "    const existing_stylesheets = []\n",
       "    const links = document.getElementsByTagName('link')\n",
       "    for (let i = 0; i < links.length; i++) {\n",
       "      const link = links[i]\n",
       "      if (link.href != null) {\n",
       "        existing_stylesheets.push(link.href)\n",
       "      }\n",
       "    }\n",
       "    for (let i = 0; i < css_urls.length; i++) {\n",
       "      const url = css_urls[i];\n",
       "      const escaped = encodeURI(url)\n",
       "      if (existing_stylesheets.indexOf(escaped) !== -1) {\n",
       "        on_load()\n",
       "        continue;\n",
       "      }\n",
       "      const element = document.createElement(\"link\");\n",
       "      element.onload = on_load;\n",
       "      element.onerror = on_error;\n",
       "      element.rel = \"stylesheet\";\n",
       "      element.type = \"text/css\";\n",
       "      element.href = url;\n",
       "      console.debug(\"Bokeh: injecting link tag for BokehJS stylesheet: \", url);\n",
       "      document.body.appendChild(element);\n",
       "    }    var existing_scripts = []\n",
       "    const scripts = document.getElementsByTagName('script')\n",
       "    for (let i = 0; i < scripts.length; i++) {\n",
       "      var script = scripts[i]\n",
       "      if (script.src != null) {\n",
       "        existing_scripts.push(script.src)\n",
       "      }\n",
       "    }\n",
       "    for (let i = 0; i < js_urls.length; i++) {\n",
       "      const url = js_urls[i];\n",
       "      const escaped = encodeURI(url)\n",
       "      if (skip.indexOf(escaped) !== -1 || existing_scripts.indexOf(escaped) !== -1) {\n",
       "        if (!window.requirejs) {\n",
       "          on_load();\n",
       "        }\n",
       "        continue;\n",
       "      }\n",
       "      const element = document.createElement('script');\n",
       "      element.onload = on_load;\n",
       "      element.onerror = on_error;\n",
       "      element.async = false;\n",
       "      element.src = url;\n",
       "      console.debug(\"Bokeh: injecting script tag for BokehJS library: \", url);\n",
       "      document.head.appendChild(element);\n",
       "    }\n",
       "    for (let i = 0; i < js_modules.length; i++) {\n",
       "      const url = js_modules[i];\n",
       "      const escaped = encodeURI(url)\n",
       "      if (skip.indexOf(escaped) !== -1 || existing_scripts.indexOf(escaped) !== -1) {\n",
       "        if (!window.requirejs) {\n",
       "          on_load();\n",
       "        }\n",
       "        continue;\n",
       "      }\n",
       "      var element = document.createElement('script');\n",
       "      element.onload = on_load;\n",
       "      element.onerror = on_error;\n",
       "      element.async = false;\n",
       "      element.src = url;\n",
       "      element.type = \"module\";\n",
       "      console.debug(\"Bokeh: injecting script tag for BokehJS library: \", url);\n",
       "      document.head.appendChild(element);\n",
       "    }\n",
       "    for (const name in js_exports) {\n",
       "      const url = js_exports[name];\n",
       "      const escaped = encodeURI(url)\n",
       "      if (skip.indexOf(escaped) >= 0 || root[name] != null) {\n",
       "        if (!window.requirejs) {\n",
       "          on_load();\n",
       "        }\n",
       "        continue;\n",
       "      }\n",
       "      var element = document.createElement('script');\n",
       "      element.onerror = on_error;\n",
       "      element.async = false;\n",
       "      element.type = \"module\";\n",
       "      console.debug(\"Bokeh: injecting script tag for BokehJS library: \", url);\n",
       "      element.textContent = `\n",
       "      import ${name} from \"${url}\"\n",
       "      window.${name} = ${name}\n",
       "      window._bokeh_on_load()\n",
       "      `\n",
       "      document.head.appendChild(element);\n",
       "    }\n",
       "    if (!js_urls.length && !js_modules.length) {\n",
       "      on_load()\n",
       "    }\n",
       "  };\n",
       "\n",
       "  function inject_raw_css(css) {\n",
       "    const element = document.createElement(\"style\");\n",
       "    element.appendChild(document.createTextNode(css));\n",
       "    document.body.appendChild(element);\n",
       "  }\n",
       "\n",
       "  const js_urls = [\"https://cdn.holoviz.org/panel/1.6.1/dist/bundled/reactiveesm/es-module-shims@^1.10.0/dist/es-module-shims.min.js\", \"https://cdn.bokeh.org/bokeh/release/bokeh-3.6.3.min.js\", \"https://cdn.bokeh.org/bokeh/release/bokeh-gl-3.6.3.min.js\", \"https://cdn.bokeh.org/bokeh/release/bokeh-widgets-3.6.3.min.js\", \"https://cdn.bokeh.org/bokeh/release/bokeh-tables-3.6.3.min.js\", \"https://cdn.holoviz.org/panel/1.6.1/dist/panel.min.js\"];\n",
       "  const js_modules = [];\n",
       "  const js_exports = {};\n",
       "  const css_urls = [];\n",
       "  const inline_js = [    function(Bokeh) {\n",
       "      Bokeh.set_log_level(\"info\");\n",
       "    },\n",
       "function(Bokeh) {} // ensure no trailing comma for IE\n",
       "  ];\n",
       "\n",
       "  function run_inline_js() {\n",
       "    if ((root.Bokeh !== undefined) || (force === true)) {\n",
       "      for (let i = 0; i < inline_js.length; i++) {\n",
       "        try {\n",
       "          inline_js[i].call(root, root.Bokeh);\n",
       "        } catch(e) {\n",
       "          if (!reloading) {\n",
       "            throw e;\n",
       "          }\n",
       "        }\n",
       "      }\n",
       "      // Cache old bokeh versions\n",
       "      if (Bokeh != undefined && !reloading) {\n",
       "        var NewBokeh = root.Bokeh;\n",
       "        if (Bokeh.versions === undefined) {\n",
       "          Bokeh.versions = new Map();\n",
       "        }\n",
       "        if (NewBokeh.version !== Bokeh.version) {\n",
       "          Bokeh.versions.set(NewBokeh.version, NewBokeh)\n",
       "        }\n",
       "        root.Bokeh = Bokeh;\n",
       "      }\n",
       "    } else if (Date.now() < root._bokeh_timeout) {\n",
       "      setTimeout(run_inline_js, 100);\n",
       "    } else if (!root._bokeh_failed_load) {\n",
       "      console.log(\"Bokeh: BokehJS failed to load within specified timeout.\");\n",
       "      root._bokeh_failed_load = true;\n",
       "    }\n",
       "    root._bokeh_is_initializing = false\n",
       "  }\n",
       "\n",
       "  function load_or_wait() {\n",
       "    // Implement a backoff loop that tries to ensure we do not load multiple\n",
       "    // versions of Bokeh and its dependencies at the same time.\n",
       "    // In recent versions we use the root._bokeh_is_initializing flag\n",
       "    // to determine whether there is an ongoing attempt to initialize\n",
       "    // bokeh, however for backward compatibility we also try to ensure\n",
       "    // that we do not start loading a newer (Panel>=1.0 and Bokeh>3) version\n",
       "    // before older versions are fully initialized.\n",
       "    if (root._bokeh_is_initializing && Date.now() > root._bokeh_timeout) {\n",
       "      // If the timeout and bokeh was not successfully loaded we reset\n",
       "      // everything and try loading again\n",
       "      root._bokeh_timeout = Date.now() + 5000;\n",
       "      root._bokeh_is_initializing = false;\n",
       "      root._bokeh_onload_callbacks = undefined;\n",
       "      root._bokeh_is_loading = 0\n",
       "      console.log(\"Bokeh: BokehJS was loaded multiple times but one version failed to initialize.\");\n",
       "      load_or_wait();\n",
       "    } else if (root._bokeh_is_initializing || (typeof root._bokeh_is_initializing === \"undefined\" && root._bokeh_onload_callbacks !== undefined)) {\n",
       "      setTimeout(load_or_wait, 100);\n",
       "    } else {\n",
       "      root._bokeh_is_initializing = true\n",
       "      root._bokeh_onload_callbacks = []\n",
       "      const bokeh_loaded = root.Bokeh != null && (root.Bokeh.version === py_version || (root.Bokeh.versions !== undefined && root.Bokeh.versions.has(py_version)));\n",
       "      if (!reloading && !bokeh_loaded) {\n",
       "        if (root.Bokeh) {\n",
       "          root.Bokeh = undefined;\n",
       "        }\n",
       "        console.debug(\"Bokeh: BokehJS not loaded, scheduling load and callback at\", now());\n",
       "      }\n",
       "      load_libs(css_urls, js_urls, js_modules, js_exports, function() {\n",
       "        console.debug(\"Bokeh: BokehJS plotting callback run at\", now());\n",
       "        run_inline_js();\n",
       "      });\n",
       "    }\n",
       "  }\n",
       "  // Give older versions of the autoload script a head-start to ensure\n",
       "  // they initialize before we start loading newer version.\n",
       "  setTimeout(load_or_wait, 100)\n",
       "}(window));"
      ],
      "application/vnd.holoviews_load.v0+json": "(function(root) {\n  function now() {\n    return new Date();\n  }\n\n  const force = true;\n  const py_version = '3.6.3'.replace('rc', '-rc.').replace('.dev', '-dev.');\n  const reloading = false;\n  const Bokeh = root.Bokeh;\n\n  // Set a timeout for this load but only if we are not already initializing\n  if (typeof (root._bokeh_timeout) === \"undefined\" || (force || !root._bokeh_is_initializing)) {\n    root._bokeh_timeout = Date.now() + 5000;\n    root._bokeh_failed_load = false;\n  }\n\n  function run_callbacks() {\n    try {\n      root._bokeh_onload_callbacks.forEach(function(callback) {\n        if (callback != null)\n          callback();\n      });\n    } finally {\n      delete root._bokeh_onload_callbacks;\n    }\n    console.debug(\"Bokeh: all callbacks have finished\");\n  }\n\n  function load_libs(css_urls, js_urls, js_modules, js_exports, callback) {\n    if (css_urls == null) css_urls = [];\n    if (js_urls == null) js_urls = [];\n    if (js_modules == null) js_modules = [];\n    if (js_exports == null) js_exports = {};\n\n    root._bokeh_onload_callbacks.push(callback);\n\n    if (root._bokeh_is_loading > 0) {\n      // Don't load bokeh if it is still initializing\n      console.debug(\"Bokeh: BokehJS is being loaded, scheduling callback at\", now());\n      return null;\n    } else if (js_urls.length === 0 && js_modules.length === 0 && Object.keys(js_exports).length === 0) {\n      // There is nothing to load\n      run_callbacks();\n      return null;\n    }\n\n    function on_load() {\n      root._bokeh_is_loading--;\n      if (root._bokeh_is_loading === 0) {\n        console.debug(\"Bokeh: all BokehJS libraries/stylesheets loaded\");\n        run_callbacks()\n      }\n    }\n    window._bokeh_on_load = on_load\n\n    function on_error(e) {\n      const src_el = e.srcElement\n      console.error(\"failed to load \" + (src_el.href || src_el.src));\n    }\n\n    const skip = [];\n    if (window.requirejs) {\n      window.requirejs.config({'packages': {}, 'paths': {}, 'shim': {}});\n      root._bokeh_is_loading = css_urls.length + 0;\n    } else {\n      root._bokeh_is_loading = css_urls.length + js_urls.length + js_modules.length + Object.keys(js_exports).length;\n    }\n\n    const existing_stylesheets = []\n    const links = document.getElementsByTagName('link')\n    for (let i = 0; i < links.length; i++) {\n      const link = links[i]\n      if (link.href != null) {\n        existing_stylesheets.push(link.href)\n      }\n    }\n    for (let i = 0; i < css_urls.length; i++) {\n      const url = css_urls[i];\n      const escaped = encodeURI(url)\n      if (existing_stylesheets.indexOf(escaped) !== -1) {\n        on_load()\n        continue;\n      }\n      const element = document.createElement(\"link\");\n      element.onload = on_load;\n      element.onerror = on_error;\n      element.rel = \"stylesheet\";\n      element.type = \"text/css\";\n      element.href = url;\n      console.debug(\"Bokeh: injecting link tag for BokehJS stylesheet: \", url);\n      document.body.appendChild(element);\n    }    var existing_scripts = []\n    const scripts = document.getElementsByTagName('script')\n    for (let i = 0; i < scripts.length; i++) {\n      var script = scripts[i]\n      if (script.src != null) {\n        existing_scripts.push(script.src)\n      }\n    }\n    for (let i = 0; i < js_urls.length; i++) {\n      const url = js_urls[i];\n      const escaped = encodeURI(url)\n      if (skip.indexOf(escaped) !== -1 || existing_scripts.indexOf(escaped) !== -1) {\n        if (!window.requirejs) {\n          on_load();\n        }\n        continue;\n      }\n      const element = document.createElement('script');\n      element.onload = on_load;\n      element.onerror = on_error;\n      element.async = false;\n      element.src = url;\n      console.debug(\"Bokeh: injecting script tag for BokehJS library: \", url);\n      document.head.appendChild(element);\n    }\n    for (let i = 0; i < js_modules.length; i++) {\n      const url = js_modules[i];\n      const escaped = encodeURI(url)\n      if (skip.indexOf(escaped) !== -1 || existing_scripts.indexOf(escaped) !== -1) {\n        if (!window.requirejs) {\n          on_load();\n        }\n        continue;\n      }\n      var element = document.createElement('script');\n      element.onload = on_load;\n      element.onerror = on_error;\n      element.async = false;\n      element.src = url;\n      element.type = \"module\";\n      console.debug(\"Bokeh: injecting script tag for BokehJS library: \", url);\n      document.head.appendChild(element);\n    }\n    for (const name in js_exports) {\n      const url = js_exports[name];\n      const escaped = encodeURI(url)\n      if (skip.indexOf(escaped) >= 0 || root[name] != null) {\n        if (!window.requirejs) {\n          on_load();\n        }\n        continue;\n      }\n      var element = document.createElement('script');\n      element.onerror = on_error;\n      element.async = false;\n      element.type = \"module\";\n      console.debug(\"Bokeh: injecting script tag for BokehJS library: \", url);\n      element.textContent = `\n      import ${name} from \"${url}\"\n      window.${name} = ${name}\n      window._bokeh_on_load()\n      `\n      document.head.appendChild(element);\n    }\n    if (!js_urls.length && !js_modules.length) {\n      on_load()\n    }\n  };\n\n  function inject_raw_css(css) {\n    const element = document.createElement(\"style\");\n    element.appendChild(document.createTextNode(css));\n    document.body.appendChild(element);\n  }\n\n  const js_urls = [\"https://cdn.holoviz.org/panel/1.6.1/dist/bundled/reactiveesm/es-module-shims@^1.10.0/dist/es-module-shims.min.js\", \"https://cdn.bokeh.org/bokeh/release/bokeh-3.6.3.min.js\", \"https://cdn.bokeh.org/bokeh/release/bokeh-gl-3.6.3.min.js\", \"https://cdn.bokeh.org/bokeh/release/bokeh-widgets-3.6.3.min.js\", \"https://cdn.bokeh.org/bokeh/release/bokeh-tables-3.6.3.min.js\", \"https://cdn.holoviz.org/panel/1.6.1/dist/panel.min.js\"];\n  const js_modules = [];\n  const js_exports = {};\n  const css_urls = [];\n  const inline_js = [    function(Bokeh) {\n      Bokeh.set_log_level(\"info\");\n    },\nfunction(Bokeh) {} // ensure no trailing comma for IE\n  ];\n\n  function run_inline_js() {\n    if ((root.Bokeh !== undefined) || (force === true)) {\n      for (let i = 0; i < inline_js.length; i++) {\n        try {\n          inline_js[i].call(root, root.Bokeh);\n        } catch(e) {\n          if (!reloading) {\n            throw e;\n          }\n        }\n      }\n      // Cache old bokeh versions\n      if (Bokeh != undefined && !reloading) {\n        var NewBokeh = root.Bokeh;\n        if (Bokeh.versions === undefined) {\n          Bokeh.versions = new Map();\n        }\n        if (NewBokeh.version !== Bokeh.version) {\n          Bokeh.versions.set(NewBokeh.version, NewBokeh)\n        }\n        root.Bokeh = Bokeh;\n      }\n    } else if (Date.now() < root._bokeh_timeout) {\n      setTimeout(run_inline_js, 100);\n    } else if (!root._bokeh_failed_load) {\n      console.log(\"Bokeh: BokehJS failed to load within specified timeout.\");\n      root._bokeh_failed_load = true;\n    }\n    root._bokeh_is_initializing = false\n  }\n\n  function load_or_wait() {\n    // Implement a backoff loop that tries to ensure we do not load multiple\n    // versions of Bokeh and its dependencies at the same time.\n    // In recent versions we use the root._bokeh_is_initializing flag\n    // to determine whether there is an ongoing attempt to initialize\n    // bokeh, however for backward compatibility we also try to ensure\n    // that we do not start loading a newer (Panel>=1.0 and Bokeh>3) version\n    // before older versions are fully initialized.\n    if (root._bokeh_is_initializing && Date.now() > root._bokeh_timeout) {\n      // If the timeout and bokeh was not successfully loaded we reset\n      // everything and try loading again\n      root._bokeh_timeout = Date.now() + 5000;\n      root._bokeh_is_initializing = false;\n      root._bokeh_onload_callbacks = undefined;\n      root._bokeh_is_loading = 0\n      console.log(\"Bokeh: BokehJS was loaded multiple times but one version failed to initialize.\");\n      load_or_wait();\n    } else if (root._bokeh_is_initializing || (typeof root._bokeh_is_initializing === \"undefined\" && root._bokeh_onload_callbacks !== undefined)) {\n      setTimeout(load_or_wait, 100);\n    } else {\n      root._bokeh_is_initializing = true\n      root._bokeh_onload_callbacks = []\n      const bokeh_loaded = root.Bokeh != null && (root.Bokeh.version === py_version || (root.Bokeh.versions !== undefined && root.Bokeh.versions.has(py_version)));\n      if (!reloading && !bokeh_loaded) {\n        if (root.Bokeh) {\n          root.Bokeh = undefined;\n        }\n        console.debug(\"Bokeh: BokehJS not loaded, scheduling load and callback at\", now());\n      }\n      load_libs(css_urls, js_urls, js_modules, js_exports, function() {\n        console.debug(\"Bokeh: BokehJS plotting callback run at\", now());\n        run_inline_js();\n      });\n    }\n  }\n  // Give older versions of the autoload script a head-start to ensure\n  // they initialize before we start loading newer version.\n  setTimeout(load_or_wait, 100)\n}(window));"
     },
     "metadata": {},
     "output_type": "display_data"
    },
    {
     "data": {
      "application/javascript": [
       "\n",
       "if ((window.PyViz === undefined) || (window.PyViz instanceof HTMLElement)) {\n",
       "  window.PyViz = {comms: {}, comm_status:{}, kernels:{}, receivers: {}, plot_index: []}\n",
       "}\n",
       "\n",
       "\n",
       "    function JupyterCommManager() {\n",
       "    }\n",
       "\n",
       "    JupyterCommManager.prototype.register_target = function(plot_id, comm_id, msg_handler) {\n",
       "      if (window.comm_manager || ((window.Jupyter !== undefined) && (Jupyter.notebook.kernel != null))) {\n",
       "        var comm_manager = window.comm_manager || Jupyter.notebook.kernel.comm_manager;\n",
       "        comm_manager.register_target(comm_id, function(comm) {\n",
       "          comm.on_msg(msg_handler);\n",
       "        });\n",
       "      } else if ((plot_id in window.PyViz.kernels) && (window.PyViz.kernels[plot_id])) {\n",
       "        window.PyViz.kernels[plot_id].registerCommTarget(comm_id, function(comm) {\n",
       "          comm.onMsg = msg_handler;\n",
       "        });\n",
       "      } else if (typeof google != 'undefined' && google.colab.kernel != null) {\n",
       "        google.colab.kernel.comms.registerTarget(comm_id, (comm) => {\n",
       "          var messages = comm.messages[Symbol.asyncIterator]();\n",
       "          function processIteratorResult(result) {\n",
       "            var message = result.value;\n",
       "            console.log(message)\n",
       "            var content = {data: message.data, comm_id};\n",
       "            var buffers = []\n",
       "            for (var buffer of message.buffers || []) {\n",
       "              buffers.push(new DataView(buffer))\n",
       "            }\n",
       "            var metadata = message.metadata || {};\n",
       "            var msg = {content, buffers, metadata}\n",
       "            msg_handler(msg);\n",
       "            return messages.next().then(processIteratorResult);\n",
       "          }\n",
       "          return messages.next().then(processIteratorResult);\n",
       "        })\n",
       "      }\n",
       "    }\n",
       "\n",
       "    JupyterCommManager.prototype.get_client_comm = function(plot_id, comm_id, msg_handler) {\n",
       "      if (comm_id in window.PyViz.comms) {\n",
       "        return window.PyViz.comms[comm_id];\n",
       "      } else if (window.comm_manager || ((window.Jupyter !== undefined) && (Jupyter.notebook.kernel != null))) {\n",
       "        var comm_manager = window.comm_manager || Jupyter.notebook.kernel.comm_manager;\n",
       "        var comm = comm_manager.new_comm(comm_id, {}, {}, {}, comm_id);\n",
       "        if (msg_handler) {\n",
       "          comm.on_msg(msg_handler);\n",
       "        }\n",
       "      } else if ((plot_id in window.PyViz.kernels) && (window.PyViz.kernels[plot_id])) {\n",
       "        var comm = window.PyViz.kernels[plot_id].connectToComm(comm_id);\n",
       "        comm.open();\n",
       "        if (msg_handler) {\n",
       "          comm.onMsg = msg_handler;\n",
       "        }\n",
       "      } else if (typeof google != 'undefined' && google.colab.kernel != null) {\n",
       "        var comm_promise = google.colab.kernel.comms.open(comm_id)\n",
       "        comm_promise.then((comm) => {\n",
       "          window.PyViz.comms[comm_id] = comm;\n",
       "          if (msg_handler) {\n",
       "            var messages = comm.messages[Symbol.asyncIterator]();\n",
       "            function processIteratorResult(result) {\n",
       "              var message = result.value;\n",
       "              var content = {data: message.data};\n",
       "              var metadata = message.metadata || {comm_id};\n",
       "              var msg = {content, metadata}\n",
       "              msg_handler(msg);\n",
       "              return messages.next().then(processIteratorResult);\n",
       "            }\n",
       "            return messages.next().then(processIteratorResult);\n",
       "          }\n",
       "        })\n",
       "        var sendClosure = (data, metadata, buffers, disposeOnDone) => {\n",
       "          return comm_promise.then((comm) => {\n",
       "            comm.send(data, metadata, buffers, disposeOnDone);\n",
       "          });\n",
       "        };\n",
       "        var comm = {\n",
       "          send: sendClosure\n",
       "        };\n",
       "      }\n",
       "      window.PyViz.comms[comm_id] = comm;\n",
       "      return comm;\n",
       "    }\n",
       "    window.PyViz.comm_manager = new JupyterCommManager();\n",
       "    \n",
       "\n",
       "\n",
       "var JS_MIME_TYPE = 'application/javascript';\n",
       "var HTML_MIME_TYPE = 'text/html';\n",
       "var EXEC_MIME_TYPE = 'application/vnd.holoviews_exec.v0+json';\n",
       "var CLASS_NAME = 'output';\n",
       "\n",
       "/**\n",
       " * Render data to the DOM node\n",
       " */\n",
       "function render(props, node) {\n",
       "  var div = document.createElement(\"div\");\n",
       "  var script = document.createElement(\"script\");\n",
       "  node.appendChild(div);\n",
       "  node.appendChild(script);\n",
       "}\n",
       "\n",
       "/**\n",
       " * Handle when a new output is added\n",
       " */\n",
       "function handle_add_output(event, handle) {\n",
       "  var output_area = handle.output_area;\n",
       "  var output = handle.output;\n",
       "  if ((output.data == undefined) || (!output.data.hasOwnProperty(EXEC_MIME_TYPE))) {\n",
       "    return\n",
       "  }\n",
       "  var id = output.metadata[EXEC_MIME_TYPE][\"id\"];\n",
       "  var toinsert = output_area.element.find(\".\" + CLASS_NAME.split(' ')[0]);\n",
       "  if (id !== undefined) {\n",
       "    var nchildren = toinsert.length;\n",
       "    var html_node = toinsert[nchildren-1].children[0];\n",
       "    html_node.innerHTML = output.data[HTML_MIME_TYPE];\n",
       "    var scripts = [];\n",
       "    var nodelist = html_node.querySelectorAll(\"script\");\n",
       "    for (var i in nodelist) {\n",
       "      if (nodelist.hasOwnProperty(i)) {\n",
       "        scripts.push(nodelist[i])\n",
       "      }\n",
       "    }\n",
       "\n",
       "    scripts.forEach( function (oldScript) {\n",
       "      var newScript = document.createElement(\"script\");\n",
       "      var attrs = [];\n",
       "      var nodemap = oldScript.attributes;\n",
       "      for (var j in nodemap) {\n",
       "        if (nodemap.hasOwnProperty(j)) {\n",
       "          attrs.push(nodemap[j])\n",
       "        }\n",
       "      }\n",
       "      attrs.forEach(function(attr) { newScript.setAttribute(attr.name, attr.value) });\n",
       "      newScript.appendChild(document.createTextNode(oldScript.innerHTML));\n",
       "      oldScript.parentNode.replaceChild(newScript, oldScript);\n",
       "    });\n",
       "    if (JS_MIME_TYPE in output.data) {\n",
       "      toinsert[nchildren-1].children[1].textContent = output.data[JS_MIME_TYPE];\n",
       "    }\n",
       "    output_area._hv_plot_id = id;\n",
       "    if ((window.Bokeh !== undefined) && (id in Bokeh.index)) {\n",
       "      window.PyViz.plot_index[id] = Bokeh.index[id];\n",
       "    } else {\n",
       "      window.PyViz.plot_index[id] = null;\n",
       "    }\n",
       "  } else if (output.metadata[EXEC_MIME_TYPE][\"server_id\"] !== undefined) {\n",
       "    var bk_div = document.createElement(\"div\");\n",
       "    bk_div.innerHTML = output.data[HTML_MIME_TYPE];\n",
       "    var script_attrs = bk_div.children[0].attributes;\n",
       "    for (var i = 0; i < script_attrs.length; i++) {\n",
       "      toinsert[toinsert.length - 1].childNodes[1].setAttribute(script_attrs[i].name, script_attrs[i].value);\n",
       "    }\n",
       "    // store reference to server id on output_area\n",
       "    output_area._bokeh_server_id = output.metadata[EXEC_MIME_TYPE][\"server_id\"];\n",
       "  }\n",
       "}\n",
       "\n",
       "/**\n",
       " * Handle when an output is cleared or removed\n",
       " */\n",
       "function handle_clear_output(event, handle) {\n",
       "  var id = handle.cell.output_area._hv_plot_id;\n",
       "  var server_id = handle.cell.output_area._bokeh_server_id;\n",
       "  if (((id === undefined) || !(id in PyViz.plot_index)) && (server_id !== undefined)) { return; }\n",
       "  var comm = window.PyViz.comm_manager.get_client_comm(\"hv-extension-comm\", \"hv-extension-comm\", function () {});\n",
       "  if (server_id !== null) {\n",
       "    comm.send({event_type: 'server_delete', 'id': server_id});\n",
       "    return;\n",
       "  } else if (comm !== null) {\n",
       "    comm.send({event_type: 'delete', 'id': id});\n",
       "  }\n",
       "  delete PyViz.plot_index[id];\n",
       "  if ((window.Bokeh !== undefined) & (id in window.Bokeh.index)) {\n",
       "    var doc = window.Bokeh.index[id].model.document\n",
       "    doc.clear();\n",
       "    const i = window.Bokeh.documents.indexOf(doc);\n",
       "    if (i > -1) {\n",
       "      window.Bokeh.documents.splice(i, 1);\n",
       "    }\n",
       "  }\n",
       "}\n",
       "\n",
       "/**\n",
       " * Handle kernel restart event\n",
       " */\n",
       "function handle_kernel_cleanup(event, handle) {\n",
       "  delete PyViz.comms[\"hv-extension-comm\"];\n",
       "  window.PyViz.plot_index = {}\n",
       "}\n",
       "\n",
       "/**\n",
       " * Handle update_display_data messages\n",
       " */\n",
       "function handle_update_output(event, handle) {\n",
       "  handle_clear_output(event, {cell: {output_area: handle.output_area}})\n",
       "  handle_add_output(event, handle)\n",
       "}\n",
       "\n",
       "function register_renderer(events, OutputArea) {\n",
       "  function append_mime(data, metadata, element) {\n",
       "    // create a DOM node to render to\n",
       "    var toinsert = this.create_output_subarea(\n",
       "    metadata,\n",
       "    CLASS_NAME,\n",
       "    EXEC_MIME_TYPE\n",
       "    );\n",
       "    this.keyboard_manager.register_events(toinsert);\n",
       "    // Render to node\n",
       "    var props = {data: data, metadata: metadata[EXEC_MIME_TYPE]};\n",
       "    render(props, toinsert[0]);\n",
       "    element.append(toinsert);\n",
       "    return toinsert\n",
       "  }\n",
       "\n",
       "  events.on('output_added.OutputArea', handle_add_output);\n",
       "  events.on('output_updated.OutputArea', handle_update_output);\n",
       "  events.on('clear_output.CodeCell', handle_clear_output);\n",
       "  events.on('delete.Cell', handle_clear_output);\n",
       "  events.on('kernel_ready.Kernel', handle_kernel_cleanup);\n",
       "\n",
       "  OutputArea.prototype.register_mime_type(EXEC_MIME_TYPE, append_mime, {\n",
       "    safe: true,\n",
       "    index: 0\n",
       "  });\n",
       "}\n",
       "\n",
       "if (window.Jupyter !== undefined) {\n",
       "  try {\n",
       "    var events = require('base/js/events');\n",
       "    var OutputArea = require('notebook/js/outputarea').OutputArea;\n",
       "    if (OutputArea.prototype.mime_types().indexOf(EXEC_MIME_TYPE) == -1) {\n",
       "      register_renderer(events, OutputArea);\n",
       "    }\n",
       "  } catch(err) {\n",
       "  }\n",
       "}\n"
      ],
      "application/vnd.holoviews_load.v0+json": "\nif ((window.PyViz === undefined) || (window.PyViz instanceof HTMLElement)) {\n  window.PyViz = {comms: {}, comm_status:{}, kernels:{}, receivers: {}, plot_index: []}\n}\n\n\n    function JupyterCommManager() {\n    }\n\n    JupyterCommManager.prototype.register_target = function(plot_id, comm_id, msg_handler) {\n      if (window.comm_manager || ((window.Jupyter !== undefined) && (Jupyter.notebook.kernel != null))) {\n        var comm_manager = window.comm_manager || Jupyter.notebook.kernel.comm_manager;\n        comm_manager.register_target(comm_id, function(comm) {\n          comm.on_msg(msg_handler);\n        });\n      } else if ((plot_id in window.PyViz.kernels) && (window.PyViz.kernels[plot_id])) {\n        window.PyViz.kernels[plot_id].registerCommTarget(comm_id, function(comm) {\n          comm.onMsg = msg_handler;\n        });\n      } else if (typeof google != 'undefined' && google.colab.kernel != null) {\n        google.colab.kernel.comms.registerTarget(comm_id, (comm) => {\n          var messages = comm.messages[Symbol.asyncIterator]();\n          function processIteratorResult(result) {\n            var message = result.value;\n            console.log(message)\n            var content = {data: message.data, comm_id};\n            var buffers = []\n            for (var buffer of message.buffers || []) {\n              buffers.push(new DataView(buffer))\n            }\n            var metadata = message.metadata || {};\n            var msg = {content, buffers, metadata}\n            msg_handler(msg);\n            return messages.next().then(processIteratorResult);\n          }\n          return messages.next().then(processIteratorResult);\n        })\n      }\n    }\n\n    JupyterCommManager.prototype.get_client_comm = function(plot_id, comm_id, msg_handler) {\n      if (comm_id in window.PyViz.comms) {\n        return window.PyViz.comms[comm_id];\n      } else if (window.comm_manager || ((window.Jupyter !== undefined) && (Jupyter.notebook.kernel != null))) {\n        var comm_manager = window.comm_manager || Jupyter.notebook.kernel.comm_manager;\n        var comm = comm_manager.new_comm(comm_id, {}, {}, {}, comm_id);\n        if (msg_handler) {\n          comm.on_msg(msg_handler);\n        }\n      } else if ((plot_id in window.PyViz.kernels) && (window.PyViz.kernels[plot_id])) {\n        var comm = window.PyViz.kernels[plot_id].connectToComm(comm_id);\n        comm.open();\n        if (msg_handler) {\n          comm.onMsg = msg_handler;\n        }\n      } else if (typeof google != 'undefined' && google.colab.kernel != null) {\n        var comm_promise = google.colab.kernel.comms.open(comm_id)\n        comm_promise.then((comm) => {\n          window.PyViz.comms[comm_id] = comm;\n          if (msg_handler) {\n            var messages = comm.messages[Symbol.asyncIterator]();\n            function processIteratorResult(result) {\n              var message = result.value;\n              var content = {data: message.data};\n              var metadata = message.metadata || {comm_id};\n              var msg = {content, metadata}\n              msg_handler(msg);\n              return messages.next().then(processIteratorResult);\n            }\n            return messages.next().then(processIteratorResult);\n          }\n        })\n        var sendClosure = (data, metadata, buffers, disposeOnDone) => {\n          return comm_promise.then((comm) => {\n            comm.send(data, metadata, buffers, disposeOnDone);\n          });\n        };\n        var comm = {\n          send: sendClosure\n        };\n      }\n      window.PyViz.comms[comm_id] = comm;\n      return comm;\n    }\n    window.PyViz.comm_manager = new JupyterCommManager();\n    \n\n\nvar JS_MIME_TYPE = 'application/javascript';\nvar HTML_MIME_TYPE = 'text/html';\nvar EXEC_MIME_TYPE = 'application/vnd.holoviews_exec.v0+json';\nvar CLASS_NAME = 'output';\n\n/**\n * Render data to the DOM node\n */\nfunction render(props, node) {\n  var div = document.createElement(\"div\");\n  var script = document.createElement(\"script\");\n  node.appendChild(div);\n  node.appendChild(script);\n}\n\n/**\n * Handle when a new output is added\n */\nfunction handle_add_output(event, handle) {\n  var output_area = handle.output_area;\n  var output = handle.output;\n  if ((output.data == undefined) || (!output.data.hasOwnProperty(EXEC_MIME_TYPE))) {\n    return\n  }\n  var id = output.metadata[EXEC_MIME_TYPE][\"id\"];\n  var toinsert = output_area.element.find(\".\" + CLASS_NAME.split(' ')[0]);\n  if (id !== undefined) {\n    var nchildren = toinsert.length;\n    var html_node = toinsert[nchildren-1].children[0];\n    html_node.innerHTML = output.data[HTML_MIME_TYPE];\n    var scripts = [];\n    var nodelist = html_node.querySelectorAll(\"script\");\n    for (var i in nodelist) {\n      if (nodelist.hasOwnProperty(i)) {\n        scripts.push(nodelist[i])\n      }\n    }\n\n    scripts.forEach( function (oldScript) {\n      var newScript = document.createElement(\"script\");\n      var attrs = [];\n      var nodemap = oldScript.attributes;\n      for (var j in nodemap) {\n        if (nodemap.hasOwnProperty(j)) {\n          attrs.push(nodemap[j])\n        }\n      }\n      attrs.forEach(function(attr) { newScript.setAttribute(attr.name, attr.value) });\n      newScript.appendChild(document.createTextNode(oldScript.innerHTML));\n      oldScript.parentNode.replaceChild(newScript, oldScript);\n    });\n    if (JS_MIME_TYPE in output.data) {\n      toinsert[nchildren-1].children[1].textContent = output.data[JS_MIME_TYPE];\n    }\n    output_area._hv_plot_id = id;\n    if ((window.Bokeh !== undefined) && (id in Bokeh.index)) {\n      window.PyViz.plot_index[id] = Bokeh.index[id];\n    } else {\n      window.PyViz.plot_index[id] = null;\n    }\n  } else if (output.metadata[EXEC_MIME_TYPE][\"server_id\"] !== undefined) {\n    var bk_div = document.createElement(\"div\");\n    bk_div.innerHTML = output.data[HTML_MIME_TYPE];\n    var script_attrs = bk_div.children[0].attributes;\n    for (var i = 0; i < script_attrs.length; i++) {\n      toinsert[toinsert.length - 1].childNodes[1].setAttribute(script_attrs[i].name, script_attrs[i].value);\n    }\n    // store reference to server id on output_area\n    output_area._bokeh_server_id = output.metadata[EXEC_MIME_TYPE][\"server_id\"];\n  }\n}\n\n/**\n * Handle when an output is cleared or removed\n */\nfunction handle_clear_output(event, handle) {\n  var id = handle.cell.output_area._hv_plot_id;\n  var server_id = handle.cell.output_area._bokeh_server_id;\n  if (((id === undefined) || !(id in PyViz.plot_index)) && (server_id !== undefined)) { return; }\n  var comm = window.PyViz.comm_manager.get_client_comm(\"hv-extension-comm\", \"hv-extension-comm\", function () {});\n  if (server_id !== null) {\n    comm.send({event_type: 'server_delete', 'id': server_id});\n    return;\n  } else if (comm !== null) {\n    comm.send({event_type: 'delete', 'id': id});\n  }\n  delete PyViz.plot_index[id];\n  if ((window.Bokeh !== undefined) & (id in window.Bokeh.index)) {\n    var doc = window.Bokeh.index[id].model.document\n    doc.clear();\n    const i = window.Bokeh.documents.indexOf(doc);\n    if (i > -1) {\n      window.Bokeh.documents.splice(i, 1);\n    }\n  }\n}\n\n/**\n * Handle kernel restart event\n */\nfunction handle_kernel_cleanup(event, handle) {\n  delete PyViz.comms[\"hv-extension-comm\"];\n  window.PyViz.plot_index = {}\n}\n\n/**\n * Handle update_display_data messages\n */\nfunction handle_update_output(event, handle) {\n  handle_clear_output(event, {cell: {output_area: handle.output_area}})\n  handle_add_output(event, handle)\n}\n\nfunction register_renderer(events, OutputArea) {\n  function append_mime(data, metadata, element) {\n    // create a DOM node to render to\n    var toinsert = this.create_output_subarea(\n    metadata,\n    CLASS_NAME,\n    EXEC_MIME_TYPE\n    );\n    this.keyboard_manager.register_events(toinsert);\n    // Render to node\n    var props = {data: data, metadata: metadata[EXEC_MIME_TYPE]};\n    render(props, toinsert[0]);\n    element.append(toinsert);\n    return toinsert\n  }\n\n  events.on('output_added.OutputArea', handle_add_output);\n  events.on('output_updated.OutputArea', handle_update_output);\n  events.on('clear_output.CodeCell', handle_clear_output);\n  events.on('delete.Cell', handle_clear_output);\n  events.on('kernel_ready.Kernel', handle_kernel_cleanup);\n\n  OutputArea.prototype.register_mime_type(EXEC_MIME_TYPE, append_mime, {\n    safe: true,\n    index: 0\n  });\n}\n\nif (window.Jupyter !== undefined) {\n  try {\n    var events = require('base/js/events');\n    var OutputArea = require('notebook/js/outputarea').OutputArea;\n    if (OutputArea.prototype.mime_types().indexOf(EXEC_MIME_TYPE) == -1) {\n      register_renderer(events, OutputArea);\n    }\n  } catch(err) {\n  }\n}\n"
     },
     "metadata": {},
     "output_type": "display_data"
    },
    {
     "data": {
      "application/vnd.holoviews_exec.v0+json": "",
      "text/html": [
       "<div id='7f3dd56c-a0e1-4ce5-8b19-7589bdb5565a'>\n",
       "  <div id=\"ec8affce-49df-4543-ba61-3272a9494deb\" data-root-id=\"7f3dd56c-a0e1-4ce5-8b19-7589bdb5565a\" style=\"display: contents;\"></div>\n",
       "</div>\n",
       "<script type=\"application/javascript\">(function(root) {\n",
       "  var docs_json = {\"fe085840-306b-488d-aaf4-337c12aeb4b4\":{\"version\":\"3.6.3\",\"title\":\"Bokeh Application\",\"roots\":[{\"type\":\"object\",\"name\":\"panel.models.browser.BrowserInfo\",\"id\":\"7f3dd56c-a0e1-4ce5-8b19-7589bdb5565a\"},{\"type\":\"object\",\"name\":\"panel.models.comm_manager.CommManager\",\"id\":\"e69cf1d0-b157-4548-a87c-d4c45929ff09\",\"attributes\":{\"plot_id\":\"7f3dd56c-a0e1-4ce5-8b19-7589bdb5565a\",\"comm_id\":\"2d16865906614201baf21788f97e2fd3\",\"client_comm_id\":\"f2f2f1e1ac3a490d8dced379fc62e3a6\"}}],\"defs\":[{\"type\":\"model\",\"name\":\"ReactiveHTML1\"},{\"type\":\"model\",\"name\":\"FlexBox1\",\"properties\":[{\"name\":\"align_content\",\"kind\":\"Any\",\"default\":\"flex-start\"},{\"name\":\"align_items\",\"kind\":\"Any\",\"default\":\"flex-start\"},{\"name\":\"flex_direction\",\"kind\":\"Any\",\"default\":\"row\"},{\"name\":\"flex_wrap\",\"kind\":\"Any\",\"default\":\"wrap\"},{\"name\":\"gap\",\"kind\":\"Any\",\"default\":\"\"},{\"name\":\"justify_content\",\"kind\":\"Any\",\"default\":\"flex-start\"}]},{\"type\":\"model\",\"name\":\"FloatPanel1\",\"properties\":[{\"name\":\"config\",\"kind\":\"Any\",\"default\":{\"type\":\"map\"}},{\"name\":\"contained\",\"kind\":\"Any\",\"default\":true},{\"name\":\"position\",\"kind\":\"Any\",\"default\":\"right-top\"},{\"name\":\"offsetx\",\"kind\":\"Any\",\"default\":null},{\"name\":\"offsety\",\"kind\":\"Any\",\"default\":null},{\"name\":\"theme\",\"kind\":\"Any\",\"default\":\"primary\"},{\"name\":\"status\",\"kind\":\"Any\",\"default\":\"normalized\"}]},{\"type\":\"model\",\"name\":\"GridStack1\",\"properties\":[{\"name\":\"mode\",\"kind\":\"Any\",\"default\":\"warn\"},{\"name\":\"ncols\",\"kind\":\"Any\",\"default\":null},{\"name\":\"nrows\",\"kind\":\"Any\",\"default\":null},{\"name\":\"allow_resize\",\"kind\":\"Any\",\"default\":true},{\"name\":\"allow_drag\",\"kind\":\"Any\",\"default\":true},{\"name\":\"state\",\"kind\":\"Any\",\"default\":[]}]},{\"type\":\"model\",\"name\":\"drag1\",\"properties\":[{\"name\":\"slider_width\",\"kind\":\"Any\",\"default\":5},{\"name\":\"slider_color\",\"kind\":\"Any\",\"default\":\"black\"},{\"name\":\"value\",\"kind\":\"Any\",\"default\":50}]},{\"type\":\"model\",\"name\":\"click1\",\"properties\":[{\"name\":\"terminal_output\",\"kind\":\"Any\",\"default\":\"\"},{\"name\":\"debug_name\",\"kind\":\"Any\",\"default\":\"\"},{\"name\":\"clears\",\"kind\":\"Any\",\"default\":0}]},{\"type\":\"model\",\"name\":\"FastWrapper1\",\"properties\":[{\"name\":\"object\",\"kind\":\"Any\",\"default\":null},{\"name\":\"style\",\"kind\":\"Any\",\"default\":null}]},{\"type\":\"model\",\"name\":\"NotificationAreaBase1\",\"properties\":[{\"name\":\"js_events\",\"kind\":\"Any\",\"default\":{\"type\":\"map\"}},{\"name\":\"position\",\"kind\":\"Any\",\"default\":\"bottom-right\"},{\"name\":\"_clear\",\"kind\":\"Any\",\"default\":0}]},{\"type\":\"model\",\"name\":\"NotificationArea1\",\"properties\":[{\"name\":\"js_events\",\"kind\":\"Any\",\"default\":{\"type\":\"map\"}},{\"name\":\"notifications\",\"kind\":\"Any\",\"default\":[]},{\"name\":\"position\",\"kind\":\"Any\",\"default\":\"bottom-right\"},{\"name\":\"_clear\",\"kind\":\"Any\",\"default\":0},{\"name\":\"types\",\"kind\":\"Any\",\"default\":[{\"type\":\"map\",\"entries\":[[\"type\",\"warning\"],[\"background\",\"#ffc107\"],[\"icon\",{\"type\":\"map\",\"entries\":[[\"className\",\"fas fa-exclamation-triangle\"],[\"tagName\",\"i\"],[\"color\",\"white\"]]}]]},{\"type\":\"map\",\"entries\":[[\"type\",\"info\"],[\"background\",\"#007bff\"],[\"icon\",{\"type\":\"map\",\"entries\":[[\"className\",\"fas fa-info-circle\"],[\"tagName\",\"i\"],[\"color\",\"white\"]]}]]}]}]},{\"type\":\"model\",\"name\":\"Notification\",\"properties\":[{\"name\":\"background\",\"kind\":\"Any\",\"default\":null},{\"name\":\"duration\",\"kind\":\"Any\",\"default\":3000},{\"name\":\"icon\",\"kind\":\"Any\",\"default\":null},{\"name\":\"message\",\"kind\":\"Any\",\"default\":\"\"},{\"name\":\"notification_type\",\"kind\":\"Any\",\"default\":null},{\"name\":\"_rendered\",\"kind\":\"Any\",\"default\":false},{\"name\":\"_destroyed\",\"kind\":\"Any\",\"default\":false}]},{\"type\":\"model\",\"name\":\"TemplateActions1\",\"properties\":[{\"name\":\"open_modal\",\"kind\":\"Any\",\"default\":0},{\"name\":\"close_modal\",\"kind\":\"Any\",\"default\":0}]},{\"type\":\"model\",\"name\":\"BootstrapTemplateActions1\",\"properties\":[{\"name\":\"open_modal\",\"kind\":\"Any\",\"default\":0},{\"name\":\"close_modal\",\"kind\":\"Any\",\"default\":0}]},{\"type\":\"model\",\"name\":\"TemplateEditor1\",\"properties\":[{\"name\":\"layout\",\"kind\":\"Any\",\"default\":[]}]},{\"type\":\"model\",\"name\":\"MaterialTemplateActions1\",\"properties\":[{\"name\":\"open_modal\",\"kind\":\"Any\",\"default\":0},{\"name\":\"close_modal\",\"kind\":\"Any\",\"default\":0}]},{\"type\":\"model\",\"name\":\"ReactiveESM1\",\"properties\":[{\"name\":\"esm_constants\",\"kind\":\"Any\",\"default\":{\"type\":\"map\"}}]},{\"type\":\"model\",\"name\":\"JSComponent1\",\"properties\":[{\"name\":\"esm_constants\",\"kind\":\"Any\",\"default\":{\"type\":\"map\"}}]},{\"type\":\"model\",\"name\":\"ReactComponent1\",\"properties\":[{\"name\":\"esm_constants\",\"kind\":\"Any\",\"default\":{\"type\":\"map\"}}]},{\"type\":\"model\",\"name\":\"AnyWidgetComponent1\",\"properties\":[{\"name\":\"esm_constants\",\"kind\":\"Any\",\"default\":{\"type\":\"map\"}}]},{\"type\":\"model\",\"name\":\"request_value1\",\"properties\":[{\"name\":\"fill\",\"kind\":\"Any\",\"default\":\"none\"},{\"name\":\"_synced\",\"kind\":\"Any\",\"default\":null},{\"name\":\"_request_sync\",\"kind\":\"Any\",\"default\":0}]}]}};\n",
       "  var render_items = [{\"docid\":\"fe085840-306b-488d-aaf4-337c12aeb4b4\",\"roots\":{\"7f3dd56c-a0e1-4ce5-8b19-7589bdb5565a\":\"ec8affce-49df-4543-ba61-3272a9494deb\"},\"root_ids\":[\"7f3dd56c-a0e1-4ce5-8b19-7589bdb5565a\"]}];\n",
       "  var docs = Object.values(docs_json)\n",
       "  if (!docs) {\n",
       "    return\n",
       "  }\n",
       "  const py_version = docs[0].version.replace('rc', '-rc.').replace('.dev', '-dev.')\n",
       "  async function embed_document(root) {\n",
       "    var Bokeh = get_bokeh(root)\n",
       "    await Bokeh.embed.embed_items_notebook(docs_json, render_items);\n",
       "    for (const render_item of render_items) {\n",
       "      for (const root_id of render_item.root_ids) {\n",
       "\tconst id_el = document.getElementById(root_id)\n",
       "\tif (id_el.children.length && id_el.children[0].hasAttribute('data-root-id')) {\n",
       "\t  const root_el = id_el.children[0]\n",
       "\t  root_el.id = root_el.id + '-rendered'\n",
       "\t  for (const child of root_el.children) {\n",
       "            // Ensure JupyterLab does not capture keyboard shortcuts\n",
       "            // see: https://jupyterlab.readthedocs.io/en/4.1.x/extension/notebook.html#keyboard-interaction-model\n",
       "\t    child.setAttribute('data-lm-suppress-shortcuts', 'true')\n",
       "\t  }\n",
       "\t}\n",
       "      }\n",
       "    }\n",
       "  }\n",
       "  function get_bokeh(root) {\n",
       "    if (root.Bokeh === undefined) {\n",
       "      return null\n",
       "    } else if (root.Bokeh.version !== py_version) {\n",
       "      if (root.Bokeh.versions === undefined || !root.Bokeh.versions.has(py_version)) {\n",
       "\treturn null\n",
       "      }\n",
       "      return root.Bokeh.versions.get(py_version);\n",
       "    } else if (root.Bokeh.version === py_version) {\n",
       "      return root.Bokeh\n",
       "    }\n",
       "    return null\n",
       "  }\n",
       "  function is_loaded(root) {\n",
       "    var Bokeh = get_bokeh(root)\n",
       "    return (Bokeh != null && Bokeh.Panel !== undefined)\n",
       "  }\n",
       "  if (is_loaded(root)) {\n",
       "    embed_document(root);\n",
       "  } else {\n",
       "    var attempts = 0;\n",
       "    var timer = setInterval(function(root) {\n",
       "      if (is_loaded(root)) {\n",
       "        clearInterval(timer);\n",
       "        embed_document(root);\n",
       "      } else if (document.readyState == \"complete\") {\n",
       "        attempts++;\n",
       "        if (attempts > 200) {\n",
       "          clearInterval(timer);\n",
       "\t  var Bokeh = get_bokeh(root)\n",
       "\t  if (Bokeh == null || Bokeh.Panel == null) {\n",
       "            console.warn(\"Panel: ERROR: Unable to run Panel code because Bokeh or Panel library is missing\");\n",
       "\t  } else {\n",
       "\t    console.warn(\"Panel: WARNING: Attempting to render but not all required libraries could be resolved.\")\n",
       "\t    embed_document(root)\n",
       "\t  }\n",
       "        }\n",
       "      }\n",
       "    }, 25, root)\n",
       "  }\n",
       "})(window);</script>"
      ]
     },
     "metadata": {
      "application/vnd.holoviews_exec.v0+json": {
       "id": "7f3dd56c-a0e1-4ce5-8b19-7589bdb5565a"
      }
     },
     "output_type": "display_data"
    },
    {
     "data": {
      "application/vnd.holoviews_exec.v0+json": "",
      "text/html": [
       "<div id='5b537c72-e1d5-4903-820b-801ca40cbebc'>\n",
       "  <div id=\"bbf0b420-36b0-4d4f-90a5-b18b151272e6\" data-root-id=\"5b537c72-e1d5-4903-820b-801ca40cbebc\" style=\"display: contents;\"></div>\n",
       "</div>\n",
       "<script type=\"application/javascript\">(function(root) {\n",
       "  var docs_json = {\"65e9c78a-71bf-49f3-99dd-6f3c7eed3b52\":{\"version\":\"3.6.3\",\"title\":\"Bokeh Application\",\"roots\":[{\"type\":\"object\",\"name\":\"panel.models.layout.Column\",\"id\":\"5b537c72-e1d5-4903-820b-801ca40cbebc\",\"attributes\":{\"name\":\"Column00123\",\"tags\":[\"embedded\"],\"stylesheets\":[\"\\n:host(.pn-loading):before, .pn-loading:before {\\n  background-color: #c3c3c3;\\n  mask-size: auto calc(min(50%, 400px));\\n  -webkit-mask-size: auto calc(min(50%, 400px));\\n}\",{\"type\":\"object\",\"name\":\"ImportedStyleSheet\",\"id\":\"0246c4af-ed84-4671-a403-b8894a891c80\",\"attributes\":{\"url\":\"https://cdn.holoviz.org/panel/1.6.1/dist/css/loading.css\"}},{\"type\":\"object\",\"name\":\"ImportedStyleSheet\",\"id\":\"52e28795-a8c1-4f1f-8fe6-23ed7534f9d2\",\"attributes\":{\"url\":\"https://cdn.holoviz.org/panel/1.6.1/dist/css/listpanel.css\"}},{\"type\":\"object\",\"name\":\"ImportedStyleSheet\",\"id\":\"d043c224-29b6-4fd4-a766-8c4e1444cd53\",\"attributes\":{\"url\":\"https://cdn.holoviz.org/panel/1.6.1/dist/bundled/theme/default.css\"}},{\"type\":\"object\",\"name\":\"ImportedStyleSheet\",\"id\":\"558dca2a-c4d1-4f5f-bd7d-cc686a484829\",\"attributes\":{\"url\":\"https://cdn.holoviz.org/panel/1.6.1/dist/bundled/theme/native.css\"}}],\"margin\":0,\"align\":\"start\",\"children\":[{\"type\":\"object\",\"name\":\"panel.models.layout.Column\",\"id\":\"2efbedf6-6e76-45fd-8919-0ce06f451295\",\"attributes\":{\"name\":\"Column00128\",\"stylesheets\":[\"\\n:host(.pn-loading):before, .pn-loading:before {\\n  background-color: #c3c3c3;\\n  mask-size: auto calc(min(50%, 400px));\\n  -webkit-mask-size: auto calc(min(50%, 400px));\\n}\",{\"id\":\"0246c4af-ed84-4671-a403-b8894a891c80\"},{\"id\":\"52e28795-a8c1-4f1f-8fe6-23ed7534f9d2\"},{\"id\":\"d043c224-29b6-4fd4-a766-8c4e1444cd53\"},{\"id\":\"558dca2a-c4d1-4f5f-bd7d-cc686a484829\"}],\"margin\":0,\"align\":\"start\",\"children\":[{\"type\":\"object\",\"name\":\"panel.models.layout.Column\",\"id\":\"4fbfe25a-7f07-4389-bcbe-95944bcd9f29\",\"attributes\":{\"name\":\"Column00138\",\"stylesheets\":[\"\\n:host(.pn-loading):before, .pn-loading:before {\\n  background-color: #c3c3c3;\\n  mask-size: auto calc(min(50%, 400px));\\n  -webkit-mask-size: auto calc(min(50%, 400px));\\n}\",{\"id\":\"0246c4af-ed84-4671-a403-b8894a891c80\"},{\"id\":\"52e28795-a8c1-4f1f-8fe6-23ed7534f9d2\"},{\"id\":\"d043c224-29b6-4fd4-a766-8c4e1444cd53\"},{\"id\":\"558dca2a-c4d1-4f5f-bd7d-cc686a484829\"}],\"margin\":0,\"align\":\"start\",\"children\":[{\"type\":\"object\",\"name\":\"Div\",\"id\":\"aad322cc-a3b3-40fc-b5ff-8faaf717f9d5\",\"attributes\":{\"stylesheets\":[\"\\n:host(.pn-loading):before, .pn-loading:before {\\n  background-color: #c3c3c3;\\n  mask-size: auto calc(min(50%, 400px));\\n  -webkit-mask-size: auto calc(min(50%, 400px));\\n}\",{\"id\":\"0246c4af-ed84-4671-a403-b8894a891c80\"},{\"id\":\"d043c224-29b6-4fd4-a766-8c4e1444cd53\"},{\"id\":\"558dca2a-c4d1-4f5f-bd7d-cc686a484829\"}],\"margin\":[5,0,0,10],\"align\":\"start\",\"text\":\"Time step: <b>0</b>\"}},{\"type\":\"object\",\"name\":\"Slider\",\"id\":\"99c27b9e-c179-4837-900a-cd3e8c3b21ef\",\"attributes\":{\"js_property_callbacks\":{\"type\":\"map\",\"entries\":[[\"change:value\",[{\"type\":\"object\",\"name\":\"CustomJS\",\"id\":\"911a16e2-2174-4fe8-9404-98d7cd83cbf6\",\"attributes\":{\"args\":{\"type\":\"map\",\"entries\":[[\"source\",{\"id\":\"99c27b9e-c179-4837-900a-cd3e8c3b21ef\"}],[\"target\",{\"id\":\"aad322cc-a3b3-40fc-b5ff-8faaf717f9d5\"}]]},\"code\":\"\\n    var labels = ['Time step: <b>0</b>', 'Time step: <b>2</b>', 'Time step: <b>4</b>', 'Time step: <b>6</b>', 'Time step: <b>8</b>', 'Time step: <b>10</b>', 'Time step: <b>12</b>', 'Time step: <b>14</b>', 'Time step: <b>16</b>', 'Time step: <b>18</b>', 'Time step: <b>20</b>', 'Time step: <b>22</b>', 'Time step: <b>24</b>', 'Time step: <b>26</b>', 'Time step: <b>28</b>', 'Time step: <b>30</b>']\\n    target.text = labels[source.value]\\n    \"}},{\"type\":\"object\",\"name\":\"CustomJS\",\"id\":\"19e615c6-9510-4092-8996-b7ac41b4ab16\",\"attributes\":{\"code\":\"\\nvar state = null\\nfor (var root of cb_obj.document.roots()) {\\n  if (root.id == '7a0361bb-2cf3-40b6-95b1-c0c1d1ed42a7') {\\n    state = root;\\n    break;\\n  }\\n}\\nif (!state) { return; }\\nstate.set_state(cb_obj, cb_obj.value)\\n\"}}]]]},\"stylesheets\":[\"\\n:host(.pn-loading):before, .pn-loading:before {\\n  background-color: #c3c3c3;\\n  mask-size: auto calc(min(50%, 400px));\\n  -webkit-mask-size: auto calc(min(50%, 400px));\\n}\",{\"id\":\"0246c4af-ed84-4671-a403-b8894a891c80\"},{\"id\":\"d043c224-29b6-4fd4-a766-8c4e1444cd53\"},{\"id\":\"558dca2a-c4d1-4f5f-bd7d-cc686a484829\"}],\"margin\":[0,10,5,10],\"align\":\"start\",\"show_value\":false,\"tooltips\":false,\"start\":0,\"end\":15,\"value\":0}}]}}]}},{\"type\":\"object\",\"name\":\"Row\",\"id\":\"6454bc16-2792-45cc-85e5-b7f0fe85607d\",\"attributes\":{\"name\":\"Row00127\",\"stylesheets\":[\"\\n:host(.pn-loading):before, .pn-loading:before {\\n  background-color: #c3c3c3;\\n  mask-size: auto calc(min(50%, 400px));\\n  -webkit-mask-size: auto calc(min(50%, 400px));\\n}\",{\"id\":\"0246c4af-ed84-4671-a403-b8894a891c80\"},{\"id\":\"52e28795-a8c1-4f1f-8fe6-23ed7534f9d2\"},{\"id\":\"d043c224-29b6-4fd4-a766-8c4e1444cd53\"},{\"id\":\"558dca2a-c4d1-4f5f-bd7d-cc686a484829\"}],\"margin\":0,\"align\":\"start\",\"children\":[{\"type\":\"object\",\"name\":\"panel.models.markup.HTML\",\"id\":\"3b2f4645-11c9-42ab-bfe8-770fa1a3a79c\",\"attributes\":{\"css_classes\":[\"markdown\"],\"stylesheets\":[\"\\n:host(.pn-loading):before, .pn-loading:before {\\n  background-color: #c3c3c3;\\n  mask-size: auto calc(min(50%, 400px));\\n  -webkit-mask-size: auto calc(min(50%, 400px));\\n}\",{\"id\":\"0246c4af-ed84-4671-a403-b8894a891c80\"},{\"type\":\"object\",\"name\":\"ImportedStyleSheet\",\"id\":\"b672776d-7f01-4094-b1ad-0fea3d774ae1\",\"attributes\":{\"url\":\"https://cdn.holoviz.org/panel/1.6.1/dist/css/markdown.css\"}},{\"id\":\"d043c224-29b6-4fd4-a766-8c4e1444cd53\"},{\"id\":\"558dca2a-c4d1-4f5f-bd7d-cc686a484829\"}],\"margin\":[5,10],\"align\":\"start\",\"text\":\"&lt;p&gt;State probabilities at time step 0 (pi_0 = pi_0@T^0) = [0.5 0.3 0.2]&lt;/p&gt;\\n\"}}]}}]}},{\"type\":\"object\",\"name\":\"panel.models.state.State\",\"id\":\"7a0361bb-2cf3-40b6-95b1-c0c1d1ed42a7\",\"attributes\":{\"state\":{\"type\":\"map\",\"entries\":[[15,{\"type\":\"map\",\"entries\":[[\"header\",\"{\\\"msgid\\\": \\\"2e38709f-7cf2-4644-a90d-698fde8993e6\\\", \\\"msgtype\\\": \\\"PATCH-DOC\\\"}\"],[\"metadata\",\"{\\\"use_buffers\\\": false}\"],[\"content\",\"{\\\"events\\\":[{\\\"kind\\\":\\\"ModelChanged\\\",\\\"model\\\":{\\\"id\\\":\\\"aad322cc-a3b3-40fc-b5ff-8faaf717f9d5\\\"},\\\"attr\\\":\\\"text\\\",\\\"new\\\":\\\"Time step: <b>30</b>\\\"},{\\\"kind\\\":\\\"ModelChanged\\\",\\\"model\\\":{\\\"id\\\":\\\"3b2f4645-11c9-42ab-bfe8-770fa1a3a79c\\\"},\\\"attr\\\":\\\"text\\\",\\\"new\\\":\\\"&lt;p&gt;State probabilities at time step 30 (pi_30 = pi_0@T^30) = [0.34693878 0.2244898  0.42857143]&lt;/p&gt;\\\\n\\\"}]}\"]]}],[14,{\"type\":\"map\",\"entries\":[[\"header\",\"{\\\"msgid\\\": \\\"4bcb5ac6-4f33-42a0-931b-6e9a773545ff\\\", \\\"msgtype\\\": \\\"PATCH-DOC\\\"}\"],[\"metadata\",\"{\\\"use_buffers\\\": false}\"],[\"content\",\"{\\\"events\\\":[{\\\"kind\\\":\\\"ModelChanged\\\",\\\"model\\\":{\\\"id\\\":\\\"aad322cc-a3b3-40fc-b5ff-8faaf717f9d5\\\"},\\\"attr\\\":\\\"text\\\",\\\"new\\\":\\\"Time step: <b>28</b>\\\"},{\\\"kind\\\":\\\"ModelChanged\\\",\\\"model\\\":{\\\"id\\\":\\\"3b2f4645-11c9-42ab-bfe8-770fa1a3a79c\\\"},\\\"attr\\\":\\\"text\\\",\\\"new\\\":\\\"&lt;p&gt;State probabilities at time step 28 (pi_28 = pi_0@T^28) = [0.34693878 0.2244898  0.42857143]&lt;/p&gt;\\\\n\\\"}]}\"]]}],[13,{\"type\":\"map\",\"entries\":[[\"header\",\"{\\\"msgid\\\": \\\"92af0c8c-6ab2-4ea4-b50d-351d838aedb1\\\", \\\"msgtype\\\": \\\"PATCH-DOC\\\"}\"],[\"metadata\",\"{\\\"use_buffers\\\": false}\"],[\"content\",\"{\\\"events\\\":[{\\\"kind\\\":\\\"ModelChanged\\\",\\\"model\\\":{\\\"id\\\":\\\"aad322cc-a3b3-40fc-b5ff-8faaf717f9d5\\\"},\\\"attr\\\":\\\"text\\\",\\\"new\\\":\\\"Time step: <b>26</b>\\\"},{\\\"kind\\\":\\\"ModelChanged\\\",\\\"model\\\":{\\\"id\\\":\\\"3b2f4645-11c9-42ab-bfe8-770fa1a3a79c\\\"},\\\"attr\\\":\\\"text\\\",\\\"new\\\":\\\"&lt;p&gt;State probabilities at time step 26 (pi_26 = pi_0@T^26) = [0.34693878 0.2244898  0.42857143]&lt;/p&gt;\\\\n\\\"}]}\"]]}],[12,{\"type\":\"map\",\"entries\":[[\"header\",\"{\\\"msgid\\\": \\\"e548efd3-e6db-46b5-809e-b163c4a37cbf\\\", \\\"msgtype\\\": \\\"PATCH-DOC\\\"}\"],[\"metadata\",\"{\\\"use_buffers\\\": false}\"],[\"content\",\"{\\\"events\\\":[{\\\"kind\\\":\\\"ModelChanged\\\",\\\"model\\\":{\\\"id\\\":\\\"aad322cc-a3b3-40fc-b5ff-8faaf717f9d5\\\"},\\\"attr\\\":\\\"text\\\",\\\"new\\\":\\\"Time step: <b>24</b>\\\"},{\\\"kind\\\":\\\"ModelChanged\\\",\\\"model\\\":{\\\"id\\\":\\\"3b2f4645-11c9-42ab-bfe8-770fa1a3a79c\\\"},\\\"attr\\\":\\\"text\\\",\\\"new\\\":\\\"&lt;p&gt;State probabilities at time step 24 (pi_24 = pi_0@T^24) = [0.34693878 0.2244898  0.42857143]&lt;/p&gt;\\\\n\\\"}]}\"]]}],[11,{\"type\":\"map\",\"entries\":[[\"header\",\"{\\\"msgid\\\": \\\"8d4904e1-b8b7-4b9d-9e0e-c0366aa79686\\\", \\\"msgtype\\\": \\\"PATCH-DOC\\\"}\"],[\"metadata\",\"{\\\"use_buffers\\\": false}\"],[\"content\",\"{\\\"events\\\":[{\\\"kind\\\":\\\"ModelChanged\\\",\\\"model\\\":{\\\"id\\\":\\\"aad322cc-a3b3-40fc-b5ff-8faaf717f9d5\\\"},\\\"attr\\\":\\\"text\\\",\\\"new\\\":\\\"Time step: <b>22</b>\\\"},{\\\"kind\\\":\\\"ModelChanged\\\",\\\"model\\\":{\\\"id\\\":\\\"3b2f4645-11c9-42ab-bfe8-770fa1a3a79c\\\"},\\\"attr\\\":\\\"text\\\",\\\"new\\\":\\\"&lt;p&gt;State probabilities at time step 22 (pi_22 = pi_0@T^22) = [0.34693878 0.2244898  0.42857143]&lt;/p&gt;\\\\n\\\"}]}\"]]}],[10,{\"type\":\"map\",\"entries\":[[\"header\",\"{\\\"msgid\\\": \\\"15b7c483-8d7b-4884-90cd-313f485384b9\\\", \\\"msgtype\\\": \\\"PATCH-DOC\\\"}\"],[\"metadata\",\"{\\\"use_buffers\\\": false}\"],[\"content\",\"{\\\"events\\\":[{\\\"kind\\\":\\\"ModelChanged\\\",\\\"model\\\":{\\\"id\\\":\\\"aad322cc-a3b3-40fc-b5ff-8faaf717f9d5\\\"},\\\"attr\\\":\\\"text\\\",\\\"new\\\":\\\"Time step: <b>20</b>\\\"},{\\\"kind\\\":\\\"ModelChanged\\\",\\\"model\\\":{\\\"id\\\":\\\"3b2f4645-11c9-42ab-bfe8-770fa1a3a79c\\\"},\\\"attr\\\":\\\"text\\\",\\\"new\\\":\\\"&lt;p&gt;State probabilities at time step 20 (pi_20 = pi_0@T^20) = [0.34693878 0.2244898  0.42857143]&lt;/p&gt;\\\\n\\\"}]}\"]]}],[9,{\"type\":\"map\",\"entries\":[[\"header\",\"{\\\"msgid\\\": \\\"877f0027-87ed-4911-94bd-42a3b3a3f2d5\\\", \\\"msgtype\\\": \\\"PATCH-DOC\\\"}\"],[\"metadata\",\"{\\\"use_buffers\\\": false}\"],[\"content\",\"{\\\"events\\\":[{\\\"kind\\\":\\\"ModelChanged\\\",\\\"model\\\":{\\\"id\\\":\\\"aad322cc-a3b3-40fc-b5ff-8faaf717f9d5\\\"},\\\"attr\\\":\\\"text\\\",\\\"new\\\":\\\"Time step: <b>18</b>\\\"},{\\\"kind\\\":\\\"ModelChanged\\\",\\\"model\\\":{\\\"id\\\":\\\"3b2f4645-11c9-42ab-bfe8-770fa1a3a79c\\\"},\\\"attr\\\":\\\"text\\\",\\\"new\\\":\\\"&lt;p&gt;State probabilities at time step 18 (pi_18 = pi_0@T^18) = [0.34693878 0.2244898  0.42857143]&lt;/p&gt;\\\\n\\\"}]}\"]]}],[8,{\"type\":\"map\",\"entries\":[[\"header\",\"{\\\"msgid\\\": \\\"da4a89f5-1d25-4875-8e9f-660d23064c31\\\", \\\"msgtype\\\": \\\"PATCH-DOC\\\"}\"],[\"metadata\",\"{\\\"use_buffers\\\": false}\"],[\"content\",\"{\\\"events\\\":[{\\\"kind\\\":\\\"ModelChanged\\\",\\\"model\\\":{\\\"id\\\":\\\"aad322cc-a3b3-40fc-b5ff-8faaf717f9d5\\\"},\\\"attr\\\":\\\"text\\\",\\\"new\\\":\\\"Time step: <b>16</b>\\\"},{\\\"kind\\\":\\\"ModelChanged\\\",\\\"model\\\":{\\\"id\\\":\\\"3b2f4645-11c9-42ab-bfe8-770fa1a3a79c\\\"},\\\"attr\\\":\\\"text\\\",\\\"new\\\":\\\"&lt;p&gt;State probabilities at time step 16 (pi_16 = pi_0@T^16) = [0.34693877 0.2244898  0.42857143]&lt;/p&gt;\\\\n\\\"}]}\"]]}],[7,{\"type\":\"map\",\"entries\":[[\"header\",\"{\\\"msgid\\\": \\\"0b7d5abb-3755-45c5-b254-af52c75eb489\\\", \\\"msgtype\\\": \\\"PATCH-DOC\\\"}\"],[\"metadata\",\"{\\\"use_buffers\\\": false}\"],[\"content\",\"{\\\"events\\\":[{\\\"kind\\\":\\\"ModelChanged\\\",\\\"model\\\":{\\\"id\\\":\\\"aad322cc-a3b3-40fc-b5ff-8faaf717f9d5\\\"},\\\"attr\\\":\\\"text\\\",\\\"new\\\":\\\"Time step: <b>14</b>\\\"},{\\\"kind\\\":\\\"ModelChanged\\\",\\\"model\\\":{\\\"id\\\":\\\"3b2f4645-11c9-42ab-bfe8-770fa1a3a79c\\\"},\\\"attr\\\":\\\"text\\\",\\\"new\\\":\\\"&lt;p&gt;State probabilities at time step 14 (pi_14 = pi_0@T^14) = [0.34693873 0.22448985 0.42857142]&lt;/p&gt;\\\\n\\\"}]}\"]]}],[6,{\"type\":\"map\",\"entries\":[[\"header\",\"{\\\"msgid\\\": \\\"0b0a0a47-5e19-468a-8515-c5e3aead6afd\\\", \\\"msgtype\\\": \\\"PATCH-DOC\\\"}\"],[\"metadata\",\"{\\\"use_buffers\\\": false}\"],[\"content\",\"{\\\"events\\\":[{\\\"kind\\\":\\\"ModelChanged\\\",\\\"model\\\":{\\\"id\\\":\\\"aad322cc-a3b3-40fc-b5ff-8faaf717f9d5\\\"},\\\"attr\\\":\\\"text\\\",\\\"new\\\":\\\"Time step: <b>12</b>\\\"},{\\\"kind\\\":\\\"ModelChanged\\\",\\\"model\\\":{\\\"id\\\":\\\"3b2f4645-11c9-42ab-bfe8-770fa1a3a79c\\\"},\\\"attr\\\":\\\"text\\\",\\\"new\\\":\\\"&lt;p&gt;State probabilities at time step 12 (pi_12 = pi_0@T^12) = [0.34693837 0.22449032 0.42857131]&lt;/p&gt;\\\\n\\\"}]}\"]]}],[5,{\"type\":\"map\",\"entries\":[[\"header\",\"{\\\"msgid\\\": \\\"8b9df6c4-fdf1-48c9-899d-606392115385\\\", \\\"msgtype\\\": \\\"PATCH-DOC\\\"}\"],[\"metadata\",\"{\\\"use_buffers\\\": false}\"],[\"content\",\"{\\\"events\\\":[{\\\"kind\\\":\\\"ModelChanged\\\",\\\"model\\\":{\\\"id\\\":\\\"aad322cc-a3b3-40fc-b5ff-8faaf717f9d5\\\"},\\\"attr\\\":\\\"text\\\",\\\"new\\\":\\\"Time step: <b>10</b>\\\"},{\\\"kind\\\":\\\"ModelChanged\\\",\\\"model\\\":{\\\"id\\\":\\\"3b2f4645-11c9-42ab-bfe8-770fa1a3a79c\\\"},\\\"attr\\\":\\\"text\\\",\\\"new\\\":\\\"&lt;p&gt;State probabilities at time step 10 (pi_10 = pi_0@T^10) = [0.34693518 0.22449474 0.42857008]&lt;/p&gt;\\\\n\\\"}]}\"]]}],[4,{\"type\":\"map\",\"entries\":[[\"header\",\"{\\\"msgid\\\": \\\"024aa62b-1aa4-4a4c-9467-dbe26d7aca79\\\", \\\"msgtype\\\": \\\"PATCH-DOC\\\"}\"],[\"metadata\",\"{\\\"use_buffers\\\": false}\"],[\"content\",\"{\\\"events\\\":[{\\\"kind\\\":\\\"ModelChanged\\\",\\\"model\\\":{\\\"id\\\":\\\"aad322cc-a3b3-40fc-b5ff-8faaf717f9d5\\\"},\\\"attr\\\":\\\"text\\\",\\\"new\\\":\\\"Time step: <b>8</b>\\\"},{\\\"kind\\\":\\\"ModelChanged\\\",\\\"model\\\":{\\\"id\\\":\\\"3b2f4645-11c9-42ab-bfe8-770fa1a3a79c\\\"},\\\"attr\\\":\\\"text\\\",\\\"new\\\":\\\"&lt;p&gt;State probabilities at time step 8 (pi_8 = pi_0@T^8) = [0.34690883 0.22453474 0.42855643]&lt;/p&gt;\\\\n\\\"}]}\"]]}],[3,{\"type\":\"map\",\"entries\":[[\"header\",\"{\\\"msgid\\\": \\\"6547ad9e-16a4-4f19-a3d5-1738cbb6b1a4\\\", \\\"msgtype\\\": \\\"PATCH-DOC\\\"}\"],[\"metadata\",\"{\\\"use_buffers\\\": false}\"],[\"content\",\"{\\\"events\\\":[{\\\"kind\\\":\\\"ModelChanged\\\",\\\"model\\\":{\\\"id\\\":\\\"aad322cc-a3b3-40fc-b5ff-8faaf717f9d5\\\"},\\\"attr\\\":\\\"text\\\",\\\"new\\\":\\\"Time step: <b>6</b>\\\"},{\\\"kind\\\":\\\"ModelChanged\\\",\\\"model\\\":{\\\"id\\\":\\\"3b2f4645-11c9-42ab-bfe8-770fa1a3a79c\\\"},\\\"attr\\\":\\\"text\\\",\\\"new\\\":\\\"&lt;p&gt;State probabilities at time step 6 (pi_6 = pi_0@T^6) = [0.3467171 0.2248781 0.4284048]&lt;/p&gt;\\\\n\\\"}]}\"]]}],[2,{\"type\":\"map\",\"entries\":[[\"header\",\"{\\\"msgid\\\": \\\"e6c59077-825e-45c0-bf0e-c649d4fa8c3a\\\", \\\"msgtype\\\": \\\"PATCH-DOC\\\"}\"],[\"metadata\",\"{\\\"use_buffers\\\": false}\"],[\"content\",\"{\\\"events\\\":[{\\\"kind\\\":\\\"ModelChanged\\\",\\\"model\\\":{\\\"id\\\":\\\"aad322cc-a3b3-40fc-b5ff-8faaf717f9d5\\\"},\\\"attr\\\":\\\"text\\\",\\\"new\\\":\\\"Time step: <b>4</b>\\\"},{\\\"kind\\\":\\\"ModelChanged\\\",\\\"model\\\":{\\\"id\\\":\\\"3b2f4645-11c9-42ab-bfe8-770fa1a3a79c\\\"},\\\"attr\\\":\\\"text\\\",\\\"new\\\":\\\"&lt;p&gt;State probabilities at time step 4 (pi_4 = pi_0@T^4) = [0.34571 0.22757 0.42672]&lt;/p&gt;\\\\n\\\"}]}\"]]}],[1,{\"type\":\"map\",\"entries\":[[\"header\",\"{\\\"msgid\\\": \\\"8ffcf326-0b02-47cf-a7b8-a78b854be72b\\\", \\\"msgtype\\\": \\\"PATCH-DOC\\\"}\"],[\"metadata\",\"{\\\"use_buffers\\\": false}\"],[\"content\",\"{\\\"events\\\":[{\\\"kind\\\":\\\"ModelChanged\\\",\\\"model\\\":{\\\"id\\\":\\\"aad322cc-a3b3-40fc-b5ff-8faaf717f9d5\\\"},\\\"attr\\\":\\\"text\\\",\\\"new\\\":\\\"Time step: <b>2</b>\\\"},{\\\"kind\\\":\\\"ModelChanged\\\",\\\"model\\\":{\\\"id\\\":\\\"3b2f4645-11c9-42ab-bfe8-770fa1a3a79c\\\"},\\\"attr\\\":\\\"text\\\",\\\"new\\\":\\\"&lt;p&gt;State probabilities at time step 2 (pi_2 = pi_0@T^2) = [0.347 0.245 0.408]&lt;/p&gt;\\\\n\\\"}]}\"]]}],[0,{\"type\":\"map\",\"entries\":[[\"header\",\"{\\\"msgid\\\": \\\"59a64fa1-4e3b-44ed-bc52-1b61515b0545\\\", \\\"msgtype\\\": \\\"PATCH-DOC\\\"}\"],[\"metadata\",\"{\\\"use_buffers\\\": false}\"],[\"content\",\"{\\\"events\\\":[{\\\"kind\\\":\\\"ModelChanged\\\",\\\"model\\\":{\\\"id\\\":\\\"aad322cc-a3b3-40fc-b5ff-8faaf717f9d5\\\"},\\\"attr\\\":\\\"text\\\",\\\"new\\\":\\\"Time step: <b>0</b>\\\"},{\\\"kind\\\":\\\"ModelChanged\\\",\\\"model\\\":{\\\"id\\\":\\\"3b2f4645-11c9-42ab-bfe8-770fa1a3a79c\\\"},\\\"attr\\\":\\\"text\\\",\\\"new\\\":\\\"&lt;p&gt;State probabilities at time step 0 (pi_0 = pi_0@T^0) = [0.5 0.3 0.2]&lt;/p&gt;\\\\n\\\"}]}\"]]}]]},\"widgets\":{\"type\":\"map\",\"entries\":[[\"99c27b9e-c179-4837-900a-cd3e8c3b21ef\",0]]},\"values\":[0]}}],\"defs\":[{\"type\":\"model\",\"name\":\"ReactiveHTML1\"},{\"type\":\"model\",\"name\":\"FlexBox1\",\"properties\":[{\"name\":\"align_content\",\"kind\":\"Any\",\"default\":\"flex-start\"},{\"name\":\"align_items\",\"kind\":\"Any\",\"default\":\"flex-start\"},{\"name\":\"flex_direction\",\"kind\":\"Any\",\"default\":\"row\"},{\"name\":\"flex_wrap\",\"kind\":\"Any\",\"default\":\"wrap\"},{\"name\":\"gap\",\"kind\":\"Any\",\"default\":\"\"},{\"name\":\"justify_content\",\"kind\":\"Any\",\"default\":\"flex-start\"}]},{\"type\":\"model\",\"name\":\"FloatPanel1\",\"properties\":[{\"name\":\"config\",\"kind\":\"Any\",\"default\":{\"type\":\"map\"}},{\"name\":\"contained\",\"kind\":\"Any\",\"default\":true},{\"name\":\"position\",\"kind\":\"Any\",\"default\":\"right-top\"},{\"name\":\"offsetx\",\"kind\":\"Any\",\"default\":null},{\"name\":\"offsety\",\"kind\":\"Any\",\"default\":null},{\"name\":\"theme\",\"kind\":\"Any\",\"default\":\"primary\"},{\"name\":\"status\",\"kind\":\"Any\",\"default\":\"normalized\"}]},{\"type\":\"model\",\"name\":\"GridStack1\",\"properties\":[{\"name\":\"mode\",\"kind\":\"Any\",\"default\":\"warn\"},{\"name\":\"ncols\",\"kind\":\"Any\",\"default\":null},{\"name\":\"nrows\",\"kind\":\"Any\",\"default\":null},{\"name\":\"allow_resize\",\"kind\":\"Any\",\"default\":true},{\"name\":\"allow_drag\",\"kind\":\"Any\",\"default\":true},{\"name\":\"state\",\"kind\":\"Any\",\"default\":[]}]},{\"type\":\"model\",\"name\":\"drag1\",\"properties\":[{\"name\":\"slider_width\",\"kind\":\"Any\",\"default\":5},{\"name\":\"slider_color\",\"kind\":\"Any\",\"default\":\"black\"},{\"name\":\"value\",\"kind\":\"Any\",\"default\":50}]},{\"type\":\"model\",\"name\":\"click1\",\"properties\":[{\"name\":\"terminal_output\",\"kind\":\"Any\",\"default\":\"\"},{\"name\":\"debug_name\",\"kind\":\"Any\",\"default\":\"\"},{\"name\":\"clears\",\"kind\":\"Any\",\"default\":0}]},{\"type\":\"model\",\"name\":\"FastWrapper1\",\"properties\":[{\"name\":\"object\",\"kind\":\"Any\",\"default\":null},{\"name\":\"style\",\"kind\":\"Any\",\"default\":null}]},{\"type\":\"model\",\"name\":\"NotificationAreaBase1\",\"properties\":[{\"name\":\"js_events\",\"kind\":\"Any\",\"default\":{\"type\":\"map\"}},{\"name\":\"position\",\"kind\":\"Any\",\"default\":\"bottom-right\"},{\"name\":\"_clear\",\"kind\":\"Any\",\"default\":0}]},{\"type\":\"model\",\"name\":\"NotificationArea1\",\"properties\":[{\"name\":\"js_events\",\"kind\":\"Any\",\"default\":{\"type\":\"map\"}},{\"name\":\"notifications\",\"kind\":\"Any\",\"default\":[]},{\"name\":\"position\",\"kind\":\"Any\",\"default\":\"bottom-right\"},{\"name\":\"_clear\",\"kind\":\"Any\",\"default\":0},{\"name\":\"types\",\"kind\":\"Any\",\"default\":[{\"type\":\"map\",\"entries\":[[\"type\",\"warning\"],[\"background\",\"#ffc107\"],[\"icon\",{\"type\":\"map\",\"entries\":[[\"className\",\"fas fa-exclamation-triangle\"],[\"tagName\",\"i\"],[\"color\",\"white\"]]}]]},{\"type\":\"map\",\"entries\":[[\"type\",\"info\"],[\"background\",\"#007bff\"],[\"icon\",{\"type\":\"map\",\"entries\":[[\"className\",\"fas fa-info-circle\"],[\"tagName\",\"i\"],[\"color\",\"white\"]]}]]}]}]},{\"type\":\"model\",\"name\":\"Notification\",\"properties\":[{\"name\":\"background\",\"kind\":\"Any\",\"default\":null},{\"name\":\"duration\",\"kind\":\"Any\",\"default\":3000},{\"name\":\"icon\",\"kind\":\"Any\",\"default\":null},{\"name\":\"message\",\"kind\":\"Any\",\"default\":\"\"},{\"name\":\"notification_type\",\"kind\":\"Any\",\"default\":null},{\"name\":\"_rendered\",\"kind\":\"Any\",\"default\":false},{\"name\":\"_destroyed\",\"kind\":\"Any\",\"default\":false}]},{\"type\":\"model\",\"name\":\"TemplateActions1\",\"properties\":[{\"name\":\"open_modal\",\"kind\":\"Any\",\"default\":0},{\"name\":\"close_modal\",\"kind\":\"Any\",\"default\":0}]},{\"type\":\"model\",\"name\":\"BootstrapTemplateActions1\",\"properties\":[{\"name\":\"open_modal\",\"kind\":\"Any\",\"default\":0},{\"name\":\"close_modal\",\"kind\":\"Any\",\"default\":0}]},{\"type\":\"model\",\"name\":\"TemplateEditor1\",\"properties\":[{\"name\":\"layout\",\"kind\":\"Any\",\"default\":[]}]},{\"type\":\"model\",\"name\":\"MaterialTemplateActions1\",\"properties\":[{\"name\":\"open_modal\",\"kind\":\"Any\",\"default\":0},{\"name\":\"close_modal\",\"kind\":\"Any\",\"default\":0}]},{\"type\":\"model\",\"name\":\"ReactiveESM1\",\"properties\":[{\"name\":\"esm_constants\",\"kind\":\"Any\",\"default\":{\"type\":\"map\"}}]},{\"type\":\"model\",\"name\":\"JSComponent1\",\"properties\":[{\"name\":\"esm_constants\",\"kind\":\"Any\",\"default\":{\"type\":\"map\"}}]},{\"type\":\"model\",\"name\":\"ReactComponent1\",\"properties\":[{\"name\":\"esm_constants\",\"kind\":\"Any\",\"default\":{\"type\":\"map\"}}]},{\"type\":\"model\",\"name\":\"AnyWidgetComponent1\",\"properties\":[{\"name\":\"esm_constants\",\"kind\":\"Any\",\"default\":{\"type\":\"map\"}}]},{\"type\":\"model\",\"name\":\"request_value1\",\"properties\":[{\"name\":\"fill\",\"kind\":\"Any\",\"default\":\"none\"},{\"name\":\"_synced\",\"kind\":\"Any\",\"default\":null},{\"name\":\"_request_sync\",\"kind\":\"Any\",\"default\":0}]}]}};\n",
       "  var render_items = [{\"docid\":\"65e9c78a-71bf-49f3-99dd-6f3c7eed3b52\",\"roots\":{\"5b537c72-e1d5-4903-820b-801ca40cbebc\":\"bbf0b420-36b0-4d4f-90a5-b18b151272e6\"},\"root_ids\":[\"5b537c72-e1d5-4903-820b-801ca40cbebc\"]}];\n",
       "  var docs = Object.values(docs_json)\n",
       "  if (!docs) {\n",
       "    return\n",
       "  }\n",
       "  const py_version = docs[0].version.replace('rc', '-rc.').replace('.dev', '-dev.')\n",
       "  async function embed_document(root) {\n",
       "    var Bokeh = get_bokeh(root)\n",
       "    await Bokeh.embed.embed_items_notebook(docs_json, render_items);\n",
       "    for (const render_item of render_items) {\n",
       "      for (const root_id of render_item.root_ids) {\n",
       "\tconst id_el = document.getElementById(root_id)\n",
       "\tif (id_el.children.length && id_el.children[0].hasAttribute('data-root-id')) {\n",
       "\t  const root_el = id_el.children[0]\n",
       "\t  root_el.id = root_el.id + '-rendered'\n",
       "\t  for (const child of root_el.children) {\n",
       "            // Ensure JupyterLab does not capture keyboard shortcuts\n",
       "            // see: https://jupyterlab.readthedocs.io/en/4.1.x/extension/notebook.html#keyboard-interaction-model\n",
       "\t    child.setAttribute('data-lm-suppress-shortcuts', 'true')\n",
       "\t  }\n",
       "\t}\n",
       "      }\n",
       "    }\n",
       "  }\n",
       "  function get_bokeh(root) {\n",
       "    if (root.Bokeh === undefined) {\n",
       "      return null\n",
       "    } else if (root.Bokeh.version !== py_version) {\n",
       "      if (root.Bokeh.versions === undefined || !root.Bokeh.versions.has(py_version)) {\n",
       "\treturn null\n",
       "      }\n",
       "      return root.Bokeh.versions.get(py_version);\n",
       "    } else if (root.Bokeh.version === py_version) {\n",
       "      return root.Bokeh\n",
       "    }\n",
       "    return null\n",
       "  }\n",
       "  function is_loaded(root) {\n",
       "    var Bokeh = get_bokeh(root)\n",
       "    return (Bokeh != null && Bokeh.Panel !== undefined)\n",
       "  }\n",
       "  if (is_loaded(root)) {\n",
       "    embed_document(root);\n",
       "  } else {\n",
       "    var attempts = 0;\n",
       "    var timer = setInterval(function(root) {\n",
       "      if (is_loaded(root)) {\n",
       "        clearInterval(timer);\n",
       "        embed_document(root);\n",
       "      } else if (document.readyState == \"complete\") {\n",
       "        attempts++;\n",
       "        if (attempts > 200) {\n",
       "          clearInterval(timer);\n",
       "\t  var Bokeh = get_bokeh(root)\n",
       "\t  if (Bokeh == null || Bokeh.Panel == null) {\n",
       "            console.warn(\"Panel: ERROR: Unable to run Panel code because Bokeh or Panel library is missing\");\n",
       "\t  } else {\n",
       "\t    console.warn(\"Panel: WARNING: Attempting to render but not all required libraries could be resolved.\")\n",
       "\t    embed_document(root)\n",
       "\t  }\n",
       "        }\n",
       "      }\n",
       "    }, 25, root)\n",
       "  }\n",
       "})(window);</script>"
      ],
      "text/plain": [
       "<panel.io.notebook.Mimebundle at 0x132f73d10>"
      ]
     },
     "execution_count": 5,
     "metadata": {
      "application/vnd.holoviews_exec.v0+json": {
       "id": "5b537c72-e1d5-4903-820b-801ca40cbebc"
      }
     },
     "output_type": "execute_result"
    }
   ],
   "source": [
    "import panel as pn\n",
    "from panel import widgets\n",
    "from panel.interact import interact\n",
    "import matplotlib\n",
    "from IPython.display import clear_output\n",
    "\n",
    "pn.extension()\n",
    "\n",
    "def f(time_steps):\n",
    "    return f\"State probabilities at time step {time_steps} (pi_{time_steps} = pi_0@T^{time_steps}) = {pi_0 @ np.linalg.matrix_power(T, time_steps)}\"\n",
    "\n",
    "interact(f, time_steps=widgets.IntSlider(name='Time step', start=0, end=30, step=2, value=0)).embed(max_opts=20)\n"
   ]
  },
  {
   "cell_type": "markdown",
   "metadata": {},
   "source": [
    "Any interesting observations? "
   ]
  },
  {
   "cell_type": "markdown",
   "metadata": {},
   "source": [
    "<br><br>"
   ]
  },
  {
   "cell_type": "markdown",
   "metadata": {},
   "source": [
    "### Break (~5 mins)\n",
    "\n",
    "![](../img/eva-coffee.png)"
   ]
  },
  {
   "cell_type": "markdown",
   "metadata": {},
   "source": [
    "<br><br>"
   ]
  },
  {
   "cell_type": "markdown",
   "metadata": {
    "slideshow": {
     "slide_type": "slide"
    }
   },
   "source": [
    "## ❓❓ Questions for you\n",
    "\n",
    "### Exercise 1.1 Select all of the following statements which are **True** (iClicker)\n",
    "\n",
    "- (A) According to the Markov assumption the probability of being at a future state $s_{t+1}$ is independent of the past states $s_1$ to $s_{t-1}$.\n",
    "   \n",
    "- (B) In a Markov model, the sum of the conditional probabilities of transitioning from one state to all other states is equal to 1.0. \n",
    "- (C) In a Markov chain, the probabilities associated with self loops (staying in the same state) of all states should sum to one. \n",
    "- (D) Given $\\pi_0$ as initial state probability distribution, and $T$ as transition matrix, we can calculate the probability distribution over states at time step $k$ by multiplying $\\pi_0$ and $T^k$."
   ]
  },
  {
   "cell_type": "markdown",
   "metadata": {},
   "source": [
    "```{admonition} Exercise 1.1: V's Solutions! \n",
    ":class: tip, dropdown\n",
    "\n",
    "- (A) False. The probability of being in a future state is conditionally independent of the past given present.\n",
    "- (B) True\n",
    "- (C) False\n",
    "- (D) True\n",
    "\n",
    "```"
   ]
  },
  {
   "cell_type": "markdown",
   "metadata": {
    "slideshow": {
     "slide_type": "slide"
    }
   },
   "source": [
    "<br><br><br><br>"
   ]
  },
  {
   "cell_type": "markdown",
   "metadata": {
    "slideshow": {
     "slide_type": "slide"
    }
   },
   "source": [
    "## 4. Markov chains tasks: Stationary distribution"
   ]
  },
  {
   "cell_type": "markdown",
   "metadata": {},
   "source": [
    "In the example above, after time step 18 or so, the state probabilities stopped changing!! "
   ]
  },
  {
   "cell_type": "markdown",
   "metadata": {
    "slideshow": {
     "slide_type": "slide"
    }
   },
   "source": [
    "- A **stationary distribution of a Markov chain** is a probability distribution over states that remains unchanged in the Markov chain as time progresses.\n",
    "\n",
    "- A probability distribution $\\pi$ on states $S$ is stationary where the following holds for the transition matrix $T$.    \n",
    "\n",
    "\n",
    "$$\\pi T=\\pi$$ \n",
    "\n",
    "Why is this useful? This tells us about the behaviour of a Markov chain in the long run.  \n"
   ]
  },
  {
   "cell_type": "markdown",
   "metadata": {},
   "source": [
    "### 4.1 Stationary distribution: Toy Google Matrix example\n",
    "\n",
    "- Imagine a toy internet with three webpages: Prajeet webpage, Varada webpage, MDS webpage\n",
    "  \n",
    "- We'll build a toy Markov model where the states are the above three web pages. \n",
    "- Transitions represent a web surfer clicking on a link and moving to a different page.\n",
    "\n",
    "$$S = \\{\\text{Prajeet webpage, Varada webpage, MDS webpage}\\}, \\pi_0 = \\begin{bmatrix} 0.1 & 0.5 & 0.4 \\end{bmatrix}$$ \n",
    "\n",
    "$$ T = \\begin{bmatrix}\n",
    "1/8 & 3/8 & 4/8\\\\\n",
    "1/8 & 1/8 & 6/8\\\\\n",
    "3/8 & 1/8 & 4/8\n",
    "\\end{bmatrix}$$\n",
    "\n",
    "Questions we might want to answer? \n",
    "\n",
    "- What's the behaviour of web surfers in the long run? Which webpages should get a high **rank** based on this behaviour?"
   ]
  },
  {
   "cell_type": "code",
   "execution_count": 6,
   "metadata": {},
   "outputs": [],
   "source": [
    "import numpy as np\n",
    "\n",
    "pi_0 = np.array([0.1, 0.5, 0.4])\n",
    "\n",
    "T = np.array([[1/8, 3/8, 4/8],\n",
    "              [1/8, 1/8, 6/8],\n",
    "              [3/8, 1/8, 4/8]])"
   ]
  },
  {
   "cell_type": "code",
   "execution_count": 7,
   "metadata": {},
   "outputs": [
    {
     "data": {
      "text/plain": [
       "True"
      ]
     },
     "execution_count": 7,
     "metadata": {},
     "output_type": "execute_result"
    }
   ],
   "source": [
    "# Do all the rows sum to 1? \n",
    "\n",
    "np.allclose(np.sum(T, axis=1), 1.0)"
   ]
  },
  {
   "cell_type": "code",
   "execution_count": 8,
   "metadata": {},
   "outputs": [
    {
     "data": {
      "text/plain": [
       "array([0.28125, 0.18125, 0.5375 ])"
      ]
     },
     "execution_count": 8,
     "metadata": {},
     "output_type": "execute_result"
    }
   ],
   "source": [
    "pi_0 @ np.linalg.matrix_power(T, 2) "
   ]
  },
  {
   "cell_type": "code",
   "execution_count": 9,
   "metadata": {},
   "outputs": [
    {
     "data": {
      "text/plain": [
       "array([0.26190476, 0.19047619, 0.54761905])"
      ]
     },
     "execution_count": 9,
     "metadata": {},
     "output_type": "execute_result"
    }
   ],
   "source": [
    "pi_0 @ np.linalg.matrix_power(T, 30)"
   ]
  },
  {
   "cell_type": "code",
   "execution_count": 10,
   "metadata": {},
   "outputs": [
    {
     "data": {
      "text/plain": [
       "array([0.26190476, 0.19047619, 0.54761905])"
      ]
     },
     "execution_count": 10,
     "metadata": {},
     "output_type": "execute_result"
    }
   ],
   "source": [
    "pi_0 @ np.linalg.matrix_power(T, 31)"
   ]
  },
  {
   "cell_type": "code",
   "execution_count": 11,
   "metadata": {},
   "outputs": [
    {
     "data": {
      "application/vnd.holoviews_exec.v0+json": "",
      "text/html": [
       "<div id='81bf78d9-a12c-4ec7-9086-ba7fc9641a70'>\n",
       "  <div id=\"a98995c9-64eb-4ad5-9b0f-53b5df14a171\" data-root-id=\"81bf78d9-a12c-4ec7-9086-ba7fc9641a70\" style=\"display: contents;\"></div>\n",
       "</div>\n",
       "<script type=\"application/javascript\">(function(root) {\n",
       "  var docs_json = {\"32dda6c6-d465-4c92-96a1-ada3e384c8e0\":{\"version\":\"3.6.3\",\"title\":\"Bokeh Application\",\"roots\":[{\"type\":\"object\",\"name\":\"panel.models.layout.Column\",\"id\":\"81bf78d9-a12c-4ec7-9086-ba7fc9641a70\",\"attributes\":{\"name\":\"Column00196\",\"tags\":[\"embedded\"],\"stylesheets\":[\"\\n:host(.pn-loading):before, .pn-loading:before {\\n  background-color: #c3c3c3;\\n  mask-size: auto calc(min(50%, 400px));\\n  -webkit-mask-size: auto calc(min(50%, 400px));\\n}\",{\"type\":\"object\",\"name\":\"ImportedStyleSheet\",\"id\":\"a5126c56-8a7a-4344-b6b9-74441b41c7c9\",\"attributes\":{\"url\":\"https://cdn.holoviz.org/panel/1.6.1/dist/css/loading.css\"}},{\"type\":\"object\",\"name\":\"ImportedStyleSheet\",\"id\":\"ce433aab-7dae-4a9c-8db5-86e49cc0acad\",\"attributes\":{\"url\":\"https://cdn.holoviz.org/panel/1.6.1/dist/css/listpanel.css\"}},{\"type\":\"object\",\"name\":\"ImportedStyleSheet\",\"id\":\"7b268e1a-11b7-4766-af32-bea87fa21090\",\"attributes\":{\"url\":\"https://cdn.holoviz.org/panel/1.6.1/dist/bundled/theme/default.css\"}},{\"type\":\"object\",\"name\":\"ImportedStyleSheet\",\"id\":\"62b65a70-eaa9-486f-a800-dd8495f9c47f\",\"attributes\":{\"url\":\"https://cdn.holoviz.org/panel/1.6.1/dist/bundled/theme/native.css\"}}],\"margin\":0,\"align\":\"start\",\"children\":[{\"type\":\"object\",\"name\":\"panel.models.layout.Column\",\"id\":\"cb7311cb-9dc4-4acd-af38-ab3b2057cf67\",\"attributes\":{\"name\":\"Column00201\",\"stylesheets\":[\"\\n:host(.pn-loading):before, .pn-loading:before {\\n  background-color: #c3c3c3;\\n  mask-size: auto calc(min(50%, 400px));\\n  -webkit-mask-size: auto calc(min(50%, 400px));\\n}\",{\"id\":\"a5126c56-8a7a-4344-b6b9-74441b41c7c9\"},{\"id\":\"ce433aab-7dae-4a9c-8db5-86e49cc0acad\"},{\"id\":\"7b268e1a-11b7-4766-af32-bea87fa21090\"},{\"id\":\"62b65a70-eaa9-486f-a800-dd8495f9c47f\"}],\"margin\":0,\"align\":\"start\",\"children\":[{\"type\":\"object\",\"name\":\"panel.models.layout.Column\",\"id\":\"6e12048b-02c1-43bd-9149-3228fd273078\",\"attributes\":{\"name\":\"Column00211\",\"stylesheets\":[\"\\n:host(.pn-loading):before, .pn-loading:before {\\n  background-color: #c3c3c3;\\n  mask-size: auto calc(min(50%, 400px));\\n  -webkit-mask-size: auto calc(min(50%, 400px));\\n}\",{\"id\":\"a5126c56-8a7a-4344-b6b9-74441b41c7c9\"},{\"id\":\"ce433aab-7dae-4a9c-8db5-86e49cc0acad\"},{\"id\":\"7b268e1a-11b7-4766-af32-bea87fa21090\"},{\"id\":\"62b65a70-eaa9-486f-a800-dd8495f9c47f\"}],\"margin\":0,\"align\":\"start\",\"children\":[{\"type\":\"object\",\"name\":\"Div\",\"id\":\"d5501836-ff74-4073-9d06-d263d09201f7\",\"attributes\":{\"stylesheets\":[\"\\n:host(.pn-loading):before, .pn-loading:before {\\n  background-color: #c3c3c3;\\n  mask-size: auto calc(min(50%, 400px));\\n  -webkit-mask-size: auto calc(min(50%, 400px));\\n}\",{\"id\":\"a5126c56-8a7a-4344-b6b9-74441b41c7c9\"},{\"id\":\"7b268e1a-11b7-4766-af32-bea87fa21090\"},{\"id\":\"62b65a70-eaa9-486f-a800-dd8495f9c47f\"}],\"margin\":[5,0,0,10],\"align\":\"start\",\"text\":\"Time step: <b>0</b>\"}},{\"type\":\"object\",\"name\":\"Slider\",\"id\":\"a51ad538-94fd-4e8a-a9fc-735fc32a8f36\",\"attributes\":{\"js_property_callbacks\":{\"type\":\"map\",\"entries\":[[\"change:value\",[{\"type\":\"object\",\"name\":\"CustomJS\",\"id\":\"cd485561-2659-41da-8d4d-a06ad9803752\",\"attributes\":{\"args\":{\"type\":\"map\",\"entries\":[[\"source\",{\"id\":\"a51ad538-94fd-4e8a-a9fc-735fc32a8f36\"}],[\"target\",{\"id\":\"d5501836-ff74-4073-9d06-d263d09201f7\"}]]},\"code\":\"\\n    var labels = ['Time step: <b>0</b>', 'Time step: <b>2</b>', 'Time step: <b>4</b>', 'Time step: <b>6</b>', 'Time step: <b>8</b>', 'Time step: <b>10</b>', 'Time step: <b>12</b>', 'Time step: <b>14</b>', 'Time step: <b>16</b>', 'Time step: <b>18</b>', 'Time step: <b>20</b>', 'Time step: <b>22</b>', 'Time step: <b>24</b>', 'Time step: <b>26</b>', 'Time step: <b>28</b>', 'Time step: <b>30</b>', 'Time step: <b>32</b>', 'Time step: <b>34</b>', 'Time step: <b>36</b>', 'Time step: <b>38</b>', 'Time step: <b>40</b>']\\n    target.text = labels[source.value]\\n    \"}},{\"type\":\"object\",\"name\":\"CustomJS\",\"id\":\"99976a2f-45c2-40fd-8bbb-ea67cc70cd04\",\"attributes\":{\"code\":\"\\nvar state = null\\nfor (var root of cb_obj.document.roots()) {\\n  if (root.id == '6f4ab26f-3c60-4dda-8c23-306102fc140c') {\\n    state = root;\\n    break;\\n  }\\n}\\nif (!state) { return; }\\nstate.set_state(cb_obj, cb_obj.value)\\n\"}}]]]},\"stylesheets\":[\"\\n:host(.pn-loading):before, .pn-loading:before {\\n  background-color: #c3c3c3;\\n  mask-size: auto calc(min(50%, 400px));\\n  -webkit-mask-size: auto calc(min(50%, 400px));\\n}\",{\"id\":\"a5126c56-8a7a-4344-b6b9-74441b41c7c9\"},{\"id\":\"7b268e1a-11b7-4766-af32-bea87fa21090\"},{\"id\":\"62b65a70-eaa9-486f-a800-dd8495f9c47f\"}],\"margin\":[0,10,5,10],\"align\":\"start\",\"show_value\":false,\"tooltips\":false,\"start\":0,\"end\":20,\"value\":0}}]}}]}},{\"type\":\"object\",\"name\":\"Row\",\"id\":\"7779b070-3c5f-45fc-bf74-2e7975ff3723\",\"attributes\":{\"name\":\"Row00200\",\"stylesheets\":[\"\\n:host(.pn-loading):before, .pn-loading:before {\\n  background-color: #c3c3c3;\\n  mask-size: auto calc(min(50%, 400px));\\n  -webkit-mask-size: auto calc(min(50%, 400px));\\n}\",{\"id\":\"a5126c56-8a7a-4344-b6b9-74441b41c7c9\"},{\"id\":\"ce433aab-7dae-4a9c-8db5-86e49cc0acad\"},{\"id\":\"7b268e1a-11b7-4766-af32-bea87fa21090\"},{\"id\":\"62b65a70-eaa9-486f-a800-dd8495f9c47f\"}],\"margin\":0,\"align\":\"start\",\"children\":[{\"type\":\"object\",\"name\":\"panel.models.markup.HTML\",\"id\":\"20713623-1dd9-4062-bb47-f6b7ce5f19c1\",\"attributes\":{\"css_classes\":[\"markdown\"],\"stylesheets\":[\"\\n:host(.pn-loading):before, .pn-loading:before {\\n  background-color: #c3c3c3;\\n  mask-size: auto calc(min(50%, 400px));\\n  -webkit-mask-size: auto calc(min(50%, 400px));\\n}\",{\"id\":\"a5126c56-8a7a-4344-b6b9-74441b41c7c9\"},{\"type\":\"object\",\"name\":\"ImportedStyleSheet\",\"id\":\"c207300d-3a77-40bd-a187-d8c11ac80d8f\",\"attributes\":{\"url\":\"https://cdn.holoviz.org/panel/1.6.1/dist/css/markdown.css\"}},{\"id\":\"7b268e1a-11b7-4766-af32-bea87fa21090\"},{\"id\":\"62b65a70-eaa9-486f-a800-dd8495f9c47f\"}],\"margin\":[5,10],\"align\":\"start\",\"text\":\"&lt;p&gt;NO STEADDY STATE YET\\n[0.1 0.5 0.4] @T != [0.1 0.5 0.4]&lt;/p&gt;\\n\"}}]}}]}},{\"type\":\"object\",\"name\":\"panel.models.state.State\",\"id\":\"6f4ab26f-3c60-4dda-8c23-306102fc140c\",\"attributes\":{\"state\":{\"type\":\"map\",\"entries\":[[20,{\"type\":\"map\",\"entries\":[[\"header\",\"{\\\"msgid\\\": \\\"58444914-bf56-456f-a7fd-f85e427d85da\\\", \\\"msgtype\\\": \\\"PATCH-DOC\\\"}\"],[\"metadata\",\"{\\\"use_buffers\\\": false}\"],[\"content\",\"{\\\"events\\\":[{\\\"kind\\\":\\\"ModelChanged\\\",\\\"model\\\":{\\\"id\\\":\\\"d5501836-ff74-4073-9d06-d263d09201f7\\\"},\\\"attr\\\":\\\"text\\\",\\\"new\\\":\\\"Time step: <b>40</b>\\\"},{\\\"kind\\\":\\\"ModelChanged\\\",\\\"model\\\":{\\\"id\\\":\\\"20713623-1dd9-4062-bb47-f6b7ce5f19c1\\\"},\\\"attr\\\":\\\"text\\\",\\\"new\\\":\\\"&lt;p&gt;STEADY STATE\\\\n[0.26190476 0.19047619 0.54761905]@T == [0.26190476 0.19047619 0.54761905]&lt;/p&gt;\\\\n\\\"}]}\"]]}],[19,{\"type\":\"map\",\"entries\":[[\"header\",\"{\\\"msgid\\\": \\\"1744b451-4497-46fd-a71c-564ec72bb26a\\\", \\\"msgtype\\\": \\\"PATCH-DOC\\\"}\"],[\"metadata\",\"{\\\"use_buffers\\\": false}\"],[\"content\",\"{\\\"events\\\":[{\\\"kind\\\":\\\"ModelChanged\\\",\\\"model\\\":{\\\"id\\\":\\\"d5501836-ff74-4073-9d06-d263d09201f7\\\"},\\\"attr\\\":\\\"text\\\",\\\"new\\\":\\\"Time step: <b>38</b>\\\"}]}\"]]}],[18,{\"type\":\"map\",\"entries\":[[\"header\",\"{\\\"msgid\\\": \\\"c586aa78-319c-424c-ac5d-227d241bde48\\\", \\\"msgtype\\\": \\\"PATCH-DOC\\\"}\"],[\"metadata\",\"{\\\"use_buffers\\\": false}\"],[\"content\",\"{\\\"events\\\":[{\\\"kind\\\":\\\"ModelChanged\\\",\\\"model\\\":{\\\"id\\\":\\\"d5501836-ff74-4073-9d06-d263d09201f7\\\"},\\\"attr\\\":\\\"text\\\",\\\"new\\\":\\\"Time step: <b>36</b>\\\"}]}\"]]}],[17,{\"type\":\"map\",\"entries\":[[\"header\",\"{\\\"msgid\\\": \\\"0e7cfcf6-4a76-4d84-87db-8c8b47243b45\\\", \\\"msgtype\\\": \\\"PATCH-DOC\\\"}\"],[\"metadata\",\"{\\\"use_buffers\\\": false}\"],[\"content\",\"{\\\"events\\\":[{\\\"kind\\\":\\\"ModelChanged\\\",\\\"model\\\":{\\\"id\\\":\\\"d5501836-ff74-4073-9d06-d263d09201f7\\\"},\\\"attr\\\":\\\"text\\\",\\\"new\\\":\\\"Time step: <b>34</b>\\\"}]}\"]]}],[16,{\"type\":\"map\",\"entries\":[[\"header\",\"{\\\"msgid\\\": \\\"9e2bed4c-f75f-4e22-895f-815db50ed1cb\\\", \\\"msgtype\\\": \\\"PATCH-DOC\\\"}\"],[\"metadata\",\"{\\\"use_buffers\\\": false}\"],[\"content\",\"{\\\"events\\\":[{\\\"kind\\\":\\\"ModelChanged\\\",\\\"model\\\":{\\\"id\\\":\\\"d5501836-ff74-4073-9d06-d263d09201f7\\\"},\\\"attr\\\":\\\"text\\\",\\\"new\\\":\\\"Time step: <b>32</b>\\\"}]}\"]]}],[15,{\"type\":\"map\",\"entries\":[[\"header\",\"{\\\"msgid\\\": \\\"ba32e171-b2f1-4a83-ba6d-fc24b3ab1abb\\\", \\\"msgtype\\\": \\\"PATCH-DOC\\\"}\"],[\"metadata\",\"{\\\"use_buffers\\\": false}\"],[\"content\",\"{\\\"events\\\":[{\\\"kind\\\":\\\"ModelChanged\\\",\\\"model\\\":{\\\"id\\\":\\\"d5501836-ff74-4073-9d06-d263d09201f7\\\"},\\\"attr\\\":\\\"text\\\",\\\"new\\\":\\\"Time step: <b>30</b>\\\"}]}\"]]}],[14,{\"type\":\"map\",\"entries\":[[\"header\",\"{\\\"msgid\\\": \\\"301d202e-f370-4934-a564-b5607402a0ad\\\", \\\"msgtype\\\": \\\"PATCH-DOC\\\"}\"],[\"metadata\",\"{\\\"use_buffers\\\": false}\"],[\"content\",\"{\\\"events\\\":[{\\\"kind\\\":\\\"ModelChanged\\\",\\\"model\\\":{\\\"id\\\":\\\"d5501836-ff74-4073-9d06-d263d09201f7\\\"},\\\"attr\\\":\\\"text\\\",\\\"new\\\":\\\"Time step: <b>28</b>\\\"}]}\"]]}],[13,{\"type\":\"map\",\"entries\":[[\"header\",\"{\\\"msgid\\\": \\\"16181a70-3a80-4e3d-bc6d-a2e85a99df2d\\\", \\\"msgtype\\\": \\\"PATCH-DOC\\\"}\"],[\"metadata\",\"{\\\"use_buffers\\\": false}\"],[\"content\",\"{\\\"events\\\":[{\\\"kind\\\":\\\"ModelChanged\\\",\\\"model\\\":{\\\"id\\\":\\\"d5501836-ff74-4073-9d06-d263d09201f7\\\"},\\\"attr\\\":\\\"text\\\",\\\"new\\\":\\\"Time step: <b>26</b>\\\"}]}\"]]}],[12,{\"type\":\"map\",\"entries\":[[\"header\",\"{\\\"msgid\\\": \\\"4c9899d1-be09-41ff-a4eb-c1ecb883af1a\\\", \\\"msgtype\\\": \\\"PATCH-DOC\\\"}\"],[\"metadata\",\"{\\\"use_buffers\\\": false}\"],[\"content\",\"{\\\"events\\\":[{\\\"kind\\\":\\\"ModelChanged\\\",\\\"model\\\":{\\\"id\\\":\\\"d5501836-ff74-4073-9d06-d263d09201f7\\\"},\\\"attr\\\":\\\"text\\\",\\\"new\\\":\\\"Time step: <b>24</b>\\\"}]}\"]]}],[11,{\"type\":\"map\",\"entries\":[[\"header\",\"{\\\"msgid\\\": \\\"45783f2f-126d-4929-980d-ab8dfdf07816\\\", \\\"msgtype\\\": \\\"PATCH-DOC\\\"}\"],[\"metadata\",\"{\\\"use_buffers\\\": false}\"],[\"content\",\"{\\\"events\\\":[{\\\"kind\\\":\\\"ModelChanged\\\",\\\"model\\\":{\\\"id\\\":\\\"d5501836-ff74-4073-9d06-d263d09201f7\\\"},\\\"attr\\\":\\\"text\\\",\\\"new\\\":\\\"Time step: <b>22</b>\\\"}]}\"]]}],[10,{\"type\":\"map\",\"entries\":[[\"header\",\"{\\\"msgid\\\": \\\"2e496168-e777-4fac-a22e-a79cc42ae953\\\", \\\"msgtype\\\": \\\"PATCH-DOC\\\"}\"],[\"metadata\",\"{\\\"use_buffers\\\": false}\"],[\"content\",\"{\\\"events\\\":[{\\\"kind\\\":\\\"ModelChanged\\\",\\\"model\\\":{\\\"id\\\":\\\"d5501836-ff74-4073-9d06-d263d09201f7\\\"},\\\"attr\\\":\\\"text\\\",\\\"new\\\":\\\"Time step: <b>20</b>\\\"}]}\"]]}],[9,{\"type\":\"map\",\"entries\":[[\"header\",\"{\\\"msgid\\\": \\\"2c71721c-d97c-4f9b-a3b6-8a9017c4a99c\\\", \\\"msgtype\\\": \\\"PATCH-DOC\\\"}\"],[\"metadata\",\"{\\\"use_buffers\\\": false}\"],[\"content\",\"{\\\"events\\\":[{\\\"kind\\\":\\\"ModelChanged\\\",\\\"model\\\":{\\\"id\\\":\\\"d5501836-ff74-4073-9d06-d263d09201f7\\\"},\\\"attr\\\":\\\"text\\\",\\\"new\\\":\\\"Time step: <b>18</b>\\\"}]}\"]]}],[8,{\"type\":\"map\",\"entries\":[[\"header\",\"{\\\"msgid\\\": \\\"77461942-7554-41ad-b45d-796553dd7951\\\", \\\"msgtype\\\": \\\"PATCH-DOC\\\"}\"],[\"metadata\",\"{\\\"use_buffers\\\": false}\"],[\"content\",\"{\\\"events\\\":[{\\\"kind\\\":\\\"ModelChanged\\\",\\\"model\\\":{\\\"id\\\":\\\"d5501836-ff74-4073-9d06-d263d09201f7\\\"},\\\"attr\\\":\\\"text\\\",\\\"new\\\":\\\"Time step: <b>16</b>\\\"}]}\"]]}],[7,{\"type\":\"map\",\"entries\":[[\"header\",\"{\\\"msgid\\\": \\\"5e3b0378-2b10-48b6-8ade-8020770e5231\\\", \\\"msgtype\\\": \\\"PATCH-DOC\\\"}\"],[\"metadata\",\"{\\\"use_buffers\\\": false}\"],[\"content\",\"{\\\"events\\\":[{\\\"kind\\\":\\\"ModelChanged\\\",\\\"model\\\":{\\\"id\\\":\\\"d5501836-ff74-4073-9d06-d263d09201f7\\\"},\\\"attr\\\":\\\"text\\\",\\\"new\\\":\\\"Time step: <b>14</b>\\\"}]}\"]]}],[6,{\"type\":\"map\",\"entries\":[[\"header\",\"{\\\"msgid\\\": \\\"ac47455d-259e-46cc-b113-2a22f4772b10\\\", \\\"msgtype\\\": \\\"PATCH-DOC\\\"}\"],[\"metadata\",\"{\\\"use_buffers\\\": false}\"],[\"content\",\"{\\\"events\\\":[{\\\"kind\\\":\\\"ModelChanged\\\",\\\"model\\\":{\\\"id\\\":\\\"d5501836-ff74-4073-9d06-d263d09201f7\\\"},\\\"attr\\\":\\\"text\\\",\\\"new\\\":\\\"Time step: <b>12</b>\\\"},{\\\"kind\\\":\\\"ModelChanged\\\",\\\"model\\\":{\\\"id\\\":\\\"20713623-1dd9-4062-bb47-f6b7ce5f19c1\\\"},\\\"attr\\\":\\\"text\\\",\\\"new\\\":\\\"&lt;p&gt;STEADY STATE\\\\n[0.26190475 0.19047621 0.54761904]@T == [0.26190475 0.19047621 0.54761904]&lt;/p&gt;\\\\n\\\"}]}\"]]}],[5,{\"type\":\"map\",\"entries\":[[\"header\",\"{\\\"msgid\\\": \\\"fbac9c38-f88d-4a3c-9cfa-f85a7fb92386\\\", \\\"msgtype\\\": \\\"PATCH-DOC\\\"}\"],[\"metadata\",\"{\\\"use_buffers\\\": false}\"],[\"content\",\"{\\\"events\\\":[{\\\"kind\\\":\\\"ModelChanged\\\",\\\"model\\\":{\\\"id\\\":\\\"d5501836-ff74-4073-9d06-d263d09201f7\\\"},\\\"attr\\\":\\\"text\\\",\\\"new\\\":\\\"Time step: <b>10</b>\\\"},{\\\"kind\\\":\\\"ModelChanged\\\",\\\"model\\\":{\\\"id\\\":\\\"20713623-1dd9-4062-bb47-f6b7ce5f19c1\\\"},\\\"attr\\\":\\\"text\\\",\\\"new\\\":\\\"&lt;p&gt;STEADY STATE\\\\n[0.26190462 0.19047604 0.54761934]@T == [0.26190462 0.19047604 0.54761934]&lt;/p&gt;\\\\n\\\"}]}\"]]}],[4,{\"type\":\"map\",\"entries\":[[\"header\",\"{\\\"msgid\\\": \\\"80707c51-5e6a-4a68-9adb-bc3e9c5d5133\\\", \\\"msgtype\\\": \\\"PATCH-DOC\\\"}\"],[\"metadata\",\"{\\\"use_buffers\\\": false}\"],[\"content\",\"{\\\"events\\\":[{\\\"kind\\\":\\\"ModelChanged\\\",\\\"model\\\":{\\\"id\\\":\\\"d5501836-ff74-4073-9d06-d263d09201f7\\\"},\\\"attr\\\":\\\"text\\\",\\\"new\\\":\\\"Time step: <b>8</b>\\\"},{\\\"kind\\\":\\\"ModelChanged\\\",\\\"model\\\":{\\\"id\\\":\\\"20713623-1dd9-4062-bb47-f6b7ce5f19c1\\\"},\\\"attr\\\":\\\"text\\\",\\\"new\\\":\\\"&lt;p&gt;STEADY STATE\\\\n[0.26190948 0.19047394 0.54761658]@T == [0.26190948 0.19047394 0.54761658]&lt;/p&gt;\\\\n\\\"}]}\"]]}],[3,{\"type\":\"map\",\"entries\":[[\"header\",\"{\\\"msgid\\\": \\\"306b831f-003e-4f42-97ea-3d9598663578\\\", \\\"msgtype\\\": \\\"PATCH-DOC\\\"}\"],[\"metadata\",\"{\\\"use_buffers\\\": false}\"],[\"content\",\"{\\\"events\\\":[{\\\"kind\\\":\\\"ModelChanged\\\",\\\"model\\\":{\\\"id\\\":\\\"d5501836-ff74-4073-9d06-d263d09201f7\\\"},\\\"attr\\\":\\\"text\\\",\\\"new\\\":\\\"Time step: <b>6</b>\\\"},{\\\"kind\\\":\\\"ModelChanged\\\",\\\"model\\\":{\\\"id\\\":\\\"20713623-1dd9-4062-bb47-f6b7ce5f19c1\\\"},\\\"attr\\\":\\\"text\\\",\\\"new\\\":\\\"&lt;p&gt;STEADY STATE\\\\n[0.26186523 0.19055176 0.54758301]@T == [0.26186523 0.19055176 0.54758301]&lt;/p&gt;\\\\n\\\"}]}\"]]}],[2,{\"type\":\"map\",\"entries\":[[\"header\",\"{\\\"msgid\\\": \\\"9bff5a87-4868-4d6c-96ae-0864da9e003d\\\", \\\"msgtype\\\": \\\"PATCH-DOC\\\"}\"],[\"metadata\",\"{\\\"use_buffers\\\": false}\"],[\"content\",\"{\\\"events\\\":[{\\\"kind\\\":\\\"ModelChanged\\\",\\\"model\\\":{\\\"id\\\":\\\"d5501836-ff74-4073-9d06-d263d09201f7\\\"},\\\"attr\\\":\\\"text\\\",\\\"new\\\":\\\"Time step: <b>4</b>\\\"},{\\\"kind\\\":\\\"ModelChanged\\\",\\\"model\\\":{\\\"id\\\":\\\"20713623-1dd9-4062-bb47-f6b7ce5f19c1\\\"},\\\"attr\\\":\\\"text\\\",\\\"new\\\":\\\"&lt;p&gt;NO STEADDY STATE YET\\\\n[0.26132813 0.18984375 0.54882812] @T != [0.26132813 0.18984375 0.54882812]&lt;/p&gt;\\\\n\\\"}]}\"]]}],[1,{\"type\":\"map\",\"entries\":[[\"header\",\"{\\\"msgid\\\": \\\"b01c4365-bae3-43fd-96ae-c799025cd9f6\\\", \\\"msgtype\\\": \\\"PATCH-DOC\\\"}\"],[\"metadata\",\"{\\\"use_buffers\\\": false}\"],[\"content\",\"{\\\"events\\\":[{\\\"kind\\\":\\\"ModelChanged\\\",\\\"model\\\":{\\\"id\\\":\\\"d5501836-ff74-4073-9d06-d263d09201f7\\\"},\\\"attr\\\":\\\"text\\\",\\\"new\\\":\\\"Time step: <b>2</b>\\\"},{\\\"kind\\\":\\\"ModelChanged\\\",\\\"model\\\":{\\\"id\\\":\\\"20713623-1dd9-4062-bb47-f6b7ce5f19c1\\\"},\\\"attr\\\":\\\"text\\\",\\\"new\\\":\\\"&lt;p&gt;NO STEADDY STATE YET\\\\n[0.28125 0.18125 0.5375 ] @T != [0.28125 0.18125 0.5375 ]&lt;/p&gt;\\\\n\\\"}]}\"]]}],[0,{\"type\":\"map\",\"entries\":[[\"header\",\"{\\\"msgid\\\": \\\"b3e0a5e4-23b0-4d45-8615-18b8c4c8a549\\\", \\\"msgtype\\\": \\\"PATCH-DOC\\\"}\"],[\"metadata\",\"{\\\"use_buffers\\\": false}\"],[\"content\",\"{\\\"events\\\":[{\\\"kind\\\":\\\"ModelChanged\\\",\\\"model\\\":{\\\"id\\\":\\\"d5501836-ff74-4073-9d06-d263d09201f7\\\"},\\\"attr\\\":\\\"text\\\",\\\"new\\\":\\\"Time step: <b>0</b>\\\"},{\\\"kind\\\":\\\"ModelChanged\\\",\\\"model\\\":{\\\"id\\\":\\\"20713623-1dd9-4062-bb47-f6b7ce5f19c1\\\"},\\\"attr\\\":\\\"text\\\",\\\"new\\\":\\\"&lt;p&gt;NO STEADDY STATE YET\\\\n[0.1 0.5 0.4] @T != [0.1 0.5 0.4]&lt;/p&gt;\\\\n\\\"}]}\"]]}]]},\"widgets\":{\"type\":\"map\",\"entries\":[[\"a51ad538-94fd-4e8a-a9fc-735fc32a8f36\",0]]},\"values\":[0]}}],\"defs\":[{\"type\":\"model\",\"name\":\"ReactiveHTML1\"},{\"type\":\"model\",\"name\":\"FlexBox1\",\"properties\":[{\"name\":\"align_content\",\"kind\":\"Any\",\"default\":\"flex-start\"},{\"name\":\"align_items\",\"kind\":\"Any\",\"default\":\"flex-start\"},{\"name\":\"flex_direction\",\"kind\":\"Any\",\"default\":\"row\"},{\"name\":\"flex_wrap\",\"kind\":\"Any\",\"default\":\"wrap\"},{\"name\":\"gap\",\"kind\":\"Any\",\"default\":\"\"},{\"name\":\"justify_content\",\"kind\":\"Any\",\"default\":\"flex-start\"}]},{\"type\":\"model\",\"name\":\"FloatPanel1\",\"properties\":[{\"name\":\"config\",\"kind\":\"Any\",\"default\":{\"type\":\"map\"}},{\"name\":\"contained\",\"kind\":\"Any\",\"default\":true},{\"name\":\"position\",\"kind\":\"Any\",\"default\":\"right-top\"},{\"name\":\"offsetx\",\"kind\":\"Any\",\"default\":null},{\"name\":\"offsety\",\"kind\":\"Any\",\"default\":null},{\"name\":\"theme\",\"kind\":\"Any\",\"default\":\"primary\"},{\"name\":\"status\",\"kind\":\"Any\",\"default\":\"normalized\"}]},{\"type\":\"model\",\"name\":\"GridStack1\",\"properties\":[{\"name\":\"mode\",\"kind\":\"Any\",\"default\":\"warn\"},{\"name\":\"ncols\",\"kind\":\"Any\",\"default\":null},{\"name\":\"nrows\",\"kind\":\"Any\",\"default\":null},{\"name\":\"allow_resize\",\"kind\":\"Any\",\"default\":true},{\"name\":\"allow_drag\",\"kind\":\"Any\",\"default\":true},{\"name\":\"state\",\"kind\":\"Any\",\"default\":[]}]},{\"type\":\"model\",\"name\":\"drag1\",\"properties\":[{\"name\":\"slider_width\",\"kind\":\"Any\",\"default\":5},{\"name\":\"slider_color\",\"kind\":\"Any\",\"default\":\"black\"},{\"name\":\"value\",\"kind\":\"Any\",\"default\":50}]},{\"type\":\"model\",\"name\":\"click1\",\"properties\":[{\"name\":\"terminal_output\",\"kind\":\"Any\",\"default\":\"\"},{\"name\":\"debug_name\",\"kind\":\"Any\",\"default\":\"\"},{\"name\":\"clears\",\"kind\":\"Any\",\"default\":0}]},{\"type\":\"model\",\"name\":\"FastWrapper1\",\"properties\":[{\"name\":\"object\",\"kind\":\"Any\",\"default\":null},{\"name\":\"style\",\"kind\":\"Any\",\"default\":null}]},{\"type\":\"model\",\"name\":\"NotificationAreaBase1\",\"properties\":[{\"name\":\"js_events\",\"kind\":\"Any\",\"default\":{\"type\":\"map\"}},{\"name\":\"position\",\"kind\":\"Any\",\"default\":\"bottom-right\"},{\"name\":\"_clear\",\"kind\":\"Any\",\"default\":0}]},{\"type\":\"model\",\"name\":\"NotificationArea1\",\"properties\":[{\"name\":\"js_events\",\"kind\":\"Any\",\"default\":{\"type\":\"map\"}},{\"name\":\"notifications\",\"kind\":\"Any\",\"default\":[]},{\"name\":\"position\",\"kind\":\"Any\",\"default\":\"bottom-right\"},{\"name\":\"_clear\",\"kind\":\"Any\",\"default\":0},{\"name\":\"types\",\"kind\":\"Any\",\"default\":[{\"type\":\"map\",\"entries\":[[\"type\",\"warning\"],[\"background\",\"#ffc107\"],[\"icon\",{\"type\":\"map\",\"entries\":[[\"className\",\"fas fa-exclamation-triangle\"],[\"tagName\",\"i\"],[\"color\",\"white\"]]}]]},{\"type\":\"map\",\"entries\":[[\"type\",\"info\"],[\"background\",\"#007bff\"],[\"icon\",{\"type\":\"map\",\"entries\":[[\"className\",\"fas fa-info-circle\"],[\"tagName\",\"i\"],[\"color\",\"white\"]]}]]}]}]},{\"type\":\"model\",\"name\":\"Notification\",\"properties\":[{\"name\":\"background\",\"kind\":\"Any\",\"default\":null},{\"name\":\"duration\",\"kind\":\"Any\",\"default\":3000},{\"name\":\"icon\",\"kind\":\"Any\",\"default\":null},{\"name\":\"message\",\"kind\":\"Any\",\"default\":\"\"},{\"name\":\"notification_type\",\"kind\":\"Any\",\"default\":null},{\"name\":\"_rendered\",\"kind\":\"Any\",\"default\":false},{\"name\":\"_destroyed\",\"kind\":\"Any\",\"default\":false}]},{\"type\":\"model\",\"name\":\"TemplateActions1\",\"properties\":[{\"name\":\"open_modal\",\"kind\":\"Any\",\"default\":0},{\"name\":\"close_modal\",\"kind\":\"Any\",\"default\":0}]},{\"type\":\"model\",\"name\":\"BootstrapTemplateActions1\",\"properties\":[{\"name\":\"open_modal\",\"kind\":\"Any\",\"default\":0},{\"name\":\"close_modal\",\"kind\":\"Any\",\"default\":0}]},{\"type\":\"model\",\"name\":\"TemplateEditor1\",\"properties\":[{\"name\":\"layout\",\"kind\":\"Any\",\"default\":[]}]},{\"type\":\"model\",\"name\":\"MaterialTemplateActions1\",\"properties\":[{\"name\":\"open_modal\",\"kind\":\"Any\",\"default\":0},{\"name\":\"close_modal\",\"kind\":\"Any\",\"default\":0}]},{\"type\":\"model\",\"name\":\"ReactiveESM1\",\"properties\":[{\"name\":\"esm_constants\",\"kind\":\"Any\",\"default\":{\"type\":\"map\"}}]},{\"type\":\"model\",\"name\":\"JSComponent1\",\"properties\":[{\"name\":\"esm_constants\",\"kind\":\"Any\",\"default\":{\"type\":\"map\"}}]},{\"type\":\"model\",\"name\":\"ReactComponent1\",\"properties\":[{\"name\":\"esm_constants\",\"kind\":\"Any\",\"default\":{\"type\":\"map\"}}]},{\"type\":\"model\",\"name\":\"AnyWidgetComponent1\",\"properties\":[{\"name\":\"esm_constants\",\"kind\":\"Any\",\"default\":{\"type\":\"map\"}}]},{\"type\":\"model\",\"name\":\"request_value1\",\"properties\":[{\"name\":\"fill\",\"kind\":\"Any\",\"default\":\"none\"},{\"name\":\"_synced\",\"kind\":\"Any\",\"default\":null},{\"name\":\"_request_sync\",\"kind\":\"Any\",\"default\":0}]}]}};\n",
       "  var render_items = [{\"docid\":\"32dda6c6-d465-4c92-96a1-ada3e384c8e0\",\"roots\":{\"81bf78d9-a12c-4ec7-9086-ba7fc9641a70\":\"a98995c9-64eb-4ad5-9b0f-53b5df14a171\"},\"root_ids\":[\"81bf78d9-a12c-4ec7-9086-ba7fc9641a70\"]}];\n",
       "  var docs = Object.values(docs_json)\n",
       "  if (!docs) {\n",
       "    return\n",
       "  }\n",
       "  const py_version = docs[0].version.replace('rc', '-rc.').replace('.dev', '-dev.')\n",
       "  async function embed_document(root) {\n",
       "    var Bokeh = get_bokeh(root)\n",
       "    await Bokeh.embed.embed_items_notebook(docs_json, render_items);\n",
       "    for (const render_item of render_items) {\n",
       "      for (const root_id of render_item.root_ids) {\n",
       "\tconst id_el = document.getElementById(root_id)\n",
       "\tif (id_el.children.length && id_el.children[0].hasAttribute('data-root-id')) {\n",
       "\t  const root_el = id_el.children[0]\n",
       "\t  root_el.id = root_el.id + '-rendered'\n",
       "\t  for (const child of root_el.children) {\n",
       "            // Ensure JupyterLab does not capture keyboard shortcuts\n",
       "            // see: https://jupyterlab.readthedocs.io/en/4.1.x/extension/notebook.html#keyboard-interaction-model\n",
       "\t    child.setAttribute('data-lm-suppress-shortcuts', 'true')\n",
       "\t  }\n",
       "\t}\n",
       "      }\n",
       "    }\n",
       "  }\n",
       "  function get_bokeh(root) {\n",
       "    if (root.Bokeh === undefined) {\n",
       "      return null\n",
       "    } else if (root.Bokeh.version !== py_version) {\n",
       "      if (root.Bokeh.versions === undefined || !root.Bokeh.versions.has(py_version)) {\n",
       "\treturn null\n",
       "      }\n",
       "      return root.Bokeh.versions.get(py_version);\n",
       "    } else if (root.Bokeh.version === py_version) {\n",
       "      return root.Bokeh\n",
       "    }\n",
       "    return null\n",
       "  }\n",
       "  function is_loaded(root) {\n",
       "    var Bokeh = get_bokeh(root)\n",
       "    return (Bokeh != null && Bokeh.Panel !== undefined)\n",
       "  }\n",
       "  if (is_loaded(root)) {\n",
       "    embed_document(root);\n",
       "  } else {\n",
       "    var attempts = 0;\n",
       "    var timer = setInterval(function(root) {\n",
       "      if (is_loaded(root)) {\n",
       "        clearInterval(timer);\n",
       "        embed_document(root);\n",
       "      } else if (document.readyState == \"complete\") {\n",
       "        attempts++;\n",
       "        if (attempts > 200) {\n",
       "          clearInterval(timer);\n",
       "\t  var Bokeh = get_bokeh(root)\n",
       "\t  if (Bokeh == null || Bokeh.Panel == null) {\n",
       "            console.warn(\"Panel: ERROR: Unable to run Panel code because Bokeh or Panel library is missing\");\n",
       "\t  } else {\n",
       "\t    console.warn(\"Panel: WARNING: Attempting to render but not all required libraries could be resolved.\")\n",
       "\t    embed_document(root)\n",
       "\t  }\n",
       "        }\n",
       "      }\n",
       "    }, 25, root)\n",
       "  }\n",
       "})(window);</script>"
      ],
      "text/plain": [
       "<panel.io.notebook.Mimebundle at 0x132f9b5c0>"
      ]
     },
     "execution_count": 11,
     "metadata": {
      "application/vnd.holoviews_exec.v0+json": {
       "id": "81bf78d9-a12c-4ec7-9086-ba7fc9641a70"
      }
     },
     "output_type": "execute_result"
    }
   ],
   "source": [
    "def f(time_step):\n",
    "    pi_time_step = pi_0 @ np.linalg.matrix_power(T, time_step)\n",
    "    if not np.allclose(pi_time_step @ T, pi_time_step, atol=1e-04):\n",
    "        s = f\"NO STEADDY STATE YET\\n {pi_time_step} @T != {pi_time_step}\" \n",
    "    else:\n",
    "        s = f\"STEADY STATE\\n {pi_time_step}@T == {pi_time_step}\" \n",
    "    return s\n",
    "\n",
    "interact(f, time_step=widgets.IntSlider(name='Time step', start=0, end=40, step=2, value=0)).embed(max_opts=20)"
   ]
  },
  {
   "cell_type": "markdown",
   "metadata": {},
   "source": [
    "- Seems like after the $10^{th}$ time step, the state probabilities stay the same (within a tolerance). \n",
    "- So we have reached a steady state at $\\pi = \\begin{bmatrix} 0.26190462 & 0.19047604 & 0.54761934 \\end{bmatrix}$ such that\n",
    "\n",
    "$$\\pi \\begin{bmatrix}\n",
    "1/8 & 3/8 & 4/8\\\\\n",
    "1/8 & 1/8 & 6/8\\\\\n",
    "3/8 & 1/8 & 4/8\n",
    "\\end{bmatrix} = \\pi\n",
    "$$\n",
    "\n",
    "- So the distribution $\\pi = \\begin{bmatrix} 0.26190462 & 0.19047604 & 0.54761934 \\end{bmatrix}$ is a stationary distribution in this case because we have $\\pi T = \\pi$. \n",
    "- In the long run, MDS webpage is going to be visited more often followed by Prajeet's webpage. Varada webpage is not going to be visited much 😀. "
   ]
  },
  {
   "cell_type": "markdown",
   "metadata": {},
   "source": [
    "This is a high-level idea of Google's famous PageRank algorithm. The question is how do we create the transition matrix? We'll talk about this a bit in the next lecture. "
   ]
  },
  {
   "cell_type": "markdown",
   "metadata": {
    "slideshow": {
     "slide_type": "slide"
    }
   },
   "source": [
    "### 4.2 Conditions for stationary distribution\n",
    "\n",
    "- Stationary distribution looks like a desirable property.\n",
    "  \n",
    "- Does a stationary distribution $\\pi$ exist and is it unique?\n",
    "\n",
    "- Under mild assumptions, a Markov chain has a stationary distribution. "
   ]
  },
  {
   "cell_type": "markdown",
   "metadata": {
    "slideshow": {
     "slide_type": "slide"
    }
   },
   "source": [
    "- Sufficient condition for existence/uniqueness is positive transitions. \n",
    "    * $P(s_t \\mid s_{t-1}) > 0$\n",
    "      \n",
    "- But very often at least some of the transition probabilities are non-positive (e.g., zero)."
   ]
  },
  {
   "cell_type": "markdown",
   "metadata": {
    "slideshow": {
     "slide_type": "slide"
    },
    "tags": []
   },
   "source": [
    "- Weaker sufficient conditions for existence/uniqueness\n",
    "    * _Irreducibility_ ✅\n",
    "        - A finite Markov chain is **irreducible** if it is possible to get to any state from any state, potentially over multiple steps. This means that the state space is fully connected. \n",
    "        - In other words, a finite Markov chain is irreducible if and only if its corresponding graph is strongly connected.\n",
    "    * _Aperiodicity_ ✅    \n",
    "        - A Markov chain is **aperiodic** if there's no fixed cycle over which the transitions occur. Loosely speaking, this means the chain doesn't fall into a repetitive loop over a specific number of steps.      "
   ]
  },
  {
   "cell_type": "markdown",
   "metadata": {
    "slideshow": {
     "slide_type": "slide"
    }
   },
   "source": [
    "### 4.3 Irreducibility and aperiodicity\n",
    "\n",
    "Consider the Markov chains shown below. Which chains are irreducible? Which ones are aperiodic?\n",
    "* A chain is **irreducible** if every state can be reached from every other state (possibly over multiple steps).\n",
    "* A chain is **aperiodic** if the system doesn't fall into a fixed rhythm. Formally, the greatest common divisor (GCD) of return times to any state is 1.\n",
    "\n",
    "![](../img/Markov-chains.png)    \n",
    "\n",
    "<!-- <img src=\"../img/Markov-chains.png\" height=\"500\" width=\"500\">  -->"
   ]
  },
  {
   "cell_type": "markdown",
   "metadata": {},
   "source": [
    "| **Chain** | **Irreducible** | **Aperiodic** |\n",
    "|-----------|------------------|----------------|\n",
    "| A         | ✅               | ✅              |\n",
    "| B         | ✅               | ❌              |\n",
    "| C         | ❌               | ✅              |\n",
    "| D         | ❌               | ❌              |"
   ]
  },
  {
   "cell_type": "markdown",
   "metadata": {},
   "source": [
    "➡️ Irreducible and aperiodic Markov chains guarantee\n",
    "- The existence of a **unique stationary distribution**\n",
    "- That long-run behaviour **doesn't depend on initial state**"
   ]
  },
  {
   "cell_type": "markdown",
   "metadata": {},
   "source": [
    "In general:  \n",
    "\n",
    "\n",
    "| **Chain type** | **Irreducible** | **Aperiodic** |\n",
    "|-----------|------------------|----------------|\n",
    "| Self-loops everywhere, fully conntected chain | ✅               | ✅              |\n",
    "| Cycles (A $\\rightarrow$ B $\\rightarrow$ C $\\rightarrow$ A)         | ✅               | ❌              |\n",
    "| Absorbing state only         | ❌               | ✅              |\n",
    "| One-way transitions          | ❌               | ❌              |"
   ]
  },
  {
   "cell_type": "markdown",
   "metadata": {},
   "source": [
    "<br><br>"
   ]
  },
  {
   "cell_type": "markdown",
   "metadata": {},
   "source": [
    "**(Optional) Periodicity formal definition**\n",
    "\n",
    "A state in a Markov chain is periodic if the chain can return to the state only at multiples of some integer larger than 1. Thus, starting in state $i$, the chain can return to $i$ only at multiples of the period $k$, and $k$ is the largest such integer. State $i$ is aperiodic if $k = 1$ and periodic if $k > 1$.\n",
    "\n",
    "The period of a state is the greatest common divisor (GCD) of the number of steps in which you can return to it. \n",
    "- If the GCD > 1, the state is periodic\n",
    "- If the GCD = 1, the state is aperiodic\n",
    "- ✅ Self-loops (e.g., A $\\rightarrow$ A) help break periodicity\n",
    "- ❌ Fixed cycles (e.g., A $\\rightarrow$ B $\\rightarrow$ C $\\rightarrow$ A $\\rightarrow$ B $\\rightarrow$ C $\\rightarrow$ A) introduce periodicity"
   ]
  },
  {
   "cell_type": "markdown",
   "metadata": {
    "slideshow": {
     "slide_type": "skip"
    }
   },
   "source": [
    "**(Optional) Some ways to examine irreducibility**\n",
    "\n",
    "- Power method: Compute higher powers of the transition matrix $T^k$. If the chain is irreducible, for some $k$, all the elements of $T^k$ should be positive. This means there's a positive probability of going from any state to any other state in k steps.\n",
    "  \n",
    "- Check whether the graph is strongly connected or not.  \n",
    "    - Check out [Kosaraju's algorithm](https://en.wikipedia.org/wiki/Kosaraju%27s_algorithm). "
   ]
  },
  {
   "cell_type": "markdown",
   "metadata": {},
   "source": [
    "**(Optional) Some ways to examine aperiodicity**\n",
    "\n",
    "Check diagonal of powers:\n",
    "- Take higher powers of the transition matrix $T^k$.\n",
    "  \n",
    "- If you find a power where all diagonal elements (which correspond to returning to the same state) are positive, it indicates that there's no fixed cycle length for returning to any state, suggesting that the chain is aperiodic."
   ]
  },
  {
   "cell_type": "markdown",
   "metadata": {
    "slideshow": {
     "slide_type": "slide"
    }
   },
   "source": [
    "### 4.4 How to estimate the stationary distribution?\n",
    "\n",
    "- Power iteration method\n",
    "    - Multiply $\\pi_0$ by powers of the transition matrix $T$ until the product looks stable.\n",
    "    \n",
    "- Taking the eigenvalue decomposition of the transpose of the transition matrix $\\pi T=\\pi$\n",
    "  \n",
    "- Through Monte Carlo simulation.\n",
    "  \n",
    "- In some cases (not always) simply counting the occurrences (lab 1). \n",
    "\n",
    "There are other ways too! "
   ]
  },
  {
   "cell_type": "markdown",
   "metadata": {},
   "source": [
    "**(Optional) Eigendecomposition to get stationary distribution**\n",
    "\n",
    "- Note that $\\pi T = \\pi$ looks very similar to the eigenvalue equation $Av = \\lambda v$ for eigenvalues and eigenvectors, with $\\lambda = 1$.\n",
    "- If you transpose the matrix \n",
    "\n",
    "$$(\\pi T)^T = \\pi^T \\implies T^T \\pi^T = \\pi^T$$ \n",
    "\n",
    "In other words, if we transpose the transition matrix and take its eigendecomposition, the eigenvector with eigenvalue 1 is going to be the stationary distribution.\n",
    "\n",
    "If there are multiple eigenvectors with eigenvalue 1.0, then the stationary distribution is not unique. "
   ]
  },
  {
   "cell_type": "markdown",
   "metadata": {
    "slideshow": {
     "slide_type": "slide"
    }
   },
   "source": [
    "## ❓❓ Questions for you"
   ]
  },
  {
   "cell_type": "markdown",
   "metadata": {},
   "source": [
    "### Exercise 1.2: Select all of the following statements which are **True**\n",
    "\n",
    "- (A) For a stationary distribution, the initial state probability distribution $\\pi_0$ must satisfy  $\\pi_0T \\approx \\pi_0$.\n",
    "  \n",
    "- (B) If a state has only one possible transition, the transition probability for that transition would be 1.0.\n",
    "- (C) If each row in the transition matrix of a Markov chain has only one possible transition, the chain would be deterministic.\n",
    "- (D) If we have a self loop transition with probability 1.0 for state A in a Markov chain and we happen to be at state A, the chain is going to get stuck in that state forever. "
   ]
  },
  {
   "cell_type": "markdown",
   "metadata": {},
   "source": [
    "```{admonition} Exercise 1.2: V's Solutions! \n",
    ":class: tip, dropdown\n",
    "- B, C, D\n",
    "```"
   ]
  },
  {
   "cell_type": "markdown",
   "metadata": {},
   "source": [
    "<br><br><br><br>"
   ]
  },
  {
   "cell_type": "markdown",
   "metadata": {
    "slideshow": {
     "slide_type": "slide"
    },
    "tags": []
   },
   "source": [
    "## Final thoughts, summary, reflection\n",
    "\n",
    "We define a discrete Markov chain as \n",
    "* a set of finite states \n",
    "* an initial probability distribution over states\n",
    "* a transition probability matrix"
   ]
  },
  {
   "cell_type": "markdown",
   "metadata": {
    "slideshow": {
     "slide_type": "slide"
    }
   },
   "source": [
    "We can do a number of things with Markov chains\n",
    "- Calculate the probability of a sequence.  \n",
    "- Compute the probability of being in a particular state at time $t$. \n",
    "- Calculate stationary distribution which is a probability distribution that remains unchanged in the Markov chain as time progresses. \n",
    "- Generate a sequence of states. "
   ]
  },
  {
   "cell_type": "markdown",
   "metadata": {
    "slideshow": {
     "slide_type": "slide"
    }
   },
   "source": [
    "- Learning Markov chains is just counting (next lecture). \n",
    "- Example applications of Markov chains in NLP (next lecture)\n",
    "    - Language modeling\n",
    "    - PageRank"
   ]
  },
  {
   "cell_type": "markdown",
   "metadata": {
    "slideshow": {
     "slide_type": "slide"
    }
   },
   "source": [
    "<br><br><br><br>"
   ]
  },
  {
   "cell_type": "markdown",
   "metadata": {
    "slideshow": {
     "slide_type": "slide"
    }
   },
   "source": [
    "### Resources and fun things with Markov chains \n",
    "\n",
    "- [Create and visualize Markov chains](https://www.stat.auckland.ac.nz/~wild/MarkovChains/)\n",
    "- [Markov chains \"explained visually\"](http://setosa.io/ev/markov-chains)\n",
    "- [Snakes and ladders](http://datagenetics.com/blog/november12011/index.html)\n",
    "- [Candyland](http://www.datagenetics.com/blog/december12011/index.html)\n",
    "- [Yahtzee](http://www.datagenetics.com/blog/january42012)\n",
    "- [Chess pieces returning home and K-pop vs. ska](https://www.youtube.com/watch?v=63HHmjlh794)\n",
    "- [The Life and Work of A. A. Markov](http://www.meyn.ece.ufl.edu/archive/spm_files/Markov-Work-and-life.pdf)\n"
   ]
  }
 ],
 "metadata": {
  "celltoolbar": "Slideshow",
  "kernelspec": {
   "display_name": "Python [conda env:575]",
   "language": "python",
   "name": "conda-env-575-py"
  },
  "language_info": {
   "codemirror_mode": {
    "name": "ipython",
    "version": 3
   },
   "file_extension": ".py",
   "mimetype": "text/x-python",
   "name": "python",
   "nbconvert_exporter": "python",
   "pygments_lexer": "ipython3",
   "version": "3.12.0"
  }
 },
 "nbformat": 4,
 "nbformat_minor": 4
}
