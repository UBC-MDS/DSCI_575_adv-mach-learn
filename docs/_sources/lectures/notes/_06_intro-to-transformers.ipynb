{
 "cells": [
  {
   "cell_type": "markdown",
   "metadata": {},
   "source": [
    "![](../img/575_banner.png)"
   ]
  },
  {
   "cell_type": "markdown",
   "metadata": {
    "slideshow": {
     "slide_type": "slide"
    },
    "tags": []
   },
   "source": [
    "# Lecture 6: Introduction to self-attention and transformers\n",
    "\n",
    "UBC Master of Data Science program, 2024-25\n",
    "\n",
    "> [Attention is all you need!](https://arxiv.org/pdf/1706.03762.pdf)"
   ]
  },
  {
   "cell_type": "markdown",
   "metadata": {},
   "source": [
    "<br><br>"
   ]
  },
  {
   "cell_type": "markdown",
   "metadata": {},
   "source": [
    "## Imports and LO"
   ]
  },
  {
   "cell_type": "markdown",
   "metadata": {},
   "source": [
    "### Imports"
   ]
  },
  {
   "cell_type": "code",
   "execution_count": 1,
   "metadata": {},
   "outputs": [],
   "source": [
    "import IPython\n",
    "from IPython.display import HTML, display\n",
    "\n",
    "import matplotlib.pyplot as plt\n",
    "import numpy as np\n",
    "import pandas as pd\n",
    "import torch\n",
    "import torch.nn as nn\n",
    "import torch.optim as optim\n",
    "\n",
    "pd.set_option(\"display.max_colwidth\", 0)"
   ]
  },
  {
   "cell_type": "markdown",
   "metadata": {},
   "source": [
    "<br><br>"
   ]
  },
  {
   "cell_type": "markdown",
   "metadata": {
    "slideshow": {
     "slide_type": "skip"
    }
   },
   "source": [
    "### Learning outcomes\n",
    "\n",
    "From this lecture you will be able to \n",
    "\n",
    "- Broadly explain the problem of vanishing gradients. \n",
    "- Broadly explain the limitations of RNNs. \n",
    "- Explain the idea of self-attention. \n",
    "- Describe the three core operations in self-attention. \n",
    "- Explain the query, key, and value roles in self-attention. \n",
    "- Explain the role of linear projections for query, key, and value in self-attention. \n",
    "- Explain transformer blocks. \n",
    "- Explain the advantages of using transformers over LSTMs. \n",
    "- Broadly explain the idea of multihead attention. \n",
    "- Broadly explain the idea of positional embeddings. "
   ]
  },
  {
   "cell_type": "markdown",
   "metadata": {},
   "source": [
    "<br><br>"
   ]
  },
  {
   "cell_type": "markdown",
   "metadata": {},
   "source": [
    "### Attributions\n",
    "\n",
    "This material is heavily based on [Jurafsky and Martin, Chapter 10]((https://web.stanford.edu/~jurafsky/slp3/10.pdf))."
   ]
  },
  {
   "cell_type": "markdown",
   "metadata": {},
   "source": [
    "<br><br><br><br>"
   ]
  },
  {
   "cell_type": "markdown",
   "metadata": {
    "slideshow": {
     "slide_type": "slide"
    }
   },
   "source": [
    "## ❓❓ Questions for you\n",
    "\n",
    "- Suppose you are training a vanilla RNN with one hidden layer. \n",
    "    - input representation is of size 200\n",
    "    - output layer is of size 200\n",
    "    - the hidden size is 100"
   ]
  },
  {
   "cell_type": "markdown",
   "metadata": {
    "slideshow": {
     "slide_type": "slide"
    }
   },
   "source": [
    "### Exercise 6.1: Select all of the following statements which are **True** (iClicker)\n",
    "\n",
    "- (A) The shape of matrix $U$ between hidden layers in consecutive time steps is going to be $200 \\times 200$.\n",
    "  \n",
    "- (B) The output of the hidden layer is going to be a $100$ dimensional vector.\n",
    "\n",
    "- (C) In bidirectional RNNs, if we want to combine the outputs of two RNNs with element-wise addition, the hidden sizes of the two RNNs have to be the same.  \n",
    "- (D) Word2vec skipgram model is likely to suffer from the problem of vanishing gradients. \n",
    "- (E) In the forward pass, in each time step in RNNs, you calculate the output of the hidden layer by multiplying the input $x$ by the weight matrix $W$ or $W_{xh}$ and applying non-linearity. \n",
    "\n",
    "<br><br><br><br>"
   ]
  },
  {
   "cell_type": "markdown",
   "metadata": {},
   "source": [
    "```{admonition} Exercise 7.1: V's Solutions!\n",
    ":class: tip, dropdown\n",
    "- \n",
    "```"
   ]
  },
  {
   "cell_type": "markdown",
   "metadata": {},
   "source": [
    "<br><br><br><br>"
   ]
  },
  {
   "cell_type": "markdown",
   "metadata": {},
   "source": [
    "## 1. Motivation"
   ]
  },
  {
   "cell_type": "markdown",
   "metadata": {},
   "source": [
    "What kind of neural network models are at the core of all state-of-the-art Generative AI models (e.g., BERT, GPT3, GPT4, Gemini, DALL-E, Llama, Github Copilot)? "
   ]
  },
  {
   "cell_type": "markdown",
   "metadata": {},
   "source": [
    "![](../img/genai.png)\n",
    "\n",
    "<!-- <center>\n",
    "<img src=\"img/gpt3-transformer-blocks.gif\" height=\"500\" width=\"500\"> \n",
    "</center>    \n",
    " -->\n",
    "[Source](https://jalammar.github.io/how-gpt3-works-visualizations-animations/)\n",
    "<br><br>"
   ]
  },
  {
   "cell_type": "markdown",
   "metadata": {},
   "source": [
    "\n",
    "![](../img/GPT-4-tech-report-abstract.png)\n",
    "\n",
    "Source: [GPT-4 Technical Report](https://arxiv.org/pdf/2303.08774.pdf)"
   ]
  },
  {
   "cell_type": "markdown",
   "metadata": {},
   "source": [
    "\n",
    "![](../img/BERT-paper-abstract.png)\n",
    "\n",
    "Source: [BERT paper](https://aclanthology.org/N19-1423.pdf)"
   ]
  },
  {
   "cell_type": "markdown",
   "metadata": {},
   "source": [
    "<br><br>"
   ]
  },
  {
   "cell_type": "markdown",
   "metadata": {},
   "source": [
    "Recall the properties we want when we model sequences. \n",
    "\n",
    "- [ ] Order matters \n",
    "- [ ] Variable sequence lengths\n",
    "- [ ] Capture long distance dependencies\n",
    "\n",
    "\n",
    "What are some reasonable predictions for the missing words in the following sentences?\n",
    "\n",
    "> The **students** in the exam where the fire _alarm_ _is_ ringing __ really stressed. \n",
    "\n",
    "> The flies munching on the banana that is lying under the tree which is in full bloom __ really happy. \n",
    "\n",
    "<br><br>\n",
    "\n",
    "\n",
    "Markov models are able to represent time and handle variable sequence lengths. But they are unable to represent long-distance dependencies in text. \n",
    "\n",
    "Are RNNs able to capture long-distance dependencies in text? "
   ]
  },
  {
   "cell_type": "markdown",
   "metadata": {},
   "source": [
    "<br><br>"
   ]
  },
  {
   "cell_type": "markdown",
   "metadata": {},
   "source": [
    "### 1.2 Problems with RNNs \n",
    "\n",
    "Conceptually, RNNs are supposed to capture long-distance dependencies in text. But in practice, you'll hardly see people using vanilla RNNs because they are quite hard to train for tasks that require access to distant information. There are three main problems:\n",
    "\n",
    "- Hard to remember relevant information\n",
    "  \n",
    "- Hard to optimize\n",
    "  \n",
    "- Hard to parallelize"
   ]
  },
  {
   "cell_type": "markdown",
   "metadata": {},
   "source": [
    "**Problem 1: Hard to remember relevant information**\n",
    "\n",
    "- In RNNs, the hidden layer and the weights that determine the values in the hidden layer are asked to perform two tasks simultaneously:\n",
    "    - Providing information useful for current decision\n",
    "    - Updating and carrying forward information required for future decisions\n",
    "- Despite having access to the entire previous sequence, the information encoded in hidden states of RNNs is fairly local."
   ]
  },
  {
   "cell_type": "markdown",
   "metadata": {},
   "source": [
    "In the following example: \n",
    "\n",
    "> The **students** in the exam where the fire _alarm_ _is_ ringing **are** really stressed.\n",
    "\n",
    "- Assigning high probability to **_is_** following *alarm* is straightforward since it provides a local context for singular agreement. \n",
    "- However, assigning a high probability to **_are_** following _ringing_ is quite difficult because not only the plural _students_ is distant, but also the intervening context involves singular constituents. \n",
    "- Ideally, we want the network to retain the distant information about the plural **_students_** until it's needed while still processing the intermediate parts of the sequence correctly. "
   ]
  },
  {
   "cell_type": "markdown",
   "metadata": {
    "slideshow": {
     "slide_type": "slide"
    }
   },
   "source": [
    "**Problem 2: Hard to optimize**\n",
    "\n",
    "- Another difficulty with training RNNs arises from the need to backpropagate the error signal back through time. \n",
    "- Recall that we learn RNNs with \n",
    "    - Forward pass \n",
    "    - Backward pass (backprop through time)\n",
    "    \n",
    "- Computing new states and output in RNNs\n",
    "\n",
    "$$\n",
    "h_t = g(Uh_{t-1} + Wx_t + b_1)\\\\\n",
    "y_t = \\text{softmax}(Vh_t + b_2)\n",
    "$$ \n",
    "\n",
    "![](../img/RNN-dynamic-model_small.png)\n",
    "\n",
    "<!-- <center>\n",
    "<img src=\"img/RNN-dynamic-model.png\" height=\"400\" width=\"400\"> \n",
    "</center>     -->"
   ]
  },
  {
   "cell_type": "markdown",
   "metadata": {
    "slideshow": {
     "slide_type": "slide"
    }
   },
   "source": [
    "Recall: Backpropagation through time\n",
    "\n",
    "- When we backprop with feedforward neural networks\n",
    "    - Take the gradient (derivative) of the loss with respect to the parameters. \n",
    "    - Change parameters to minimize the loss. \n",
    "\n",
    "- In RNNs we use a generalized version of backprop called Backpropogation Through Time (BPTT)\n",
    "    - Calculating gradient at each output depends upon the current time step as well as the previous time steps. \n",
    "\n",
    "![](../img/RNN_loss.png)\n",
    "\n",
    "<!-- <center>    \n",
    "<img src=\"img/RNN_loss.png\" height=\"600\" width=\"600\"> \n",
    "</center>\n",
    "[Credit](http://cs231n.stanford.edu/slides/2017/cs231n_2017_lecture10.pdf) -->"
   ]
  },
  {
   "cell_type": "markdown",
   "metadata": {
    "slideshow": {
     "slide_type": "slide"
    }
   },
   "source": [
    "- So in the backward pass of RNNs, we have to multiply many derivatives together, which very often results in\n",
    "    - vanishing gradients (gradients becoming very small and eventually driven to zero) in case of long sequences\n",
    "- If we have a vanishing gradient, we might not be able to update our weights reliably. \n",
    "- So we are not able to capture long-term dependencies, which kind of defeats the whole purpose of using RNNs.     "
   ]
  },
  {
   "cell_type": "markdown",
   "metadata": {},
   "source": [
    "- To address these issues more complex network architectures have been designed with the goal of maintaining relevant context over time by enabling the network to learn to forget the information that is no longer needed and to remember information required for decisions still to come. \n",
    "- Most commonly used models are \n",
    "    - The Long short-term memory network (LSTM) (See [this appendix](AppendixE-LSTMs.ipynb) on LSTMs.)\n",
    "    - Gated Recurrent Units (GRU)\n",
    "- That said, even with these models, for long sequences, there is still a loss of relevant information and difficulties in training. \n",
    "- Also, inherently sequential nature of RNNs/LSTMs make them hard to parallelize. So they are slow to train. "
   ]
  },
  {
   "cell_type": "markdown",
   "metadata": {},
   "source": [
    "**Problem 3: Hard to parallelize**\n",
    "\n",
    "- Due to their inherently sequential nature \n"
   ]
  },
  {
   "cell_type": "markdown",
   "metadata": {},
   "source": [
    "<br><br>"
   ]
  },
  {
   "cell_type": "markdown",
   "metadata": {},
   "source": [
    "### 1.3 Transformers: the intuition \n",
    "  \n",
    "- **Transformers** provide an approach to sequence processing but they eliminate recurrent connections in RNNs and LSTMs.\n",
    "  \n",
    "- The idea is to build up richer and richer **contextual representations** of the meaning of input words or tokens across a series of transformer layers.\n",
    "\n",
    "- GPT-3 large, for instance, has 96 transformer layers.\n",
    "\n",
    "- They are easy to parallelize and much better at capturing long distance dependencies.\n",
    "  \n",
    "- They are at the core of all state-of-the-art generative AI models such as BERT, GPT2, GPT3, DALL-E 2, DALL-E 3, SORA, Meta's Llama, Google Bard, and GitHub Copilot.\n",
    "  \n",
    "- There are two main innovations which make these models work so well.  \n",
    "    - **Self-attention**\n",
    "      \n",
    "    - **Positional embeddings/encodings**    "
   ]
  },
  {
   "cell_type": "markdown",
   "metadata": {},
   "source": [
    "<br><br><br><br>"
   ]
  },
  {
   "cell_type": "markdown",
   "metadata": {},
   "source": [
    "## 2. Self-attention"
   ]
  },
  {
   "cell_type": "markdown",
   "metadata": {},
   "source": [
    "### 2.1 Intuition"
   ]
  },
  {
   "cell_type": "markdown",
   "metadata": {},
   "source": [
    "**Biological motivation for self-attention**\n",
    "\n",
    "- Count how many times the players wearing the white pass the basketball?"
   ]
  },
  {
   "cell_type": "code",
   "execution_count": 2,
   "metadata": {},
   "outputs": [
    {
     "data": {
      "text/html": [
       "\n",
       "        <iframe\n",
       "            width=\"500\"\n",
       "            height=\"500\"\n",
       "            src=\"https://www.youtube.com/embed/vJG698U2Mvo\"\n",
       "            frameborder=\"0\"\n",
       "            allowfullscreen\n",
       "            \n",
       "        ></iframe>\n",
       "        "
      ],
      "text/plain": [
       "<IPython.lib.display.IFrame at 0x13cd925a0>"
      ]
     },
     "execution_count": 2,
     "metadata": {},
     "output_type": "execute_result"
    }
   ],
   "source": [
    "### An example of a state-of-the-art language model\n",
    "url = \"https://www.youtube.com/embed/vJG698U2Mvo\"\n",
    "IPython.display.IFrame(url, width=500, height=500)"
   ]
  },
  {
   "cell_type": "markdown",
   "metadata": {},
   "source": [
    "When we process information, we often selectively focus on specific parts of the input, giving more attention to relevant information and less attention to irrelevant information. This is the core idea of **attention**.\n",
    "<br><br>"
   ]
  },
  {
   "cell_type": "markdown",
   "metadata": {},
   "source": [
    "Consider the examples below: \n",
    "\n",
    "- Example 1: She left a brief **note** on the kitchen table, reminding him to pick up groceries.\n",
    "  \n",
    "- Example 2: The diplomat’s speech struck a positive **note** in the peace negotiations.\n",
    "\n",
    "- Example 3: She plucked the guitar strings, ending with a melancholic **note**.\n",
    "\n",
    "The word **note** in these examples serves quite distinct meanings, each tied to different contexts. "
   ]
  },
  {
   "cell_type": "markdown",
   "metadata": {},
   "source": [
    "- To capture varying word meanings across different contexts, we need a mechanism that considers the wider context to compute each word's contextual representation.\n",
    "\n",
    "- **Self-attention** is just that mechanism!\n",
    "\n",
    "- It allows us to look broadly into the context and tells us how to integrate the representations of context words to build representation of a word.\n",
    "\n",
    "- A question for you: why not use traditional word embeddings we have seen so far (like word2vec or GloVe)? \n",
    "\n",
    "<br><br>"
   ]
  },
  {
   "cell_type": "markdown",
   "metadata": {},
   "source": [
    "Let's visualize self-attention, we'll focus on how the word note is interpreted within its sequence.\n",
    "\n",
    "> She plucked the guitar strings , ending with a melancholic **note** .\n",
    "\n",
    "Which words in the context are most relevant to **note**? Assign a qualitative weight (high or low) to each context word below.   \n",
    "\n",
    "- **note** attending to **She**: low weight\n",
    "- **note** attending to **plucked**:\n",
    "- **note** attending to **ending**:    \n",
    "- **note** attending to **guitar**:\n",
    "- **note** attending to **strings**: \n",
    "- **note** attending to **melancholic**: \n",
    "\n",
    "\n",
    "![](../img/attention_viz.png)"
   ]
  },
  {
   "cell_type": "markdown",
   "metadata": {},
   "source": [
    "- Self-attention mechanism allows a neural network model to 'attend' to different parts of the input data with varying degrees of focus. \n",
    "\n",
    "- We compare a token of our interest to a collection of other tokens in the context that reveal their relevance in the current context. (The relevance is denoted with the colour intensity in the diagram above.)\n",
    "\n",
    "- For each token in the sequence, we assign a **weight** based on how relevant it is to the token under consideration.\n",
    "  \n",
    "- Calculate the output for the current token based on these weights.\n",
    "\n",
    "- It allows a network to directly extract and use information from arbitrarily large contexts without the need to pass it through intermediate recurrent connections as in RNNs.\n",
    "\n"
   ]
  },
  {
   "cell_type": "markdown",
   "metadata": {},
   "source": [
    "<br><br>"
   ]
  },
  {
   "cell_type": "markdown",
   "metadata": {},
   "source": [
    "  - Below is a single backward looking self-attention layer which maps sequences of input vectors $(x_1, \\dots, x_n)$ to sequences of output vectors $(y_1, \\dots, y_n)$ of the same length.\n",
    "  \n",
    "- When processing an item at time $t$, the model has access to all of the inputs up to and including the one under consideration. \n",
    "\n",
    "- It does not have access to the input beyond the current one.\n",
    "  \n",
    "- Note that unlike RNNs or LSTMs, each computation can be done independently; it does not depend upon the previous computation which allows us to easily parallelize forward pass and the training of such models. \n",
    "\n",
    "![](../img/self_attention.png)\n",
    "<!-- <img src=\"img/self_attention.png\" width=\"500\" height=\"500\"> -->\n",
    "\n",
    "[Source](https://web.stanford.edu/~jurafsky/slp3/9.pdf)\n",
    "\n",
    "<br><br>"
   ]
  },
  {
   "cell_type": "markdown",
   "metadata": {},
   "source": [
    "### 2.2 The key operations in self-attention"
   ]
  },
  {
   "cell_type": "markdown",
   "metadata": {},
   "source": [
    "To determine the weights of various tokens in the context during self-attention's output calculation for a specific token, we follow three key operations\n",
    "\n",
    "- Calculate scores with dot products between tokens\n",
    "- Apply softmax to derive a probability distribution\n",
    "- Compute a weighted sum based on the scores for all observed inputs\n",
    "  \n",
    "Now, let's break down these operations step by step."
   ]
  },
  {
   "cell_type": "markdown",
   "metadata": {},
   "source": [
    "**Example: Calculating the output $y$ for the token _note_ in the given context**\n",
    "<br><br>\n",
    "![](../img/self-attention-note1.png)\n",
    "\n",
    "<!-- <img src=\"img/self-attention-note1.png\" width=\"800\" height=\"800\"> -->"
   ]
  },
  {
   "cell_type": "markdown",
   "metadata": {},
   "source": [
    "To generalize, in order to calculate the output $y_i$\n",
    "\n",
    "- We score token $x_i$ with all previous tokens $x_j$ by taking the dot product between them. \n",
    "$$\\text{score}(x_i, x_j) = x_i \\cdot x_j$$\n",
    "\n",
    "- We apply $\\text{softmax}$ on these scores to get probability distribution over these scores. \n",
    "$$\\alpha_{ij} = \\text{softmax}(\\text{score}(x_i \\cdot x_j)), \\forall j \\leq i$$\n",
    "\n",
    "- The output is the weighted sum of the inputs seen so far, where the weights correspond to the $\\alpha$ values calculated above. \n",
    " $$y_i = \\sum_{j \\leq i} \\alpha_{ij}x_j$$\n",
    "\n",
    "- The final output vector incorporates the information from all relevant parts of the sentence, weighted by their relevance to the target word \"note\".\n",
    " \n",
    "These **three operations outline the core of an attention-based approach**. These operations can be carried out independently for each input allowing easy parallelism. Now, let's introduce additional bells and whistles to make it trainable.  "
   ]
  },
  {
   "cell_type": "markdown",
   "metadata": {},
   "source": [
    "<br><br>"
   ]
  },
  {
   "cell_type": "markdown",
   "metadata": {},
   "source": [
    "### 2.3 **Query, Key, and Value Roles**\n",
    "\n",
    "In the process of calculating outputs for each input token, each token plays **three roles**: **Query**, **Key**, and **Value**.\n",
    "\n",
    "What do these roles represent?\n",
    "\n",
    "Remember, our goal is to create **contextual representations** for tokens in the sequence. For each word, we want to figure out:\n",
    "\n",
    "- Which tokens in the context are important for me?\n",
    "- Which tokens should I attend to?\n",
    "\n",
    "Let’s consider some possible Query, Key, and Value roles using the example sequence:\n",
    "\n",
    "> **guitar string melancholic note**\n",
    "\n",
    "| **Token**       | **Key**                                | **Value**                           | **Query**                                |\n",
    "|-----------------|-----------------------------------------|-------------------------------------|-------------------------------------------|\n",
    "| **guitar**      | instrument, noun, object                | a musical instrument                | what am I connected to or describing?     |\n",
    "| **string**      | part of an object, noun                 | a thin part of an instrument        | what do I belong to?                      |\n",
    "| **melancholic** | emotion, adjective, mood descriptor     | sad, emotional, somber              | what do I describe?                       |\n",
    "| **note**        | sound, noun, musical output             | a sound or tone produced            | where did I come from? what defines me?   |\n",
    "\n",
    "- _**melancholic**_ will attend strongly to _**note**_, because its query is _\"what do I describe?\"_ and note's key is _\"sound, noun, musical output\"_.\n",
    "- _**string**_ will likely attend to _**guitar**_, since its query is about belonging, and guitar's key signals it as the larger object.\n",
    "- _**note**_ may attend to both _**string**_ and _**melancholic**_, blending physical and emotional context into its representation.\n",
    "\n",
    "Once we have the **attention weights** for all tokens, we compute **contextual representations** by combining the **value vectors**, weighted by these attention scores.\n",
    "\n",
    "\n",
    "**In summary, each role reflects a different perspective of the same token:**\n",
    "\n",
    "- **Key**: \"What do I offer to others?\" $\\rightarrow$ e.g., _emotion, adjective, mood descriptor_\n",
    "\n",
    "- **Value**: \"What is my actual content or meaning?\" $\\rightarrow$ e.g., _sad, emotional, somber_\n",
    "\n",
    "- **Query**: \"What am I looking for in others?\" $\\rightarrow$ e.g., _What do I describe?_"
   ]
  },
  {
   "cell_type": "markdown",
   "metadata": {},
   "source": [
    "**Self-attention activity**\n",
    "\n",
    "- TBD\n",
    "\n",
    "<br><br><br><br>"
   ]
  },
  {
   "cell_type": "markdown",
   "metadata": {},
   "source": [
    "For these three roles, the Transformer introduces three **learnable weight matrices**: $W^Q$, $W^K$, and $W^V$. These weights are used to project each input vector $x_i$ into its role as a **query**, **key**, or **value**.\n",
    "\n",
    "$$\n",
    "q_i = W^Q x_i\n",
    "$$\n",
    "\n",
    "$$\n",
    "k_i = W^K x_i\n",
    "$$\n",
    "\n",
    "$$\n",
    "v_i = W^V x_i\n",
    "$$\n",
    "\n",
    "Each token's input embedding $x_i$ is transformed three times, once for each role, using these matrices. This allows the model to learn *how* each token should behave in different roles, based on the task and data.\n",
    "\n",
    "For now, let's assume that all of these weight matrices project to the **same dimensional space**, so the resulting vectors $q_i$, $k_i$, and $v_i$ are all of equal size."
   ]
  },
  {
   "cell_type": "markdown",
   "metadata": {},
   "source": [
    "With these projections our equations become: \n",
    "\n",
    "- We score the $x_i$ with all previous tokens $x_j$ by taking the dot product between $x_i$'s query vector $q_i$ and $x_j$'s key vector $k_j$:  \n",
    "$$\\text{score}(x_i, x_j) = q_i \\cdot k_j$$\n",
    "\n",
    "- The softmax calculation remains the same but the output calculation for $y_i$ is now based on a weighted sum over the projected vectors $v$:\n",
    " $$y_i = \\sum_{j \\leq i} \\alpha_{ij}v_j$$\n",
    " "
   ]
  },
  {
   "cell_type": "markdown",
   "metadata": {},
   "source": [
    "<!-- ![](../img/self_attention_ex.png) -->\n",
    "\n",
    "<img src=\"../img/self_attention_ex.png\" width=\"600\" height=\"600\">\n",
    "\n",
    "[Source](https://web.stanford.edu/~jurafsky/slp3/9.pdf)"
   ]
  },
  {
   "cell_type": "markdown",
   "metadata": {},
   "source": [
    "- Let's calculate the output of _**note**_ in the following sequence with $K, Q, V$ matrices.  \n",
    "> string melancholic note\n",
    "\n",
    "- Suppose input embedding is of size 300.\n",
    "\n",
    "- Suppose the projection matrices $W^k, W^q, W^v$ are of shape $300 \\times 100$. \n",
    "- So word$_k$, word$_q$, word$_v$ provide 100-dimensional projections of each word corresponding to the key, query and value roles. For example, note$_k$, note$_q$, bite$_v$ represent 100-dimensional projections of the word **note** corresponding to its key, query, and value roles, respectively.\n",
    "- The dot products will be calculated between the appropriate query and key projections. In this example, we will calculate the following dot products:\n",
    "    - $\\text{note}_q \\cdot \\text{string}_k$\n",
    "    - $\\text{note}_q \\cdot \\text{melancholic}_k$    \n",
    "    - $\\text{note}_q \\cdot \\text{note}_k$\n",
    "- We apply softmax on these dot products. Suppose the softmax output in this toy example is \n",
    "\\begin{bmatrix} 0.005 & 0.085 & 0.91 \\end{bmatrix}\n",
    "- So we have weights associated with three input words: _string_ (0.005), _melancholic_ (0.085) and _note_ (0.91)\n",
    "- We can calculate the output as the weighted sum of the inputs. Here we will use the value projections of the inputs: $0.005 \\times \\text{string}_v + 0.085 \\times \\text{melancholic}_v + 0.91 \\times \\text{note}_v$\n",
    "- Since we will be adding 100 dimensional vectors (size of our projections), the dimensionality of the output $y_3$ is going to be 100. \n",
    "\n",
    "![](../img/self-attention-note2.png)\n",
    "\n",
    "<!-- <img src=\"img/self-attention-note2.png\" width=\"500\" height=\"500\"> -->\n",
    "\n",
    "[Source](https://web.stanford.edu/~jurafsky/slp3/9.pdf)"
   ]
  },
  {
   "cell_type": "markdown",
   "metadata": {},
   "source": [
    "**Scaling the dot products**\n",
    "\n",
    "- The result of a dot product can be arbitrarily large and exponentiating such values can lead to numerical issues and problems during training.\n",
    "  \n",
    "- So the dot products are usually scaled before applying the softmax. \n",
    "- The most common scaling is where we divide the dot product by the square root of the dimensionality of the query and the key vectors. \n",
    "$$\\text{score}(x_i, x_j) = \\frac{q_i \\cdot k_j}{\\sqrt{d_k}}$$\n"
   ]
  },
  {
   "cell_type": "markdown",
   "metadata": {},
   "source": [
    "- This is how we calculate a single output of a single time step $i$. \n",
    "- Would the output calculation at different time steps be dependent upon each other? "
   ]
  },
  {
   "cell_type": "markdown",
   "metadata": {},
   "source": [
    "<br><br>"
   ]
  },
  {
   "cell_type": "markdown",
   "metadata": {},
   "source": [
    "### 2.4 Efficient attention weight computation\n",
    "\n",
    "Let's say we have an input sequence of $N$ tokens, where each token is represented by a $d$-dimensional embedding. We can stack all of these into a single matrix:\n",
    "\n",
    "- $X \\in \\mathbb{R}^{N \\times d}$: Each row of $X$ is the embedding of one token in the sequence.\n",
    "\n",
    "To calculate self-attention, we first project $X$ into three new matrices using learned weight matrices:\n",
    "\n",
    "- $W^Q \\in \\mathbb{R}^{d \\times d_k}$: weight matrix for **queries**\n",
    "- $W^K \\in \\mathbb{R}^{d \\times d_k}$: weight matrix for **keys**\n",
    "- $W^V \\in \\mathbb{R}^{d \\times d_v}$: weight matrix for **values**\n",
    "\n",
    "We compute:\n",
    "\n",
    "$$\n",
    "Q = X W^Q \\quad \\text{(Query matrix: } N \\times d_k \\text{)}\n",
    "$$\n",
    "\n",
    "$$\n",
    "K = X W^K \\quad \\text{(Key matrix: } N \\times d_k \\text{)}\n",
    "$$\n",
    "\n",
    "$$\n",
    "V = X W^V \\quad \\text{(Value matrix: } N \\times d_v \\text{)}\n",
    "$$\n",
    "\n",
    "- With these matrices, we can now calculate **all pairwise query-key scores simultaneously** using matrix multiplication:\n",
    "\n",
    "$$\n",
    "Q \\times K^\\top\n",
    "$$\n",
    "\n",
    "![](../img/self_attention_calc_all.png)\n",
    "\n",
    "\n",
    "This gives us a matrix of dot products where each entry represents how much attention a token (as a query) should pay to another token (as a key). \n",
    "\n",
    "$$\n",
    "\\text{Attention}(Q, K, V) = \\text{softmax}\\left(\\frac{QK^\\top}{\\sqrt{d_k}}\\right) V\n",
    "$$\n",
    "\n",
    "- $QK^\\top$ computes dot products between all query-key pairs (shape: $N \\times N$)\n",
    "  \n",
    "- The softmax normalizes scores across each row (i.e., for each query token)\n",
    "- The result is a weighted sum of value vectors, producing the **contextualized embeddings**"
   ]
  },
  {
   "cell_type": "markdown",
   "metadata": {},
   "source": [
    "**Attention mask**\n",
    "\n",
    "- **What’s the issue with the $QK^\\top$ calculation above?**\n",
    "\n",
    "    - It computes scores for **all token pairs**, including future tokens.\n",
    "      \n",
    "    - In **language modeling**, we want to **predict the next word** based only on **previous** words, not words that come later.\n",
    "\n",
    "- **Why is this a problem?**\n",
    "\n",
    "    - If each token can \"peek\" at future tokens during training, the model would be **cheating**, it sees the answer before predicting it.\n",
    "  \n",
    "- **Solution: Use an attention mask!**\n",
    "\n",
    "    - A **mask** is applied to the $QK^\\top$ matrix to **block out** positions corresponding to future tokens.\n",
    "      \n",
    "    - These positions are set to $-\\infty$ (or a large negative number), so after applying softmax, their weights become zero.\n",
    "\n",
    "![](../img/self_attention_calc_partial.png)\n",
    "\n",
    "\n",
    "[Source](https://web.stanford.edu/~jurafsky/slp3/9.pdf)"
   ]
  },
  {
   "cell_type": "markdown",
   "metadata": {},
   "source": [
    "### Break\n",
    "\n",
    "![](../img/eva-coffee.png)"
   ]
  },
  {
   "cell_type": "markdown",
   "metadata": {
    "slideshow": {
     "slide_type": "slide"
    }
   },
   "source": [
    "## ❓❓ Questions for you"
   ]
  },
  {
   "cell_type": "markdown",
   "metadata": {
    "slideshow": {
     "slide_type": "slide"
    }
   },
   "source": [
    "### Exercise 6.2: Select all of the following statements which are **True** (iClicker)\n",
    "\n",
    "- (A) The main difference between the RNN layer and a self-attention layer is that in self-attention, we pass the information without intermediate recurrent connections.\n",
    "  \n",
    "- (B) In self-attention, the output $y_i$ of input $x_i$ at time $i$ is always a scalar. \n",
    "- (C) Calculating attention weights is quadratic in the length of the input since we need to compute dot products between each pair of tokens in\n",
    "the input.\n",
    "\n",
    "\n",
    "- (D) Self-attention results in contextual embeddings. "
   ]
  },
  {
   "cell_type": "markdown",
   "metadata": {},
   "source": [
    "```{admonition} Exercise 8.2: V's Solutions!\n",
    ":class: tip, dropdown\n",
    "- \n",
    "```"
   ]
  },
  {
   "cell_type": "markdown",
   "metadata": {},
   "source": [
    "<br><br><br><br>"
   ]
  },
  {
   "cell_type": "markdown",
   "metadata": {},
   "source": [
    "## 3. Positional embeddings\n",
    "\n",
    "- Also called **positional encodings**.\n",
    "  \n",
    "- Are we capturing word order when we calculate $y_3$? In other words, if you scramble the order of the inputs, will you get exactly the same answer for $y_3$? \n",
    "\n",
    "![](../img/self-attention-note2.png)\n",
    "\n",
    "<!-- <img src=\"img/self-attention-note2.png\" width=\"500\" height=\"500\"> -->\n",
    "<br><br><br><br>"
   ]
  },
  {
   "cell_type": "markdown",
   "metadata": {},
   "source": [
    "Self-attention doesn't naturally know the order of tokens. They treat input as a bag of words. Unlike RNNs or CNNs, which process inputs sequentially or locally, Self-attention process all tokens in parallel. That's powerful, but also means they need extra help to understand the order of the sentence."
   ]
  },
  {
   "cell_type": "markdown",
   "metadata": {},
   "source": [
    "How can we capture word order and positional information?\n",
    "- A simple solution is positional embeddings! They help us figure our where in the sequence the token is. \n",
    "    - Without positional info: \"guitar string\" and \"string guitar\" look the same to the model.\n",
    "      \n",
    "\t- With it: The model learns: \"guitar\" came first, and that matters.\n",
    "\n",
    "- To produce an input embedding that captures positional information,\n",
    "    - We create positional embedding for each position (e.g., 1, 2, 3, ...)\n",
    "\n",
    "    - We add it to the corresponding input embedding\n",
    "      \n",
    "    - The resulting embedding has some information about the input along with its position in the text\n",
    "    \n",
    "- Where do we get these positional embeddings? The simplest method is to start with randomly initialized embeddings corresponding to each possible input position and learn them along with other parameters during training.\n",
    "\n",
    "\n",
    "\n",
    "![](../img/positional-embeddings.png)\n",
    "<!-- <img src=\"img/positional-embeddings.png\" width=\"500\" height=\"500\"> -->"
   ]
  },
  {
   "cell_type": "markdown",
   "metadata": {},
   "source": [
    "<br><br><br><br>"
   ]
  },
  {
   "cell_type": "markdown",
   "metadata": {},
   "source": [
    "## 4. Multi-head attention"
   ]
  },
  {
   "cell_type": "markdown",
   "metadata": {},
   "source": [
    "- Different words in a sentence can relate to each other in many different ways simultaneously.\n",
    "  \n",
    "- Consider the sentence below. \n",
    "> The cat was scared because it didn't recognize me in my mask. \n",
    "\n",
    "Let's look at all the dependencies in this sentence. "
   ]
  },
  {
   "cell_type": "code",
   "execution_count": 3,
   "metadata": {},
   "outputs": [],
   "source": [
    "import spacy\n",
    "from spacy import displacy\n",
    "\n",
    "nlp = spacy.load(\"en_core_web_md\")"
   ]
  },
  {
   "cell_type": "code",
   "execution_count": 4,
   "metadata": {},
   "outputs": [
    {
     "data": {
      "text/html": [
       "<span class=\"tex2jax_ignore\"><svg xmlns=\"http://www.w3.org/2000/svg\" xmlns:xlink=\"http://www.w3.org/1999/xlink\" xml:lang=\"en\" id=\"81709c0efaa04d138c119a6e7c5e8c8f-0\" class=\"displacy\" width=\"2325\" height=\"574.5\" direction=\"ltr\" style=\"max-width: none; height: 574.5px; color: #000000; background: #ffffff; font-family: Arial; direction: ltr\">\n",
       "<text class=\"displacy-token\" fill=\"currentColor\" text-anchor=\"middle\" y=\"484.5\">\n",
       "    <tspan class=\"displacy-word\" fill=\"currentColor\" x=\"50\">The</tspan>\n",
       "    <tspan class=\"displacy-tag\" dy=\"2em\" fill=\"currentColor\" x=\"50\">DET</tspan>\n",
       "</text>\n",
       "\n",
       "<text class=\"displacy-token\" fill=\"currentColor\" text-anchor=\"middle\" y=\"484.5\">\n",
       "    <tspan class=\"displacy-word\" fill=\"currentColor\" x=\"225\">cat</tspan>\n",
       "    <tspan class=\"displacy-tag\" dy=\"2em\" fill=\"currentColor\" x=\"225\">NOUN</tspan>\n",
       "</text>\n",
       "\n",
       "<text class=\"displacy-token\" fill=\"currentColor\" text-anchor=\"middle\" y=\"484.5\">\n",
       "    <tspan class=\"displacy-word\" fill=\"currentColor\" x=\"400\">was</tspan>\n",
       "    <tspan class=\"displacy-tag\" dy=\"2em\" fill=\"currentColor\" x=\"400\">AUX</tspan>\n",
       "</text>\n",
       "\n",
       "<text class=\"displacy-token\" fill=\"currentColor\" text-anchor=\"middle\" y=\"484.5\">\n",
       "    <tspan class=\"displacy-word\" fill=\"currentColor\" x=\"575\">scared</tspan>\n",
       "    <tspan class=\"displacy-tag\" dy=\"2em\" fill=\"currentColor\" x=\"575\">ADJ</tspan>\n",
       "</text>\n",
       "\n",
       "<text class=\"displacy-token\" fill=\"currentColor\" text-anchor=\"middle\" y=\"484.5\">\n",
       "    <tspan class=\"displacy-word\" fill=\"currentColor\" x=\"750\">because</tspan>\n",
       "    <tspan class=\"displacy-tag\" dy=\"2em\" fill=\"currentColor\" x=\"750\">SCONJ</tspan>\n",
       "</text>\n",
       "\n",
       "<text class=\"displacy-token\" fill=\"currentColor\" text-anchor=\"middle\" y=\"484.5\">\n",
       "    <tspan class=\"displacy-word\" fill=\"currentColor\" x=\"925\">it</tspan>\n",
       "    <tspan class=\"displacy-tag\" dy=\"2em\" fill=\"currentColor\" x=\"925\">PRON</tspan>\n",
       "</text>\n",
       "\n",
       "<text class=\"displacy-token\" fill=\"currentColor\" text-anchor=\"middle\" y=\"484.5\">\n",
       "    <tspan class=\"displacy-word\" fill=\"currentColor\" x=\"1100\">did</tspan>\n",
       "    <tspan class=\"displacy-tag\" dy=\"2em\" fill=\"currentColor\" x=\"1100\">AUX</tspan>\n",
       "</text>\n",
       "\n",
       "<text class=\"displacy-token\" fill=\"currentColor\" text-anchor=\"middle\" y=\"484.5\">\n",
       "    <tspan class=\"displacy-word\" fill=\"currentColor\" x=\"1275\">n't</tspan>\n",
       "    <tspan class=\"displacy-tag\" dy=\"2em\" fill=\"currentColor\" x=\"1275\">PART</tspan>\n",
       "</text>\n",
       "\n",
       "<text class=\"displacy-token\" fill=\"currentColor\" text-anchor=\"middle\" y=\"484.5\">\n",
       "    <tspan class=\"displacy-word\" fill=\"currentColor\" x=\"1450\">recognize</tspan>\n",
       "    <tspan class=\"displacy-tag\" dy=\"2em\" fill=\"currentColor\" x=\"1450\">VERB</tspan>\n",
       "</text>\n",
       "\n",
       "<text class=\"displacy-token\" fill=\"currentColor\" text-anchor=\"middle\" y=\"484.5\">\n",
       "    <tspan class=\"displacy-word\" fill=\"currentColor\" x=\"1625\">me</tspan>\n",
       "    <tspan class=\"displacy-tag\" dy=\"2em\" fill=\"currentColor\" x=\"1625\">PRON</tspan>\n",
       "</text>\n",
       "\n",
       "<text class=\"displacy-token\" fill=\"currentColor\" text-anchor=\"middle\" y=\"484.5\">\n",
       "    <tspan class=\"displacy-word\" fill=\"currentColor\" x=\"1800\">in</tspan>\n",
       "    <tspan class=\"displacy-tag\" dy=\"2em\" fill=\"currentColor\" x=\"1800\">ADP</tspan>\n",
       "</text>\n",
       "\n",
       "<text class=\"displacy-token\" fill=\"currentColor\" text-anchor=\"middle\" y=\"484.5\">\n",
       "    <tspan class=\"displacy-word\" fill=\"currentColor\" x=\"1975\">my</tspan>\n",
       "    <tspan class=\"displacy-tag\" dy=\"2em\" fill=\"currentColor\" x=\"1975\">PRON</tspan>\n",
       "</text>\n",
       "\n",
       "<text class=\"displacy-token\" fill=\"currentColor\" text-anchor=\"middle\" y=\"484.5\">\n",
       "    <tspan class=\"displacy-word\" fill=\"currentColor\" x=\"2150\">mask .</tspan>\n",
       "    <tspan class=\"displacy-tag\" dy=\"2em\" fill=\"currentColor\" x=\"2150\">NOUN</tspan>\n",
       "</text>\n",
       "\n",
       "<g class=\"displacy-arrow\">\n",
       "    <path class=\"displacy-arc\" id=\"arrow-81709c0efaa04d138c119a6e7c5e8c8f-0-0\" stroke-width=\"2px\" d=\"M70,439.5 C70,352.0 205.0,352.0 205.0,439.5\" fill=\"none\" stroke=\"currentColor\"/>\n",
       "    <text dy=\"1.25em\" style=\"font-size: 0.8em; letter-spacing: 1px\">\n",
       "        <textPath xlink:href=\"#arrow-81709c0efaa04d138c119a6e7c5e8c8f-0-0\" class=\"displacy-label\" startOffset=\"50%\" side=\"left\" fill=\"currentColor\" text-anchor=\"middle\">det</textPath>\n",
       "    </text>\n",
       "    <path class=\"displacy-arrowhead\" d=\"M70,441.5 L62,429.5 78,429.5\" fill=\"currentColor\"/>\n",
       "</g>\n",
       "\n",
       "<g class=\"displacy-arrow\">\n",
       "    <path class=\"displacy-arc\" id=\"arrow-81709c0efaa04d138c119a6e7c5e8c8f-0-1\" stroke-width=\"2px\" d=\"M245,439.5 C245,352.0 380.0,352.0 380.0,439.5\" fill=\"none\" stroke=\"currentColor\"/>\n",
       "    <text dy=\"1.25em\" style=\"font-size: 0.8em; letter-spacing: 1px\">\n",
       "        <textPath xlink:href=\"#arrow-81709c0efaa04d138c119a6e7c5e8c8f-0-1\" class=\"displacy-label\" startOffset=\"50%\" side=\"left\" fill=\"currentColor\" text-anchor=\"middle\">nsubj</textPath>\n",
       "    </text>\n",
       "    <path class=\"displacy-arrowhead\" d=\"M245,441.5 L237,429.5 253,429.5\" fill=\"currentColor\"/>\n",
       "</g>\n",
       "\n",
       "<g class=\"displacy-arrow\">\n",
       "    <path class=\"displacy-arc\" id=\"arrow-81709c0efaa04d138c119a6e7c5e8c8f-0-2\" stroke-width=\"2px\" d=\"M420,439.5 C420,352.0 555.0,352.0 555.0,439.5\" fill=\"none\" stroke=\"currentColor\"/>\n",
       "    <text dy=\"1.25em\" style=\"font-size: 0.8em; letter-spacing: 1px\">\n",
       "        <textPath xlink:href=\"#arrow-81709c0efaa04d138c119a6e7c5e8c8f-0-2\" class=\"displacy-label\" startOffset=\"50%\" side=\"left\" fill=\"currentColor\" text-anchor=\"middle\">acomp</textPath>\n",
       "    </text>\n",
       "    <path class=\"displacy-arrowhead\" d=\"M555.0,441.5 L563.0,429.5 547.0,429.5\" fill=\"currentColor\"/>\n",
       "</g>\n",
       "\n",
       "<g class=\"displacy-arrow\">\n",
       "    <path class=\"displacy-arc\" id=\"arrow-81709c0efaa04d138c119a6e7c5e8c8f-0-3\" stroke-width=\"2px\" d=\"M770,439.5 C770,89.5 1445.0,89.5 1445.0,439.5\" fill=\"none\" stroke=\"currentColor\"/>\n",
       "    <text dy=\"1.25em\" style=\"font-size: 0.8em; letter-spacing: 1px\">\n",
       "        <textPath xlink:href=\"#arrow-81709c0efaa04d138c119a6e7c5e8c8f-0-3\" class=\"displacy-label\" startOffset=\"50%\" side=\"left\" fill=\"currentColor\" text-anchor=\"middle\">mark</textPath>\n",
       "    </text>\n",
       "    <path class=\"displacy-arrowhead\" d=\"M770,441.5 L762,429.5 778,429.5\" fill=\"currentColor\"/>\n",
       "</g>\n",
       "\n",
       "<g class=\"displacy-arrow\">\n",
       "    <path class=\"displacy-arc\" id=\"arrow-81709c0efaa04d138c119a6e7c5e8c8f-0-4\" stroke-width=\"2px\" d=\"M945,439.5 C945,177.0 1440.0,177.0 1440.0,439.5\" fill=\"none\" stroke=\"currentColor\"/>\n",
       "    <text dy=\"1.25em\" style=\"font-size: 0.8em; letter-spacing: 1px\">\n",
       "        <textPath xlink:href=\"#arrow-81709c0efaa04d138c119a6e7c5e8c8f-0-4\" class=\"displacy-label\" startOffset=\"50%\" side=\"left\" fill=\"currentColor\" text-anchor=\"middle\">nsubj</textPath>\n",
       "    </text>\n",
       "    <path class=\"displacy-arrowhead\" d=\"M945,441.5 L937,429.5 953,429.5\" fill=\"currentColor\"/>\n",
       "</g>\n",
       "\n",
       "<g class=\"displacy-arrow\">\n",
       "    <path class=\"displacy-arc\" id=\"arrow-81709c0efaa04d138c119a6e7c5e8c8f-0-5\" stroke-width=\"2px\" d=\"M1120,439.5 C1120,264.5 1435.0,264.5 1435.0,439.5\" fill=\"none\" stroke=\"currentColor\"/>\n",
       "    <text dy=\"1.25em\" style=\"font-size: 0.8em; letter-spacing: 1px\">\n",
       "        <textPath xlink:href=\"#arrow-81709c0efaa04d138c119a6e7c5e8c8f-0-5\" class=\"displacy-label\" startOffset=\"50%\" side=\"left\" fill=\"currentColor\" text-anchor=\"middle\">aux</textPath>\n",
       "    </text>\n",
       "    <path class=\"displacy-arrowhead\" d=\"M1120,441.5 L1112,429.5 1128,429.5\" fill=\"currentColor\"/>\n",
       "</g>\n",
       "\n",
       "<g class=\"displacy-arrow\">\n",
       "    <path class=\"displacy-arc\" id=\"arrow-81709c0efaa04d138c119a6e7c5e8c8f-0-6\" stroke-width=\"2px\" d=\"M1295,439.5 C1295,352.0 1430.0,352.0 1430.0,439.5\" fill=\"none\" stroke=\"currentColor\"/>\n",
       "    <text dy=\"1.25em\" style=\"font-size: 0.8em; letter-spacing: 1px\">\n",
       "        <textPath xlink:href=\"#arrow-81709c0efaa04d138c119a6e7c5e8c8f-0-6\" class=\"displacy-label\" startOffset=\"50%\" side=\"left\" fill=\"currentColor\" text-anchor=\"middle\">neg</textPath>\n",
       "    </text>\n",
       "    <path class=\"displacy-arrowhead\" d=\"M1295,441.5 L1287,429.5 1303,429.5\" fill=\"currentColor\"/>\n",
       "</g>\n",
       "\n",
       "<g class=\"displacy-arrow\">\n",
       "    <path class=\"displacy-arc\" id=\"arrow-81709c0efaa04d138c119a6e7c5e8c8f-0-7\" stroke-width=\"2px\" d=\"M420,439.5 C420,2.0 1450.0,2.0 1450.0,439.5\" fill=\"none\" stroke=\"currentColor\"/>\n",
       "    <text dy=\"1.25em\" style=\"font-size: 0.8em; letter-spacing: 1px\">\n",
       "        <textPath xlink:href=\"#arrow-81709c0efaa04d138c119a6e7c5e8c8f-0-7\" class=\"displacy-label\" startOffset=\"50%\" side=\"left\" fill=\"currentColor\" text-anchor=\"middle\">advcl</textPath>\n",
       "    </text>\n",
       "    <path class=\"displacy-arrowhead\" d=\"M1450.0,441.5 L1458.0,429.5 1442.0,429.5\" fill=\"currentColor\"/>\n",
       "</g>\n",
       "\n",
       "<g class=\"displacy-arrow\">\n",
       "    <path class=\"displacy-arc\" id=\"arrow-81709c0efaa04d138c119a6e7c5e8c8f-0-8\" stroke-width=\"2px\" d=\"M1470,439.5 C1470,352.0 1605.0,352.0 1605.0,439.5\" fill=\"none\" stroke=\"currentColor\"/>\n",
       "    <text dy=\"1.25em\" style=\"font-size: 0.8em; letter-spacing: 1px\">\n",
       "        <textPath xlink:href=\"#arrow-81709c0efaa04d138c119a6e7c5e8c8f-0-8\" class=\"displacy-label\" startOffset=\"50%\" side=\"left\" fill=\"currentColor\" text-anchor=\"middle\">dobj</textPath>\n",
       "    </text>\n",
       "    <path class=\"displacy-arrowhead\" d=\"M1605.0,441.5 L1613.0,429.5 1597.0,429.5\" fill=\"currentColor\"/>\n",
       "</g>\n",
       "\n",
       "<g class=\"displacy-arrow\">\n",
       "    <path class=\"displacy-arc\" id=\"arrow-81709c0efaa04d138c119a6e7c5e8c8f-0-9\" stroke-width=\"2px\" d=\"M1470,439.5 C1470,264.5 1785.0,264.5 1785.0,439.5\" fill=\"none\" stroke=\"currentColor\"/>\n",
       "    <text dy=\"1.25em\" style=\"font-size: 0.8em; letter-spacing: 1px\">\n",
       "        <textPath xlink:href=\"#arrow-81709c0efaa04d138c119a6e7c5e8c8f-0-9\" class=\"displacy-label\" startOffset=\"50%\" side=\"left\" fill=\"currentColor\" text-anchor=\"middle\">prep</textPath>\n",
       "    </text>\n",
       "    <path class=\"displacy-arrowhead\" d=\"M1785.0,441.5 L1793.0,429.5 1777.0,429.5\" fill=\"currentColor\"/>\n",
       "</g>\n",
       "\n",
       "<g class=\"displacy-arrow\">\n",
       "    <path class=\"displacy-arc\" id=\"arrow-81709c0efaa04d138c119a6e7c5e8c8f-0-10\" stroke-width=\"2px\" d=\"M1995,439.5 C1995,352.0 2130.0,352.0 2130.0,439.5\" fill=\"none\" stroke=\"currentColor\"/>\n",
       "    <text dy=\"1.25em\" style=\"font-size: 0.8em; letter-spacing: 1px\">\n",
       "        <textPath xlink:href=\"#arrow-81709c0efaa04d138c119a6e7c5e8c8f-0-10\" class=\"displacy-label\" startOffset=\"50%\" side=\"left\" fill=\"currentColor\" text-anchor=\"middle\">poss</textPath>\n",
       "    </text>\n",
       "    <path class=\"displacy-arrowhead\" d=\"M1995,441.5 L1987,429.5 2003,429.5\" fill=\"currentColor\"/>\n",
       "</g>\n",
       "\n",
       "<g class=\"displacy-arrow\">\n",
       "    <path class=\"displacy-arc\" id=\"arrow-81709c0efaa04d138c119a6e7c5e8c8f-0-11\" stroke-width=\"2px\" d=\"M1820,439.5 C1820,264.5 2135.0,264.5 2135.0,439.5\" fill=\"none\" stroke=\"currentColor\"/>\n",
       "    <text dy=\"1.25em\" style=\"font-size: 0.8em; letter-spacing: 1px\">\n",
       "        <textPath xlink:href=\"#arrow-81709c0efaa04d138c119a6e7c5e8c8f-0-11\" class=\"displacy-label\" startOffset=\"50%\" side=\"left\" fill=\"currentColor\" text-anchor=\"middle\">pobj</textPath>\n",
       "    </text>\n",
       "    <path class=\"displacy-arrowhead\" d=\"M2135.0,441.5 L2143.0,429.5 2127.0,429.5\" fill=\"currentColor\"/>\n",
       "</g>\n",
       "</svg></span>"
      ],
      "text/plain": [
       "<IPython.core.display.HTML object>"
      ]
     },
     "metadata": {},
     "output_type": "display_data"
    }
   ],
   "source": [
    "doc = nlp(\"The cat was scared because it did n't recognize me in my mask .\")\n",
    "displacy.render(doc, style=\"dep\")"
   ]
  },
  {
   "cell_type": "markdown",
   "metadata": {},
   "source": [
    "- So a single attention layer usually is not enough to capture all different kinds of parallel relations between inputs.\n",
    "  \n",
    "- Transformers address this issue with **multihead self-attention layers**.\n",
    "- These self-attention layers are called **heads**.\n",
    "- They are at the same depth of the model, operate in parallel, each with a different set of parameters. \n",
    "- The idea is that with these different sets of parameters, each head can learn different aspects of the relationships that exist among inputs.\n",
    "\n",
    "\\begin{equation}\n",
    "\\begin{split}\n",
    "MultiHeadAttn(X) &= (\\text{head}_1 \\oplus \\text{head}_2 \\dots \\oplus \\text{head}_h)W^O\\\\\n",
    "               Q &= XW_i^Q ; K = XW_i^K ; V = XW_i^V\\\\\n",
    "               \\text{head}_i &= SelfAttention(Q,K,V)\n",
    "\\end{split}\n",
    "\\end{equation}"
   ]
  },
  {
   "cell_type": "markdown",
   "metadata": {},
   "source": [
    "![](../img/multihead_attention.png)\n",
    "\n",
    "<!-- <img src=\"img/multihead_attention.png\" width=\"600\" height=\"600\"> -->\n",
    "\n",
    "[Source](https://web.stanford.edu/~jurafsky/slp3/9.pdf)"
   ]
  },
  {
   "cell_type": "markdown",
   "metadata": {},
   "source": [
    "**Visualization of multi-head attention**\n",
    "- Similar to RNNs you can stack self-attention layers or multihead self-attention layers on the top of each other.\n",
    "  \n",
    "- Let's look at this visualization which shows where the attention of different attention heads is going in multihead attention. \n",
    "    - [Multi-head attention interactive visualization](https://colab.research.google.com/github/tensorflow/tensor2tensor/blob/master/tensor2tensor/notebooks/hello_t2t.ipynb#scrollTo=OJKU36QAfqOC)"
   ]
  },
  {
   "cell_type": "markdown",
   "metadata": {},
   "source": [
    "<br><br><br><br>"
   ]
  },
  {
   "cell_type": "markdown",
   "metadata": {},
   "source": [
    "## 5. Transformer blocks\n",
    "\n",
    "- In many advanced architectures, you will see transformer blocks which consists of\n",
    "    - The multi-head self-attention layer\n",
    "    - Feedforward layer\n",
    "    - Residual connections\n",
    "    - Layer Norm\n",
    "\n",
    "![](../img/transformer_block.png)\n",
    "\n",
    "<!-- <img src=\"img/transformer_block.png\" width=\"400\" height=\"400\"> -->\n",
    "\n",
    "[Source](https://web.stanford.edu/~jurafsky/slp3/9.pdf)"
   ]
  },
  {
   "cell_type": "markdown",
   "metadata": {},
   "source": [
    "**Feedforward layer**\n",
    "\n",
    "- $N$ networks, one at each position.\n",
    "  \n",
    "- Each network is a fully-connected network with one hidden layer, i.e., two weight matrices\n",
    "- The networks are independent for each position and so can be computed in parallel.\n",
    "- It's common to make the the dimensionality of the hidden layer $d_{ff}$ larger than the input dimensionality $d_f$\n",
    " "
   ]
  },
  {
   "cell_type": "markdown",
   "metadata": {},
   "source": [
    "**Residual connections**\n",
    "\n",
    "- Connections that pass information from a lower layer to a higher layer without going through the intermediate layer.\n",
    "\n",
    "- Residual connections help the transformer preserve useful information, train deeper networks, and let each layer build on top of the previous ones, rather than starting over.\n",
    "\n",
    "- They are implemented simply by adding a layer's input vector to its output vector before passing it forward.\n",
    "- Typically, residual connections are used with both attention and feedforward layers.  \n"
   ]
  },
  {
   "cell_type": "markdown",
   "metadata": {},
   "source": [
    "**Layer normalization or layer norm**\n",
    "\n",
    "- The summed vectors are normalized in this layer.\n",
    "  \n",
    "- Layer norm applies something similar to `StandardScaler` so that the mean is 0 and standard deviation is 1 in the vector.\n",
    "- This is done to keep the values of a hidden layer in a range that facilitates gradient-based training.\n",
    "- For each poisition, the input is a $d-$dimensional vector and the output is a normalized $d-$dimensional vector."
   ]
  },
  {
   "cell_type": "markdown",
   "metadata": {},
   "source": [
    "**Putting it all together:**\n",
    "\n",
    "Here is the function computed by a transformer. \n",
    "\n",
    "$$\\begin{align}\n",
    "T^1 &= \\text{SelfAttention}(X)\\\\\n",
    "T^2 &= X + T^1\\\\\n",
    "T^3 &= \\text{LayerNorm}(T^2)\\\\\n",
    "T^4 &= \\text{FFN}(T^3)\\\\\n",
    "T^5 &= T^4 + T^3\\\\\n",
    "H &= \\text{LayerNorm}(T^5)\n",
    "\\end{align}\n",
    "$$\n",
    "\n",
    "- The input and output dimensions of these layers are matched so that they can be stacked.\n",
    "  \n",
    "- Each token $x_i$ at the input to the block has dimensionality $d$.\n",
    "- The input $X$ and output $H$ are both of shape $N \\times d$, where $N$ is the sequence length. \n"
   ]
  },
  {
   "cell_type": "markdown",
   "metadata": {},
   "source": [
    "### 5.1 Language models with transformers  \n",
    "\n",
    "**Language models with single transformer block**\n",
    "\n",
    "\n",
    "- The job of the language modeling head is to take the output $h_N^{L}$, which represents the output token embedding at position $N$ from the final block $L$, and use it to predict the upcoming word at position $N+1$\n",
    "  \n",
    "- The shape of $h_N^{L}$ is $1 \\times d$.\n",
    "- We project it to the **logit** vector of shape $1 \\times V$, where $V$ is the vocabulary size.\n",
    "- Recall the embedding layer at the beginning of the network. The input to our network is one-hot-encoding of tokens and the weight matrix between input and embedding layer is $V \\times d$\n",
    "- Since this linear layer performs the reverse mapping from $d$ dimensions to $V$ dimensions, it is referred to as **unembedding** layer. \n",
    "\n",
    "<br><br>\n",
    "![](../img/transformers-single-layer-LM.png)\n",
    "\n",
    "<!-- <img src=\"img/transformers-single-layer-LM.png\" width=\"700\" height=\"700\"> -->\n",
    "\n",
    "[Source](https://web.stanford.edu/~jurafsky/slp3/9.pdf)"
   ]
  },
  {
   "cell_type": "markdown",
   "metadata": {},
   "source": [
    "<br><br>"
   ]
  },
  {
   "cell_type": "markdown",
   "metadata": {},
   "source": [
    "**Language models with multiple transformer blocks**\n",
    "\n",
    "- Transformers for large language models stack many of these blocks.\n",
    "  \n",
    "- T5 language model or GPT-3 small language models stack 12 such blocks.\n",
    "- GPT-3 large stacks 96 blocks.\n",
    "\n",
    "![](../img/transformers-multi-layer-LM.png)\n",
    "\n",
    "<!-- <img src=\"img/transformers-multi-layer-LM.png\" width=\"500\" height=\"500\"> -->\n",
    "\n",
    "[Source](https://web.stanford.edu/~jurafsky/slp3/9.pdf)"
   ]
  },
  {
   "cell_type": "markdown",
   "metadata": {},
   "source": [
    "<br><br><br><br>"
   ]
  },
  {
   "cell_type": "markdown",
   "metadata": {},
   "source": [
    "## Final comments and summary\n",
    "\n",
    "- Transformers are non-recurrent networks based on self-attention.\n",
    "  \n",
    "- There are two main components of transformers: \n",
    "    - A self-attention layer maps input sequences to output sequences of the same length using attention heads which model how the surrounding words are relevant for the processing of the current word.\n",
    "      \n",
    "    - Positional embeddings/encodings\n",
    "      \n",
    "- A transformer block consists of a  multi-head attention layer, followed by a feedforward layer with residual connections and layer normalizations. These blocks can be stacked together to create powerful networks. "
   ]
  },
  {
   "cell_type": "markdown",
   "metadata": {
    "slideshow": {
     "slide_type": "slide"
    }
   },
   "source": [
    "<br><br><br><br>"
   ]
  },
  {
   "cell_type": "markdown",
   "metadata": {
    "slideshow": {
     "slide_type": "slide"
    },
    "tags": []
   },
   "source": [
    "## Resources\n",
    "Attention-mechanisms and transformers are quite new. But there are many resources on transformers. I'm listing a few resources here. \n",
    "\n",
    "- [Attention is all you need](https://arxiv.org/pdf/1706.03762.pdf)\n",
    "- [Transformers](https://ai.googleblog.com/2017/08/transformer-novel-neural-network.html)\n",
    "- 3Blue1Brown has recently released some videos on transformers\n",
    "    - [But what is a GPT? Visual intro to transformers | Chapter 5, Deep Learning](https://www.youtube.com/watch?v=wjZofJX0v4M)\n",
    "    - [Attention in transformers](https://www.youtube.com/watch?v=eMlx5fFNoYc)\n",
    "- [The Illustrated Transformer](http://jalammar.github.io/illustrated-transformer/)\n",
    "- [Transformers documentation](https://huggingface.co/transformers/index.html)\n",
    "- [A funny video: I taught an AI to make pasta](https://www.youtube.com/watch?v=Y_NvR5dIaOY)\n",
    "- [BERT](https://ai.googleblog.com/2018/11/open-sourcing-bert-state-of-art-pre.html)\n",
    "\n",
    "<br><br><br><br>"
   ]
  },
  {
   "cell_type": "markdown",
   "metadata": {},
   "source": [
    "Coming up: Some applications of transformers"
   ]
  },
  {
   "cell_type": "markdown",
   "metadata": {},
   "source": [
    "![](../img/eva-excited.png)"
   ]
  }
 ],
 "metadata": {
  "celltoolbar": "Slideshow",
  "kernelspec": {
   "display_name": "Python [conda env:575]",
   "language": "python",
   "name": "conda-env-575-py"
  },
  "language_info": {
   "codemirror_mode": {
    "name": "ipython",
    "version": 3
   },
   "file_extension": ".py",
   "mimetype": "text/x-python",
   "name": "python",
   "nbconvert_exporter": "python",
   "pygments_lexer": "ipython3",
   "version": "3.12.0"
  }
 },
 "nbformat": 4,
 "nbformat_minor": 4
}
