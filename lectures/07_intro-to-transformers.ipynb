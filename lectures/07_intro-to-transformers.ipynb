{
 "cells": [
  {
   "cell_type": "markdown",
   "metadata": {},
   "source": [
    "![](img/575_banner.png)"
   ]
  },
  {
   "cell_type": "markdown",
   "metadata": {
    "slideshow": {
     "slide_type": "slide"
    }
   },
   "source": [
    "# Lecture 7: Self-attention and transformers\n",
    "\n",
    "UBC Master of Data Science program, 2021-22\n",
    "\n",
    "Instructor: Varada Kolhatkar\n",
    "\n",
    "> [Attention is all you need!](https://arxiv.org/pdf/1706.03762.pdf)"
   ]
  },
  {
   "cell_type": "markdown",
   "metadata": {},
   "source": [
    "## Lecture plan, imports, LO"
   ]
  },
  {
   "cell_type": "markdown",
   "metadata": {
    "slideshow": {
     "slide_type": "skip"
    },
    "tags": []
   },
   "source": [
    "### Lecture plan \n",
    "\n",
    "- Self-attention layers\n",
    "- Transformer blocks \n",
    "- Break\n",
    "- iClicker questions\n",
    "- Multihead attention\n",
    "- Transfer learning \n",
    "- Course conclusion"
   ]
  },
  {
   "cell_type": "markdown",
   "metadata": {},
   "source": [
    "<br><br>"
   ]
  },
  {
   "cell_type": "markdown",
   "metadata": {},
   "source": [
    "## Imports"
   ]
  },
  {
   "cell_type": "code",
   "execution_count": 1,
   "metadata": {},
   "outputs": [],
   "source": [
    "import sys\n",
    "from collections import defaultdict\n",
    "\n",
    "import matplotlib.pyplot as plt\n",
    "import numpy as np\n",
    "import pandas as pd\n",
    "import torch\n",
    "import torch.nn as nn\n",
    "import torch.optim as optim\n",
    "\n",
    "pd.set_option(\"display.max_colwidth\", 0)"
   ]
  },
  {
   "cell_type": "markdown",
   "metadata": {},
   "source": [
    "<br><br>"
   ]
  },
  {
   "cell_type": "markdown",
   "metadata": {
    "slideshow": {
     "slide_type": "skip"
    }
   },
   "source": [
    "### Learning outcomes\n",
    "\n",
    "From this lecture you will be able to \n",
    "\n",
    "- Broadly explain the limitations of LSTMs. \n",
    "- Explain the idea of self-attention. \n",
    "- Describe the three core operations in self-attention. \n",
    "- Explain the query, key, and value roles in self-attention. \n",
    "- Explain the role of linear projections for query, key, and value in self-attention. \n",
    "- Explain transformer blocks. \n",
    "- Explain the advantages of using transformers over LSTMs. \n",
    "- Broadly explain the idea of multihead attention. \n",
    "- Broadly explain the idea of transfer learning. "
   ]
  },
  {
   "cell_type": "markdown",
   "metadata": {},
   "source": [
    "<br><br>"
   ]
  },
  {
   "cell_type": "markdown",
   "metadata": {},
   "source": [
    "### Attributions\n",
    "\n",
    "This material is heavily based on [Jurafsky and Martin, Chapter 9]((https://web.stanford.edu/~jurafsky/slp3/9.pdf))."
   ]
  },
  {
   "cell_type": "markdown",
   "metadata": {},
   "source": [
    "<br><br><br><br>"
   ]
  },
  {
   "cell_type": "markdown",
   "metadata": {},
   "source": [
    "### Motivation\n",
    "\n",
    "What kind of neural network models are at the core of all state-of-the-art NLP models (e.g., BERT, GPT2, GPT3)? "
   ]
  },
  {
   "cell_type": "markdown",
   "metadata": {},
   "source": [
    "<br><br><br><br>"
   ]
  },
  {
   "cell_type": "markdown",
   "metadata": {},
   "source": [
    "## Self-attention networks: Transformers"
   ]
  },
  {
   "cell_type": "markdown",
   "metadata": {},
   "source": [
    "### Limitations of LSTMs\n",
    "\n",
    "- LSTMs are better than vanilla RNNs in mitigating the problem of loss of distant information caused by vanishing gradients. \n",
    "- But the underlying problem remains.\n",
    "- For long sequences, there is still a loss of relevant information and difficulties in training. \n",
    "- Also, inherently sequential nature of LSTMs make them hard to parallelize. So they are slow to train. \n",
    "- This led to development of **transformers**. \n",
    "    - They are much faster to train compared to LSTMs and much better at capturing long distance dependencies. \n",
    "    - They are at the core of all state-of-the-art NLP models (e.g., BERT, GPT2, GPT3). "
   ]
  },
  {
   "cell_type": "markdown",
   "metadata": {},
   "source": [
    "### Transformers \n",
    "\n",
    "- Transformers provide an approach to sequence processing but they eliminate recurrent connections in RNNs and LSTMs.   \n",
    "- Similar to RNNs or LSTMs, they map sequences of input vectors $(x_1, \\dots, x_n)$ to sequences of output vectors $(y_1, \\dots, y_n)$ of the same length.  \n",
    "- They are made up of **transformer blocks** which are multilayer networks made by combining \n",
    "    - simple linear layers,\n",
    "    - feedforward layers, and \n",
    "    - **self-attention layers**, which is the key innovation of transformers. \n",
    "- You will see these transformer blocks in modern language model architectures. \n",
    "- Let's first focus on self-attention layer. \n",
    "- Later we'll see how it fits in the larger transformer blocks. "
   ]
  },
  {
   "cell_type": "markdown",
   "metadata": {},
   "source": [
    "![](img/gpt3-transformer-blocks.gif)\n",
    "\n",
    "[Source](https://jalammar.github.io/how-gpt3-works-visualizations-animations/)"
   ]
  },
  {
   "cell_type": "markdown",
   "metadata": {},
   "source": [
    "### Self-attention layer\n",
    "\n",
    "- Self-attention allows a network to directly extract and use information from arbitrarily large contexts without the need to pass it through intermediate recurrent connections as in RNNs. \n",
    "- Below is a single backward looking self-attention layer which maps sequences of input vectors $(x_1, \\dots, x_n)$ to sequences of output vectors $(y_1, \\dots, y_n)$ of the same length. \n",
    "- When processing an item at time $t$, the model has access to all of the inputs up to and including the one under consideration. \n",
    "- It does not have access to the input beyond the current one. \n",
    "- Note that unlike RNNs or LSTMs, each computation can be done independently; it does not depend upon the previous computation which allows us to easily parallelize forward pass and the training of such models. \n",
    "\n",
    "![](img/self_attention.png)\n",
    "<!-- <img src=\"img/self_attention.png\" width=\"600\" height=\"600\"> -->\n",
    "\n",
    "[Source](https://web.stanford.edu/~jurafsky/slp3/9.pdf)"
   ]
  },
  {
   "cell_type": "markdown",
   "metadata": {},
   "source": [
    "### Self-attention: Core idea \n",
    "- We want to be able to compare a token of our interest to a collection of other tokens in a way that reveals their relevance in the current context.\n",
    "- For each token in the sequence, we assign a **weight** based on how relevant it is to the token under consideration. \n",
    "- Calculate the output for the current token based on these weights. "
   ]
  },
  {
   "cell_type": "markdown",
   "metadata": {},
   "source": [
    "### Example: Calculating the output $y$ for the token _nuts_ in the given context\n",
    "\n",
    "![](img/self_attention_ex_nuts.png)\n",
    "\n",
    "<!-- <img src=\"img/self_attention_ex_nuts.png\" width=\"600\" height=\"600\"> -->"
   ]
  },
  {
   "cell_type": "markdown",
   "metadata": {},
   "source": [
    "### The key operations in self-attention\n",
    "\n",
    "In order to calculate the output $y_i$\n",
    "\n",
    "- We score token $x_i$ with all previous tokens $x_j$ by taking the dot product between them. \n",
    "$$\\text{score}(x_i, x_j) = x_i \\cdot x_j$$\n",
    "\n",
    "- We apply $\\text{softmax}$ on these scores to get probability distribution over these scores. \n",
    "$$\\alpha_{ij} = \\text{softmax}(\\text{score}(x_i \\cdot x_j)), \\forall j \\leq i$$\n",
    "\n",
    "- The output is the weighted sum of the inputs seen so far, where the weights correspond to the $\\alpha$ values calculated above. \n",
    " $$y_i = \\sum_{j \\leq i} \\alpha_{ij}x_j$$\n",
    " \n",
    "These three operations represent the core of an attention-based approach. These operations can be carried out independently for each input allowing easy parallelism. "
   ]
  },
  {
   "cell_type": "markdown",
   "metadata": {},
   "source": [
    "### Query, Key, and Value roles\n",
    "\n",
    "Note that in the process of calculating outputs corresponding to each input, each input embedding plays three kinds of roles. \n",
    "\n",
    "- **Query**: _the current focus of attention_ when being compared to all previous inputs. \n",
    "- **Key**: _a preceding input_ being compared to the current focus of attention.    \n",
    "- **Value**: used to compute the output for the current focus of attention. \n",
    "\n",
    "For these three roles transformer introduces three weight matrices: $W^Q, W^K, W^V$. These weights will be used to project each input vector $x_i$ into its role as a key, query, or value.\n",
    "\n",
    "$$q_i = W^Qx_i$$\n",
    "$$k_i = W^Kx_i$$\n",
    "$$v_i = W^Vx_i$$\n",
    "\n",
    "For now let's assume that all these weight matrices have the same dimensionality and so the projected vectors in each case are going to be of the same size. "
   ]
  },
  {
   "cell_type": "markdown",
   "metadata": {},
   "source": [
    "With these projections our equations become: \n",
    "\n",
    "- We score the $x_i$ with all previous tokens $x_j$ by taking the dot product between $x_i$'s query vector $q_i$ and $x_j$'s key vector $k_j$:  \n",
    "$$\\text{score}(x_i, x_j) = q_i \\cdot k_j$$\n",
    "\n",
    "- The softmax calculation remains the same but the output calculation for $y_i$ is now based on a weighted sum over the projected vectors $v$:\n",
    " $$y_i = \\sum_{j \\leq i} \\alpha_{ij}v_j$$\n",
    " "
   ]
  },
  {
   "cell_type": "markdown",
   "metadata": {},
   "source": [
    "### Self-attention: Calculating the value of $y_3$\n",
    "\n",
    "![](img/self_attention_ex.png)\n",
    "\n",
    "<!-- <img src=\"img/self_attention_ex.png\" width=\"400\" height=\"400\"> -->\n",
    "\n",
    "[Source](https://web.stanford.edu/~jurafsky/slp3/9.pdf)"
   ]
  },
  {
   "cell_type": "markdown",
   "metadata": {},
   "source": [
    "### Self-attention example: Calculating the value of $y_3$\n",
    "\n",
    "- Let's calculate the output of _**nuts**_ in the following sequence with $K, Q, V$ matrices.  \n",
    "> had bowl nuts \n",
    "- Suppose input embedding is of size 300. \n",
    "- Suppose the projection matrices $W^k, W^q, W^v$ are of shape $300 \\times 100$. \n",
    "- So word$_k$, word$_q$, word$_v$ provide 100-dimensional projections of each word corresponding to the key, query and value roles. For example, nuts$_k$, nuts$_q$, nuts$_v$ represent 100-dimensional projections of the word **nuts** corresponding to its key, query, and value roles, respectively.\n",
    "- The dot products will be calculated between the appropriate query and key projections. In this example, we will calculate the following dot products:\n",
    "    - $\\text{nuts}_q \\cdot \\text{had}_k$\n",
    "    - $\\text{nuts}_q \\cdot \\text{bowl}_k$    \n",
    "    - $\\text{nuts}_q \\cdot \\text{nuts}_k$\n",
    "- We apply softmax on these dot products. Suppose the softmax output in this toy example is \n",
    "\\begin{bmatrix} 0.005 & 0.085 & 0.91 \\end{bmatrix}\n",
    "- So we have weights associated with three input words: _had_ (0.005), _bowl_ (0.085) and _nuts_ (0.91)\n",
    "- We can calculate the output as the weighted sum of the inputs. Here we will use the value projections of the inputs: $0.005 \\times \\text{had}_v + 0.085 \\times \\text{bowl}_v + 0.91 \\times \\text{nuts}_v$\n",
    "- Since we will be adding 100 dimensional vectors (size of our projections), the dimensionality of the output $y_3$ is going to be 100. \n",
    "\n",
    "![](img/self_attention_nuts.png)\n",
    "\n",
    "<!-- <img src=\"img/self_attention_ex.png\" width=\"400\" height=\"400\"> -->\n",
    "\n",
    "[Source](https://web.stanford.edu/~jurafsky/slp3/9.pdf)"
   ]
  },
  {
   "cell_type": "markdown",
   "metadata": {},
   "source": [
    "### Break\n",
    "\n",
    "![](img/eva-coffee.png)"
   ]
  },
  {
   "cell_type": "markdown",
   "metadata": {},
   "source": [
    "### Scaling the dot products\n",
    "\n",
    "- The result of a dot product can be arbitrarily large and exponentiating such values can lead to numerical issues and problems during training. \n",
    "- So the dot products are usually scaled before applying the softmax. \n",
    "- The most common scaling is where we divide the dot product by the square root of the dimensionality of the query and the key vectors. \n",
    "$$\\text{score}(x_i, x_j) = \\frac{q_i \\cdot k_j}{\\sqrt{d_k}}$$\n"
   ]
  },
  {
   "cell_type": "markdown",
   "metadata": {},
   "source": [
    "- This is how we calculate a single output of a single time step $i$. \n",
    "- Would the output calculation at different time steps be dependent upon each other? "
   ]
  },
  {
   "cell_type": "markdown",
   "metadata": {},
   "source": [
    "### Efficient calculations with matrix multiplication \n",
    "\n",
    "- $X_{N \\times d} \\rightarrow$ matrix of all tokens in a sequence of length $N$ with each token represented with a $d$ dimensional embedding. Each row of $X$ is embedding representation of one token of the input. The we can calculate $Q, K, V$ as follows.\n",
    "\n",
    "$$Q = XW^Q$$\n",
    "$$K = XW^K$$\n",
    "$$V = XW^V$$"
   ]
  },
  {
   "cell_type": "markdown",
   "metadata": {},
   "source": [
    "- With these, we can now calculate all the query-key scores simultaneously as $Q \\times K$. \n",
    "\n",
    "![](img/self_attention_calc_all.png)\n",
    "\n",
    "<!-- <img src=\"img/self_attention_calc_all.png\" width=\"300\" height=\"300\"> -->\n",
    "\n",
    "- We can them apply softmax on all rows and multiply the resulting matrix by $V$.\n",
    "\n",
    "$$SelfAttention(Q, K, V) = \\text{softmax}(\\frac{QK}{\\sqrt{d_k}})V$$\n",
    "\n",
    "- Finally, we get output sequence $y_1, \\dots, y_n$.   \n"
   ]
  },
  {
   "cell_type": "markdown",
   "metadata": {},
   "source": [
    "- What's the problem with the approach above?\n",
    "    - This process goes a bit too far since the calculation of the comparisons in $QK$ results in a score for each value to each key value, _including those that follow the query_. \n",
    "    - Is this appropriate in the setting of language modeling? \n",
    "\n",
    "![](img/self_attention_calc_partial.png)\n",
    "\n",
    "<!-- <img src=\"img/self_attention_calc_partial.png\" width=\"300\" height=\"300\"> -->\n",
    "\n",
    "[Source](https://web.stanford.edu/~jurafsky/slp3/9.pdf)"
   ]
  },
  {
   "cell_type": "markdown",
   "metadata": {},
   "source": [
    "### Transformer blocks\n",
    "\n",
    "- In many advanced architectures, you will see transformer blocks which consists of\n",
    "    - The self-attention layer\n",
    "    - Additional feedforward layers\n",
    "    - Residual connections\n",
    "    - Normalizing layers\n",
    "\n",
    "![](img/transformer_block.png)\n",
    "\n",
    "<!-- <img src=\"img/transformer_block.png\" width=\"350\" height=\"350\"> -->\n",
    "\n",
    "[Source](https://web.stanford.edu/~jurafsky/slp3/9.pdf)"
   ]
  },
  {
   "cell_type": "markdown",
   "metadata": {},
   "source": [
    "- The input and output dimensions of these layers are matched so that they can be stacked. \n",
    "- In deep networks, **residual connections** are connections that pass information from a lower layer to a higher layer without going through the intermediate layer. Why? It has been shown that allowing information from the activation going forward and the gradient going backwards to skip a layer improves learning and gives higher level layers direct access to information from lower layers. \n",
    "- We then have a summed vector (projected output of the attention or feedforward layer + input of the attention or feedforward layers). \n",
    "- **Layer normalization or layer norm** normalizes the resulting vector which improves training performance in deep neural networks keeping the values of a hidden layer in a range that facilitates gradient-based training. Layer norm applies something similar to `StandardScaler` so that the mean is 0 and standard deviation is 1 in the vector. "
   ]
  },
  {
   "cell_type": "markdown",
   "metadata": {},
   "source": [
    "<br><br><br><br>"
   ]
  },
  {
   "cell_type": "markdown",
   "metadata": {},
   "source": [
    "<br><br><br><br>"
   ]
  },
  {
   "cell_type": "markdown",
   "metadata": {
    "slideshow": {
     "slide_type": "slide"
    }
   },
   "source": [
    "## ❓❓ Questions for you\n",
    "\n",
    "iClicker cloud join link: https://join.iclicker.com/4QVT4"
   ]
  },
  {
   "cell_type": "markdown",
   "metadata": {
    "slideshow": {
     "slide_type": "slide"
    }
   },
   "source": [
    "### Exercise 7.1: Select all of the following statements which are **True** (iClicker)\n",
    "\n",
    "- (A) The main difference between the RNN layer and a self-attention layer is that \n",
    "in self-attention, we pass the information without intermediate recurrent connections. \n",
    "- (B) In self-attention, the output $y_i$ of input $x_i$ at time $i$ is a single number. \n",
    "- (C) Calculating attention weights is quadratic in the length of the input \n",
    "since we need to compute dot products between each pair of tokens in\n",
    "the input.  \n",
    "- (D) Self-attention results in contextual embeddings. \n",
    "- (E) Transformers seem to be more intuitive compared to LSTMs. \n",
    "\n",
    "<br><br><br><br>"
   ]
  },
  {
   "cell_type": "markdown",
   "metadata": {},
   "source": [
    "```{admonition} Exercise 8.2: V's Solutions!\n",
    ":class: tip, dropdown\n",
    "- (A) True\n",
    "- (B) False\n",
    "- (C) True\n",
    "- (D) True\n",
    "- (E) True (for me)\n",
    "```"
   ]
  },
  {
   "cell_type": "markdown",
   "metadata": {},
   "source": [
    "<br><br><br><br>"
   ]
  },
  {
   "cell_type": "markdown",
   "metadata": {},
   "source": [
    "## Multi-head attention\n",
    "\n",
    "- Different words in a sentence can relate to each other in many different ways simultaneously. \n",
    "- Consider the sentence below. \n",
    "> The cat was scared because it didn't recognize me in my mask. \n",
    "\n",
    "Let's look at all the dependencies in this sentence. "
   ]
  },
  {
   "cell_type": "code",
   "execution_count": 2,
   "metadata": {},
   "outputs": [],
   "source": [
    "import spacy\n",
    "from spacy import displacy\n",
    "\n",
    "nlp = spacy.load(\"en_core_web_md\")"
   ]
  },
  {
   "cell_type": "code",
   "execution_count": 3,
   "metadata": {},
   "outputs": [
    {
     "data": {
      "text/html": [
       "<span class=\"tex2jax_ignore\"><svg xmlns=\"http://www.w3.org/2000/svg\" xmlns:xlink=\"http://www.w3.org/1999/xlink\" xml:lang=\"en\" id=\"817cfc5a6aa241c9b5d6aca9a1c181eb-0\" class=\"displacy\" width=\"1100\" height=\"399.5\" direction=\"ltr\" style=\"max-width: none; height: 399.5px; color: #000000; background: #ffffff; font-family: Arial; direction: ltr\">\n",
       "<text class=\"displacy-token\" fill=\"currentColor\" text-anchor=\"middle\" y=\"309.5\">\n",
       "    <tspan class=\"displacy-word\" fill=\"currentColor\" x=\"50\">I</tspan>\n",
       "    <tspan class=\"displacy-tag\" dy=\"2em\" fill=\"currentColor\" x=\"50\">PRON</tspan>\n",
       "</text>\n",
       "\n",
       "<text class=\"displacy-token\" fill=\"currentColor\" text-anchor=\"middle\" y=\"309.5\">\n",
       "    <tspan class=\"displacy-word\" fill=\"currentColor\" x=\"225\">gave</tspan>\n",
       "    <tspan class=\"displacy-tag\" dy=\"2em\" fill=\"currentColor\" x=\"225\">VERB</tspan>\n",
       "</text>\n",
       "\n",
       "<text class=\"displacy-token\" fill=\"currentColor\" text-anchor=\"middle\" y=\"309.5\">\n",
       "    <tspan class=\"displacy-word\" fill=\"currentColor\" x=\"400\">my</tspan>\n",
       "    <tspan class=\"displacy-tag\" dy=\"2em\" fill=\"currentColor\" x=\"400\">PRON</tspan>\n",
       "</text>\n",
       "\n",
       "<text class=\"displacy-token\" fill=\"currentColor\" text-anchor=\"middle\" y=\"309.5\">\n",
       "    <tspan class=\"displacy-word\" fill=\"currentColor\" x=\"575\">cat</tspan>\n",
       "    <tspan class=\"displacy-tag\" dy=\"2em\" fill=\"currentColor\" x=\"575\">NOUN</tspan>\n",
       "</text>\n",
       "\n",
       "<text class=\"displacy-token\" fill=\"currentColor\" text-anchor=\"middle\" y=\"309.5\">\n",
       "    <tspan class=\"displacy-word\" fill=\"currentColor\" x=\"750\">some</tspan>\n",
       "    <tspan class=\"displacy-tag\" dy=\"2em\" fill=\"currentColor\" x=\"750\">DET</tspan>\n",
       "</text>\n",
       "\n",
       "<text class=\"displacy-token\" fill=\"currentColor\" text-anchor=\"middle\" y=\"309.5\">\n",
       "    <tspan class=\"displacy-word\" fill=\"currentColor\" x=\"925\">food</tspan>\n",
       "    <tspan class=\"displacy-tag\" dy=\"2em\" fill=\"currentColor\" x=\"925\">NOUN</tspan>\n",
       "</text>\n",
       "\n",
       "<g class=\"displacy-arrow\">\n",
       "    <path class=\"displacy-arc\" id=\"arrow-817cfc5a6aa241c9b5d6aca9a1c181eb-0-0\" stroke-width=\"2px\" d=\"M70,264.5 C70,177.0 215.0,177.0 215.0,264.5\" fill=\"none\" stroke=\"currentColor\"/>\n",
       "    <text dy=\"1.25em\" style=\"font-size: 0.8em; letter-spacing: 1px\">\n",
       "        <textPath xlink:href=\"#arrow-817cfc5a6aa241c9b5d6aca9a1c181eb-0-0\" class=\"displacy-label\" startOffset=\"50%\" side=\"left\" fill=\"currentColor\" text-anchor=\"middle\">nsubj</textPath>\n",
       "    </text>\n",
       "    <path class=\"displacy-arrowhead\" d=\"M70,266.5 L62,254.5 78,254.5\" fill=\"currentColor\"/>\n",
       "</g>\n",
       "\n",
       "<g class=\"displacy-arrow\">\n",
       "    <path class=\"displacy-arc\" id=\"arrow-817cfc5a6aa241c9b5d6aca9a1c181eb-0-1\" stroke-width=\"2px\" d=\"M420,264.5 C420,177.0 565.0,177.0 565.0,264.5\" fill=\"none\" stroke=\"currentColor\"/>\n",
       "    <text dy=\"1.25em\" style=\"font-size: 0.8em; letter-spacing: 1px\">\n",
       "        <textPath xlink:href=\"#arrow-817cfc5a6aa241c9b5d6aca9a1c181eb-0-1\" class=\"displacy-label\" startOffset=\"50%\" side=\"left\" fill=\"currentColor\" text-anchor=\"middle\">poss</textPath>\n",
       "    </text>\n",
       "    <path class=\"displacy-arrowhead\" d=\"M420,266.5 L412,254.5 428,254.5\" fill=\"currentColor\"/>\n",
       "</g>\n",
       "\n",
       "<g class=\"displacy-arrow\">\n",
       "    <path class=\"displacy-arc\" id=\"arrow-817cfc5a6aa241c9b5d6aca9a1c181eb-0-2\" stroke-width=\"2px\" d=\"M245,264.5 C245,89.5 570.0,89.5 570.0,264.5\" fill=\"none\" stroke=\"currentColor\"/>\n",
       "    <text dy=\"1.25em\" style=\"font-size: 0.8em; letter-spacing: 1px\">\n",
       "        <textPath xlink:href=\"#arrow-817cfc5a6aa241c9b5d6aca9a1c181eb-0-2\" class=\"displacy-label\" startOffset=\"50%\" side=\"left\" fill=\"currentColor\" text-anchor=\"middle\">dative</textPath>\n",
       "    </text>\n",
       "    <path class=\"displacy-arrowhead\" d=\"M570.0,266.5 L578.0,254.5 562.0,254.5\" fill=\"currentColor\"/>\n",
       "</g>\n",
       "\n",
       "<g class=\"displacy-arrow\">\n",
       "    <path class=\"displacy-arc\" id=\"arrow-817cfc5a6aa241c9b5d6aca9a1c181eb-0-3\" stroke-width=\"2px\" d=\"M770,264.5 C770,177.0 915.0,177.0 915.0,264.5\" fill=\"none\" stroke=\"currentColor\"/>\n",
       "    <text dy=\"1.25em\" style=\"font-size: 0.8em; letter-spacing: 1px\">\n",
       "        <textPath xlink:href=\"#arrow-817cfc5a6aa241c9b5d6aca9a1c181eb-0-3\" class=\"displacy-label\" startOffset=\"50%\" side=\"left\" fill=\"currentColor\" text-anchor=\"middle\">det</textPath>\n",
       "    </text>\n",
       "    <path class=\"displacy-arrowhead\" d=\"M770,266.5 L762,254.5 778,254.5\" fill=\"currentColor\"/>\n",
       "</g>\n",
       "\n",
       "<g class=\"displacy-arrow\">\n",
       "    <path class=\"displacy-arc\" id=\"arrow-817cfc5a6aa241c9b5d6aca9a1c181eb-0-4\" stroke-width=\"2px\" d=\"M245,264.5 C245,2.0 925.0,2.0 925.0,264.5\" fill=\"none\" stroke=\"currentColor\"/>\n",
       "    <text dy=\"1.25em\" style=\"font-size: 0.8em; letter-spacing: 1px\">\n",
       "        <textPath xlink:href=\"#arrow-817cfc5a6aa241c9b5d6aca9a1c181eb-0-4\" class=\"displacy-label\" startOffset=\"50%\" side=\"left\" fill=\"currentColor\" text-anchor=\"middle\">dobj</textPath>\n",
       "    </text>\n",
       "    <path class=\"displacy-arrowhead\" d=\"M925.0,266.5 L933.0,254.5 917.0,254.5\" fill=\"currentColor\"/>\n",
       "</g>\n",
       "</svg></span>"
      ],
      "text/plain": [
       "<IPython.core.display.HTML object>"
      ]
     },
     "metadata": {},
     "output_type": "display_data"
    }
   ],
   "source": [
    "doc = nlp(\"I gave my cat some food\")\n",
    "displacy.render(doc, style=\"dep\")"
   ]
  },
  {
   "cell_type": "markdown",
   "metadata": {},
   "source": [
    "- So a single attention layer usually is not enough to capture all different kinds of parallel relations between inputs. \n",
    "- Transformers address this issue with **multihead self-attention layers**.\n",
    "- These self-attention layers are called **heads**.\n",
    "- They are at the same depth of the model, operate in parallel, each with a different set of parameters. \n",
    "- The idea is that with these different sets of parameters, each head can learn different aspects of the relationships that exist among inputs.\n",
    "\n",
    "\\begin{equation}\n",
    "\\begin{split}\n",
    "MultiHeadAttn(X) &= (\\text{head}_1 \\oplus \\text{head}_2 \\dots \\oplus \\text{head}_h)W^O\\\\\n",
    "               Q &= XW_i^Q ; K = XW_i^K ; V = XW_i^V\\\\\n",
    "               \\text{head}_i &= SelfAttention(Q,K,V)\n",
    "\\end{split}\n",
    "\\end{equation}"
   ]
  },
  {
   "cell_type": "markdown",
   "metadata": {},
   "source": [
    "![](img/multihead_attention.png)\n",
    "\n",
    "<!-- <img src=\"img/multihead_attention.png\" width=\"600\" height=\"600\"> -->\n",
    "\n",
    "[Source](https://web.stanford.edu/~jurafsky/slp3/9.pdf)"
   ]
  },
  {
   "cell_type": "markdown",
   "metadata": {},
   "source": [
    "### Multi-head attention visualization\n",
    "- Similar to RNNs you can stack self-attention layers or multihead self-attention layers on the top of each other.\n",
    "- Let's look at this visualization which shows where the attention of different attention heads is going in multihead attention. \n",
    "    - [Multi-head attention interactive visualization](https://colab.research.google.com/github/tensorflow/tensor2tensor/blob/master/tensor2tensor/notebooks/hello_t2t.ipynb#scrollTo=OJKU36QAfqOC)"
   ]
  },
  {
   "cell_type": "markdown",
   "metadata": {},
   "source": [
    "### Let's try it out with PyTorch"
   ]
  },
  {
   "cell_type": "code",
   "execution_count": 4,
   "metadata": {},
   "outputs": [],
   "source": [
    "from torch.nn import MultiheadAttention"
   ]
  },
  {
   "cell_type": "code",
   "execution_count": 5,
   "metadata": {},
   "outputs": [],
   "source": [
    "embed_dim = 12\n",
    "num_heads = 4\n",
    "seqlen = 20\n",
    "\n",
    "multi_attn = nn.MultiheadAttention(embed_dim, num_heads)"
   ]
  },
  {
   "cell_type": "code",
   "execution_count": 6,
   "metadata": {},
   "outputs": [],
   "source": [
    "query = torch.rand(10, embed_dim)  # target_seq_len, query_embedding_dim\n",
    "key = torch.rand(seqlen, embed_dim)  # source_seq_len, key_embedding_dim\n",
    "value = torch.rand(seqlen, embed_dim)  # source_seq_len, value_embedding_dim"
   ]
  },
  {
   "cell_type": "code",
   "execution_count": 7,
   "metadata": {},
   "outputs": [],
   "source": [
    "attn_output, attn_output_weights = multi_attn(query, key, value)"
   ]
  },
  {
   "cell_type": "code",
   "execution_count": 8,
   "metadata": {},
   "outputs": [
    {
     "data": {
      "text/plain": [
       "torch.Size([10, 12])"
      ]
     },
     "execution_count": 8,
     "metadata": {},
     "output_type": "execute_result"
    }
   ],
   "source": [
    "attn_output.shape"
   ]
  },
  {
   "cell_type": "code",
   "execution_count": 9,
   "metadata": {},
   "outputs": [
    {
     "data": {
      "text/plain": [
       "tensor([[-1.0771e-01, -4.3447e-03, -4.0930e-02,  6.0612e-01,  5.6192e-01,\n",
       "         -1.5399e-02, -3.7981e-01, -1.6622e-01,  5.1085e-02,  5.7880e-01,\n",
       "         -1.5687e-03,  1.9999e-01],\n",
       "        [-1.0806e-01, -2.4403e-03, -4.2450e-02,  6.0569e-01,  5.6444e-01,\n",
       "         -1.5939e-02, -3.8356e-01, -1.6585e-01,  5.1074e-02,  5.7944e-01,\n",
       "          1.4274e-03,  2.0143e-01],\n",
       "        [-1.0800e-01, -2.5962e-03, -4.1494e-02,  6.0620e-01,  5.6307e-01,\n",
       "         -1.5273e-02, -3.8123e-01, -1.6550e-01,  5.0124e-02,  5.7931e-01,\n",
       "         -3.5028e-04,  2.0030e-01],\n",
       "        [-1.0712e-01, -2.3822e-03, -4.1292e-02,  6.0639e-01,  5.6253e-01,\n",
       "         -1.5737e-02, -3.7916e-01, -1.6535e-01,  4.9301e-02,  5.7799e-01,\n",
       "         -1.4083e-03,  1.9952e-01],\n",
       "        [-1.0907e-01, -1.8094e-03, -4.1916e-02,  6.0795e-01,  5.6262e-01,\n",
       "         -1.4327e-02, -3.8275e-01, -1.6536e-01,  4.9692e-02,  5.8252e-01,\n",
       "          2.2621e-04,  1.9918e-01],\n",
       "        [-1.0959e-01, -2.1545e-03, -4.1269e-02,  6.0777e-01,  5.6223e-01,\n",
       "         -1.3373e-02, -3.8301e-01, -1.6487e-01,  5.0858e-02,  5.8282e-01,\n",
       "          7.4795e-04,  1.9915e-01],\n",
       "        [-1.0623e-01, -4.1015e-03, -4.1545e-02,  6.0633e-01,  5.6262e-01,\n",
       "         -1.6808e-02, -3.8030e-01, -1.6782e-01,  5.1358e-02,  5.7783e-01,\n",
       "         -7.8240e-04,  2.0117e-01],\n",
       "        [-1.0878e-01, -2.3144e-03, -4.1383e-02,  6.0720e-01,  5.6259e-01,\n",
       "         -1.4250e-02, -3.8246e-01, -1.6540e-01,  5.0728e-02,  5.8136e-01,\n",
       "          6.0507e-04,  1.9973e-01],\n",
       "        [-1.0739e-01, -5.0730e-03, -4.0961e-02,  6.0730e-01,  5.6228e-01,\n",
       "         -1.5084e-02, -3.8135e-01, -1.6695e-01,  5.1675e-02,  5.8089e-01,\n",
       "         -1.3495e-03,  2.0073e-01],\n",
       "        [-1.0841e-01, -4.9620e-03, -4.2513e-02,  6.0756e-01,  5.6201e-01,\n",
       "         -1.6650e-02, -3.8308e-01, -1.6846e-01,  5.2627e-02,  5.8126e-01,\n",
       "         -6.4524e-04,  2.0081e-01]], grad_fn=<SqueezeBackward1>)"
      ]
     },
     "execution_count": 9,
     "metadata": {},
     "output_type": "execute_result"
    }
   ],
   "source": [
    "attn_output"
   ]
  },
  {
   "cell_type": "code",
   "execution_count": 10,
   "metadata": {},
   "outputs": [
    {
     "data": {
      "text/plain": [
       "torch.Size([10, 20])"
      ]
     },
     "execution_count": 10,
     "metadata": {},
     "output_type": "execute_result"
    }
   ],
   "source": [
    "attn_output_weights.shape"
   ]
  },
  {
   "cell_type": "code",
   "execution_count": 11,
   "metadata": {},
   "outputs": [
    {
     "data": {
      "text/plain": [
       "torch.Size([10, 20])"
      ]
     },
     "execution_count": 11,
     "metadata": {},
     "output_type": "execute_result"
    }
   ],
   "source": [
    "attn_output_weights.shape"
   ]
  },
  {
   "cell_type": "markdown",
   "metadata": {},
   "source": [
    "<br><br>"
   ]
  },
  {
   "cell_type": "markdown",
   "metadata": {
    "slideshow": {
     "slide_type": "slide"
    }
   },
   "source": [
    "<br><br><br><br>"
   ]
  },
  {
   "cell_type": "markdown",
   "metadata": {
    "jp-MarkdownHeadingCollapsed": true,
    "slideshow": {
     "slide_type": "slide"
    },
    "tags": []
   },
   "source": [
    "## Resources\n",
    "Attention-mechanisms and transformers are quite new. But there are many resources on transformers. I'm listing a few resources here. \n",
    "\n",
    "- [Attention is all you need](https://arxiv.org/pdf/1706.03762.pdf)\n",
    "- [Transformers](https://ai.googleblog.com/2017/08/transformer-novel-neural-network.html)\n",
    "- [The Illustrated Transformer](http://jalammar.github.io/illustrated-transformer/)\n",
    "- [Transformers documentation](https://huggingface.co/transformers/index.html)\n",
    "- [A funny video: I taught an AI to make pasta](https://www.youtube.com/watch?v=Y_NvR5dIaOY)\n",
    "- [BERT](https://ai.googleblog.com/2018/11/open-sourcing-bert-state-of-art-pre.html)\n",
    "\n",
    "<br><br><br><br>"
   ]
  }
 ],
 "metadata": {
  "celltoolbar": "Slideshow",
  "kernelspec": {
   "display_name": "Python [conda env:563]",
   "language": "python",
   "name": "conda-env-563-py"
  },
  "language_info": {
   "codemirror_mode": {
    "name": "ipython",
    "version": 3
   },
   "file_extension": ".py",
   "mimetype": "text/x-python",
   "name": "python",
   "nbconvert_exporter": "python",
   "pygments_lexer": "ipython3",
   "version": "3.10.8"
  }
 },
 "nbformat": 4,
 "nbformat_minor": 4
}
