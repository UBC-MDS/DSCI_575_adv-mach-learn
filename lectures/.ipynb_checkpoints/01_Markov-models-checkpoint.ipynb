{
 "cells": [
  {
   "cell_type": "markdown",
   "metadata": {},
   "source": [
    "![](img/575_banner.png)"
   ]
  },
  {
   "cell_type": "markdown",
   "metadata": {
    "slideshow": {
     "slide_type": "slide"
    }
   },
   "source": [
    "# Lecture 1: Markov Models \n",
    "\n",
    "UBC Master of Data Science program, 2023-24\n",
    "\n",
    "Instructor: Varada Kolhatkar"
   ]
  },
  {
   "cell_type": "markdown",
   "metadata": {},
   "source": [
    "## Lecture plan, imports, LO"
   ]
  },
  {
   "cell_type": "markdown",
   "metadata": {
    "slideshow": {
     "slide_type": "skip"
    }
   },
   "source": [
    "### Imports "
   ]
  },
  {
   "cell_type": "code",
   "execution_count": 1,
   "metadata": {
    "slideshow": {
     "slide_type": "skip"
    }
   },
   "outputs": [
    {
     "name": "stdout",
     "output_type": "stream",
     "text": [
      "Intel MKL WARNING: Support of Intel(R) Streaming SIMD Extensions 4.2 (Intel(R) SSE4.2) enabled only processors has been deprecated. Intel oneAPI Math Kernel Library 2025.0 will require Intel(R) Advanced Vector Extensions (Intel(R) AVX) instructions.\n",
      "Intel MKL WARNING: Support of Intel(R) Streaming SIMD Extensions 4.2 (Intel(R) SSE4.2) enabled only processors has been deprecated. Intel oneAPI Math Kernel Library 2025.0 will require Intel(R) Advanced Vector Extensions (Intel(R) AVX) instructions.\n"
     ]
    }
   ],
   "source": [
    "import os\n",
    "import re\n",
    "import sys\n",
    "import time\n",
    "from collections import Counter, defaultdict\n",
    "\n",
    "import IPython\n",
    "import nltk\n",
    "import numpy as np\n",
    "import pandas as pd\n",
    "from IPython.display import HTML, display\n",
    "from nltk.corpus import stopwords\n",
    "from nltk.tokenize import sent_tokenize, word_tokenize"
   ]
  },
  {
   "cell_type": "markdown",
   "metadata": {
    "slideshow": {
     "slide_type": "skip"
    }
   },
   "source": [
    "### Learning outcomes\n",
    "\n",
    "From this lesson you will be able to\n",
    "\n",
    "- Explain the general idea of a language model and name some of its applications. \n",
    "- Define Markov chains and explain terminology (states, initial probability distribution over states, and transition matrix) related to Markov chains.\n",
    "- State Markov assumption.\n",
    "- Compute the probability of a sequence of states. \n",
    "- Compute the probability of being in a state at time $t$. \n",
    "- Explain the general idea of a stationary distribution."
   ]
  },
  {
   "cell_type": "markdown",
   "metadata": {},
   "source": [
    "<br><br><br><br>"
   ]
  },
  {
   "cell_type": "markdown",
   "metadata": {
    "slideshow": {
     "slide_type": "slide"
    }
   },
   "source": [
    "## 1. Language models: motivation"
   ]
  },
  {
   "cell_type": "markdown",
   "metadata": {},
   "source": [
    "### 1.1 Activity\n",
    "\n",
    "Each of you will receive a sticky note with a word on it. Here's what you'll do:\n",
    "- Carefully **remove the sticky note to see the word**. This word is for your eyes only — no peeking, neighbours!\n",
    "- Think quickly: what word would logically follow the word on the sticky note? **Write this next word on a new sticky note**.\n",
    "- You have about 20 seconds for this step, so trust your instincts!\n",
    "- **Pass your predicted word to the person next to you**. Do not pass the word you received from your neighbour forward. Keep the chain going!\n",
    "- After the last person in your row has finished, **collaboratively arrange your sticky notes on the table to form a complete sentence**.\n",
    "- Finally, one person from your row will enter the collective sentence into [the Google Doc](https://docs.google.com/document/d/1rF2dTSnccxTJxOc59YiRY6ehXHBwBGsewwb1er1gnFA/edit) next to your row number. (Your row number will be indicated on the first sticky note passed to your row.)\n",
    "\n",
    "Whichever row generates the most captivating sentence will be rewarded with treats! 🍫\n",
    "\n",
    "<br><br>"
   ]
  },
  {
   "cell_type": "markdown",
   "metadata": {},
   "source": [
    "- You've just created a simple Markov model of language!\n",
    "  \n",
    "- In predicting the next word from a minimal context, you likely used your linguistic intuition and familiarity with common two-word phrases or collocations.\n",
    "  \n",
    "- You could create more coherent sentences by taking into account more context e.g., previous two words or four words or 100 words.\n",
    "  \n",
    "- Is it possible to extract similar patterns by analyzing vast amounts of web text and their word co-occurrence frequencies?\n",
    "\n",
    "This idea was first used by Shannon for characters in The Shannon's game. See this video by [Jordan Boyd-Graber](https://www.youtube.com/watch?v=0shft1gokac) for more information on this. "
   ]
  },
  {
   "cell_type": "markdown",
   "metadata": {},
   "source": [
    "One of the most common applications for predicting the next word is the 'smart compose' feature in your emails, text messages, and search engines."
   ]
  },
  {
   "cell_type": "code",
   "execution_count": 2,
   "metadata": {
    "scrolled": true,
    "tags": []
   },
   "outputs": [
    {
     "data": {
      "text/html": [
       "\n",
       "        <iframe\n",
       "            width=\"500\"\n",
       "            height=\"500\"\n",
       "            src=\"https://ai.googleblog.com/2018/05/smart-compose-using-neural-networks-to.html\"\n",
       "            frameborder=\"0\"\n",
       "            allowfullscreen\n",
       "            \n",
       "        ></iframe>\n",
       "        "
      ],
      "text/plain": [
       "<IPython.lib.display.IFrame at 0x142474560>"
      ]
     },
     "execution_count": 2,
     "metadata": {},
     "output_type": "execute_result"
    }
   ],
   "source": [
    "url = \"https://ai.googleblog.com/2018/05/smart-compose-using-neural-networks-to.html\"\n",
    "\n",
    "IPython.display.IFrame(url, width=500, height=500)"
   ]
  },
  {
   "cell_type": "markdown",
   "metadata": {
    "slideshow": {
     "slide_type": "slide"
    }
   },
   "source": [
    "And we all know the state of the art language model [ChatGPT](https://chat.openai.com)!   \n",
    "    - Doesn't need any introduction "
   ]
  },
  {
   "cell_type": "markdown",
   "metadata": {},
   "source": [
    "These tools are based on the idea of **a language model**. "
   ]
  },
  {
   "cell_type": "markdown",
   "metadata": {},
   "source": [
    "<br><br>"
   ]
  },
  {
   "cell_type": "markdown",
   "metadata": {
    "slideshow": {
     "slide_type": "slide"
    }
   },
   "source": [
    "### 1.2 What is a language model? \n",
    "\n",
    "A language model computes **the probability distribution over sequences of tokens**. Given some vocabulary $V$, a language model assigns a probability (a number between 0 and 1) to all sequences of tokens in $V$. \n",
    "\n",
    "Intuitively, this probability tells us how \"good\" or plausible a sequence of tokens is. \n",
    "\n",
    "<!-- A model that computes the probability of a sequence of words (or characters) or the probability of an upcoming word (or character) is called a **language model**. -->\n",
    "\n",
    "![](img/voice-assistant-ex.png)\n",
    "\n",
    "<!-- <img src=\"img/voice-assistant-ex.png\" height=\"1400\" width=\"1400\"> -->\n",
    "\n",
    "Check out this [recent BMO ad](https://www.youtube.com/watch?v=VzqKtAYeJt4).\n"
   ]
  },
  {
   "cell_type": "code",
   "execution_count": 3,
   "metadata": {},
   "outputs": [
    {
     "data": {
      "image/jpeg": "[encoded data removed]",
      "text/html": [
       "\n",
       "        <iframe\n",
       "            width=\"700\"\n",
       "            height=\"700\"\n",
       "            src=\"https://www.youtube.com/embed/VzqKtAYeJt4\"\n",
       "            frameborder=\"0\"\n",
       "            allowfullscreen\n",
       "            \n",
       "        ></iframe>\n",
       "        "
      ],
      "text/plain": [
       "<IPython.lib.display.YouTubeVideo at 0x146337d10>"
      ]
     },
     "execution_count": 3,
     "metadata": {},
     "output_type": "execute_result"
    }
   ],
   "source": [
    "from IPython.display import YouTubeVideo\n",
    "\n",
    "# Use the video's ID, which is the part after 'v=' in the YouTube video link\n",
    "video_id = \"VzqKtAYeJt4\"\n",
    "YouTubeVideo(video_id, width=700, height=700)"
   ]
  },
  {
   "cell_type": "markdown",
   "metadata": {
    "slideshow": {
     "slide_type": "skip"
    }
   },
   "source": [
    "- Compute the probability of a sentence or a sequence of words.\n",
    "    - $P(w_1, w_2,\\dots,w_t)$\n",
    "    - P(I have read this book) > P(eye have red this book)\n",
    "    - P(How do I start a savings habit?) > P(How to start shaving a rabbit?)\n",
    "\n",
    "- A related task: What's the probability of an upcoming word? \n",
    "    - $P(w_t|w_1,w_2,\\dots,w_{t-1})$ \n",
    "    - P(book | read this) > P(book | red this)\n",
    "\n"
   ]
  },
  {
   "cell_type": "markdown",
   "metadata": {},
   "source": [
    "<br><br>"
   ]
  },
  {
   "cell_type": "markdown",
   "metadata": {
    "slideshow": {
     "slide_type": "skip"
    }
   },
   "source": [
    "### 1.3 Language modeling: Why should we care?\n",
    "\n",
    "- Powerful idea in NLP and helps in many tasks.\n",
    "\n",
    "- In recent years, the influence of large language models has expanded significantly, affecting billions of users worldwide. This underscores the importance of understanding the historical context and key principles of language modeling.\n",
    "- In old days they were used as a component of a larger system. \n",
    "    - Machine translation \n",
    "        * P(In the age of data algorithms have the answer) > P(the age data of in algorithms answer the have)\n",
    "    - Spelling correction\n",
    "        * My office is a 20  <span style=\"color:red\">minuet</span> bike ride from my home.  \n",
    "            * P(20 <span style=\"color:blue\">minute</span> bike ride from my home) > P(20 <span style=\"color:red\">minuet</span> bike ride from my home)\n",
    "    - Speech recognition \n",
    "        * P(<span style=\"color:blue\">I read</span> a book) > P(<span style=\"color:red\">Eye red</span> a book)\n",
    "- Now they are capable of being a standalone systems (e.g., ChatGPT)\n",
    "    - Question answering (e.g., Andrei Markov was born in __)\n",
    "    - Content generation (e.g., Generating news articles)\n",
    "    - Summarization\n",
    "    - Writing assistants (e.g., https://www.ai21.com/)\n",
    "    - ..."
   ]
  },
  {
   "cell_type": "markdown",
   "metadata": {
    "slideshow": {
     "slide_type": "slide"
    }
   },
   "source": [
    "**Why is this hard?**\n",
    "\n",
    "- Language modeling requires not only linguistic expertise but also extensive world knowledge.\n",
    "  \n",
    "- The machine learning models we've studied so far may not be directly suitable because language modeling demands sequence modeling capabilities.\n",
    "  \n",
    "- **In this course, we will explore models specifically designed to model sequences effectively.** \n",
    "  \n",
    "- We'll start with the simplest kind of language model: **the Markov model of language**.\n",
    "\n",
    "- Later in the course, we will talk about neural language models. \n",
    "- Today's lecture will delve into the theory behind Markov models. Our next lecture will examine real-world applications of Markov models."
   ]
  },
  {
   "cell_type": "markdown",
   "metadata": {
    "slideshow": {
     "slide_type": "slide"
    }
   },
   "source": [
    "**Markov chains you have seen in MDS so far** \n",
    "\n",
    "- DSCI 512\n",
    "    - You wrote code to generate text using Markov models of language. \n",
    "- DSCI 553\n",
    "    - You used it as a simulation tool to approximate the posterior distribution of your Bayesian modeling parameters of interest.\n",
    "     \n",
    "The model we are going to look at is similar to what you've seen in DSCI 512.     "
   ]
  },
  {
   "cell_type": "markdown",
   "metadata": {},
   "source": [
    "<br><br><br><br>"
   ]
  },
  {
   "cell_type": "markdown",
   "metadata": {},
   "source": [
    "<br><br>"
   ]
  },
  {
   "cell_type": "markdown",
   "metadata": {},
   "source": [
    "## 2. Markov model intuition"
   ]
  },
  {
   "cell_type": "markdown",
   "metadata": {
    "slideshow": {
     "slide_type": "slide"
    }
   },
   "source": [
    "### 2.1 Does this look like Python code?\n",
    "\n",
    "```\n",
    "import sys\n",
    "import warnings\n",
    "import ast\n",
    "import numpy.core.overrides import set_module\n",
    "# While not in __all__, matrix_power used to be defined here, so we import\n",
    "# it for backward compatibility\n",
    "    getT = T.fget\n",
    "    getI = I.fget\n",
    "```\n",
    "\n",
    "```\n",
    "def _from_string(data):\n",
    "    for char in '[]':\n",
    "        data = data.replace(char, '')\n",
    "    rows = str.split(';')\n",
    "    rowtup = []\n",
    "        for row in rows:\n",
    "        trow = newrow\n",
    "        coltup.append(thismat)\n",
    "        rowtup.append(concatenate(coltup, axis=-1))\n",
    "            return NotImplemented\n",
    "```"
   ]
  },
  {
   "cell_type": "markdown",
   "metadata": {
    "slideshow": {
     "slide_type": "slide"
    }
   },
   "source": [
    "How's is this text generated? \n",
    "\n",
    "- Imagine that you have a peculiar sort of memory, much like an unusual form of dementia.\n",
    "  \n",
    "- In particular, your memory is so selective that at any given moment, you only remember one word -- the current one.\n",
    "- Now, imagine you're writing Python program with this constraint. After writing a word, you forget everything else you've written, and your choice of the next word can only be based on this one word you remember.\n",
    "- You'd decide the next word by looking at a list (derived from a large collection of Python programs) that tells you, statistically, which words are likely to follow the one you just wrote.\n",
    "- This process repeats with each new word, creating a chain of words that's your new text.\n",
    "- This is essentially how a Markov model generates text, one word at a time, based solely on the word that came before.\n",
    "\n",
    "![](img/Python_generation_Markov.png)\n",
    "<!-- <img src=\"img/Python_generation_Markov.png\" height=\"550\" width=\"550\">  -->\n"
   ]
  },
  {
   "cell_type": "markdown",
   "metadata": {},
   "source": [
    "<br><br>"
   ]
  },
  {
   "cell_type": "markdown",
   "metadata": {
    "slideshow": {
     "slide_type": "slide"
    }
   },
   "source": [
    "### 2.2 Markov chain idea\n",
    "\n",
    "- Often we need to model systems or processes that evolve over time. \n",
    "- Represent the state of the world at each specific point via a series of snapshots. \n",
    "- Markov chain idea: Predict future depending upon \n",
    "    - the current state\n",
    "    - the probability of change    \n",
    "\n",
    "- Examples: \n",
    "    - Weather: Given that today is cold, what will be the weather tomorrow? \n",
    "    - Stock prices: Given the current market conditions what will be the stock prices tomorrow?\n",
    "    - Text: Given that the speaker has uttered the word **data** what will be the next word? "
   ]
  },
  {
   "cell_type": "markdown",
   "metadata": {},
   "source": [
    "<br><br>"
   ]
  },
  {
   "cell_type": "markdown",
   "metadata": {
    "slideshow": {
     "slide_type": "slide"
    }
   },
   "source": [
    "### 2.3 Markov assumption\n",
    "\n",
    "Suppose we want to calculate probability of a sequence \"there is a crack in everything that 's how the light gets in\" (a phrase from Leonard Cohen's poem [Anthem](https://genius.com/Leonard-cohen-anthem-lyrics)). A naive approach to calculate this probability would be: \n",
    "\n",
    "\\begin{equation}\n",
    "\\begin{split}\n",
    "P(\\text{there is a crack in everything that 's how the light gets in}) = &P(\\text{there}) \\times P(\\text{is}\\mid \\text{there})\\\\ \n",
    "                                              & \\times P(\\text{a} \\mid \\text{there is}) \\times P(\\text{crack}\\mid \\text{there is a})\\\\\n",
    "                                              & \\times P(\\text{in}\\mid \\text{there is a crack})\\\\\n",
    "                                              & \\times P(\\text{everything} \\mid \\text{there is a crack in}) \\\\\n",
    "                                              & \\times P(\\text{that} \\mid \\text{there is a crack in everything}) \\\\                                              \n",
    "                                              & \\dots\\\\        \n",
    "\\end{split}\n",
    "\\end{equation}\n"
   ]
  },
  {
   "cell_type": "markdown",
   "metadata": {},
   "source": [
    "You can also express it as a product of conditional probabilities. \n",
    "$$P(w_{1:n}) = \\prod_{i=1}^n  P(\\text{word}_i \\mid \\text{word}_{1:i-1})$$\n",
    "\n",
    "But this doesn't take us too far, as calculating probability of a word given the entire history (e.g., $P(\\text{light} \\mid \\text{there is a crack in everything that 's how the})$) is not easy because \n",
    "language is creative and any particular context might not have occurred before.  \n",
    "\n",
    "The intuition of Markov models of language (ngram models) is that instead of computing the probability of the next word given its entire history we **approximate** it by considering just the last few words. "
   ]
  },
  {
   "cell_type": "markdown",
   "metadata": {},
   "source": [
    "**Markov assumption: The future is conditionally independent of the past given present**\n",
    "\n",
    "![](img/bigram-ex.png)\n",
    "\n",
    "<!-- <img src=\"img/bigram-ex.png\" height=\"700\" width=\"700\"> -->\n",
    "\n",
    "\n",
    "$$\n",
    "P(\\text{everything} \\mid \\text{a crack in}) \\approx P(\\text{everything}\\mid\\text{in})\n",
    "$$"
   ]
  },
  {
   "cell_type": "markdown",
   "metadata": {
    "slideshow": {
     "slide_type": "slide"
    }
   },
   "source": [
    "\n",
    "![](img/Markov_assumption.png)\n",
    "\n",
    "<!-- <img src=\"img/Markov_assumption.png\" height=\"550\" width=\"550\">  -->\n",
    "    \n",
    "**Markov assumption: The future is conditionally independent of the past given present**\n",
    "\n",
    "- In the example above \n",
    "\n",
    "$$P(S_{3} \\mid S_0, S_1, S_2) \\approx P(S_{3} \\mid S_2)$$\n",
    "\n",
    "- Generalizing it to $t$ time steps\n",
    "\n",
    "$$P(S_{t+1} \\mid S_0, \\dots, S_t) \\approx P(S_{t+1} \\mid S_t)$$\n",
    "        "
   ]
  },
  {
   "cell_type": "markdown",
   "metadata": {
    "slideshow": {
     "slide_type": "slide"
    }
   },
   "source": [
    "**Simplistic auto-complete**\n",
    "\n",
    "- Supposed we have typed \"und\" so far and we want to predict the next letter, i.e., the state we would be in in the next time step. \n",
    "- Imagine that you have access to the conditional probability distribution for the next letter given the current letter. \n",
    "- We sample the next letter from this distribution.\n",
    "\n",
    "![](img/autocomplete_Markov.png)\n",
    "\n",
    "<!-- <img src=\"img/autocomplete_Markov.png\" height=\"1200\" width=\"1200\">  -->"
   ]
  },
  {
   "cell_type": "markdown",
   "metadata": {},
   "source": [
    "<br><br>"
   ]
  },
  {
   "cell_type": "markdown",
   "metadata": {
    "slideshow": {
     "slide_type": "slide"
    }
   },
   "source": [
    "### 2.4 (ASIDE) Markov’s own application of his chains  (1913)\n",
    "\n",
    "\n",
    "- Studied the sequence of 20,000 letters in A. S. Pushkin's poem _Eugeny Onegin_.\n",
    "- Markov also studied the sequence of 100,000 letters in S. T. Aksakov's novel \"The Childhood of Bagrov, the Grandson\".\n",
    "\n",
    "![](img/Markov_Pushkin.png)\n",
    "\n",
    "<!-- <img src=\"img/Markov_Pushkin.png\" height=\"800\" width=\"800\">  -->\n"
   ]
  },
  {
   "cell_type": "markdown",
   "metadata": {},
   "source": [
    "<br><br>"
   ]
  },
  {
   "cell_type": "markdown",
   "metadata": {},
   "source": [
    "## ❓❓ Question for you \n",
    "\n",
    "### Exercise 1.1 Conditioning and marginalization (revision)\n",
    "\n",
    "We will be using the following concepts from probability a lot. So let's revise them. \n",
    "- Conditioning\n",
    "    - the process of calculating the probability of an event or variable given certain conditions\n",
    "- Marginalization \n",
    "    - the process of summing over all possible values of a variable to obtain the probability of another variable"
   ]
  },
  {
   "cell_type": "markdown",
   "metadata": {},
   "source": [
    "Imagine that you have a bag with 4 letters: $A$, $A$, $A$, and $N$, as shown below and you draw letters from the bag **without replacement**. \n",
    "- $t_0$ is the first time step and $t_1, t_2$ are the next two time steps.\n",
    "- $P(t_0 = A)$ and $P(t_0 = N)$ are initial state probabilities. \n",
    "- The state space is $\\{A, N\\}$, i.e., these are the only two events possible at each time step.\n",
    "\n",
    "![](img/prob-exercise_small.png)\n",
    "<!-- <img src=\"img/prob-exercise.png\" height=\"500\" width=\"500\">  -->"
   ]
  },
  {
   "cell_type": "markdown",
   "metadata": {},
   "source": [
    "**Calculate the initial state probabilities:**\n",
    "- $P(t_0 = A) = 3/4$\n",
    "  \n",
    "- $P(t_0 = N) = 1/4$"
   ]
  },
  {
   "cell_type": "markdown",
   "metadata": {},
   "source": [
    "**Calculate the conditional probabilities:** \n",
    "- $P(t_1 = A \\lvert t_0 = A) = 2/3$\n",
    "  \n",
    "- $P(t_1 = A \\lvert t_0=N) = 3/3 = 1$"
   ]
  },
  {
   "cell_type": "markdown",
   "metadata": {},
   "source": [
    "**Calculate the joint probabilities:**\n",
    "- What's the probability of drawing two A's in the first two tries? In other words, what is $P(t_0 = A, t_1 = A)$?\n",
    "  $$P(t_0 = A) \\times P(t_1 = A \\lvert t_0 = A)$$\n",
    "  \n",
    "- Similarly, what is $P(t_0 = N, t_1 = A)$?\n",
    "  $$P(t_0 = N) \\times P(t_1 = A \\lvert t_0 = N)$$"
   ]
  },
  {
   "cell_type": "markdown",
   "metadata": {},
   "source": [
    "**Marginalization:**\n",
    "- What is $P(t_1 = A)$? That is, what's the probability that the second letter drawn from the bag will be an A?\n",
    "  $$P(t_1 = A) = P(t_0 = A) \\times P(t_1 = A \\lvert t_0 = A) + P(t_0 = N) \\times P(t_1 = A \\lvert t_0 = N)$$\n",
    "    \n",
    "- Similarly, what's $P(t_1 = N)$?\n",
    "\n",
    "  $$P(t_1 = N) = P(t_0 = A) \\times P(t_1 = N \\lvert t_0 = A) + P(t_0 = N) \\times P(t_1 = N \\lvert t_0 = N)$$\n",
    " \n",
    "We can obtain an expression for $P(t_1)$ as a vector matrix multiplication:\n",
    "\n",
    "$$\\begin{bmatrix}\n",
    "P(t_0 = A) & P(t_0 = N)\n",
    "\\end{bmatrix}_{1 \\times 2}\n",
    "\\begin{bmatrix}\n",
    "P(t_1=A \\lvert t_0=A) & P(t_1=N \\lvert t_0=A)\\\\\n",
    "P(t_1=A \\lvert t_0=N) & P(t_1=N \\lvert t_0=N)\n",
    "\\end{bmatrix}_{2 \\times 2} = \\begin{bmatrix}\n",
    "P(t_1 = A) & P(t_1 = N)\n",
    "\\end{bmatrix}_{1 \\times 2}\n",
    "$$ "
   ]
  },
  {
   "cell_type": "markdown",
   "metadata": {},
   "source": [
    "<br><br><br><br>"
   ]
  },
  {
   "cell_type": "markdown",
   "metadata": {},
   "source": [
    "## 3. Markov chains definition and tasks "
   ]
  },
  {
   "cell_type": "markdown",
   "metadata": {
    "slideshow": {
     "slide_type": "slide"
    }
   },
   "source": [
    "We'll explore discrete-time Markov chains through a simple weather prediction example:\n",
    "\n",
    "- Imagine you need to forecast if the upcoming days will be HOT, WARM, or COLD, based on recent weather patterns.\n",
    "- This is an unrolled version or a single realization of a Markov chain. \n",
    "\n",
    "![](img/weather-unrolled.png)\n",
    "\n",
    "<!-- <img src=\"img/weather-unrolled.png\" height=\"1000\" width=\"1000\">  -->\n",
    "\n",
    "- We'll use a Markov chain to model this scenario. A Markov chain can be visually depicted, highlighting states along with their initial probabilities and the transition probabilities between them.\n",
    "- We can estimate these probabilities using a large number of sequences, similar to the one provided above.\n",
    "\n",
    "![](img/Markov_chain_small.png)\n",
    "\n",
    "<!-- <img src=\"img/Markov_chain_small.png\" height=\"400\" width=\"400\">  -->"
   ]
  },
  {
   "cell_type": "markdown",
   "metadata": {},
   "source": [
    "### 3.1 Discrete Markov chain ingredients "
   ]
  },
  {
   "cell_type": "markdown",
   "metadata": {
    "slideshow": {
     "slide_type": "slide"
    }
   },
   "source": [
    "**State space**\n",
    "- We have discrete timesteps: $t = 0, t = 1, \\dots$.\n",
    "- **State space**: We have a finite set of possible states we can be in at time $t$\n",
    "    - Represent the unique observations in the world. \n",
    "    - We can be in only one state at a given time. \n",
    "    - In our toy example, the state space $S = \\{HOT, COLD, WARM\\}$."
   ]
  },
  {
   "cell_type": "markdown",
   "metadata": {},
   "source": [
    "<br>"
   ]
  },
  {
   "cell_type": "markdown",
   "metadata": {
    "slideshow": {
     "slide_type": "slide"
    }
   },
   "source": [
    "**Initial probability distribution over states**\n",
    "\n",
    "- State space: $S = \\{\\text{HOT, COLD, WARM}\\}$, \n",
    "- We could start in any state. The probability of starting with a particular state is given by an **initial discrete probability distribution over states**.        \n",
    "    - Here, \n",
    "    $$\\pi_0 = \\begin{bmatrix} P(\\text{HOT at time 0}) & P(\\text{COLD at time 0}) & P(\\text{WARM at time 0}) \\end{bmatrix} = \\begin{bmatrix} 0.5 & 0.3 & 0.2 \\end{bmatrix}$$    \n",
    "    "
   ]
  },
  {
   "cell_type": "markdown",
   "metadata": {},
   "source": [
    "<br>"
   ]
  },
  {
   "cell_type": "markdown",
   "metadata": {
    "slideshow": {
     "slide_type": "slide"
    }
   },
   "source": [
    "**Transition probability matrix**\n",
    "\n",
    "<!-- <img src=\"img/Markov_chain.png\" height=\"300\" width=\"300\">  -->\n",
    "![](img/Markov_chain_small.png)\n",
    "\n",
    "- State space: $S = \\{\\text{HOT, COLD, WARM}\\}$, initial probability distribution: $\\pi_0 = \\begin{bmatrix} 0.5 & 0.3 & 0.2 \\end{bmatrix}$\n",
    "- **Transition probability matrix** $T$, where each $a_{ij}$ represents the probability of moving from state $s_i$ to state $s_j$, such that $\\sum_{j=1}^{n} a_{ij} = 1, \\forall i$ \n",
    "\n",
    "$$ T = \n",
    "\\begin{bmatrix}\n",
    "P(\\text{HOT} \\mid \\text{HOT}) & P(\\text{COLD} \\mid \\text{HOT}) & P(\\text{WARM} \\mid \\text{HOT})\\\\\n",
    "P(\\text{HOT} \\mid \\text{COLD}) & P(\\text{COLD} \\mid \\text{COLD}) & P(\\text{WARM} \\mid \\text{COLD})\\\\\n",
    "P(\\text{HOT} \\mid \\text{WARM}) & P(\\text{COLD} \\mid \\text{WARM}) & P(\\text{WARM} \\mid \\text{WARM})\\\\\n",
    "\\end{bmatrix}\n",
    "=\n",
    "\\begin{bmatrix}\n",
    "0.5 & 0.2 & 0.3\\\\\n",
    "0.2 & 0.5 & 0.3\\\\\n",
    "0.3 & 0.1 & 0.6\\\\    \n",
    "\\end{bmatrix}\n",
    "$$ \n"
   ]
  },
  {
   "cell_type": "markdown",
   "metadata": {
    "slideshow": {
     "slide_type": "slide"
    }
   },
   "source": [
    "- Note that each row sums to 1.0. \n",
    "- Each state has a probability of staying in the same state (or transitioning to itself).\n",
    "- _Note that some people use the the notation where the columns sum to one._\n",
    "- You can think of transition matrix as a data structure used to organize all the conditional probabilities concisely and efficiently.  "
   ]
  },
  {
   "cell_type": "markdown",
   "metadata": {
    "slideshow": {
     "slide_type": "slide"
    }
   },
   "source": [
    "In our weather example state space, initial probability distribution, transition probability matrix are as follows: \n",
    "\n",
    "$$S = \\{\\text{HOT, COLD, WARM}\\}, \\pi_0 = \\begin{bmatrix} 0.5 & 0.3 & 0.2 \\end{bmatrix}$$\n",
    "\n",
    "$$T = \\begin{bmatrix}\n",
    "0.5 & 0.2 & 0.3\\\\\n",
    "0.2 & 0.5 & 0.3\\\\\n",
    "0.3 & 0.1 & 0.6\\\\    \n",
    "\\end{bmatrix}$$"
   ]
  },
  {
   "cell_type": "markdown",
   "metadata": {},
   "source": [
    "<br><br>"
   ]
  },
  {
   "cell_type": "markdown",
   "metadata": {
    "slideshow": {
     "slide_type": "slide"
    }
   },
   "source": [
    "**Markov chain general definition**\n",
    "\n",
    "- A set of $n$ states: $S = \\{s_1, s_2, ..., s_n\\}$\n",
    "- A set of discrete initial probability distribution over states $\\pi_0 = \\begin{bmatrix} \\pi_0(s_1) & \\pi_0(s_2) & \\dots & \\pi_0(s_n) \\end{bmatrix}$\n",
    "\n",
    "- Transition probability matrix $T$, where each $a_{ij}$ represents the probability of moving from state $s_i$ to state $s_j$, such that $\\sum_{j=1}^{n} a_{ij} = 1, \\forall i$ \n",
    "\n",
    "\n",
    "$$ T = \n",
    "\\begin{bmatrix}\n",
    "    a_{11}       & a_{12} & a_{13} & \\dots & a_{1n} \\\\\n",
    "    a_{21}       & a_{22} & a_{23} & \\dots & a_{2n} \\\\\n",
    "    \\dots \\\\\n",
    "    a_{n1}       & a_{n2} & a_{n3} & \\dots & a_{nn}\n",
    "\\end{bmatrix}\n",
    "$$\n"
   ]
  },
  {
   "cell_type": "markdown",
   "metadata": {},
   "source": [
    "<br><br>"
   ]
  },
  {
   "cell_type": "markdown",
   "metadata": {
    "slideshow": {
     "slide_type": "slide"
    }
   },
   "source": [
    "**Homogeneous Markov chains**\n",
    "\n",
    "- Transition probabilities tell you how your state probabilities are going to change over time. \n",
    "- Usually we assume **homogeneous Markov chain** where transition probabilities are the same for all time steps $t$. \n",
    "- In this class, we will assume homogeneous Markov chain."
   ]
  },
  {
   "cell_type": "markdown",
   "metadata": {
    "slideshow": {
     "slide_type": "slide"
    }
   },
   "source": [
    "<br><br>"
   ]
  },
  {
   "cell_type": "markdown",
   "metadata": {
    "slideshow": {
     "slide_type": "slide"
    }
   },
   "source": [
    "### 3.2 Markov chains tasks "
   ]
  },
  {
   "cell_type": "markdown",
   "metadata": {
    "slideshow": {
     "slide_type": "slide"
    }
   },
   "source": [
    "\n",
    "What can we do with Markov chains? \n",
    "\n",
    "- **Predict probabilities of sequences of states.**\n",
    "- **Compute probability of being in a particular state at time $t$**.    \n",
    "- **Stationary distribution**: Find the steady state after running the chain for a long time.\n",
    "- **Generation**: generate sequences that follow the probabilities of the states. \n",
    "    - You will be doing this in the lab. "
   ]
  },
  {
   "cell_type": "markdown",
   "metadata": {
    "slideshow": {
     "slide_type": "slide"
    }
   },
   "source": [
    "#### 3.2.1 Predict probabilities of sequences of states\n",
    "\n",
    "- Given the Markov model: $S = \\{\\text{HOT, COLD, WARM}\\}$, \n",
    "$\\pi_0 = \\begin{bmatrix} 0.5 & 0.3 & 0.2 \\end{bmatrix}$,\n",
    "$$T = \\begin{bmatrix}\n",
    "0.5 & 0.2 & 0.3\\\\\n",
    "0.2 & 0.5 & 0.3\\\\\n",
    "0.3 & 0.1 & 0.6\\\\    \n",
    "\\end{bmatrix}$$\n",
    "\n",
    "- Compute the probability of the sequences: HOT, HOT, WARM, COLD\n",
    "    - Markov assumption: $P(S_{t+1}\\mid S_{0}, S_1, \\dots, S_t) \\approx P(S_{t+1} \\mid S_t)$\n",
    "\n",
    "<!-- <img src=\"img/Markov_chain.png\" height=\"400\" width=\"400\">  -->\n",
    "\n",
    "![](img/Markov_chain_small.png)\n"
   ]
  },
  {
   "cell_type": "markdown",
   "metadata": {},
   "source": [
    "\\begin{equation}\n",
    "\\begin{split}\n",
    "P(\\textrm{HOT, HOT, WARM, COLD}) \\approx & P(\\text{HOT}) \\times P(\\text{HOT} \\mid \\text{HOT})\\\\ \n",
    "                                  & \\times P(\\text{WARM} \\mid \\text{HOT})\\\\\n",
    "                                  & \\times P(\\text{COLD}\\mid \\text{WARM})\\\\\n",
    "                                 =& 0.5  \\times 0.5 \\times 0.3 \\times 0.1\\\\\n",
    "\\end{split}\n",
    "\\end{equation}"
   ]
  },
  {
   "cell_type": "markdown",
   "metadata": {
    "slideshow": {
     "slide_type": "slide"
    }
   },
   "source": [
    "**Your turn (Activity: 3 minutes)**\n",
    "\n",
    "- Predict probabilities of the following sequences of states on your own. \n",
    "    1. COLD, COLD, WARM\n",
    "    2. HOT, COLD, HOT, COLD\n",
    "    \n",
    "Hint: If we want to predict the future, all that matters is the current state.\n",
    "\n",
    "$S = \\{\\text{HOT, COLD, WARM}\\}$, \n",
    "$\\pi_0 = \\begin{bmatrix} 0.5 & 0.3 & 0.2 \\end{bmatrix}$, \n",
    "$$T = \\begin{bmatrix}\n",
    "0.5 & 0.2 & 0.3\\\\\n",
    "0.2 & 0.5 & 0.3\\\\\n",
    "0.3 & 0.1 & 0.6\\\\    \n",
    "\\end{bmatrix}$$\n",
    "\n",
    "<!-- <img src=\"img/Markov_chain.png\" height=\"300\" width=\"300\">  -->\n",
    "![](img/Markov_chain_small.png)\n"
   ]
  },
  {
   "cell_type": "markdown",
   "metadata": {},
   "source": [
    "<br><br>"
   ]
  },
  {
   "cell_type": "markdown",
   "metadata": {
    "slideshow": {
     "slide_type": "slide"
    }
   },
   "source": [
    "#### 3.2.2 Computing probability of being in a particular state at time $t$\n",
    "\n",
    "- Example: Assuming that the time starts at 0, what is the probability of HOT at time 1?\n",
    "\n",
    "$$\\begin{equation}\n",
    "\\begin{split}\n",
    "P(\\textrm{HOT at time 1}) =& P(\\textrm{HOT at time 0}) \\times P(\\textrm{HOT} \\mid \\textrm{HOT})\\\\ \n",
    "                                  & + P(\\textrm{COLD at time 0}) \\times P(\\textrm{HOT} \\mid \\textrm{COLD})\\\\\n",
    "                                  &  + P(\\textrm{WARM at time 0}) \\times P(\\textrm{HOT} \\mid \\textrm{WARM})\\\\\n",
    "                                 =& 0.5 \\times 0.5 + 0.3 \\times 0.2 + 0.2\\times 0.3 = 0.37\\\\\n",
    "\\end{split}\n",
    "\\end{equation}$$\n",
    "    \n",
    "<!-- <img src=\"img/Markov_chain.png\" height=\"400\" width=\"400\">  -->\n",
    "![](img/Markov_chain_small.png)"
   ]
  },
  {
   "cell_type": "markdown",
   "metadata": {
    "slideshow": {
     "slide_type": "slide"
    }
   },
   "source": [
    "**What is the probability of HOT at time 1?**\n",
    "- You can conveniently calculate it as the dot product between $\\pi_0$ and the first column of the transition matrix!\n",
    "\n",
    "$$\\pi_0 = \\begin{bmatrix} P(\\text{HOT at time 0}) & P(\\text{COLD at time 0}) & P(\\text{WARM at time 0}) \\end{bmatrix} = \\begin{bmatrix} 0.5 & 0.3 & 0.2 \\end{bmatrix}$$\n",
    "\n",
    "\n",
    "\n",
    "$$ T = \n",
    "\\begin{bmatrix}\n",
    "P(\\text{HOT} \\mid \\text{HOT}) & P(\\text{COLD} \\mid \\text{HOT}) & P(\\text{WARM} \\mid \\text{HOT})\\\\\n",
    "P(\\text{HOT} \\mid \\text{COLD}) & P(\\text{COLD} \\mid \\text{COLD}) & P(\\text{WARM} \\mid \\text{COLD})\\\\\n",
    "P(\\text{HOT} \\mid \\text{WARM}) & P(\\text{COLD} \\mid \\text{WARM}) & P(\\text{WARM} \\mid \\text{WARM})\\\\\n",
    "\\end{bmatrix}\n",
    "= \\begin{bmatrix}\n",
    "0.5 & 0.2 & 0.3\\\\\n",
    "0.2 & 0.5 & 0.3\\\\\n",
    "0.3 & 0.1 & 0.6\\\\    \n",
    "\\end{bmatrix} $$\n",
    "$$P(\\text{HOT at time 1}) = \\begin{bmatrix} 0.5 & 0.3 & 0.2 \\end{bmatrix}  \\begin{bmatrix} 0.5 \\\\ 0.2 \\\\ 0.3 \\end{bmatrix} = 0.37$$\n",
    "\n",
    "\n",
    "<!-- <img src=\"img/Markov_chain.png\" height=\"400\" width=\"400\">  -->\n",
    "![](img/Markov_chain_small.png)"
   ]
  },
  {
   "cell_type": "markdown",
   "metadata": {
    "slideshow": {
     "slide_type": "slide"
    }
   },
   "source": [
    "**What is the probability of HOT, COLD, WARM at time 1?**\n",
    "- You can get probabilities of all states HOT, COLD, WARM at time 1 by multiplying $\\pi_0$ by the transition matrix. \n",
    "\n",
    "$$\\pi_1 = \\pi_0T$$\n",
    "\n",
    "$$\\pi_0 = \\begin{bmatrix} P(\\text{HOT at time 0}) & P(\\text{COLD at time 0}) & P(\\text{WARM at time 0}) \\end{bmatrix} = \\begin{bmatrix} 0.5 & 0.3 & 0.2 \\end{bmatrix}$$\n",
    "\n",
    "$$T = \n",
    "\\begin{bmatrix}\n",
    "P(\\text{HOT} \\mid \\text{HOT}) & P(\\text{COLD} \\mid \\text{HOT}) & P(\\text{WARM} \\mid \\text{HOT})\\\\\n",
    "P(\\text{HOT} \\mid \\text{COLD}) & P(\\text{COLD} \\mid \\text{COLD}) & P(\\text{WARM} \\mid \\text{COLD})\\\\\n",
    "P(\\text{HOT} \\mid \\text{WARM}) & P(\\text{COLD} \\mid \\text{WARM}) & P(\\text{WARM} \\mid \\text{WARM})\\\\\n",
    "\\end{bmatrix}\n",
    "= \\begin{bmatrix}\n",
    "0.5 & 0.2 & 0.3\\\\\n",
    "0.2 & 0.5 & 0.3\\\\\n",
    "0.3 & 0.1 & 0.6\\\\    \n",
    "\\end{bmatrix}$$\n",
    "\n",
    "$$\\pi_1 = \\begin{bmatrix} P(\\text{HOT at time 1}) & P(\\text{COLD at time 1}) & P(\\text{WARM at time 1}) \\end{bmatrix} =  \\begin{bmatrix} 0.5 & 0.3 & 0.2 \\end{bmatrix}\\begin{bmatrix} 0.5 & 0.2 & 0.3\\\\ 0.2 & 0.5 & 0.3\\\\ 0.3 & 0.1 & 0.6\\\\ \\end{bmatrix} = \\begin{bmatrix}0.37 & 0.27 & 0.36\\end{bmatrix}$$\n",
    "\n",
    "\n",
    "<!-- <img src=\"img/Markov_chain.png\" height=\"300\" width=\"300\">  -->\n",
    "![](img/Markov_chain_small.png)\n"
   ]
  },
  {
   "cell_type": "markdown",
   "metadata": {
    "slideshow": {
     "slide_type": "slide"
    }
   },
   "source": [
    "**What is the probability of HOT, COLD, WARM at time 2?**\n",
    "- Similarly can get probabilities of all states HOT, COLD, WARM at time 2 by multiplying $\\pi_1$ by the transition matrix. \n",
    "    $$\\pi_2 = \\pi_1T$$\n",
    "\n",
    "$$\\pi_1 = \\begin{bmatrix} P(\\text{HOT at time 1}) & P(\\text{COLD at time 1}) & P(\\text{WARM at time 1}) \\end{bmatrix} =  \\begin{bmatrix}0.37 & 0.27 & 0.36\\end{bmatrix}$$\n",
    "\n",
    "$$ T = \n",
    "\\begin{bmatrix}\n",
    "P(\\text{HOT} \\mid \\text{HOT}) & P(\\text{COLD} \\mid \\text{HOT}) & P(\\text{WARM} \\mid \\text{HOT})\\\\\n",
    "P(\\text{HOT} \\mid \\text{COLD}) & P(\\text{COLD} \\mid \\text{COLD}) & P(\\text{WARM} \\mid \\text{COLD})\\\\\n",
    "P(\\text{HOT} \\mid \\text{WARM}) & P(\\text{COLD} \\mid \\text{WARM}) & P(\\text{WARM} \\mid \\text{WARM})\\\\\n",
    "\\end{bmatrix}\n",
    "= \\begin{bmatrix}\n",
    "0.5 & 0.2 & 0.3\\\\\n",
    "0.2 & 0.5 & 0.3\\\\\n",
    "0.3 & 0.1 & 0.6\\\\    \n",
    "\\end{bmatrix} $$\n",
    "\n",
    "$$\\pi_2 = \\begin{bmatrix} P(\\text{HOT at time 2}) & P(\\text{COLD at time 2}) & P(\\text{WARM at time 2} \\end{bmatrix} = \\pi_1T = \\begin{bmatrix}0.347 & 0.245 & 0.408\\end{bmatrix}$$\n",
    "\n",
    "\n",
    "<!-- <img src=\"img/Markov_chain.png\" height=\"300\" width=\"300\">  -->\n",
    "![](img/Markov_chain_small.png)\n"
   ]
  },
  {
   "cell_type": "markdown",
   "metadata": {
    "slideshow": {
     "slide_type": "slide"
    }
   },
   "source": [
    "**Probability of being in a particular state at time $t$**\n",
    "\n",
    "- Calculate \n",
    "\n",
    "$$\\pi_t = \\pi_{t-1} \\times \\text{transition probability matrix } T$$  \n",
    "\n",
    "- Applying the matrix multiplication to the current state probabilities does an **update** to the state probabilities!"
   ]
  },
  {
   "cell_type": "markdown",
   "metadata": {
    "slideshow": {
     "slide_type": "slide"
    }
   },
   "source": [
    "Let's try it out with numpy. "
   ]
  },
  {
   "cell_type": "code",
   "execution_count": 4,
   "metadata": {},
   "outputs": [
    {
     "name": "stdout",
     "output_type": "stream",
     "text": [
      "Initial probability distribution over states:  [0.5 0.3 0.2]\n",
      "The transition probability matrix: \n",
      " [[0.5 0.2 0.3]\n",
      " [0.2 0.5 0.3]\n",
      " [0.3 0.1 0.6]]\n"
     ]
    }
   ],
   "source": [
    "pi_0 = np.array([0.5, 0.3, 0.2])  # initial state probability dist\n",
    "T = np.array([[0.5, 0.2, 0.3], [0.2, 0.5, 0.3], [0.3, 0.1, 0.6]])  # transition matrix\n",
    "\n",
    "print(\"Initial probability distribution over states: \", pi_0)\n",
    "print(\"The transition probability matrix: \\n\", T)"
   ]
  },
  {
   "cell_type": "markdown",
   "metadata": {},
   "source": [
    "You can also get state probabilities at time $t$ by multiplying `pi_0` by the $t^{th}$ power of the transition matrix. For example, you can estimate state probabilities at time step 18 as:  \n",
    "\n",
    "$$\\pi_{18} = \\pi_{0} \\times T^{18}$$  "
   ]
  },
  {
   "cell_type": "code",
   "execution_count": 5,
   "metadata": {},
   "outputs": [
    {
     "data": {
      "text/plain": [
       "array([0.34693878, 0.2244898 , 0.42857143])"
      ]
     },
     "execution_count": 5,
     "metadata": {},
     "output_type": "execute_result"
    }
   ],
   "source": [
    "pi_0 @ np.linalg.matrix_power(T, 18)"
   ]
  },
  {
   "cell_type": "code",
   "execution_count": 6,
   "metadata": {},
   "outputs": [
    {
     "data": {
      "application/javascript": [
       "(function(root) {\n",
       "  function now() {\n",
       "    return new Date();\n",
       "  }\n",
       "\n",
       "  var force = true;\n",
       "  var py_version = '3.3.4'.replace('rc', '-rc.').replace('.dev', '-dev.');\n",
       "  var reloading = false;\n",
       "  var Bokeh = root.Bokeh;\n",
       "\n",
       "  if (typeof (root._bokeh_timeout) === \"undefined\" || force) {\n",
       "    root._bokeh_timeout = Date.now() + 5000;\n",
       "    root._bokeh_failed_load = false;\n",
       "  }\n",
       "\n",
       "  function run_callbacks() {\n",
       "    try {\n",
       "      root._bokeh_onload_callbacks.forEach(function(callback) {\n",
       "        if (callback != null)\n",
       "          callback();\n",
       "      });\n",
       "    } finally {\n",
       "      delete root._bokeh_onload_callbacks;\n",
       "    }\n",
       "    console.debug(\"Bokeh: all callbacks have finished\");\n",
       "  }\n",
       "\n",
       "  function load_libs(css_urls, js_urls, js_modules, js_exports, callback) {\n",
       "    if (css_urls == null) css_urls = [];\n",
       "    if (js_urls == null) js_urls = [];\n",
       "    if (js_modules == null) js_modules = [];\n",
       "    if (js_exports == null) js_exports = {};\n",
       "\n",
       "    root._bokeh_onload_callbacks.push(callback);\n",
       "\n",
       "    if (root._bokeh_is_loading > 0) {\n",
       "      console.debug(\"Bokeh: BokehJS is being loaded, scheduling callback at\", now());\n",
       "      return null;\n",
       "    }\n",
       "    if (js_urls.length === 0 && js_modules.length === 0 && Object.keys(js_exports).length === 0) {\n",
       "      run_callbacks();\n",
       "      return null;\n",
       "    }\n",
       "    if (!reloading) {\n",
       "      console.debug(\"Bokeh: BokehJS not loaded, scheduling load and callback at\", now());\n",
       "    }\n",
       "\n",
       "    function on_load() {\n",
       "      root._bokeh_is_loading--;\n",
       "      if (root._bokeh_is_loading === 0) {\n",
       "        console.debug(\"Bokeh: all BokehJS libraries/stylesheets loaded\");\n",
       "        run_callbacks()\n",
       "      }\n",
       "    }\n",
       "    window._bokeh_on_load = on_load\n",
       "\n",
       "    function on_error() {\n",
       "      console.error(\"failed to load \" + url);\n",
       "    }\n",
       "\n",
       "    var skip = [];\n",
       "    if (window.requirejs) {\n",
       "      window.requirejs.config({'packages': {}, 'paths': {'jspanel': 'https://cdn.jsdelivr.net/npm/jspanel4@4.12.0/dist/jspanel', 'jspanel-modal': 'https://cdn.jsdelivr.net/npm/jspanel4@4.12.0/dist/extensions/modal/jspanel.modal', 'jspanel-tooltip': 'https://cdn.jsdelivr.net/npm/jspanel4@4.12.0/dist/extensions/tooltip/jspanel.tooltip', 'jspanel-hint': 'https://cdn.jsdelivr.net/npm/jspanel4@4.12.0/dist/extensions/hint/jspanel.hint', 'jspanel-layout': 'https://cdn.jsdelivr.net/npm/jspanel4@4.12.0/dist/extensions/layout/jspanel.layout', 'jspanel-contextmenu': 'https://cdn.jsdelivr.net/npm/jspanel4@4.12.0/dist/extensions/contextmenu/jspanel.contextmenu', 'jspanel-dock': 'https://cdn.jsdelivr.net/npm/jspanel4@4.12.0/dist/extensions/dock/jspanel.dock', 'gridstack': 'https://cdn.jsdelivr.net/npm/gridstack@7.2.3/dist/gridstack-all', 'notyf': 'https://cdn.jsdelivr.net/npm/notyf@3/notyf.min'}, 'shim': {'jspanel': {'exports': 'jsPanel'}, 'gridstack': {'exports': 'GridStack'}}});\n",
       "      require([\"jspanel\"], function(jsPanel) {\n",
       "\twindow.jsPanel = jsPanel\n",
       "\ton_load()\n",
       "      })\n",
       "      require([\"jspanel-modal\"], function() {\n",
       "\ton_load()\n",
       "      })\n",
       "      require([\"jspanel-tooltip\"], function() {\n",
       "\ton_load()\n",
       "      })\n",
       "      require([\"jspanel-hint\"], function() {\n",
       "\ton_load()\n",
       "      })\n",
       "      require([\"jspanel-layout\"], function() {\n",
       "\ton_load()\n",
       "      })\n",
       "      require([\"jspanel-contextmenu\"], function() {\n",
       "\ton_load()\n",
       "      })\n",
       "      require([\"jspanel-dock\"], function() {\n",
       "\ton_load()\n",
       "      })\n",
       "      require([\"gridstack\"], function(GridStack) {\n",
       "\twindow.GridStack = GridStack\n",
       "\ton_load()\n",
       "      })\n",
       "      require([\"notyf\"], function() {\n",
       "\ton_load()\n",
       "      })\n",
       "      root._bokeh_is_loading = css_urls.length + 9;\n",
       "    } else {\n",
       "      root._bokeh_is_loading = css_urls.length + js_urls.length + js_modules.length + Object.keys(js_exports).length;\n",
       "    }\n",
       "\n",
       "    var existing_stylesheets = []\n",
       "    var links = document.getElementsByTagName('link')\n",
       "    for (var i = 0; i < links.length; i++) {\n",
       "      var link = links[i]\n",
       "      if (link.href != null) {\n",
       "\texisting_stylesheets.push(link.href)\n",
       "      }\n",
       "    }\n",
       "    for (var i = 0; i < css_urls.length; i++) {\n",
       "      var url = css_urls[i];\n",
       "      if (existing_stylesheets.indexOf(url) !== -1) {\n",
       "\ton_load()\n",
       "\tcontinue;\n",
       "      }\n",
       "      const element = document.createElement(\"link\");\n",
       "      element.onload = on_load;\n",
       "      element.onerror = on_error;\n",
       "      element.rel = \"stylesheet\";\n",
       "      element.type = \"text/css\";\n",
       "      element.href = url;\n",
       "      console.debug(\"Bokeh: injecting link tag for BokehJS stylesheet: \", url);\n",
       "      document.body.appendChild(element);\n",
       "    }    if (((window['jsPanel'] !== undefined) && (!(window['jsPanel'] instanceof HTMLElement))) || window.requirejs) {\n",
       "      var urls = ['https://cdn.holoviz.org/panel/1.3.8/dist/bundled/floatpanel/jspanel4@4.12.0/dist/jspanel.js', 'https://cdn.holoviz.org/panel/1.3.8/dist/bundled/floatpanel/jspanel4@4.12.0/dist/extensions/modal/jspanel.modal.js', 'https://cdn.holoviz.org/panel/1.3.8/dist/bundled/floatpanel/jspanel4@4.12.0/dist/extensions/tooltip/jspanel.tooltip.js', 'https://cdn.holoviz.org/panel/1.3.8/dist/bundled/floatpanel/jspanel4@4.12.0/dist/extensions/hint/jspanel.hint.js', 'https://cdn.holoviz.org/panel/1.3.8/dist/bundled/floatpanel/jspanel4@4.12.0/dist/extensions/layout/jspanel.layout.js', 'https://cdn.holoviz.org/panel/1.3.8/dist/bundled/floatpanel/jspanel4@4.12.0/dist/extensions/contextmenu/jspanel.contextmenu.js', 'https://cdn.holoviz.org/panel/1.3.8/dist/bundled/floatpanel/jspanel4@4.12.0/dist/extensions/dock/jspanel.dock.js'];\n",
       "      for (var i = 0; i < urls.length; i++) {\n",
       "        skip.push(urls[i])\n",
       "      }\n",
       "    }    if (((window['GridStack'] !== undefined) && (!(window['GridStack'] instanceof HTMLElement))) || window.requirejs) {\n",
       "      var urls = ['https://cdn.holoviz.org/panel/1.3.8/dist/bundled/gridstack/gridstack@7.2.3/dist/gridstack-all.js'];\n",
       "      for (var i = 0; i < urls.length; i++) {\n",
       "        skip.push(urls[i])\n",
       "      }\n",
       "    }    if (((window['Notyf'] !== undefined) && (!(window['Notyf'] instanceof HTMLElement))) || window.requirejs) {\n",
       "      var urls = ['https://cdn.holoviz.org/panel/1.3.8/dist/bundled/notificationarea/notyf@3/notyf.min.js'];\n",
       "      for (var i = 0; i < urls.length; i++) {\n",
       "        skip.push(urls[i])\n",
       "      }\n",
       "    }    var existing_scripts = []\n",
       "    var scripts = document.getElementsByTagName('script')\n",
       "    for (var i = 0; i < scripts.length; i++) {\n",
       "      var script = scripts[i]\n",
       "      if (script.src != null) {\n",
       "\texisting_scripts.push(script.src)\n",
       "      }\n",
       "    }\n",
       "    for (var i = 0; i < js_urls.length; i++) {\n",
       "      var url = js_urls[i];\n",
       "      if (skip.indexOf(url) !== -1 || existing_scripts.indexOf(url) !== -1) {\n",
       "\tif (!window.requirejs) {\n",
       "\t  on_load();\n",
       "\t}\n",
       "\tcontinue;\n",
       "      }\n",
       "      var element = document.createElement('script');\n",
       "      element.onload = on_load;\n",
       "      element.onerror = on_error;\n",
       "      element.async = false;\n",
       "      element.src = url;\n",
       "      console.debug(\"Bokeh: injecting script tag for BokehJS library: \", url);\n",
       "      document.head.appendChild(element);\n",
       "    }\n",
       "    for (var i = 0; i < js_modules.length; i++) {\n",
       "      var url = js_modules[i];\n",
       "      if (skip.indexOf(url) !== -1 || existing_scripts.indexOf(url) !== -1) {\n",
       "\tif (!window.requirejs) {\n",
       "\t  on_load();\n",
       "\t}\n",
       "\tcontinue;\n",
       "      }\n",
       "      var element = document.createElement('script');\n",
       "      element.onload = on_load;\n",
       "      element.onerror = on_error;\n",
       "      element.async = false;\n",
       "      element.src = url;\n",
       "      element.type = \"module\";\n",
       "      console.debug(\"Bokeh: injecting script tag for BokehJS library: \", url);\n",
       "      document.head.appendChild(element);\n",
       "    }\n",
       "    for (const name in js_exports) {\n",
       "      var url = js_exports[name];\n",
       "      if (skip.indexOf(url) >= 0 || root[name] != null) {\n",
       "\tif (!window.requirejs) {\n",
       "\t  on_load();\n",
       "\t}\n",
       "\tcontinue;\n",
       "      }\n",
       "      var element = document.createElement('script');\n",
       "      element.onerror = on_error;\n",
       "      element.async = false;\n",
       "      element.type = \"module\";\n",
       "      console.debug(\"Bokeh: injecting script tag for BokehJS library: \", url);\n",
       "      element.textContent = `\n",
       "      import ${name} from \"${url}\"\n",
       "      window.${name} = ${name}\n",
       "      window._bokeh_on_load()\n",
       "      `\n",
       "      document.head.appendChild(element);\n",
       "    }\n",
       "    if (!js_urls.length && !js_modules.length) {\n",
       "      on_load()\n",
       "    }\n",
       "  };\n",
       "\n",
       "  function inject_raw_css(css) {\n",
       "    const element = document.createElement(\"style\");\n",
       "    element.appendChild(document.createTextNode(css));\n",
       "    document.body.appendChild(element);\n",
       "  }\n",
       "\n",
       "  var js_urls = [\"https://cdn.bokeh.org/bokeh/release/bokeh-3.3.4.min.js\", \"https://cdn.bokeh.org/bokeh/release/bokeh-gl-3.3.4.min.js\", \"https://cdn.bokeh.org/bokeh/release/bokeh-widgets-3.3.4.min.js\", \"https://cdn.bokeh.org/bokeh/release/bokeh-tables-3.3.4.min.js\", \"https://cdn.holoviz.org/panel/1.3.8/dist/panel.min.js\"];\n",
       "  var js_modules = [];\n",
       "  var js_exports = {};\n",
       "  var css_urls = [];\n",
       "  var inline_js = [    function(Bokeh) {\n",
       "      Bokeh.set_log_level(\"info\");\n",
       "    },\n",
       "function(Bokeh) {} // ensure no trailing comma for IE\n",
       "  ];\n",
       "\n",
       "  function run_inline_js() {\n",
       "    if ((root.Bokeh !== undefined) || (force === true)) {\n",
       "      for (var i = 0; i < inline_js.length; i++) {\n",
       "\ttry {\n",
       "          inline_js[i].call(root, root.Bokeh);\n",
       "\t} catch(e) {\n",
       "\t  if (!reloading) {\n",
       "\t    throw e;\n",
       "\t  }\n",
       "\t}\n",
       "      }\n",
       "      // Cache old bokeh versions\n",
       "      if (Bokeh != undefined && !reloading) {\n",
       "\tvar NewBokeh = root.Bokeh;\n",
       "\tif (Bokeh.versions === undefined) {\n",
       "\t  Bokeh.versions = new Map();\n",
       "\t}\n",
       "\tif (NewBokeh.version !== Bokeh.version) {\n",
       "\t  Bokeh.versions.set(NewBokeh.version, NewBokeh)\n",
       "\t}\n",
       "\troot.Bokeh = Bokeh;\n",
       "      }} else if (Date.now() < root._bokeh_timeout) {\n",
       "      setTimeout(run_inline_js, 100);\n",
       "    } else if (!root._bokeh_failed_load) {\n",
       "      console.log(\"Bokeh: BokehJS failed to load within specified timeout.\");\n",
       "      root._bokeh_failed_load = true;\n",
       "    }\n",
       "    root._bokeh_is_initializing = false\n",
       "  }\n",
       "\n",
       "  function load_or_wait() {\n",
       "    // Implement a backoff loop that tries to ensure we do not load multiple\n",
       "    // versions of Bokeh and its dependencies at the same time.\n",
       "    // In recent versions we use the root._bokeh_is_initializing flag\n",
       "    // to determine whether there is an ongoing attempt to initialize\n",
       "    // bokeh, however for backward compatibility we also try to ensure\n",
       "    // that we do not start loading a newer (Panel>=1.0 and Bokeh>3) version\n",
       "    // before older versions are fully initialized.\n",
       "    if (root._bokeh_is_initializing && Date.now() > root._bokeh_timeout) {\n",
       "      root._bokeh_is_initializing = false;\n",
       "      root._bokeh_onload_callbacks = undefined;\n",
       "      console.log(\"Bokeh: BokehJS was loaded multiple times but one version failed to initialize.\");\n",
       "      load_or_wait();\n",
       "    } else if (root._bokeh_is_initializing || (typeof root._bokeh_is_initializing === \"undefined\" && root._bokeh_onload_callbacks !== undefined)) {\n",
       "      setTimeout(load_or_wait, 100);\n",
       "    } else {\n",
       "      root._bokeh_is_initializing = true\n",
       "      root._bokeh_onload_callbacks = []\n",
       "      var bokeh_loaded = Bokeh != null && (Bokeh.version === py_version || (Bokeh.versions !== undefined && Bokeh.versions.has(py_version)));\n",
       "      if (!reloading && !bokeh_loaded) {\n",
       "\troot.Bokeh = undefined;\n",
       "      }\n",
       "      load_libs(css_urls, js_urls, js_modules, js_exports, function() {\n",
       "\tconsole.debug(\"Bokeh: BokehJS plotting callback run at\", now());\n",
       "\trun_inline_js();\n",
       "      });\n",
       "    }\n",
       "  }\n",
       "  // Give older versions of the autoload script a head-start to ensure\n",
       "  // they initialize before we start loading newer version.\n",
       "  setTimeout(load_or_wait, 100)\n",
       "}(window));"
      ],
      "application/vnd.holoviews_load.v0+json": "(function(root) {\n  function now() {\n    return new Date();\n  }\n\n  var force = true;\n  var py_version = '3.3.4'.replace('rc', '-rc.').replace('.dev', '-dev.');\n  var reloading = false;\n  var Bokeh = root.Bokeh;\n\n  if (typeof (root._bokeh_timeout) === \"undefined\" || force) {\n    root._bokeh_timeout = Date.now() + 5000;\n    root._bokeh_failed_load = false;\n  }\n\n  function run_callbacks() {\n    try {\n      root._bokeh_onload_callbacks.forEach(function(callback) {\n        if (callback != null)\n          callback();\n      });\n    } finally {\n      delete root._bokeh_onload_callbacks;\n    }\n    console.debug(\"Bokeh: all callbacks have finished\");\n  }\n\n  function load_libs(css_urls, js_urls, js_modules, js_exports, callback) {\n    if (css_urls == null) css_urls = [];\n    if (js_urls == null) js_urls = [];\n    if (js_modules == null) js_modules = [];\n    if (js_exports == null) js_exports = {};\n\n    root._bokeh_onload_callbacks.push(callback);\n\n    if (root._bokeh_is_loading > 0) {\n      console.debug(\"Bokeh: BokehJS is being loaded, scheduling callback at\", now());\n      return null;\n    }\n    if (js_urls.length === 0 && js_modules.length === 0 && Object.keys(js_exports).length === 0) {\n      run_callbacks();\n      return null;\n    }\n    if (!reloading) {\n      console.debug(\"Bokeh: BokehJS not loaded, scheduling load and callback at\", now());\n    }\n\n    function on_load() {\n      root._bokeh_is_loading--;\n      if (root._bokeh_is_loading === 0) {\n        console.debug(\"Bokeh: all BokehJS libraries/stylesheets loaded\");\n        run_callbacks()\n      }\n    }\n    window._bokeh_on_load = on_load\n\n    function on_error() {\n      console.error(\"failed to load \" + url);\n    }\n\n    var skip = [];\n    if (window.requirejs) {\n      window.requirejs.config({'packages': {}, 'paths': {'jspanel': 'https://cdn.jsdelivr.net/npm/jspanel4@4.12.0/dist/jspanel', 'jspanel-modal': 'https://cdn.jsdelivr.net/npm/jspanel4@4.12.0/dist/extensions/modal/jspanel.modal', 'jspanel-tooltip': 'https://cdn.jsdelivr.net/npm/jspanel4@4.12.0/dist/extensions/tooltip/jspanel.tooltip', 'jspanel-hint': 'https://cdn.jsdelivr.net/npm/jspanel4@4.12.0/dist/extensions/hint/jspanel.hint', 'jspanel-layout': 'https://cdn.jsdelivr.net/npm/jspanel4@4.12.0/dist/extensions/layout/jspanel.layout', 'jspanel-contextmenu': 'https://cdn.jsdelivr.net/npm/jspanel4@4.12.0/dist/extensions/contextmenu/jspanel.contextmenu', 'jspanel-dock': 'https://cdn.jsdelivr.net/npm/jspanel4@4.12.0/dist/extensions/dock/jspanel.dock', 'gridstack': 'https://cdn.jsdelivr.net/npm/gridstack@7.2.3/dist/gridstack-all', 'notyf': 'https://cdn.jsdelivr.net/npm/notyf@3/notyf.min'}, 'shim': {'jspanel': {'exports': 'jsPanel'}, 'gridstack': {'exports': 'GridStack'}}});\n      require([\"jspanel\"], function(jsPanel) {\n\twindow.jsPanel = jsPanel\n\ton_load()\n      })\n      require([\"jspanel-modal\"], function() {\n\ton_load()\n      })\n      require([\"jspanel-tooltip\"], function() {\n\ton_load()\n      })\n      require([\"jspanel-hint\"], function() {\n\ton_load()\n      })\n      require([\"jspanel-layout\"], function() {\n\ton_load()\n      })\n      require([\"jspanel-contextmenu\"], function() {\n\ton_load()\n      })\n      require([\"jspanel-dock\"], function() {\n\ton_load()\n      })\n      require([\"gridstack\"], function(GridStack) {\n\twindow.GridStack = GridStack\n\ton_load()\n      })\n      require([\"notyf\"], function() {\n\ton_load()\n      })\n      root._bokeh_is_loading = css_urls.length + 9;\n    } else {\n      root._bokeh_is_loading = css_urls.length + js_urls.length + js_modules.length + Object.keys(js_exports).length;\n    }\n\n    var existing_stylesheets = []\n    var links = document.getElementsByTagName('link')\n    for (var i = 0; i < links.length; i++) {\n      var link = links[i]\n      if (link.href != null) {\n\texisting_stylesheets.push(link.href)\n      }\n    }\n    for (var i = 0; i < css_urls.length; i++) {\n      var url = css_urls[i];\n      if (existing_stylesheets.indexOf(url) !== -1) {\n\ton_load()\n\tcontinue;\n      }\n      const element = document.createElement(\"link\");\n      element.onload = on_load;\n      element.onerror = on_error;\n      element.rel = \"stylesheet\";\n      element.type = \"text/css\";\n      element.href = url;\n      console.debug(\"Bokeh: injecting link tag for BokehJS stylesheet: \", url);\n      document.body.appendChild(element);\n    }    if (((window['jsPanel'] !== undefined) && (!(window['jsPanel'] instanceof HTMLElement))) || window.requirejs) {\n      var urls = ['https://cdn.holoviz.org/panel/1.3.8/dist/bundled/floatpanel/jspanel4@4.12.0/dist/jspanel.js', 'https://cdn.holoviz.org/panel/1.3.8/dist/bundled/floatpanel/jspanel4@4.12.0/dist/extensions/modal/jspanel.modal.js', 'https://cdn.holoviz.org/panel/1.3.8/dist/bundled/floatpanel/jspanel4@4.12.0/dist/extensions/tooltip/jspanel.tooltip.js', 'https://cdn.holoviz.org/panel/1.3.8/dist/bundled/floatpanel/jspanel4@4.12.0/dist/extensions/hint/jspanel.hint.js', 'https://cdn.holoviz.org/panel/1.3.8/dist/bundled/floatpanel/jspanel4@4.12.0/dist/extensions/layout/jspanel.layout.js', 'https://cdn.holoviz.org/panel/1.3.8/dist/bundled/floatpanel/jspanel4@4.12.0/dist/extensions/contextmenu/jspanel.contextmenu.js', 'https://cdn.holoviz.org/panel/1.3.8/dist/bundled/floatpanel/jspanel4@4.12.0/dist/extensions/dock/jspanel.dock.js'];\n      for (var i = 0; i < urls.length; i++) {\n        skip.push(urls[i])\n      }\n    }    if (((window['GridStack'] !== undefined) && (!(window['GridStack'] instanceof HTMLElement))) || window.requirejs) {\n      var urls = ['https://cdn.holoviz.org/panel/1.3.8/dist/bundled/gridstack/gridstack@7.2.3/dist/gridstack-all.js'];\n      for (var i = 0; i < urls.length; i++) {\n        skip.push(urls[i])\n      }\n    }    if (((window['Notyf'] !== undefined) && (!(window['Notyf'] instanceof HTMLElement))) || window.requirejs) {\n      var urls = ['https://cdn.holoviz.org/panel/1.3.8/dist/bundled/notificationarea/notyf@3/notyf.min.js'];\n      for (var i = 0; i < urls.length; i++) {\n        skip.push(urls[i])\n      }\n    }    var existing_scripts = []\n    var scripts = document.getElementsByTagName('script')\n    for (var i = 0; i < scripts.length; i++) {\n      var script = scripts[i]\n      if (script.src != null) {\n\texisting_scripts.push(script.src)\n      }\n    }\n    for (var i = 0; i < js_urls.length; i++) {\n      var url = js_urls[i];\n      if (skip.indexOf(url) !== -1 || existing_scripts.indexOf(url) !== -1) {\n\tif (!window.requirejs) {\n\t  on_load();\n\t}\n\tcontinue;\n      }\n      var element = document.createElement('script');\n      element.onload = on_load;\n      element.onerror = on_error;\n      element.async = false;\n      element.src = url;\n      console.debug(\"Bokeh: injecting script tag for BokehJS library: \", url);\n      document.head.appendChild(element);\n    }\n    for (var i = 0; i < js_modules.length; i++) {\n      var url = js_modules[i];\n      if (skip.indexOf(url) !== -1 || existing_scripts.indexOf(url) !== -1) {\n\tif (!window.requirejs) {\n\t  on_load();\n\t}\n\tcontinue;\n      }\n      var element = document.createElement('script');\n      element.onload = on_load;\n      element.onerror = on_error;\n      element.async = false;\n      element.src = url;\n      element.type = \"module\";\n      console.debug(\"Bokeh: injecting script tag for BokehJS library: \", url);\n      document.head.appendChild(element);\n    }\n    for (const name in js_exports) {\n      var url = js_exports[name];\n      if (skip.indexOf(url) >= 0 || root[name] != null) {\n\tif (!window.requirejs) {\n\t  on_load();\n\t}\n\tcontinue;\n      }\n      var element = document.createElement('script');\n      element.onerror = on_error;\n      element.async = false;\n      element.type = \"module\";\n      console.debug(\"Bokeh: injecting script tag for BokehJS library: \", url);\n      element.textContent = `\n      import ${name} from \"${url}\"\n      window.${name} = ${name}\n      window._bokeh_on_load()\n      `\n      document.head.appendChild(element);\n    }\n    if (!js_urls.length && !js_modules.length) {\n      on_load()\n    }\n  };\n\n  function inject_raw_css(css) {\n    const element = document.createElement(\"style\");\n    element.appendChild(document.createTextNode(css));\n    document.body.appendChild(element);\n  }\n\n  var js_urls = [\"https://cdn.bokeh.org/bokeh/release/bokeh-3.3.4.min.js\", \"https://cdn.bokeh.org/bokeh/release/bokeh-gl-3.3.4.min.js\", \"https://cdn.bokeh.org/bokeh/release/bokeh-widgets-3.3.4.min.js\", \"https://cdn.bokeh.org/bokeh/release/bokeh-tables-3.3.4.min.js\", \"https://cdn.holoviz.org/panel/1.3.8/dist/panel.min.js\"];\n  var js_modules = [];\n  var js_exports = {};\n  var css_urls = [];\n  var inline_js = [    function(Bokeh) {\n      Bokeh.set_log_level(\"info\");\n    },\nfunction(Bokeh) {} // ensure no trailing comma for IE\n  ];\n\n  function run_inline_js() {\n    if ((root.Bokeh !== undefined) || (force === true)) {\n      for (var i = 0; i < inline_js.length; i++) {\n\ttry {\n          inline_js[i].call(root, root.Bokeh);\n\t} catch(e) {\n\t  if (!reloading) {\n\t    throw e;\n\t  }\n\t}\n      }\n      // Cache old bokeh versions\n      if (Bokeh != undefined && !reloading) {\n\tvar NewBokeh = root.Bokeh;\n\tif (Bokeh.versions === undefined) {\n\t  Bokeh.versions = new Map();\n\t}\n\tif (NewBokeh.version !== Bokeh.version) {\n\t  Bokeh.versions.set(NewBokeh.version, NewBokeh)\n\t}\n\troot.Bokeh = Bokeh;\n      }} else if (Date.now() < root._bokeh_timeout) {\n      setTimeout(run_inline_js, 100);\n    } else if (!root._bokeh_failed_load) {\n      console.log(\"Bokeh: BokehJS failed to load within specified timeout.\");\n      root._bokeh_failed_load = true;\n    }\n    root._bokeh_is_initializing = false\n  }\n\n  function load_or_wait() {\n    // Implement a backoff loop that tries to ensure we do not load multiple\n    // versions of Bokeh and its dependencies at the same time.\n    // In recent versions we use the root._bokeh_is_initializing flag\n    // to determine whether there is an ongoing attempt to initialize\n    // bokeh, however for backward compatibility we also try to ensure\n    // that we do not start loading a newer (Panel>=1.0 and Bokeh>3) version\n    // before older versions are fully initialized.\n    if (root._bokeh_is_initializing && Date.now() > root._bokeh_timeout) {\n      root._bokeh_is_initializing = false;\n      root._bokeh_onload_callbacks = undefined;\n      console.log(\"Bokeh: BokehJS was loaded multiple times but one version failed to initialize.\");\n      load_or_wait();\n    } else if (root._bokeh_is_initializing || (typeof root._bokeh_is_initializing === \"undefined\" && root._bokeh_onload_callbacks !== undefined)) {\n      setTimeout(load_or_wait, 100);\n    } else {\n      root._bokeh_is_initializing = true\n      root._bokeh_onload_callbacks = []\n      var bokeh_loaded = Bokeh != null && (Bokeh.version === py_version || (Bokeh.versions !== undefined && Bokeh.versions.has(py_version)));\n      if (!reloading && !bokeh_loaded) {\n\troot.Bokeh = undefined;\n      }\n      load_libs(css_urls, js_urls, js_modules, js_exports, function() {\n\tconsole.debug(\"Bokeh: BokehJS plotting callback run at\", now());\n\trun_inline_js();\n      });\n    }\n  }\n  // Give older versions of the autoload script a head-start to ensure\n  // they initialize before we start loading newer version.\n  setTimeout(load_or_wait, 100)\n}(window));"
     },
     "metadata": {},
     "output_type": "display_data"
    },
    {
     "data": {
      "application/javascript": [
       "\n",
       "if ((window.PyViz === undefined) || (window.PyViz instanceof HTMLElement)) {\n",
       "  window.PyViz = {comms: {}, comm_status:{}, kernels:{}, receivers: {}, plot_index: []}\n",
       "}\n",
       "\n",
       "\n",
       "    function JupyterCommManager() {\n",
       "    }\n",
       "\n",
       "    JupyterCommManager.prototype.register_target = function(plot_id, comm_id, msg_handler) {\n",
       "      if (window.comm_manager || ((window.Jupyter !== undefined) && (Jupyter.notebook.kernel != null))) {\n",
       "        var comm_manager = window.comm_manager || Jupyter.notebook.kernel.comm_manager;\n",
       "        comm_manager.register_target(comm_id, function(comm) {\n",
       "          comm.on_msg(msg_handler);\n",
       "        });\n",
       "      } else if ((plot_id in window.PyViz.kernels) && (window.PyViz.kernels[plot_id])) {\n",
       "        window.PyViz.kernels[plot_id].registerCommTarget(comm_id, function(comm) {\n",
       "          comm.onMsg = msg_handler;\n",
       "        });\n",
       "      } else if (typeof google != 'undefined' && google.colab.kernel != null) {\n",
       "        google.colab.kernel.comms.registerTarget(comm_id, (comm) => {\n",
       "          var messages = comm.messages[Symbol.asyncIterator]();\n",
       "          function processIteratorResult(result) {\n",
       "            var message = result.value;\n",
       "            console.log(message)\n",
       "            var content = {data: message.data, comm_id};\n",
       "            var buffers = []\n",
       "            for (var buffer of message.buffers || []) {\n",
       "              buffers.push(new DataView(buffer))\n",
       "            }\n",
       "            var metadata = message.metadata || {};\n",
       "            var msg = {content, buffers, metadata}\n",
       "            msg_handler(msg);\n",
       "            return messages.next().then(processIteratorResult);\n",
       "          }\n",
       "          return messages.next().then(processIteratorResult);\n",
       "        })\n",
       "      }\n",
       "    }\n",
       "\n",
       "    JupyterCommManager.prototype.get_client_comm = function(plot_id, comm_id, msg_handler) {\n",
       "      if (comm_id in window.PyViz.comms) {\n",
       "        return window.PyViz.comms[comm_id];\n",
       "      } else if (window.comm_manager || ((window.Jupyter !== undefined) && (Jupyter.notebook.kernel != null))) {\n",
       "        var comm_manager = window.comm_manager || Jupyter.notebook.kernel.comm_manager;\n",
       "        var comm = comm_manager.new_comm(comm_id, {}, {}, {}, comm_id);\n",
       "        if (msg_handler) {\n",
       "          comm.on_msg(msg_handler);\n",
       "        }\n",
       "      } else if ((plot_id in window.PyViz.kernels) && (window.PyViz.kernels[plot_id])) {\n",
       "        var comm = window.PyViz.kernels[plot_id].connectToComm(comm_id);\n",
       "        comm.open();\n",
       "        if (msg_handler) {\n",
       "          comm.onMsg = msg_handler;\n",
       "        }\n",
       "      } else if (typeof google != 'undefined' && google.colab.kernel != null) {\n",
       "        var comm_promise = google.colab.kernel.comms.open(comm_id)\n",
       "        comm_promise.then((comm) => {\n",
       "          window.PyViz.comms[comm_id] = comm;\n",
       "          if (msg_handler) {\n",
       "            var messages = comm.messages[Symbol.asyncIterator]();\n",
       "            function processIteratorResult(result) {\n",
       "              var message = result.value;\n",
       "              var content = {data: message.data};\n",
       "              var metadata = message.metadata || {comm_id};\n",
       "              var msg = {content, metadata}\n",
       "              msg_handler(msg);\n",
       "              return messages.next().then(processIteratorResult);\n",
       "            }\n",
       "            return messages.next().then(processIteratorResult);\n",
       "          }\n",
       "        }) \n",
       "        var sendClosure = (data, metadata, buffers, disposeOnDone) => {\n",
       "          return comm_promise.then((comm) => {\n",
       "            comm.send(data, metadata, buffers, disposeOnDone);\n",
       "          });\n",
       "        };\n",
       "        var comm = {\n",
       "          send: sendClosure\n",
       "        };\n",
       "      }\n",
       "      window.PyViz.comms[comm_id] = comm;\n",
       "      return comm;\n",
       "    }\n",
       "    window.PyViz.comm_manager = new JupyterCommManager();\n",
       "    \n",
       "\n",
       "\n",
       "var JS_MIME_TYPE = 'application/javascript';\n",
       "var HTML_MIME_TYPE = 'text/html';\n",
       "var EXEC_MIME_TYPE = 'application/vnd.holoviews_exec.v0+json';\n",
       "var CLASS_NAME = 'output';\n",
       "\n",
       "/**\n",
       " * Render data to the DOM node\n",
       " */\n",
       "function render(props, node) {\n",
       "  var div = document.createElement(\"div\");\n",
       "  var script = document.createElement(\"script\");\n",
       "  node.appendChild(div);\n",
       "  node.appendChild(script);\n",
       "}\n",
       "\n",
       "/**\n",
       " * Handle when a new output is added\n",
       " */\n",
       "function handle_add_output(event, handle) {\n",
       "  var output_area = handle.output_area;\n",
       "  var output = handle.output;\n",
       "  if ((output.data == undefined) || (!output.data.hasOwnProperty(EXEC_MIME_TYPE))) {\n",
       "    return\n",
       "  }\n",
       "  var id = output.metadata[EXEC_MIME_TYPE][\"id\"];\n",
       "  var toinsert = output_area.element.find(\".\" + CLASS_NAME.split(' ')[0]);\n",
       "  if (id !== undefined) {\n",
       "    var nchildren = toinsert.length;\n",
       "    var html_node = toinsert[nchildren-1].children[0];\n",
       "    html_node.innerHTML = output.data[HTML_MIME_TYPE];\n",
       "    var scripts = [];\n",
       "    var nodelist = html_node.querySelectorAll(\"script\");\n",
       "    for (var i in nodelist) {\n",
       "      if (nodelist.hasOwnProperty(i)) {\n",
       "        scripts.push(nodelist[i])\n",
       "      }\n",
       "    }\n",
       "\n",
       "    scripts.forEach( function (oldScript) {\n",
       "      var newScript = document.createElement(\"script\");\n",
       "      var attrs = [];\n",
       "      var nodemap = oldScript.attributes;\n",
       "      for (var j in nodemap) {\n",
       "        if (nodemap.hasOwnProperty(j)) {\n",
       "          attrs.push(nodemap[j])\n",
       "        }\n",
       "      }\n",
       "      attrs.forEach(function(attr) { newScript.setAttribute(attr.name, attr.value) });\n",
       "      newScript.appendChild(document.createTextNode(oldScript.innerHTML));\n",
       "      oldScript.parentNode.replaceChild(newScript, oldScript);\n",
       "    });\n",
       "    if (JS_MIME_TYPE in output.data) {\n",
       "      toinsert[nchildren-1].children[1].textContent = output.data[JS_MIME_TYPE];\n",
       "    }\n",
       "    output_area._hv_plot_id = id;\n",
       "    if ((window.Bokeh !== undefined) && (id in Bokeh.index)) {\n",
       "      window.PyViz.plot_index[id] = Bokeh.index[id];\n",
       "    } else {\n",
       "      window.PyViz.plot_index[id] = null;\n",
       "    }\n",
       "  } else if (output.metadata[EXEC_MIME_TYPE][\"server_id\"] !== undefined) {\n",
       "    var bk_div = document.createElement(\"div\");\n",
       "    bk_div.innerHTML = output.data[HTML_MIME_TYPE];\n",
       "    var script_attrs = bk_div.children[0].attributes;\n",
       "    for (var i = 0; i < script_attrs.length; i++) {\n",
       "      toinsert[toinsert.length - 1].childNodes[1].setAttribute(script_attrs[i].name, script_attrs[i].value);\n",
       "    }\n",
       "    // store reference to server id on output_area\n",
       "    output_area._bokeh_server_id = output.metadata[EXEC_MIME_TYPE][\"server_id\"];\n",
       "  }\n",
       "}\n",
       "\n",
       "/**\n",
       " * Handle when an output is cleared or removed\n",
       " */\n",
       "function handle_clear_output(event, handle) {\n",
       "  var id = handle.cell.output_area._hv_plot_id;\n",
       "  var server_id = handle.cell.output_area._bokeh_server_id;\n",
       "  if (((id === undefined) || !(id in PyViz.plot_index)) && (server_id !== undefined)) { return; }\n",
       "  var comm = window.PyViz.comm_manager.get_client_comm(\"hv-extension-comm\", \"hv-extension-comm\", function () {});\n",
       "  if (server_id !== null) {\n",
       "    comm.send({event_type: 'server_delete', 'id': server_id});\n",
       "    return;\n",
       "  } else if (comm !== null) {\n",
       "    comm.send({event_type: 'delete', 'id': id});\n",
       "  }\n",
       "  delete PyViz.plot_index[id];\n",
       "  if ((window.Bokeh !== undefined) & (id in window.Bokeh.index)) {\n",
       "    var doc = window.Bokeh.index[id].model.document\n",
       "    doc.clear();\n",
       "    const i = window.Bokeh.documents.indexOf(doc);\n",
       "    if (i > -1) {\n",
       "      window.Bokeh.documents.splice(i, 1);\n",
       "    }\n",
       "  }\n",
       "}\n",
       "\n",
       "/**\n",
       " * Handle kernel restart event\n",
       " */\n",
       "function handle_kernel_cleanup(event, handle) {\n",
       "  delete PyViz.comms[\"hv-extension-comm\"];\n",
       "  window.PyViz.plot_index = {}\n",
       "}\n",
       "\n",
       "/**\n",
       " * Handle update_display_data messages\n",
       " */\n",
       "function handle_update_output(event, handle) {\n",
       "  handle_clear_output(event, {cell: {output_area: handle.output_area}})\n",
       "  handle_add_output(event, handle)\n",
       "}\n",
       "\n",
       "function register_renderer(events, OutputArea) {\n",
       "  function append_mime(data, metadata, element) {\n",
       "    // create a DOM node to render to\n",
       "    var toinsert = this.create_output_subarea(\n",
       "    metadata,\n",
       "    CLASS_NAME,\n",
       "    EXEC_MIME_TYPE\n",
       "    );\n",
       "    this.keyboard_manager.register_events(toinsert);\n",
       "    // Render to node\n",
       "    var props = {data: data, metadata: metadata[EXEC_MIME_TYPE]};\n",
       "    render(props, toinsert[0]);\n",
       "    element.append(toinsert);\n",
       "    return toinsert\n",
       "  }\n",
       "\n",
       "  events.on('output_added.OutputArea', handle_add_output);\n",
       "  events.on('output_updated.OutputArea', handle_update_output);\n",
       "  events.on('clear_output.CodeCell', handle_clear_output);\n",
       "  events.on('delete.Cell', handle_clear_output);\n",
       "  events.on('kernel_ready.Kernel', handle_kernel_cleanup);\n",
       "\n",
       "  OutputArea.prototype.register_mime_type(EXEC_MIME_TYPE, append_mime, {\n",
       "    safe: true,\n",
       "    index: 0\n",
       "  });\n",
       "}\n",
       "\n",
       "if (window.Jupyter !== undefined) {\n",
       "  try {\n",
       "    var events = require('base/js/events');\n",
       "    var OutputArea = require('notebook/js/outputarea').OutputArea;\n",
       "    if (OutputArea.prototype.mime_types().indexOf(EXEC_MIME_TYPE) == -1) {\n",
       "      register_renderer(events, OutputArea);\n",
       "    }\n",
       "  } catch(err) {\n",
       "  }\n",
       "}\n"
      ],
      "application/vnd.holoviews_load.v0+json": "\nif ((window.PyViz === undefined) || (window.PyViz instanceof HTMLElement)) {\n  window.PyViz = {comms: {}, comm_status:{}, kernels:{}, receivers: {}, plot_index: []}\n}\n\n\n    function JupyterCommManager() {\n    }\n\n    JupyterCommManager.prototype.register_target = function(plot_id, comm_id, msg_handler) {\n      if (window.comm_manager || ((window.Jupyter !== undefined) && (Jupyter.notebook.kernel != null))) {\n        var comm_manager = window.comm_manager || Jupyter.notebook.kernel.comm_manager;\n        comm_manager.register_target(comm_id, function(comm) {\n          comm.on_msg(msg_handler);\n        });\n      } else if ((plot_id in window.PyViz.kernels) && (window.PyViz.kernels[plot_id])) {\n        window.PyViz.kernels[plot_id].registerCommTarget(comm_id, function(comm) {\n          comm.onMsg = msg_handler;\n        });\n      } else if (typeof google != 'undefined' && google.colab.kernel != null) {\n        google.colab.kernel.comms.registerTarget(comm_id, (comm) => {\n          var messages = comm.messages[Symbol.asyncIterator]();\n          function processIteratorResult(result) {\n            var message = result.value;\n            console.log(message)\n            var content = {data: message.data, comm_id};\n            var buffers = []\n            for (var buffer of message.buffers || []) {\n              buffers.push(new DataView(buffer))\n            }\n            var metadata = message.metadata || {};\n            var msg = {content, buffers, metadata}\n            msg_handler(msg);\n            return messages.next().then(processIteratorResult);\n          }\n          return messages.next().then(processIteratorResult);\n        })\n      }\n    }\n\n    JupyterCommManager.prototype.get_client_comm = function(plot_id, comm_id, msg_handler) {\n      if (comm_id in window.PyViz.comms) {\n        return window.PyViz.comms[comm_id];\n      } else if (window.comm_manager || ((window.Jupyter !== undefined) && (Jupyter.notebook.kernel != null))) {\n        var comm_manager = window.comm_manager || Jupyter.notebook.kernel.comm_manager;\n        var comm = comm_manager.new_comm(comm_id, {}, {}, {}, comm_id);\n        if (msg_handler) {\n          comm.on_msg(msg_handler);\n        }\n      } else if ((plot_id in window.PyViz.kernels) && (window.PyViz.kernels[plot_id])) {\n        var comm = window.PyViz.kernels[plot_id].connectToComm(comm_id);\n        comm.open();\n        if (msg_handler) {\n          comm.onMsg = msg_handler;\n        }\n      } else if (typeof google != 'undefined' && google.colab.kernel != null) {\n        var comm_promise = google.colab.kernel.comms.open(comm_id)\n        comm_promise.then((comm) => {\n          window.PyViz.comms[comm_id] = comm;\n          if (msg_handler) {\n            var messages = comm.messages[Symbol.asyncIterator]();\n            function processIteratorResult(result) {\n              var message = result.value;\n              var content = {data: message.data};\n              var metadata = message.metadata || {comm_id};\n              var msg = {content, metadata}\n              msg_handler(msg);\n              return messages.next().then(processIteratorResult);\n            }\n            return messages.next().then(processIteratorResult);\n          }\n        }) \n        var sendClosure = (data, metadata, buffers, disposeOnDone) => {\n          return comm_promise.then((comm) => {\n            comm.send(data, metadata, buffers, disposeOnDone);\n          });\n        };\n        var comm = {\n          send: sendClosure\n        };\n      }\n      window.PyViz.comms[comm_id] = comm;\n      return comm;\n    }\n    window.PyViz.comm_manager = new JupyterCommManager();\n    \n\n\nvar JS_MIME_TYPE = 'application/javascript';\nvar HTML_MIME_TYPE = 'text/html';\nvar EXEC_MIME_TYPE = 'application/vnd.holoviews_exec.v0+json';\nvar CLASS_NAME = 'output';\n\n/**\n * Render data to the DOM node\n */\nfunction render(props, node) {\n  var div = document.createElement(\"div\");\n  var script = document.createElement(\"script\");\n  node.appendChild(div);\n  node.appendChild(script);\n}\n\n/**\n * Handle when a new output is added\n */\nfunction handle_add_output(event, handle) {\n  var output_area = handle.output_area;\n  var output = handle.output;\n  if ((output.data == undefined) || (!output.data.hasOwnProperty(EXEC_MIME_TYPE))) {\n    return\n  }\n  var id = output.metadata[EXEC_MIME_TYPE][\"id\"];\n  var toinsert = output_area.element.find(\".\" + CLASS_NAME.split(' ')[0]);\n  if (id !== undefined) {\n    var nchildren = toinsert.length;\n    var html_node = toinsert[nchildren-1].children[0];\n    html_node.innerHTML = output.data[HTML_MIME_TYPE];\n    var scripts = [];\n    var nodelist = html_node.querySelectorAll(\"script\");\n    for (var i in nodelist) {\n      if (nodelist.hasOwnProperty(i)) {\n        scripts.push(nodelist[i])\n      }\n    }\n\n    scripts.forEach( function (oldScript) {\n      var newScript = document.createElement(\"script\");\n      var attrs = [];\n      var nodemap = oldScript.attributes;\n      for (var j in nodemap) {\n        if (nodemap.hasOwnProperty(j)) {\n          attrs.push(nodemap[j])\n        }\n      }\n      attrs.forEach(function(attr) { newScript.setAttribute(attr.name, attr.value) });\n      newScript.appendChild(document.createTextNode(oldScript.innerHTML));\n      oldScript.parentNode.replaceChild(newScript, oldScript);\n    });\n    if (JS_MIME_TYPE in output.data) {\n      toinsert[nchildren-1].children[1].textContent = output.data[JS_MIME_TYPE];\n    }\n    output_area._hv_plot_id = id;\n    if ((window.Bokeh !== undefined) && (id in Bokeh.index)) {\n      window.PyViz.plot_index[id] = Bokeh.index[id];\n    } else {\n      window.PyViz.plot_index[id] = null;\n    }\n  } else if (output.metadata[EXEC_MIME_TYPE][\"server_id\"] !== undefined) {\n    var bk_div = document.createElement(\"div\");\n    bk_div.innerHTML = output.data[HTML_MIME_TYPE];\n    var script_attrs = bk_div.children[0].attributes;\n    for (var i = 0; i < script_attrs.length; i++) {\n      toinsert[toinsert.length - 1].childNodes[1].setAttribute(script_attrs[i].name, script_attrs[i].value);\n    }\n    // store reference to server id on output_area\n    output_area._bokeh_server_id = output.metadata[EXEC_MIME_TYPE][\"server_id\"];\n  }\n}\n\n/**\n * Handle when an output is cleared or removed\n */\nfunction handle_clear_output(event, handle) {\n  var id = handle.cell.output_area._hv_plot_id;\n  var server_id = handle.cell.output_area._bokeh_server_id;\n  if (((id === undefined) || !(id in PyViz.plot_index)) && (server_id !== undefined)) { return; }\n  var comm = window.PyViz.comm_manager.get_client_comm(\"hv-extension-comm\", \"hv-extension-comm\", function () {});\n  if (server_id !== null) {\n    comm.send({event_type: 'server_delete', 'id': server_id});\n    return;\n  } else if (comm !== null) {\n    comm.send({event_type: 'delete', 'id': id});\n  }\n  delete PyViz.plot_index[id];\n  if ((window.Bokeh !== undefined) & (id in window.Bokeh.index)) {\n    var doc = window.Bokeh.index[id].model.document\n    doc.clear();\n    const i = window.Bokeh.documents.indexOf(doc);\n    if (i > -1) {\n      window.Bokeh.documents.splice(i, 1);\n    }\n  }\n}\n\n/**\n * Handle kernel restart event\n */\nfunction handle_kernel_cleanup(event, handle) {\n  delete PyViz.comms[\"hv-extension-comm\"];\n  window.PyViz.plot_index = {}\n}\n\n/**\n * Handle update_display_data messages\n */\nfunction handle_update_output(event, handle) {\n  handle_clear_output(event, {cell: {output_area: handle.output_area}})\n  handle_add_output(event, handle)\n}\n\nfunction register_renderer(events, OutputArea) {\n  function append_mime(data, metadata, element) {\n    // create a DOM node to render to\n    var toinsert = this.create_output_subarea(\n    metadata,\n    CLASS_NAME,\n    EXEC_MIME_TYPE\n    );\n    this.keyboard_manager.register_events(toinsert);\n    // Render to node\n    var props = {data: data, metadata: metadata[EXEC_MIME_TYPE]};\n    render(props, toinsert[0]);\n    element.append(toinsert);\n    return toinsert\n  }\n\n  events.on('output_added.OutputArea', handle_add_output);\n  events.on('output_updated.OutputArea', handle_update_output);\n  events.on('clear_output.CodeCell', handle_clear_output);\n  events.on('delete.Cell', handle_clear_output);\n  events.on('kernel_ready.Kernel', handle_kernel_cleanup);\n\n  OutputArea.prototype.register_mime_type(EXEC_MIME_TYPE, append_mime, {\n    safe: true,\n    index: 0\n  });\n}\n\nif (window.Jupyter !== undefined) {\n  try {\n    var events = require('base/js/events');\n    var OutputArea = require('notebook/js/outputarea').OutputArea;\n    if (OutputArea.prototype.mime_types().indexOf(EXEC_MIME_TYPE) == -1) {\n      register_renderer(events, OutputArea);\n    }\n  } catch(err) {\n  }\n}\n"
     },
     "metadata": {},
     "output_type": "display_data"
    },
    {
     "data": {
      "text/html": [
       "<style>*[data-root-id],\n",
       "*[data-root-id] > * {\n",
       "  box-sizing: border-box;\n",
       "  font-family: var(--jp-ui-font-family);\n",
       "  font-size: var(--jp-ui-font-size1);\n",
       "  color: var(--vscode-editor-foreground, var(--jp-ui-font-color1));\n",
       "}\n",
       "\n",
       "/* Override VSCode background color */\n",
       ".cell-output-ipywidget-background:has(\n",
       "    > .cell-output-ipywidget-background > .lm-Widget > *[data-root-id]\n",
       "  ),\n",
       ".cell-output-ipywidget-background:has(> .lm-Widget > *[data-root-id]) {\n",
       "  background-color: transparent !important;\n",
       "}\n",
       "</style>"
      ]
     },
     "metadata": {},
     "output_type": "display_data"
    },
    {
     "data": {
      "application/vnd.holoviews_exec.v0+json": "",
      "text/html": [
       "<div id='f9fe54a4-cdbe-4194-8989-b0e50ec00e34'>\n",
       "  <div id=\"b8e801b5-09ab-4015-8497-35eb445da9b5\" data-root-id=\"f9fe54a4-cdbe-4194-8989-b0e50ec00e34\" style=\"display: contents;\"></div>\n",
       "</div>\n",
       "<script type=\"application/javascript\">(function(root) {\n",
       "  var docs_json = {\"2fc0876f-48ef-4b84-8e90-32bb47313c78\":{\"version\":\"3.3.4\",\"title\":\"Bokeh Application\",\"roots\":[{\"type\":\"object\",\"name\":\"panel.models.browser.BrowserInfo\",\"id\":\"f9fe54a4-cdbe-4194-8989-b0e50ec00e34\"},{\"type\":\"object\",\"name\":\"panel.models.comm_manager.CommManager\",\"id\":\"731d3fe0-3574-4a35-8e58-820cc63d8667\",\"attributes\":{\"plot_id\":\"f9fe54a4-cdbe-4194-8989-b0e50ec00e34\",\"comm_id\":\"45942a46b5c84d69bb34fbc832be44db\",\"client_comm_id\":\"de1c59996f344b569f360692535a3399\"}}],\"defs\":[{\"type\":\"model\",\"name\":\"ReactiveHTML1\"},{\"type\":\"model\",\"name\":\"FlexBox1\",\"properties\":[{\"name\":\"align_content\",\"kind\":\"Any\",\"default\":\"flex-start\"},{\"name\":\"align_items\",\"kind\":\"Any\",\"default\":\"flex-start\"},{\"name\":\"flex_direction\",\"kind\":\"Any\",\"default\":\"row\"},{\"name\":\"flex_wrap\",\"kind\":\"Any\",\"default\":\"wrap\"},{\"name\":\"justify_content\",\"kind\":\"Any\",\"default\":\"flex-start\"}]},{\"type\":\"model\",\"name\":\"FloatPanel1\",\"properties\":[{\"name\":\"config\",\"kind\":\"Any\",\"default\":{\"type\":\"map\"}},{\"name\":\"contained\",\"kind\":\"Any\",\"default\":true},{\"name\":\"position\",\"kind\":\"Any\",\"default\":\"right-top\"},{\"name\":\"offsetx\",\"kind\":\"Any\",\"default\":null},{\"name\":\"offsety\",\"kind\":\"Any\",\"default\":null},{\"name\":\"theme\",\"kind\":\"Any\",\"default\":\"primary\"},{\"name\":\"status\",\"kind\":\"Any\",\"default\":\"normalized\"}]},{\"type\":\"model\",\"name\":\"GridStack1\",\"properties\":[{\"name\":\"mode\",\"kind\":\"Any\",\"default\":\"warn\"},{\"name\":\"ncols\",\"kind\":\"Any\",\"default\":null},{\"name\":\"nrows\",\"kind\":\"Any\",\"default\":null},{\"name\":\"allow_resize\",\"kind\":\"Any\",\"default\":true},{\"name\":\"allow_drag\",\"kind\":\"Any\",\"default\":true},{\"name\":\"state\",\"kind\":\"Any\",\"default\":[]}]},{\"type\":\"model\",\"name\":\"drag1\",\"properties\":[{\"name\":\"slider_width\",\"kind\":\"Any\",\"default\":5},{\"name\":\"slider_color\",\"kind\":\"Any\",\"default\":\"black\"},{\"name\":\"value\",\"kind\":\"Any\",\"default\":50}]},{\"type\":\"model\",\"name\":\"click1\",\"properties\":[{\"name\":\"terminal_output\",\"kind\":\"Any\",\"default\":\"\"},{\"name\":\"debug_name\",\"kind\":\"Any\",\"default\":\"\"},{\"name\":\"clears\",\"kind\":\"Any\",\"default\":0}]},{\"type\":\"model\",\"name\":\"copy_to_clipboard1\",\"properties\":[{\"name\":\"fill\",\"kind\":\"Any\",\"default\":\"none\"},{\"name\":\"value\",\"kind\":\"Any\",\"default\":null}]},{\"type\":\"model\",\"name\":\"FastWrapper1\",\"properties\":[{\"name\":\"object\",\"kind\":\"Any\",\"default\":null},{\"name\":\"style\",\"kind\":\"Any\",\"default\":null}]},{\"type\":\"model\",\"name\":\"NotificationAreaBase1\",\"properties\":[{\"name\":\"js_events\",\"kind\":\"Any\",\"default\":{\"type\":\"map\"}},{\"name\":\"position\",\"kind\":\"Any\",\"default\":\"bottom-right\"},{\"name\":\"_clear\",\"kind\":\"Any\",\"default\":0}]},{\"type\":\"model\",\"name\":\"NotificationArea1\",\"properties\":[{\"name\":\"js_events\",\"kind\":\"Any\",\"default\":{\"type\":\"map\"}},{\"name\":\"notifications\",\"kind\":\"Any\",\"default\":[]},{\"name\":\"position\",\"kind\":\"Any\",\"default\":\"bottom-right\"},{\"name\":\"_clear\",\"kind\":\"Any\",\"default\":0},{\"name\":\"types\",\"kind\":\"Any\",\"default\":[{\"type\":\"map\",\"entries\":[[\"type\",\"warning\"],[\"background\",\"#ffc107\"],[\"icon\",{\"type\":\"map\",\"entries\":[[\"className\",\"fas fa-exclamation-triangle\"],[\"tagName\",\"i\"],[\"color\",\"white\"]]}]]},{\"type\":\"map\",\"entries\":[[\"type\",\"info\"],[\"background\",\"#007bff\"],[\"icon\",{\"type\":\"map\",\"entries\":[[\"className\",\"fas fa-info-circle\"],[\"tagName\",\"i\"],[\"color\",\"white\"]]}]]}]}]},{\"type\":\"model\",\"name\":\"Notification\",\"properties\":[{\"name\":\"background\",\"kind\":\"Any\",\"default\":null},{\"name\":\"duration\",\"kind\":\"Any\",\"default\":3000},{\"name\":\"icon\",\"kind\":\"Any\",\"default\":null},{\"name\":\"message\",\"kind\":\"Any\",\"default\":\"\"},{\"name\":\"notification_type\",\"kind\":\"Any\",\"default\":null},{\"name\":\"_destroyed\",\"kind\":\"Any\",\"default\":false}]},{\"type\":\"model\",\"name\":\"TemplateActions1\",\"properties\":[{\"name\":\"open_modal\",\"kind\":\"Any\",\"default\":0},{\"name\":\"close_modal\",\"kind\":\"Any\",\"default\":0}]},{\"type\":\"model\",\"name\":\"BootstrapTemplateActions1\",\"properties\":[{\"name\":\"open_modal\",\"kind\":\"Any\",\"default\":0},{\"name\":\"close_modal\",\"kind\":\"Any\",\"default\":0}]},{\"type\":\"model\",\"name\":\"MaterialTemplateActions1\",\"properties\":[{\"name\":\"open_modal\",\"kind\":\"Any\",\"default\":0},{\"name\":\"close_modal\",\"kind\":\"Any\",\"default\":0}]}]}};\n",
       "  var render_items = [{\"docid\":\"2fc0876f-48ef-4b84-8e90-32bb47313c78\",\"roots\":{\"f9fe54a4-cdbe-4194-8989-b0e50ec00e34\":\"b8e801b5-09ab-4015-8497-35eb445da9b5\"},\"root_ids\":[\"f9fe54a4-cdbe-4194-8989-b0e50ec00e34\"]}];\n",
       "  var docs = Object.values(docs_json)\n",
       "  if (!docs) {\n",
       "    return\n",
       "  }\n",
       "  const py_version = docs[0].version.replace('rc', '-rc.').replace('.dev', '-dev.')\n",
       "  function embed_document(root) {\n",
       "    var Bokeh = get_bokeh(root)\n",
       "    Bokeh.embed.embed_items_notebook(docs_json, render_items);\n",
       "    for (const render_item of render_items) {\n",
       "      for (const root_id of render_item.root_ids) {\n",
       "\tconst id_el = document.getElementById(root_id)\n",
       "\tif (id_el.children.length && (id_el.children[0].className === 'bk-root')) {\n",
       "\t  const root_el = id_el.children[0]\n",
       "\t  root_el.id = root_el.id + '-rendered'\n",
       "\t}\n",
       "      }\n",
       "    }\n",
       "  }\n",
       "  function get_bokeh(root) {\n",
       "    if (root.Bokeh === undefined) {\n",
       "      return null\n",
       "    } else if (root.Bokeh.version !== py_version) {\n",
       "      if (root.Bokeh.versions === undefined || !root.Bokeh.versions.has(py_version)) {\n",
       "\treturn null\n",
       "      }\n",
       "      return root.Bokeh.versions.get(py_version);\n",
       "    } else if (root.Bokeh.version === py_version) {\n",
       "      return root.Bokeh\n",
       "    }\n",
       "    return null\n",
       "  }\n",
       "  function is_loaded(root) {\n",
       "    var Bokeh = get_bokeh(root)\n",
       "    return (Bokeh != null && Bokeh.Panel !== undefined)\n",
       "  }\n",
       "  if (is_loaded(root)) {\n",
       "    embed_document(root);\n",
       "  } else {\n",
       "    var attempts = 0;\n",
       "    var timer = setInterval(function(root) {\n",
       "      if (is_loaded(root)) {\n",
       "        clearInterval(timer);\n",
       "        embed_document(root);\n",
       "      } else if (document.readyState == \"complete\") {\n",
       "        attempts++;\n",
       "        if (attempts > 200) {\n",
       "          clearInterval(timer);\n",
       "\t  var Bokeh = get_bokeh(root)\n",
       "\t  if (Bokeh == null || Bokeh.Panel == null) {\n",
       "            console.warn(\"Panel: ERROR: Unable to run Panel code because Bokeh or Panel library is missing\");\n",
       "\t  } else {\n",
       "\t    console.warn(\"Panel: WARNING: Attempting to render but not all required libraries could be resolved.\")\n",
       "\t    embed_document(root)\n",
       "\t  }\n",
       "        }\n",
       "      }\n",
       "    }, 25, root)\n",
       "  }\n",
       "})(window);</script>"
      ]
     },
     "metadata": {
      "application/vnd.holoviews_exec.v0+json": {
       "id": "f9fe54a4-cdbe-4194-8989-b0e50ec00e34"
      }
     },
     "output_type": "display_data"
    },
    {
     "data": {
      "application/vnd.holoviews_exec.v0+json": "",
      "text/html": [
       "<div id='ea7a6eab-608d-41d2-8dbc-e0d3686f1677'>\n",
       "  <div id=\"b88dce12-461d-4c18-a220-7677d045c8f6\" data-root-id=\"ea7a6eab-608d-41d2-8dbc-e0d3686f1677\" style=\"display: contents;\"></div>\n",
       "</div>\n",
       "<script type=\"application/javascript\">(function(root) {\n",
       "  var docs_json = {\"96b31933-fcd3-49ed-a536-db71655cdab4\":{\"version\":\"3.3.4\",\"title\":\"Bokeh Application\",\"roots\":[{\"type\":\"object\",\"name\":\"panel.models.layout.Column\",\"id\":\"ea7a6eab-608d-41d2-8dbc-e0d3686f1677\",\"attributes\":{\"name\":\"Column00119\",\"tags\":[\"embedded\"],\"stylesheets\":[\"\\n:host(.pn-loading.pn-arc):before, .pn-loading.pn-arc:before {\\n  background-image: url(\\\"data:image/svg+xml;base64,PHN2ZyB4bWxucz0iaHR0cDovL3d3dy53My5vcmcvMjAwMC9zdmciIHN0eWxlPSJtYXJnaW46IGF1dG87IGJhY2tncm91bmQ6IG5vbmU7IGRpc3BsYXk6IGJsb2NrOyBzaGFwZS1yZW5kZXJpbmc6IGF1dG87IiB2aWV3Qm94PSIwIDAgMTAwIDEwMCIgcHJlc2VydmVBc3BlY3RSYXRpbz0ieE1pZFlNaWQiPiAgPGNpcmNsZSBjeD0iNTAiIGN5PSI1MCIgZmlsbD0ibm9uZSIgc3Ryb2tlPSIjYzNjM2MzIiBzdHJva2Utd2lkdGg9IjEwIiByPSIzNSIgc3Ryb2tlLWRhc2hhcnJheT0iMTY0LjkzMzYxNDMxMzQ2NDE1IDU2Ljk3Nzg3MTQzNzgyMTM4Ij4gICAgPGFuaW1hdGVUcmFuc2Zvcm0gYXR0cmlidXRlTmFtZT0idHJhbnNmb3JtIiB0eXBlPSJyb3RhdGUiIHJlcGVhdENvdW50PSJpbmRlZmluaXRlIiBkdXI9IjFzIiB2YWx1ZXM9IjAgNTAgNTA7MzYwIDUwIDUwIiBrZXlUaW1lcz0iMDsxIj48L2FuaW1hdGVUcmFuc2Zvcm0+ICA8L2NpcmNsZT48L3N2Zz4=\\\");\\n  background-size: auto calc(min(50%, 400px));\\n}\",{\"type\":\"object\",\"name\":\"ImportedStyleSheet\",\"id\":\"0bc988ff-976d-42bb-84f1-04a38de4fd2a\",\"attributes\":{\"url\":\"https://cdn.holoviz.org/panel/1.3.8/dist/css/loading.css\"}},{\"type\":\"object\",\"name\":\"ImportedStyleSheet\",\"id\":\"a85d56f7-d32d-42fc-a5ce-30815c326575\",\"attributes\":{\"url\":\"https://cdn.holoviz.org/panel/1.3.8/dist/css/listpanel.css\"}},{\"type\":\"object\",\"name\":\"ImportedStyleSheet\",\"id\":\"8a412731-d960-44ad-96a1-030598f9b3f3\",\"attributes\":{\"url\":\"https://cdn.holoviz.org/panel/1.3.8/dist/bundled/theme/default.css\"}},{\"type\":\"object\",\"name\":\"ImportedStyleSheet\",\"id\":\"7d985bff-8421-4490-b378-b4691f452062\",\"attributes\":{\"url\":\"https://cdn.holoviz.org/panel/1.3.8/dist/bundled/theme/native.css\"}}],\"margin\":0,\"align\":\"start\",\"children\":[{\"type\":\"object\",\"name\":\"panel.models.layout.Column\",\"id\":\"40d96942-8f3b-4ea8-bae8-45e6450610e0\",\"attributes\":{\"name\":\"Column00124\",\"stylesheets\":[\"\\n:host(.pn-loading.pn-arc):before, .pn-loading.pn-arc:before {\\n  background-image: url(\\\"data:image/svg+xml;base64,PHN2ZyB4bWxucz0iaHR0cDovL3d3dy53My5vcmcvMjAwMC9zdmciIHN0eWxlPSJtYXJnaW46IGF1dG87IGJhY2tncm91bmQ6IG5vbmU7IGRpc3BsYXk6IGJsb2NrOyBzaGFwZS1yZW5kZXJpbmc6IGF1dG87IiB2aWV3Qm94PSIwIDAgMTAwIDEwMCIgcHJlc2VydmVBc3BlY3RSYXRpbz0ieE1pZFlNaWQiPiAgPGNpcmNsZSBjeD0iNTAiIGN5PSI1MCIgZmlsbD0ibm9uZSIgc3Ryb2tlPSIjYzNjM2MzIiBzdHJva2Utd2lkdGg9IjEwIiByPSIzNSIgc3Ryb2tlLWRhc2hhcnJheT0iMTY0LjkzMzYxNDMxMzQ2NDE1IDU2Ljk3Nzg3MTQzNzgyMTM4Ij4gICAgPGFuaW1hdGVUcmFuc2Zvcm0gYXR0cmlidXRlTmFtZT0idHJhbnNmb3JtIiB0eXBlPSJyb3RhdGUiIHJlcGVhdENvdW50PSJpbmRlZmluaXRlIiBkdXI9IjFzIiB2YWx1ZXM9IjAgNTAgNTA7MzYwIDUwIDUwIiBrZXlUaW1lcz0iMDsxIj48L2FuaW1hdGVUcmFuc2Zvcm0+ICA8L2NpcmNsZT48L3N2Zz4=\\\");\\n  background-size: auto calc(min(50%, 400px));\\n}\",{\"id\":\"0bc988ff-976d-42bb-84f1-04a38de4fd2a\"},{\"id\":\"a85d56f7-d32d-42fc-a5ce-30815c326575\"},{\"id\":\"8a412731-d960-44ad-96a1-030598f9b3f3\"},{\"id\":\"7d985bff-8421-4490-b378-b4691f452062\"}],\"margin\":0,\"align\":\"start\",\"children\":[{\"type\":\"object\",\"name\":\"panel.models.layout.Column\",\"id\":\"76518bba-4087-4c14-bd22-398ff0a6d123\",\"attributes\":{\"name\":\"Column00136\",\"stylesheets\":[\"\\n:host(.pn-loading.pn-arc):before, .pn-loading.pn-arc:before {\\n  background-image: url(\\\"data:image/svg+xml;base64,PHN2ZyB4bWxucz0iaHR0cDovL3d3dy53My5vcmcvMjAwMC9zdmciIHN0eWxlPSJtYXJnaW46IGF1dG87IGJhY2tncm91bmQ6IG5vbmU7IGRpc3BsYXk6IGJsb2NrOyBzaGFwZS1yZW5kZXJpbmc6IGF1dG87IiB2aWV3Qm94PSIwIDAgMTAwIDEwMCIgcHJlc2VydmVBc3BlY3RSYXRpbz0ieE1pZFlNaWQiPiAgPGNpcmNsZSBjeD0iNTAiIGN5PSI1MCIgZmlsbD0ibm9uZSIgc3Ryb2tlPSIjYzNjM2MzIiBzdHJva2Utd2lkdGg9IjEwIiByPSIzNSIgc3Ryb2tlLWRhc2hhcnJheT0iMTY0LjkzMzYxNDMxMzQ2NDE1IDU2Ljk3Nzg3MTQzNzgyMTM4Ij4gICAgPGFuaW1hdGVUcmFuc2Zvcm0gYXR0cmlidXRlTmFtZT0idHJhbnNmb3JtIiB0eXBlPSJyb3RhdGUiIHJlcGVhdENvdW50PSJpbmRlZmluaXRlIiBkdXI9IjFzIiB2YWx1ZXM9IjAgNTAgNTA7MzYwIDUwIDUwIiBrZXlUaW1lcz0iMDsxIj48L2FuaW1hdGVUcmFuc2Zvcm0+ICA8L2NpcmNsZT48L3N2Zz4=\\\");\\n  background-size: auto calc(min(50%, 400px));\\n}\",{\"id\":\"0bc988ff-976d-42bb-84f1-04a38de4fd2a\"},{\"id\":\"a85d56f7-d32d-42fc-a5ce-30815c326575\"},{\"id\":\"8a412731-d960-44ad-96a1-030598f9b3f3\"},{\"id\":\"7d985bff-8421-4490-b378-b4691f452062\"}],\"margin\":0,\"align\":\"start\",\"children\":[{\"type\":\"object\",\"name\":\"Div\",\"id\":\"97b7bc7d-9337-48b9-b6e3-bec83f33fd79\",\"attributes\":{\"stylesheets\":[\"\\n:host(.pn-loading.pn-arc):before, .pn-loading.pn-arc:before {\\n  background-image: url(\\\"data:image/svg+xml;base64,PHN2ZyB4bWxucz0iaHR0cDovL3d3dy53My5vcmcvMjAwMC9zdmciIHN0eWxlPSJtYXJnaW46IGF1dG87IGJhY2tncm91bmQ6IG5vbmU7IGRpc3BsYXk6IGJsb2NrOyBzaGFwZS1yZW5kZXJpbmc6IGF1dG87IiB2aWV3Qm94PSIwIDAgMTAwIDEwMCIgcHJlc2VydmVBc3BlY3RSYXRpbz0ieE1pZFlNaWQiPiAgPGNpcmNsZSBjeD0iNTAiIGN5PSI1MCIgZmlsbD0ibm9uZSIgc3Ryb2tlPSIjYzNjM2MzIiBzdHJva2Utd2lkdGg9IjEwIiByPSIzNSIgc3Ryb2tlLWRhc2hhcnJheT0iMTY0LjkzMzYxNDMxMzQ2NDE1IDU2Ljk3Nzg3MTQzNzgyMTM4Ij4gICAgPGFuaW1hdGVUcmFuc2Zvcm0gYXR0cmlidXRlTmFtZT0idHJhbnNmb3JtIiB0eXBlPSJyb3RhdGUiIHJlcGVhdENvdW50PSJpbmRlZmluaXRlIiBkdXI9IjFzIiB2YWx1ZXM9IjAgNTAgNTA7MzYwIDUwIDUwIiBrZXlUaW1lcz0iMDsxIj48L2FuaW1hdGVUcmFuc2Zvcm0+ICA8L2NpcmNsZT48L3N2Zz4=\\\");\\n  background-size: auto calc(min(50%, 400px));\\n}\",{\"id\":\"0bc988ff-976d-42bb-84f1-04a38de4fd2a\"},{\"id\":\"8a412731-d960-44ad-96a1-030598f9b3f3\"},{\"id\":\"7d985bff-8421-4490-b378-b4691f452062\"}],\"margin\":[5,0,0,10],\"align\":\"start\",\"text\":\"Time step: <b>0</b>\"}},{\"type\":\"object\",\"name\":\"Slider\",\"id\":\"07fca3e6-b0ad-4d82-a83c-1237a78f7cea\",\"attributes\":{\"js_property_callbacks\":{\"type\":\"map\",\"entries\":[[\"change:value\",[{\"type\":\"object\",\"name\":\"CustomJS\",\"id\":\"34c5fda4-25f5-4729-acf5-ba4aeddc4602\",\"attributes\":{\"args\":{\"type\":\"map\",\"entries\":[[\"source\",{\"id\":\"07fca3e6-b0ad-4d82-a83c-1237a78f7cea\"}],[\"target\",{\"id\":\"97b7bc7d-9337-48b9-b6e3-bec83f33fd79\"}]]},\"code\":\"\\n    var labels = ['Time step: <b>0</b>', 'Time step: <b>2</b>', 'Time step: <b>4</b>', 'Time step: <b>6</b>', 'Time step: <b>8</b>', 'Time step: <b>10</b>', 'Time step: <b>12</b>', 'Time step: <b>14</b>', 'Time step: <b>16</b>', 'Time step: <b>18</b>', 'Time step: <b>20</b>', 'Time step: <b>22</b>', 'Time step: <b>24</b>', 'Time step: <b>26</b>', 'Time step: <b>28</b>', 'Time step: <b>30</b>']\\n    target.text = labels[source.value]\\n    \"}},{\"type\":\"object\",\"name\":\"CustomJS\",\"id\":\"290596bb-8be5-4bc0-8814-93d6c7b8f649\",\"attributes\":{\"code\":\"\\nvar state = null\\nfor (var root of cb_obj.document.roots()) {\\n  if (root.id == '960f0a45-c7f6-4f39-b548-c16a4b3c1186') {\\n    state = root;\\n    break;\\n  }\\n}\\nif (!state) { return; }\\nstate.set_state(cb_obj, cb_obj.value)\\n\"}}]]]},\"stylesheets\":[\"\\n:host(.pn-loading.pn-arc):before, .pn-loading.pn-arc:before {\\n  background-image: url(\\\"data:image/svg+xml;base64,PHN2ZyB4bWxucz0iaHR0cDovL3d3dy53My5vcmcvMjAwMC9zdmciIHN0eWxlPSJtYXJnaW46IGF1dG87IGJhY2tncm91bmQ6IG5vbmU7IGRpc3BsYXk6IGJsb2NrOyBzaGFwZS1yZW5kZXJpbmc6IGF1dG87IiB2aWV3Qm94PSIwIDAgMTAwIDEwMCIgcHJlc2VydmVBc3BlY3RSYXRpbz0ieE1pZFlNaWQiPiAgPGNpcmNsZSBjeD0iNTAiIGN5PSI1MCIgZmlsbD0ibm9uZSIgc3Ryb2tlPSIjYzNjM2MzIiBzdHJva2Utd2lkdGg9IjEwIiByPSIzNSIgc3Ryb2tlLWRhc2hhcnJheT0iMTY0LjkzMzYxNDMxMzQ2NDE1IDU2Ljk3Nzg3MTQzNzgyMTM4Ij4gICAgPGFuaW1hdGVUcmFuc2Zvcm0gYXR0cmlidXRlTmFtZT0idHJhbnNmb3JtIiB0eXBlPSJyb3RhdGUiIHJlcGVhdENvdW50PSJpbmRlZmluaXRlIiBkdXI9IjFzIiB2YWx1ZXM9IjAgNTAgNTA7MzYwIDUwIDUwIiBrZXlUaW1lcz0iMDsxIj48L2FuaW1hdGVUcmFuc2Zvcm0+ICA8L2NpcmNsZT48L3N2Zz4=\\\");\\n  background-size: auto calc(min(50%, 400px));\\n}\",{\"id\":\"0bc988ff-976d-42bb-84f1-04a38de4fd2a\"},{\"id\":\"8a412731-d960-44ad-96a1-030598f9b3f3\"},{\"id\":\"7d985bff-8421-4490-b378-b4691f452062\"}],\"margin\":[0,10,5,10],\"align\":\"start\",\"show_value\":false,\"tooltips\":false,\"start\":0,\"end\":15,\"value\":0}}]}}]}},{\"type\":\"object\",\"name\":\"Row\",\"id\":\"ebc37e95-754f-4708-a0d3-5463b596644d\",\"attributes\":{\"name\":\"Row00123\",\"stylesheets\":[\"\\n:host(.pn-loading.pn-arc):before, .pn-loading.pn-arc:before {\\n  background-image: url(\\\"data:image/svg+xml;base64,PHN2ZyB4bWxucz0iaHR0cDovL3d3dy53My5vcmcvMjAwMC9zdmciIHN0eWxlPSJtYXJnaW46IGF1dG87IGJhY2tncm91bmQ6IG5vbmU7IGRpc3BsYXk6IGJsb2NrOyBzaGFwZS1yZW5kZXJpbmc6IGF1dG87IiB2aWV3Qm94PSIwIDAgMTAwIDEwMCIgcHJlc2VydmVBc3BlY3RSYXRpbz0ieE1pZFlNaWQiPiAgPGNpcmNsZSBjeD0iNTAiIGN5PSI1MCIgZmlsbD0ibm9uZSIgc3Ryb2tlPSIjYzNjM2MzIiBzdHJva2Utd2lkdGg9IjEwIiByPSIzNSIgc3Ryb2tlLWRhc2hhcnJheT0iMTY0LjkzMzYxNDMxMzQ2NDE1IDU2Ljk3Nzg3MTQzNzgyMTM4Ij4gICAgPGFuaW1hdGVUcmFuc2Zvcm0gYXR0cmlidXRlTmFtZT0idHJhbnNmb3JtIiB0eXBlPSJyb3RhdGUiIHJlcGVhdENvdW50PSJpbmRlZmluaXRlIiBkdXI9IjFzIiB2YWx1ZXM9IjAgNTAgNTA7MzYwIDUwIDUwIiBrZXlUaW1lcz0iMDsxIj48L2FuaW1hdGVUcmFuc2Zvcm0+ICA8L2NpcmNsZT48L3N2Zz4=\\\");\\n  background-size: auto calc(min(50%, 400px));\\n}\",{\"id\":\"0bc988ff-976d-42bb-84f1-04a38de4fd2a\"},{\"id\":\"a85d56f7-d32d-42fc-a5ce-30815c326575\"},{\"id\":\"8a412731-d960-44ad-96a1-030598f9b3f3\"},{\"id\":\"7d985bff-8421-4490-b378-b4691f452062\"}],\"margin\":0,\"align\":\"start\",\"children\":[{\"type\":\"object\",\"name\":\"panel.models.markup.HTML\",\"id\":\"583d1fba-4b30-421f-8fd3-d8ceb1591496\",\"attributes\":{\"css_classes\":[\"markdown\"],\"stylesheets\":[\"\\n:host(.pn-loading.pn-arc):before, .pn-loading.pn-arc:before {\\n  background-image: url(\\\"data:image/svg+xml;base64,PHN2ZyB4bWxucz0iaHR0cDovL3d3dy53My5vcmcvMjAwMC9zdmciIHN0eWxlPSJtYXJnaW46IGF1dG87IGJhY2tncm91bmQ6IG5vbmU7IGRpc3BsYXk6IGJsb2NrOyBzaGFwZS1yZW5kZXJpbmc6IGF1dG87IiB2aWV3Qm94PSIwIDAgMTAwIDEwMCIgcHJlc2VydmVBc3BlY3RSYXRpbz0ieE1pZFlNaWQiPiAgPGNpcmNsZSBjeD0iNTAiIGN5PSI1MCIgZmlsbD0ibm9uZSIgc3Ryb2tlPSIjYzNjM2MzIiBzdHJva2Utd2lkdGg9IjEwIiByPSIzNSIgc3Ryb2tlLWRhc2hhcnJheT0iMTY0LjkzMzYxNDMxMzQ2NDE1IDU2Ljk3Nzg3MTQzNzgyMTM4Ij4gICAgPGFuaW1hdGVUcmFuc2Zvcm0gYXR0cmlidXRlTmFtZT0idHJhbnNmb3JtIiB0eXBlPSJyb3RhdGUiIHJlcGVhdENvdW50PSJpbmRlZmluaXRlIiBkdXI9IjFzIiB2YWx1ZXM9IjAgNTAgNTA7MzYwIDUwIDUwIiBrZXlUaW1lcz0iMDsxIj48L2FuaW1hdGVUcmFuc2Zvcm0+ICA8L2NpcmNsZT48L3N2Zz4=\\\");\\n  background-size: auto calc(min(50%, 400px));\\n}\",{\"id\":\"0bc988ff-976d-42bb-84f1-04a38de4fd2a\"},{\"type\":\"object\",\"name\":\"ImportedStyleSheet\",\"id\":\"ac0a9bbd-4ac2-4803-97a7-3cc7a1cc6a52\",\"attributes\":{\"url\":\"https://cdn.holoviz.org/panel/1.3.8/dist/css/markdown.css\"}},{\"id\":\"8a412731-d960-44ad-96a1-030598f9b3f3\"},{\"id\":\"7d985bff-8421-4490-b378-b4691f452062\"}],\"margin\":[5,10],\"align\":\"start\",\"text\":\"&lt;p&gt;State probabilities at time step 0 (pi_0 = pi_0@T^0) = [0.5 0.3 0.2]&lt;/p&gt;\\n\"}}]}}]}},{\"type\":\"object\",\"name\":\"panel.models.state.State\",\"id\":\"960f0a45-c7f6-4f39-b548-c16a4b3c1186\",\"attributes\":{\"state\":{\"type\":\"map\",\"entries\":[[15,{\"type\":\"map\",\"entries\":[[\"header\",\"{\\\"msgid\\\": \\\"54d7ae8e-0bc9-416d-928f-0eef2f6e4e1f\\\", \\\"msgtype\\\": \\\"PATCH-DOC\\\"}\"],[\"metadata\",\"{\\\"use_buffers\\\": false}\"],[\"content\",\"{\\\"events\\\":[{\\\"kind\\\":\\\"ModelChanged\\\",\\\"model\\\":{\\\"id\\\":\\\"97b7bc7d-9337-48b9-b6e3-bec83f33fd79\\\"},\\\"attr\\\":\\\"text\\\",\\\"new\\\":\\\"Time step: <b>30</b>\\\"},{\\\"kind\\\":\\\"ModelChanged\\\",\\\"model\\\":{\\\"id\\\":\\\"583d1fba-4b30-421f-8fd3-d8ceb1591496\\\"},\\\"attr\\\":\\\"text\\\",\\\"new\\\":\\\"&lt;p&gt;State probabilities at time step 30 (pi_30 = pi_0@T^30) = [0.34693878 0.2244898  0.42857143]&lt;/p&gt;\\\\n\\\"}]}\"]]}],[14,{\"type\":\"map\",\"entries\":[[\"header\",\"{\\\"msgid\\\": \\\"d7625eb5-e678-46e7-94ce-61185d4334d9\\\", \\\"msgtype\\\": \\\"PATCH-DOC\\\"}\"],[\"metadata\",\"{\\\"use_buffers\\\": false}\"],[\"content\",\"{\\\"events\\\":[{\\\"kind\\\":\\\"ModelChanged\\\",\\\"model\\\":{\\\"id\\\":\\\"97b7bc7d-9337-48b9-b6e3-bec83f33fd79\\\"},\\\"attr\\\":\\\"text\\\",\\\"new\\\":\\\"Time step: <b>28</b>\\\"},{\\\"kind\\\":\\\"ModelChanged\\\",\\\"model\\\":{\\\"id\\\":\\\"583d1fba-4b30-421f-8fd3-d8ceb1591496\\\"},\\\"attr\\\":\\\"text\\\",\\\"new\\\":\\\"&lt;p&gt;State probabilities at time step 28 (pi_28 = pi_0@T^28) = [0.34693878 0.2244898  0.42857143]&lt;/p&gt;\\\\n\\\"}]}\"]]}],[13,{\"type\":\"map\",\"entries\":[[\"header\",\"{\\\"msgid\\\": \\\"6ae2655c-d874-4d9c-aaec-1daec9b455d1\\\", \\\"msgtype\\\": \\\"PATCH-DOC\\\"}\"],[\"metadata\",\"{\\\"use_buffers\\\": false}\"],[\"content\",\"{\\\"events\\\":[{\\\"kind\\\":\\\"ModelChanged\\\",\\\"model\\\":{\\\"id\\\":\\\"97b7bc7d-9337-48b9-b6e3-bec83f33fd79\\\"},\\\"attr\\\":\\\"text\\\",\\\"new\\\":\\\"Time step: <b>26</b>\\\"},{\\\"kind\\\":\\\"ModelChanged\\\",\\\"model\\\":{\\\"id\\\":\\\"583d1fba-4b30-421f-8fd3-d8ceb1591496\\\"},\\\"attr\\\":\\\"text\\\",\\\"new\\\":\\\"&lt;p&gt;State probabilities at time step 26 (pi_26 = pi_0@T^26) = [0.34693878 0.2244898  0.42857143]&lt;/p&gt;\\\\n\\\"}]}\"]]}],[12,{\"type\":\"map\",\"entries\":[[\"header\",\"{\\\"msgid\\\": \\\"d5ccadca-dbe7-410a-8d65-de8c32d4f6d4\\\", \\\"msgtype\\\": \\\"PATCH-DOC\\\"}\"],[\"metadata\",\"{\\\"use_buffers\\\": false}\"],[\"content\",\"{\\\"events\\\":[{\\\"kind\\\":\\\"ModelChanged\\\",\\\"model\\\":{\\\"id\\\":\\\"97b7bc7d-9337-48b9-b6e3-bec83f33fd79\\\"},\\\"attr\\\":\\\"text\\\",\\\"new\\\":\\\"Time step: <b>24</b>\\\"},{\\\"kind\\\":\\\"ModelChanged\\\",\\\"model\\\":{\\\"id\\\":\\\"583d1fba-4b30-421f-8fd3-d8ceb1591496\\\"},\\\"attr\\\":\\\"text\\\",\\\"new\\\":\\\"&lt;p&gt;State probabilities at time step 24 (pi_24 = pi_0@T^24) = [0.34693878 0.2244898  0.42857143]&lt;/p&gt;\\\\n\\\"}]}\"]]}],[11,{\"type\":\"map\",\"entries\":[[\"header\",\"{\\\"msgid\\\": \\\"ddf65b95-4741-43f1-9b2e-73182feee667\\\", \\\"msgtype\\\": \\\"PATCH-DOC\\\"}\"],[\"metadata\",\"{\\\"use_buffers\\\": false}\"],[\"content\",\"{\\\"events\\\":[{\\\"kind\\\":\\\"ModelChanged\\\",\\\"model\\\":{\\\"id\\\":\\\"97b7bc7d-9337-48b9-b6e3-bec83f33fd79\\\"},\\\"attr\\\":\\\"text\\\",\\\"new\\\":\\\"Time step: <b>22</b>\\\"},{\\\"kind\\\":\\\"ModelChanged\\\",\\\"model\\\":{\\\"id\\\":\\\"583d1fba-4b30-421f-8fd3-d8ceb1591496\\\"},\\\"attr\\\":\\\"text\\\",\\\"new\\\":\\\"&lt;p&gt;State probabilities at time step 22 (pi_22 = pi_0@T^22) = [0.34693878 0.2244898  0.42857143]&lt;/p&gt;\\\\n\\\"}]}\"]]}],[10,{\"type\":\"map\",\"entries\":[[\"header\",\"{\\\"msgid\\\": \\\"7a0b47ad-fb61-4b9f-a27c-349f220b8a6a\\\", \\\"msgtype\\\": \\\"PATCH-DOC\\\"}\"],[\"metadata\",\"{\\\"use_buffers\\\": false}\"],[\"content\",\"{\\\"events\\\":[{\\\"kind\\\":\\\"ModelChanged\\\",\\\"model\\\":{\\\"id\\\":\\\"97b7bc7d-9337-48b9-b6e3-bec83f33fd79\\\"},\\\"attr\\\":\\\"text\\\",\\\"new\\\":\\\"Time step: <b>20</b>\\\"},{\\\"kind\\\":\\\"ModelChanged\\\",\\\"model\\\":{\\\"id\\\":\\\"583d1fba-4b30-421f-8fd3-d8ceb1591496\\\"},\\\"attr\\\":\\\"text\\\",\\\"new\\\":\\\"&lt;p&gt;State probabilities at time step 20 (pi_20 = pi_0@T^20) = [0.34693878 0.2244898  0.42857143]&lt;/p&gt;\\\\n\\\"}]}\"]]}],[9,{\"type\":\"map\",\"entries\":[[\"header\",\"{\\\"msgid\\\": \\\"194bf8fb-08c7-4fe3-a259-8498c897737d\\\", \\\"msgtype\\\": \\\"PATCH-DOC\\\"}\"],[\"metadata\",\"{\\\"use_buffers\\\": false}\"],[\"content\",\"{\\\"events\\\":[{\\\"kind\\\":\\\"ModelChanged\\\",\\\"model\\\":{\\\"id\\\":\\\"97b7bc7d-9337-48b9-b6e3-bec83f33fd79\\\"},\\\"attr\\\":\\\"text\\\",\\\"new\\\":\\\"Time step: <b>18</b>\\\"},{\\\"kind\\\":\\\"ModelChanged\\\",\\\"model\\\":{\\\"id\\\":\\\"583d1fba-4b30-421f-8fd3-d8ceb1591496\\\"},\\\"attr\\\":\\\"text\\\",\\\"new\\\":\\\"&lt;p&gt;State probabilities at time step 18 (pi_18 = pi_0@T^18) = [0.34693878 0.2244898  0.42857143]&lt;/p&gt;\\\\n\\\"}]}\"]]}],[8,{\"type\":\"map\",\"entries\":[[\"header\",\"{\\\"msgid\\\": \\\"a24a6d39-b1f5-4eaf-bf01-1fabc78bae98\\\", \\\"msgtype\\\": \\\"PATCH-DOC\\\"}\"],[\"metadata\",\"{\\\"use_buffers\\\": false}\"],[\"content\",\"{\\\"events\\\":[{\\\"kind\\\":\\\"ModelChanged\\\",\\\"model\\\":{\\\"id\\\":\\\"97b7bc7d-9337-48b9-b6e3-bec83f33fd79\\\"},\\\"attr\\\":\\\"text\\\",\\\"new\\\":\\\"Time step: <b>16</b>\\\"},{\\\"kind\\\":\\\"ModelChanged\\\",\\\"model\\\":{\\\"id\\\":\\\"583d1fba-4b30-421f-8fd3-d8ceb1591496\\\"},\\\"attr\\\":\\\"text\\\",\\\"new\\\":\\\"&lt;p&gt;State probabilities at time step 16 (pi_16 = pi_0@T^16) = [0.34693877 0.2244898  0.42857143]&lt;/p&gt;\\\\n\\\"}]}\"]]}],[7,{\"type\":\"map\",\"entries\":[[\"header\",\"{\\\"msgid\\\": \\\"447fd501-ce6c-458a-9393-46432ba12101\\\", \\\"msgtype\\\": \\\"PATCH-DOC\\\"}\"],[\"metadata\",\"{\\\"use_buffers\\\": false}\"],[\"content\",\"{\\\"events\\\":[{\\\"kind\\\":\\\"ModelChanged\\\",\\\"model\\\":{\\\"id\\\":\\\"97b7bc7d-9337-48b9-b6e3-bec83f33fd79\\\"},\\\"attr\\\":\\\"text\\\",\\\"new\\\":\\\"Time step: <b>14</b>\\\"},{\\\"kind\\\":\\\"ModelChanged\\\",\\\"model\\\":{\\\"id\\\":\\\"583d1fba-4b30-421f-8fd3-d8ceb1591496\\\"},\\\"attr\\\":\\\"text\\\",\\\"new\\\":\\\"&lt;p&gt;State probabilities at time step 14 (pi_14 = pi_0@T^14) = [0.34693873 0.22448985 0.42857142]&lt;/p&gt;\\\\n\\\"}]}\"]]}],[6,{\"type\":\"map\",\"entries\":[[\"header\",\"{\\\"msgid\\\": \\\"c5253ab5-1268-4858-8215-eb14d68cc2e8\\\", \\\"msgtype\\\": \\\"PATCH-DOC\\\"}\"],[\"metadata\",\"{\\\"use_buffers\\\": false}\"],[\"content\",\"{\\\"events\\\":[{\\\"kind\\\":\\\"ModelChanged\\\",\\\"model\\\":{\\\"id\\\":\\\"97b7bc7d-9337-48b9-b6e3-bec83f33fd79\\\"},\\\"attr\\\":\\\"text\\\",\\\"new\\\":\\\"Time step: <b>12</b>\\\"},{\\\"kind\\\":\\\"ModelChanged\\\",\\\"model\\\":{\\\"id\\\":\\\"583d1fba-4b30-421f-8fd3-d8ceb1591496\\\"},\\\"attr\\\":\\\"text\\\",\\\"new\\\":\\\"&lt;p&gt;State probabilities at time step 12 (pi_12 = pi_0@T^12) = [0.34693837 0.22449032 0.42857131]&lt;/p&gt;\\\\n\\\"}]}\"]]}],[5,{\"type\":\"map\",\"entries\":[[\"header\",\"{\\\"msgid\\\": \\\"388753bf-15e2-4a6e-9eb8-019c9fee06a6\\\", \\\"msgtype\\\": \\\"PATCH-DOC\\\"}\"],[\"metadata\",\"{\\\"use_buffers\\\": false}\"],[\"content\",\"{\\\"events\\\":[{\\\"kind\\\":\\\"ModelChanged\\\",\\\"model\\\":{\\\"id\\\":\\\"97b7bc7d-9337-48b9-b6e3-bec83f33fd79\\\"},\\\"attr\\\":\\\"text\\\",\\\"new\\\":\\\"Time step: <b>10</b>\\\"},{\\\"kind\\\":\\\"ModelChanged\\\",\\\"model\\\":{\\\"id\\\":\\\"583d1fba-4b30-421f-8fd3-d8ceb1591496\\\"},\\\"attr\\\":\\\"text\\\",\\\"new\\\":\\\"&lt;p&gt;State probabilities at time step 10 (pi_10 = pi_0@T^10) = [0.34693518 0.22449474 0.42857008]&lt;/p&gt;\\\\n\\\"}]}\"]]}],[4,{\"type\":\"map\",\"entries\":[[\"header\",\"{\\\"msgid\\\": \\\"ce695682-7b66-416a-a516-0b06735f89a8\\\", \\\"msgtype\\\": \\\"PATCH-DOC\\\"}\"],[\"metadata\",\"{\\\"use_buffers\\\": false}\"],[\"content\",\"{\\\"events\\\":[{\\\"kind\\\":\\\"ModelChanged\\\",\\\"model\\\":{\\\"id\\\":\\\"97b7bc7d-9337-48b9-b6e3-bec83f33fd79\\\"},\\\"attr\\\":\\\"text\\\",\\\"new\\\":\\\"Time step: <b>8</b>\\\"},{\\\"kind\\\":\\\"ModelChanged\\\",\\\"model\\\":{\\\"id\\\":\\\"583d1fba-4b30-421f-8fd3-d8ceb1591496\\\"},\\\"attr\\\":\\\"text\\\",\\\"new\\\":\\\"&lt;p&gt;State probabilities at time step 8 (pi_8 = pi_0@T^8) = [0.34690883 0.22453474 0.42855643]&lt;/p&gt;\\\\n\\\"}]}\"]]}],[3,{\"type\":\"map\",\"entries\":[[\"header\",\"{\\\"msgid\\\": \\\"e94d503b-cdf5-4c83-80f5-21ea24df98cc\\\", \\\"msgtype\\\": \\\"PATCH-DOC\\\"}\"],[\"metadata\",\"{\\\"use_buffers\\\": false}\"],[\"content\",\"{\\\"events\\\":[{\\\"kind\\\":\\\"ModelChanged\\\",\\\"model\\\":{\\\"id\\\":\\\"97b7bc7d-9337-48b9-b6e3-bec83f33fd79\\\"},\\\"attr\\\":\\\"text\\\",\\\"new\\\":\\\"Time step: <b>6</b>\\\"},{\\\"kind\\\":\\\"ModelChanged\\\",\\\"model\\\":{\\\"id\\\":\\\"583d1fba-4b30-421f-8fd3-d8ceb1591496\\\"},\\\"attr\\\":\\\"text\\\",\\\"new\\\":\\\"&lt;p&gt;State probabilities at time step 6 (pi_6 = pi_0@T^6) = [0.3467171 0.2248781 0.4284048]&lt;/p&gt;\\\\n\\\"}]}\"]]}],[2,{\"type\":\"map\",\"entries\":[[\"header\",\"{\\\"msgid\\\": \\\"936b6187-caf5-487e-9b33-6265e10e2431\\\", \\\"msgtype\\\": \\\"PATCH-DOC\\\"}\"],[\"metadata\",\"{\\\"use_buffers\\\": false}\"],[\"content\",\"{\\\"events\\\":[{\\\"kind\\\":\\\"ModelChanged\\\",\\\"model\\\":{\\\"id\\\":\\\"97b7bc7d-9337-48b9-b6e3-bec83f33fd79\\\"},\\\"attr\\\":\\\"text\\\",\\\"new\\\":\\\"Time step: <b>4</b>\\\"},{\\\"kind\\\":\\\"ModelChanged\\\",\\\"model\\\":{\\\"id\\\":\\\"583d1fba-4b30-421f-8fd3-d8ceb1591496\\\"},\\\"attr\\\":\\\"text\\\",\\\"new\\\":\\\"&lt;p&gt;State probabilities at time step 4 (pi_4 = pi_0@T^4) = [0.34571 0.22757 0.42672]&lt;/p&gt;\\\\n\\\"}]}\"]]}],[1,{\"type\":\"map\",\"entries\":[[\"header\",\"{\\\"msgid\\\": \\\"86a2a46e-7856-4f3b-9675-3d9f51a5d76e\\\", \\\"msgtype\\\": \\\"PATCH-DOC\\\"}\"],[\"metadata\",\"{\\\"use_buffers\\\": false}\"],[\"content\",\"{\\\"events\\\":[{\\\"kind\\\":\\\"ModelChanged\\\",\\\"model\\\":{\\\"id\\\":\\\"97b7bc7d-9337-48b9-b6e3-bec83f33fd79\\\"},\\\"attr\\\":\\\"text\\\",\\\"new\\\":\\\"Time step: <b>2</b>\\\"},{\\\"kind\\\":\\\"ModelChanged\\\",\\\"model\\\":{\\\"id\\\":\\\"583d1fba-4b30-421f-8fd3-d8ceb1591496\\\"},\\\"attr\\\":\\\"text\\\",\\\"new\\\":\\\"&lt;p&gt;State probabilities at time step 2 (pi_2 = pi_0@T^2) = [0.347 0.245 0.408]&lt;/p&gt;\\\\n\\\"}]}\"]]}],[0,{\"type\":\"map\",\"entries\":[[\"header\",\"{\\\"msgid\\\": \\\"cd54f5a4-ced2-4fc6-abd1-90b1bd2ea731\\\", \\\"msgtype\\\": \\\"PATCH-DOC\\\"}\"],[\"metadata\",\"{\\\"use_buffers\\\": false}\"],[\"content\",\"{\\\"events\\\":[{\\\"kind\\\":\\\"ModelChanged\\\",\\\"model\\\":{\\\"id\\\":\\\"97b7bc7d-9337-48b9-b6e3-bec83f33fd79\\\"},\\\"attr\\\":\\\"text\\\",\\\"new\\\":\\\"Time step: <b>0</b>\\\"},{\\\"kind\\\":\\\"ModelChanged\\\",\\\"model\\\":{\\\"id\\\":\\\"583d1fba-4b30-421f-8fd3-d8ceb1591496\\\"},\\\"attr\\\":\\\"text\\\",\\\"new\\\":\\\"&lt;p&gt;State probabilities at time step 0 (pi_0 = pi_0@T^0) = [0.5 0.3 0.2]&lt;/p&gt;\\\\n\\\"}]}\"]]}]]},\"widgets\":{\"type\":\"map\",\"entries\":[[\"07fca3e6-b0ad-4d82-a83c-1237a78f7cea\",0]]},\"values\":[0]}}],\"defs\":[{\"type\":\"model\",\"name\":\"ReactiveHTML1\"},{\"type\":\"model\",\"name\":\"FlexBox1\",\"properties\":[{\"name\":\"align_content\",\"kind\":\"Any\",\"default\":\"flex-start\"},{\"name\":\"align_items\",\"kind\":\"Any\",\"default\":\"flex-start\"},{\"name\":\"flex_direction\",\"kind\":\"Any\",\"default\":\"row\"},{\"name\":\"flex_wrap\",\"kind\":\"Any\",\"default\":\"wrap\"},{\"name\":\"justify_content\",\"kind\":\"Any\",\"default\":\"flex-start\"}]},{\"type\":\"model\",\"name\":\"FloatPanel1\",\"properties\":[{\"name\":\"config\",\"kind\":\"Any\",\"default\":{\"type\":\"map\"}},{\"name\":\"contained\",\"kind\":\"Any\",\"default\":true},{\"name\":\"position\",\"kind\":\"Any\",\"default\":\"right-top\"},{\"name\":\"offsetx\",\"kind\":\"Any\",\"default\":null},{\"name\":\"offsety\",\"kind\":\"Any\",\"default\":null},{\"name\":\"theme\",\"kind\":\"Any\",\"default\":\"primary\"},{\"name\":\"status\",\"kind\":\"Any\",\"default\":\"normalized\"}]},{\"type\":\"model\",\"name\":\"GridStack1\",\"properties\":[{\"name\":\"mode\",\"kind\":\"Any\",\"default\":\"warn\"},{\"name\":\"ncols\",\"kind\":\"Any\",\"default\":null},{\"name\":\"nrows\",\"kind\":\"Any\",\"default\":null},{\"name\":\"allow_resize\",\"kind\":\"Any\",\"default\":true},{\"name\":\"allow_drag\",\"kind\":\"Any\",\"default\":true},{\"name\":\"state\",\"kind\":\"Any\",\"default\":[]}]},{\"type\":\"model\",\"name\":\"drag1\",\"properties\":[{\"name\":\"slider_width\",\"kind\":\"Any\",\"default\":5},{\"name\":\"slider_color\",\"kind\":\"Any\",\"default\":\"black\"},{\"name\":\"value\",\"kind\":\"Any\",\"default\":50}]},{\"type\":\"model\",\"name\":\"click1\",\"properties\":[{\"name\":\"terminal_output\",\"kind\":\"Any\",\"default\":\"\"},{\"name\":\"debug_name\",\"kind\":\"Any\",\"default\":\"\"},{\"name\":\"clears\",\"kind\":\"Any\",\"default\":0}]},{\"type\":\"model\",\"name\":\"copy_to_clipboard1\",\"properties\":[{\"name\":\"fill\",\"kind\":\"Any\",\"default\":\"none\"},{\"name\":\"value\",\"kind\":\"Any\",\"default\":null}]},{\"type\":\"model\",\"name\":\"FastWrapper1\",\"properties\":[{\"name\":\"object\",\"kind\":\"Any\",\"default\":null},{\"name\":\"style\",\"kind\":\"Any\",\"default\":null}]},{\"type\":\"model\",\"name\":\"NotificationAreaBase1\",\"properties\":[{\"name\":\"js_events\",\"kind\":\"Any\",\"default\":{\"type\":\"map\"}},{\"name\":\"position\",\"kind\":\"Any\",\"default\":\"bottom-right\"},{\"name\":\"_clear\",\"kind\":\"Any\",\"default\":0}]},{\"type\":\"model\",\"name\":\"NotificationArea1\",\"properties\":[{\"name\":\"js_events\",\"kind\":\"Any\",\"default\":{\"type\":\"map\"}},{\"name\":\"notifications\",\"kind\":\"Any\",\"default\":[]},{\"name\":\"position\",\"kind\":\"Any\",\"default\":\"bottom-right\"},{\"name\":\"_clear\",\"kind\":\"Any\",\"default\":0},{\"name\":\"types\",\"kind\":\"Any\",\"default\":[{\"type\":\"map\",\"entries\":[[\"type\",\"warning\"],[\"background\",\"#ffc107\"],[\"icon\",{\"type\":\"map\",\"entries\":[[\"className\",\"fas fa-exclamation-triangle\"],[\"tagName\",\"i\"],[\"color\",\"white\"]]}]]},{\"type\":\"map\",\"entries\":[[\"type\",\"info\"],[\"background\",\"#007bff\"],[\"icon\",{\"type\":\"map\",\"entries\":[[\"className\",\"fas fa-info-circle\"],[\"tagName\",\"i\"],[\"color\",\"white\"]]}]]}]}]},{\"type\":\"model\",\"name\":\"Notification\",\"properties\":[{\"name\":\"background\",\"kind\":\"Any\",\"default\":null},{\"name\":\"duration\",\"kind\":\"Any\",\"default\":3000},{\"name\":\"icon\",\"kind\":\"Any\",\"default\":null},{\"name\":\"message\",\"kind\":\"Any\",\"default\":\"\"},{\"name\":\"notification_type\",\"kind\":\"Any\",\"default\":null},{\"name\":\"_destroyed\",\"kind\":\"Any\",\"default\":false}]},{\"type\":\"model\",\"name\":\"TemplateActions1\",\"properties\":[{\"name\":\"open_modal\",\"kind\":\"Any\",\"default\":0},{\"name\":\"close_modal\",\"kind\":\"Any\",\"default\":0}]},{\"type\":\"model\",\"name\":\"BootstrapTemplateActions1\",\"properties\":[{\"name\":\"open_modal\",\"kind\":\"Any\",\"default\":0},{\"name\":\"close_modal\",\"kind\":\"Any\",\"default\":0}]},{\"type\":\"model\",\"name\":\"MaterialTemplateActions1\",\"properties\":[{\"name\":\"open_modal\",\"kind\":\"Any\",\"default\":0},{\"name\":\"close_modal\",\"kind\":\"Any\",\"default\":0}]}]}};\n",
       "  var render_items = [{\"docid\":\"96b31933-fcd3-49ed-a536-db71655cdab4\",\"roots\":{\"ea7a6eab-608d-41d2-8dbc-e0d3686f1677\":\"b88dce12-461d-4c18-a220-7677d045c8f6\"},\"root_ids\":[\"ea7a6eab-608d-41d2-8dbc-e0d3686f1677\"]}];\n",
       "  var docs = Object.values(docs_json)\n",
       "  if (!docs) {\n",
       "    return\n",
       "  }\n",
       "  const py_version = docs[0].version.replace('rc', '-rc.').replace('.dev', '-dev.')\n",
       "  function embed_document(root) {\n",
       "    var Bokeh = get_bokeh(root)\n",
       "    Bokeh.embed.embed_items_notebook(docs_json, render_items);\n",
       "    for (const render_item of render_items) {\n",
       "      for (const root_id of render_item.root_ids) {\n",
       "\tconst id_el = document.getElementById(root_id)\n",
       "\tif (id_el.children.length && (id_el.children[0].className === 'bk-root')) {\n",
       "\t  const root_el = id_el.children[0]\n",
       "\t  root_el.id = root_el.id + '-rendered'\n",
       "\t}\n",
       "      }\n",
       "    }\n",
       "  }\n",
       "  function get_bokeh(root) {\n",
       "    if (root.Bokeh === undefined) {\n",
       "      return null\n",
       "    } else if (root.Bokeh.version !== py_version) {\n",
       "      if (root.Bokeh.versions === undefined || !root.Bokeh.versions.has(py_version)) {\n",
       "\treturn null\n",
       "      }\n",
       "      return root.Bokeh.versions.get(py_version);\n",
       "    } else if (root.Bokeh.version === py_version) {\n",
       "      return root.Bokeh\n",
       "    }\n",
       "    return null\n",
       "  }\n",
       "  function is_loaded(root) {\n",
       "    var Bokeh = get_bokeh(root)\n",
       "    return (Bokeh != null && Bokeh.Panel !== undefined)\n",
       "  }\n",
       "  if (is_loaded(root)) {\n",
       "    embed_document(root);\n",
       "  } else {\n",
       "    var attempts = 0;\n",
       "    var timer = setInterval(function(root) {\n",
       "      if (is_loaded(root)) {\n",
       "        clearInterval(timer);\n",
       "        embed_document(root);\n",
       "      } else if (document.readyState == \"complete\") {\n",
       "        attempts++;\n",
       "        if (attempts > 200) {\n",
       "          clearInterval(timer);\n",
       "\t  var Bokeh = get_bokeh(root)\n",
       "\t  if (Bokeh == null || Bokeh.Panel == null) {\n",
       "            console.warn(\"Panel: ERROR: Unable to run Panel code because Bokeh or Panel library is missing\");\n",
       "\t  } else {\n",
       "\t    console.warn(\"Panel: WARNING: Attempting to render but not all required libraries could be resolved.\")\n",
       "\t    embed_document(root)\n",
       "\t  }\n",
       "        }\n",
       "      }\n",
       "    }, 25, root)\n",
       "  }\n",
       "})(window);</script>"
      ],
      "text/plain": [
       "<panel.io.notebook.Mimebundle at 0x148f75f70>"
      ]
     },
     "execution_count": 6,
     "metadata": {
      "application/vnd.holoviews_exec.v0+json": {
       "id": "ea7a6eab-608d-41d2-8dbc-e0d3686f1677"
      }
     },
     "output_type": "execute_result"
    }
   ],
   "source": [
    "import panel as pn\n",
    "from panel import widgets\n",
    "from panel.interact import interact\n",
    "import matplotlib\n",
    "from IPython.display import clear_output\n",
    "\n",
    "pn.extension()\n",
    "\n",
    "def f(time_steps):\n",
    "    return f\"State probabilities at time step {time_steps} (pi_{time_steps} = pi_0@T^{time_steps}) = {pi_0 @ np.linalg.matrix_power(T, time_steps)}\"\n",
    "\n",
    "interact(f, time_steps=widgets.IntSlider(name='Time step', start=0, end=30, step=2, value=0)).embed(max_opts=20)\n"
   ]
  },
  {
   "cell_type": "markdown",
   "metadata": {},
   "source": [
    "Any interesting observations? "
   ]
  },
  {
   "cell_type": "markdown",
   "metadata": {},
   "source": [
    "<br><br>"
   ]
  },
  {
   "cell_type": "markdown",
   "metadata": {},
   "source": [
    "### Break (~5 mins)\n",
    "\n",
    "![](img/eva-coffee.png)"
   ]
  },
  {
   "cell_type": "markdown",
   "metadata": {},
   "source": [
    "<br><br>"
   ]
  },
  {
   "cell_type": "markdown",
   "metadata": {
    "slideshow": {
     "slide_type": "slide"
    }
   },
   "source": [
    "## ❓❓ Questions for you\n",
    "\n",
    "### Exercise 1.1 Select all of the following statements which are **True** (iClicker)\n",
    "**iClicker join link: https://join.iclicker.com/ZTLY**\n",
    "\n",
    "- (A) According to the Markov assumption the probability of being at a future state $s_{t+1}$ is independent of the past states $s_1$ to $s_{t-1}$. \n",
    "- (B) In a Markov model, the sum of the conditional probabilities of transitioning from one state to all other states is equal to 1.0. \n",
    "- (C) In a Markov chain, the probabilities associated with self loops (staying in the same state) of all states should sum to one. \n",
    "- (D) Given $\\pi_0$ as initial state probability distribution, and $T$ as transition matrix, we can calculate the probability distribution over states at time step $k$ by multiplying $\\pi_0$ and $T^k$."
   ]
  },
  {
   "cell_type": "markdown",
   "metadata": {},
   "source": [
    "```{admonition} Exercise 1.1: V's Solutions! \n",
    ":class: tip, dropdown\n",
    "- (A) False. The probability of being in a future state \n",
    " is conditionally independent of the past given present.\n",
    "- (B) True\n",
    "- (C) False\n",
    "- (D) True\n",
    "```"
   ]
  },
  {
   "cell_type": "markdown",
   "metadata": {
    "slideshow": {
     "slide_type": "slide"
    }
   },
   "source": [
    "<br><br><br><br>"
   ]
  },
  {
   "cell_type": "markdown",
   "metadata": {
    "slideshow": {
     "slide_type": "slide"
    }
   },
   "source": [
    "## 4. Markov chains tasks: Stationary distribution"
   ]
  },
  {
   "cell_type": "markdown",
   "metadata": {},
   "source": [
    "In the example above, after time step 18 or so, the state probabilities stopped changing!! "
   ]
  },
  {
   "cell_type": "markdown",
   "metadata": {
    "slideshow": {
     "slide_type": "slide"
    }
   },
   "source": [
    "- A stationary distribution of a Markov chain is a probability distribution over states that remains unchanged in the Markov chain as time progresses.\n",
    "\n",
    "- A probability distribution $\\pi$ on states $S$ is stationary where the following holds for the transition matrix $T$.    \n",
    "\n",
    "\n",
    "$$\\pi T=\\pi$$ \n",
    "\n",
    "Why is this useful? This tells us about the behaviour of a Markov chain in the long run.  \n"
   ]
  },
  {
   "cell_type": "markdown",
   "metadata": {},
   "source": [
    "### 4.1 Stationary distribution: Toy Google Matrix example\n",
    "\n",
    "- Imagine a toy internet with three webpages: Vincent webpage, Varada webpage, MDS webpage\n",
    "- We'll build a toy Markov model where the states are the above three web pages. \n",
    "- Transitions represent a web surfer clicking on a link and moving to a different page.\n",
    "\n",
    "$$S = \\{\\text{Vincent webpage, Varada webpage, MDS webpage}\\}, \\pi_0 = \\begin{bmatrix} 0.1 & 0.5 & 0.4 \\end{bmatrix}$$ \n",
    "\n",
    "$$ T = \\begin{bmatrix}\n",
    "1/8 & 3/8 & 4/8\\\\\n",
    "1/8 & 1/8 & 6/8\\\\\n",
    "3/8 & 1/8 & 4/8\n",
    "\\end{bmatrix}$$\n",
    "\n",
    "Questions we might want to answer? \n",
    "\n",
    "- What's the behaviour of web surfers in the long run? Which webpages should get a high **rank** based on this behaviour?"
   ]
  },
  {
   "cell_type": "code",
   "execution_count": 7,
   "metadata": {},
   "outputs": [],
   "source": [
    "import numpy as np\n",
    "\n",
    "pi_0 = np.array([0.1, 0.5, 0.4])\n",
    "\n",
    "T = np.array([[1/8, 3/8, 4/8],\n",
    "              [1/8, 1/8, 6/8],\n",
    "              [3/8, 1/8, 4/8]])"
   ]
  },
  {
   "cell_type": "code",
   "execution_count": 8,
   "metadata": {},
   "outputs": [
    {
     "data": {
      "text/plain": [
       "True"
      ]
     },
     "execution_count": 8,
     "metadata": {},
     "output_type": "execute_result"
    }
   ],
   "source": [
    "# Do all the rows sum to 1? \n",
    "\n",
    "np.allclose(np.sum(T, axis=1), 1.0)"
   ]
  },
  {
   "cell_type": "code",
   "execution_count": 9,
   "metadata": {},
   "outputs": [
    {
     "data": {
      "text/plain": [
       "array([0.28125, 0.18125, 0.5375 ])"
      ]
     },
     "execution_count": 9,
     "metadata": {},
     "output_type": "execute_result"
    }
   ],
   "source": [
    "pi_0 @ np.linalg.matrix_power(T, 2) "
   ]
  },
  {
   "cell_type": "code",
   "execution_count": 10,
   "metadata": {},
   "outputs": [
    {
     "data": {
      "text/plain": [
       "array([0.26190476, 0.19047619, 0.54761905])"
      ]
     },
     "execution_count": 10,
     "metadata": {},
     "output_type": "execute_result"
    }
   ],
   "source": [
    "pi_0 @ np.linalg.matrix_power(T, 30)"
   ]
  },
  {
   "cell_type": "code",
   "execution_count": 11,
   "metadata": {},
   "outputs": [
    {
     "data": {
      "text/plain": [
       "array([0.26190476, 0.19047619, 0.54761905])"
      ]
     },
     "execution_count": 11,
     "metadata": {},
     "output_type": "execute_result"
    }
   ],
   "source": [
    "pi_0 @ np.linalg.matrix_power(T, 31)"
   ]
  },
  {
   "cell_type": "code",
   "execution_count": 12,
   "metadata": {},
   "outputs": [
    {
     "data": {
      "application/vnd.holoviews_exec.v0+json": "",
      "text/html": [
       "<div id='22316ac3-0536-4f87-bc6e-dcc16aa287f0'>\n",
       "  <div id=\"e8703ef0-7116-456e-b2c0-7e24b2dd1d5a\" data-root-id=\"22316ac3-0536-4f87-bc6e-dcc16aa287f0\" style=\"display: contents;\"></div>\n",
       "</div>\n",
       "<script type=\"application/javascript\">(function(root) {\n",
       "  var docs_json = {\"fce39d75-718e-484c-ac74-eee23226c32b\":{\"version\":\"3.3.4\",\"title\":\"Bokeh Application\",\"roots\":[{\"type\":\"object\",\"name\":\"panel.models.layout.Column\",\"id\":\"22316ac3-0536-4f87-bc6e-dcc16aa287f0\",\"attributes\":{\"name\":\"Column00192\",\"tags\":[\"embedded\"],\"stylesheets\":[\"\\n:host(.pn-loading.pn-arc):before, .pn-loading.pn-arc:before {\\n  background-image: url(\\\"data:image/svg+xml;base64,PHN2ZyB4bWxucz0iaHR0cDovL3d3dy53My5vcmcvMjAwMC9zdmciIHN0eWxlPSJtYXJnaW46IGF1dG87IGJhY2tncm91bmQ6IG5vbmU7IGRpc3BsYXk6IGJsb2NrOyBzaGFwZS1yZW5kZXJpbmc6IGF1dG87IiB2aWV3Qm94PSIwIDAgMTAwIDEwMCIgcHJlc2VydmVBc3BlY3RSYXRpbz0ieE1pZFlNaWQiPiAgPGNpcmNsZSBjeD0iNTAiIGN5PSI1MCIgZmlsbD0ibm9uZSIgc3Ryb2tlPSIjYzNjM2MzIiBzdHJva2Utd2lkdGg9IjEwIiByPSIzNSIgc3Ryb2tlLWRhc2hhcnJheT0iMTY0LjkzMzYxNDMxMzQ2NDE1IDU2Ljk3Nzg3MTQzNzgyMTM4Ij4gICAgPGFuaW1hdGVUcmFuc2Zvcm0gYXR0cmlidXRlTmFtZT0idHJhbnNmb3JtIiB0eXBlPSJyb3RhdGUiIHJlcGVhdENvdW50PSJpbmRlZmluaXRlIiBkdXI9IjFzIiB2YWx1ZXM9IjAgNTAgNTA7MzYwIDUwIDUwIiBrZXlUaW1lcz0iMDsxIj48L2FuaW1hdGVUcmFuc2Zvcm0+ICA8L2NpcmNsZT48L3N2Zz4=\\\");\\n  background-size: auto calc(min(50%, 400px));\\n}\",{\"type\":\"object\",\"name\":\"ImportedStyleSheet\",\"id\":\"a759e7e0-a6d6-4790-92a4-876c175bcd27\",\"attributes\":{\"url\":\"https://cdn.holoviz.org/panel/1.3.8/dist/css/loading.css\"}},{\"type\":\"object\",\"name\":\"ImportedStyleSheet\",\"id\":\"89c32042-70c8-40b2-acf5-5ccc96de519f\",\"attributes\":{\"url\":\"https://cdn.holoviz.org/panel/1.3.8/dist/css/listpanel.css\"}},{\"type\":\"object\",\"name\":\"ImportedStyleSheet\",\"id\":\"8eae1aff-6a4d-4b97-8db6-e4c93b412414\",\"attributes\":{\"url\":\"https://cdn.holoviz.org/panel/1.3.8/dist/bundled/theme/default.css\"}},{\"type\":\"object\",\"name\":\"ImportedStyleSheet\",\"id\":\"736b68ac-0b40-4190-804a-30c3800b3025\",\"attributes\":{\"url\":\"https://cdn.holoviz.org/panel/1.3.8/dist/bundled/theme/native.css\"}}],\"margin\":0,\"align\":\"start\",\"children\":[{\"type\":\"object\",\"name\":\"panel.models.layout.Column\",\"id\":\"6bb34a69-4f92-4b28-96a0-b82a065ced49\",\"attributes\":{\"name\":\"Column00197\",\"stylesheets\":[\"\\n:host(.pn-loading.pn-arc):before, .pn-loading.pn-arc:before {\\n  background-image: url(\\\"data:image/svg+xml;base64,PHN2ZyB4bWxucz0iaHR0cDovL3d3dy53My5vcmcvMjAwMC9zdmciIHN0eWxlPSJtYXJnaW46IGF1dG87IGJhY2tncm91bmQ6IG5vbmU7IGRpc3BsYXk6IGJsb2NrOyBzaGFwZS1yZW5kZXJpbmc6IGF1dG87IiB2aWV3Qm94PSIwIDAgMTAwIDEwMCIgcHJlc2VydmVBc3BlY3RSYXRpbz0ieE1pZFlNaWQiPiAgPGNpcmNsZSBjeD0iNTAiIGN5PSI1MCIgZmlsbD0ibm9uZSIgc3Ryb2tlPSIjYzNjM2MzIiBzdHJva2Utd2lkdGg9IjEwIiByPSIzNSIgc3Ryb2tlLWRhc2hhcnJheT0iMTY0LjkzMzYxNDMxMzQ2NDE1IDU2Ljk3Nzg3MTQzNzgyMTM4Ij4gICAgPGFuaW1hdGVUcmFuc2Zvcm0gYXR0cmlidXRlTmFtZT0idHJhbnNmb3JtIiB0eXBlPSJyb3RhdGUiIHJlcGVhdENvdW50PSJpbmRlZmluaXRlIiBkdXI9IjFzIiB2YWx1ZXM9IjAgNTAgNTA7MzYwIDUwIDUwIiBrZXlUaW1lcz0iMDsxIj48L2FuaW1hdGVUcmFuc2Zvcm0+ICA8L2NpcmNsZT48L3N2Zz4=\\\");\\n  background-size: auto calc(min(50%, 400px));\\n}\",{\"id\":\"a759e7e0-a6d6-4790-92a4-876c175bcd27\"},{\"id\":\"89c32042-70c8-40b2-acf5-5ccc96de519f\"},{\"id\":\"8eae1aff-6a4d-4b97-8db6-e4c93b412414\"},{\"id\":\"736b68ac-0b40-4190-804a-30c3800b3025\"}],\"margin\":0,\"align\":\"start\",\"children\":[{\"type\":\"object\",\"name\":\"panel.models.layout.Column\",\"id\":\"ca793b9b-f70b-4dc8-9e1f-ed7afd1b3c79\",\"attributes\":{\"name\":\"Column00209\",\"stylesheets\":[\"\\n:host(.pn-loading.pn-arc):before, .pn-loading.pn-arc:before {\\n  background-image: url(\\\"data:image/svg+xml;base64,PHN2ZyB4bWxucz0iaHR0cDovL3d3dy53My5vcmcvMjAwMC9zdmciIHN0eWxlPSJtYXJnaW46IGF1dG87IGJhY2tncm91bmQ6IG5vbmU7IGRpc3BsYXk6IGJsb2NrOyBzaGFwZS1yZW5kZXJpbmc6IGF1dG87IiB2aWV3Qm94PSIwIDAgMTAwIDEwMCIgcHJlc2VydmVBc3BlY3RSYXRpbz0ieE1pZFlNaWQiPiAgPGNpcmNsZSBjeD0iNTAiIGN5PSI1MCIgZmlsbD0ibm9uZSIgc3Ryb2tlPSIjYzNjM2MzIiBzdHJva2Utd2lkdGg9IjEwIiByPSIzNSIgc3Ryb2tlLWRhc2hhcnJheT0iMTY0LjkzMzYxNDMxMzQ2NDE1IDU2Ljk3Nzg3MTQzNzgyMTM4Ij4gICAgPGFuaW1hdGVUcmFuc2Zvcm0gYXR0cmlidXRlTmFtZT0idHJhbnNmb3JtIiB0eXBlPSJyb3RhdGUiIHJlcGVhdENvdW50PSJpbmRlZmluaXRlIiBkdXI9IjFzIiB2YWx1ZXM9IjAgNTAgNTA7MzYwIDUwIDUwIiBrZXlUaW1lcz0iMDsxIj48L2FuaW1hdGVUcmFuc2Zvcm0+ICA8L2NpcmNsZT48L3N2Zz4=\\\");\\n  background-size: auto calc(min(50%, 400px));\\n}\",{\"id\":\"a759e7e0-a6d6-4790-92a4-876c175bcd27\"},{\"id\":\"89c32042-70c8-40b2-acf5-5ccc96de519f\"},{\"id\":\"8eae1aff-6a4d-4b97-8db6-e4c93b412414\"},{\"id\":\"736b68ac-0b40-4190-804a-30c3800b3025\"}],\"margin\":0,\"align\":\"start\",\"children\":[{\"type\":\"object\",\"name\":\"Div\",\"id\":\"cc8bc2bc-4cbc-48f0-9ff0-5d1f47f864c0\",\"attributes\":{\"stylesheets\":[\"\\n:host(.pn-loading.pn-arc):before, .pn-loading.pn-arc:before {\\n  background-image: url(\\\"data:image/svg+xml;base64,PHN2ZyB4bWxucz0iaHR0cDovL3d3dy53My5vcmcvMjAwMC9zdmciIHN0eWxlPSJtYXJnaW46IGF1dG87IGJhY2tncm91bmQ6IG5vbmU7IGRpc3BsYXk6IGJsb2NrOyBzaGFwZS1yZW5kZXJpbmc6IGF1dG87IiB2aWV3Qm94PSIwIDAgMTAwIDEwMCIgcHJlc2VydmVBc3BlY3RSYXRpbz0ieE1pZFlNaWQiPiAgPGNpcmNsZSBjeD0iNTAiIGN5PSI1MCIgZmlsbD0ibm9uZSIgc3Ryb2tlPSIjYzNjM2MzIiBzdHJva2Utd2lkdGg9IjEwIiByPSIzNSIgc3Ryb2tlLWRhc2hhcnJheT0iMTY0LjkzMzYxNDMxMzQ2NDE1IDU2Ljk3Nzg3MTQzNzgyMTM4Ij4gICAgPGFuaW1hdGVUcmFuc2Zvcm0gYXR0cmlidXRlTmFtZT0idHJhbnNmb3JtIiB0eXBlPSJyb3RhdGUiIHJlcGVhdENvdW50PSJpbmRlZmluaXRlIiBkdXI9IjFzIiB2YWx1ZXM9IjAgNTAgNTA7MzYwIDUwIDUwIiBrZXlUaW1lcz0iMDsxIj48L2FuaW1hdGVUcmFuc2Zvcm0+ICA8L2NpcmNsZT48L3N2Zz4=\\\");\\n  background-size: auto calc(min(50%, 400px));\\n}\",{\"id\":\"a759e7e0-a6d6-4790-92a4-876c175bcd27\"},{\"id\":\"8eae1aff-6a4d-4b97-8db6-e4c93b412414\"},{\"id\":\"736b68ac-0b40-4190-804a-30c3800b3025\"}],\"margin\":[5,0,0,10],\"align\":\"start\",\"text\":\"Time step: <b>0</b>\"}},{\"type\":\"object\",\"name\":\"Slider\",\"id\":\"fb072e42-7fab-4248-91a7-7952b17c9b6c\",\"attributes\":{\"js_property_callbacks\":{\"type\":\"map\",\"entries\":[[\"change:value\",[{\"type\":\"object\",\"name\":\"CustomJS\",\"id\":\"1ab2f9ca-1718-475a-b4cc-d927a292a318\",\"attributes\":{\"args\":{\"type\":\"map\",\"entries\":[[\"source\",{\"id\":\"fb072e42-7fab-4248-91a7-7952b17c9b6c\"}],[\"target\",{\"id\":\"cc8bc2bc-4cbc-48f0-9ff0-5d1f47f864c0\"}]]},\"code\":\"\\n    var labels = ['Time step: <b>0</b>', 'Time step: <b>2</b>', 'Time step: <b>4</b>', 'Time step: <b>6</b>', 'Time step: <b>8</b>', 'Time step: <b>10</b>', 'Time step: <b>12</b>', 'Time step: <b>14</b>', 'Time step: <b>16</b>', 'Time step: <b>18</b>', 'Time step: <b>20</b>', 'Time step: <b>22</b>', 'Time step: <b>24</b>', 'Time step: <b>26</b>', 'Time step: <b>28</b>', 'Time step: <b>30</b>', 'Time step: <b>32</b>', 'Time step: <b>34</b>', 'Time step: <b>36</b>', 'Time step: <b>38</b>', 'Time step: <b>40</b>']\\n    target.text = labels[source.value]\\n    \"}},{\"type\":\"object\",\"name\":\"CustomJS\",\"id\":\"0a2559e4-af41-428f-8892-3f80a5f587c2\",\"attributes\":{\"code\":\"\\nvar state = null\\nfor (var root of cb_obj.document.roots()) {\\n  if (root.id == '1ffce721-624a-4924-918f-6972c8f1c5f0') {\\n    state = root;\\n    break;\\n  }\\n}\\nif (!state) { return; }\\nstate.set_state(cb_obj, cb_obj.value)\\n\"}}]]]},\"stylesheets\":[\"\\n:host(.pn-loading.pn-arc):before, .pn-loading.pn-arc:before {\\n  background-image: url(\\\"data:image/svg+xml;base64,PHN2ZyB4bWxucz0iaHR0cDovL3d3dy53My5vcmcvMjAwMC9zdmciIHN0eWxlPSJtYXJnaW46IGF1dG87IGJhY2tncm91bmQ6IG5vbmU7IGRpc3BsYXk6IGJsb2NrOyBzaGFwZS1yZW5kZXJpbmc6IGF1dG87IiB2aWV3Qm94PSIwIDAgMTAwIDEwMCIgcHJlc2VydmVBc3BlY3RSYXRpbz0ieE1pZFlNaWQiPiAgPGNpcmNsZSBjeD0iNTAiIGN5PSI1MCIgZmlsbD0ibm9uZSIgc3Ryb2tlPSIjYzNjM2MzIiBzdHJva2Utd2lkdGg9IjEwIiByPSIzNSIgc3Ryb2tlLWRhc2hhcnJheT0iMTY0LjkzMzYxNDMxMzQ2NDE1IDU2Ljk3Nzg3MTQzNzgyMTM4Ij4gICAgPGFuaW1hdGVUcmFuc2Zvcm0gYXR0cmlidXRlTmFtZT0idHJhbnNmb3JtIiB0eXBlPSJyb3RhdGUiIHJlcGVhdENvdW50PSJpbmRlZmluaXRlIiBkdXI9IjFzIiB2YWx1ZXM9IjAgNTAgNTA7MzYwIDUwIDUwIiBrZXlUaW1lcz0iMDsxIj48L2FuaW1hdGVUcmFuc2Zvcm0+ICA8L2NpcmNsZT48L3N2Zz4=\\\");\\n  background-size: auto calc(min(50%, 400px));\\n}\",{\"id\":\"a759e7e0-a6d6-4790-92a4-876c175bcd27\"},{\"id\":\"8eae1aff-6a4d-4b97-8db6-e4c93b412414\"},{\"id\":\"736b68ac-0b40-4190-804a-30c3800b3025\"}],\"margin\":[0,10,5,10],\"align\":\"start\",\"show_value\":false,\"tooltips\":false,\"start\":0,\"end\":20,\"value\":0}}]}}]}},{\"type\":\"object\",\"name\":\"Row\",\"id\":\"b2f9d371-e3b9-4ee0-b88e-93e43afcdd24\",\"attributes\":{\"name\":\"Row00196\",\"stylesheets\":[\"\\n:host(.pn-loading.pn-arc):before, .pn-loading.pn-arc:before {\\n  background-image: url(\\\"data:image/svg+xml;base64,PHN2ZyB4bWxucz0iaHR0cDovL3d3dy53My5vcmcvMjAwMC9zdmciIHN0eWxlPSJtYXJnaW46IGF1dG87IGJhY2tncm91bmQ6IG5vbmU7IGRpc3BsYXk6IGJsb2NrOyBzaGFwZS1yZW5kZXJpbmc6IGF1dG87IiB2aWV3Qm94PSIwIDAgMTAwIDEwMCIgcHJlc2VydmVBc3BlY3RSYXRpbz0ieE1pZFlNaWQiPiAgPGNpcmNsZSBjeD0iNTAiIGN5PSI1MCIgZmlsbD0ibm9uZSIgc3Ryb2tlPSIjYzNjM2MzIiBzdHJva2Utd2lkdGg9IjEwIiByPSIzNSIgc3Ryb2tlLWRhc2hhcnJheT0iMTY0LjkzMzYxNDMxMzQ2NDE1IDU2Ljk3Nzg3MTQzNzgyMTM4Ij4gICAgPGFuaW1hdGVUcmFuc2Zvcm0gYXR0cmlidXRlTmFtZT0idHJhbnNmb3JtIiB0eXBlPSJyb3RhdGUiIHJlcGVhdENvdW50PSJpbmRlZmluaXRlIiBkdXI9IjFzIiB2YWx1ZXM9IjAgNTAgNTA7MzYwIDUwIDUwIiBrZXlUaW1lcz0iMDsxIj48L2FuaW1hdGVUcmFuc2Zvcm0+ICA8L2NpcmNsZT48L3N2Zz4=\\\");\\n  background-size: auto calc(min(50%, 400px));\\n}\",{\"id\":\"a759e7e0-a6d6-4790-92a4-876c175bcd27\"},{\"id\":\"89c32042-70c8-40b2-acf5-5ccc96de519f\"},{\"id\":\"8eae1aff-6a4d-4b97-8db6-e4c93b412414\"},{\"id\":\"736b68ac-0b40-4190-804a-30c3800b3025\"}],\"margin\":0,\"align\":\"start\",\"children\":[{\"type\":\"object\",\"name\":\"panel.models.markup.HTML\",\"id\":\"6c12dd4a-1ea1-4997-b47b-e467c6feffa9\",\"attributes\":{\"css_classes\":[\"markdown\"],\"stylesheets\":[\"\\n:host(.pn-loading.pn-arc):before, .pn-loading.pn-arc:before {\\n  background-image: url(\\\"data:image/svg+xml;base64,PHN2ZyB4bWxucz0iaHR0cDovL3d3dy53My5vcmcvMjAwMC9zdmciIHN0eWxlPSJtYXJnaW46IGF1dG87IGJhY2tncm91bmQ6IG5vbmU7IGRpc3BsYXk6IGJsb2NrOyBzaGFwZS1yZW5kZXJpbmc6IGF1dG87IiB2aWV3Qm94PSIwIDAgMTAwIDEwMCIgcHJlc2VydmVBc3BlY3RSYXRpbz0ieE1pZFlNaWQiPiAgPGNpcmNsZSBjeD0iNTAiIGN5PSI1MCIgZmlsbD0ibm9uZSIgc3Ryb2tlPSIjYzNjM2MzIiBzdHJva2Utd2lkdGg9IjEwIiByPSIzNSIgc3Ryb2tlLWRhc2hhcnJheT0iMTY0LjkzMzYxNDMxMzQ2NDE1IDU2Ljk3Nzg3MTQzNzgyMTM4Ij4gICAgPGFuaW1hdGVUcmFuc2Zvcm0gYXR0cmlidXRlTmFtZT0idHJhbnNmb3JtIiB0eXBlPSJyb3RhdGUiIHJlcGVhdENvdW50PSJpbmRlZmluaXRlIiBkdXI9IjFzIiB2YWx1ZXM9IjAgNTAgNTA7MzYwIDUwIDUwIiBrZXlUaW1lcz0iMDsxIj48L2FuaW1hdGVUcmFuc2Zvcm0+ICA8L2NpcmNsZT48L3N2Zz4=\\\");\\n  background-size: auto calc(min(50%, 400px));\\n}\",{\"id\":\"a759e7e0-a6d6-4790-92a4-876c175bcd27\"},{\"type\":\"object\",\"name\":\"ImportedStyleSheet\",\"id\":\"63cf4740-84e3-4262-8a50-ae2422b5ab12\",\"attributes\":{\"url\":\"https://cdn.holoviz.org/panel/1.3.8/dist/css/markdown.css\"}},{\"id\":\"8eae1aff-6a4d-4b97-8db6-e4c93b412414\"},{\"id\":\"736b68ac-0b40-4190-804a-30c3800b3025\"}],\"margin\":[5,10],\"align\":\"start\",\"text\":\"&lt;p&gt;NO STEADDY STATE YET&lt;br /&gt;\\n[0.1 0.5 0.4] @T != [0.1 0.5 0.4]&lt;/p&gt;\\n\"}}]}}]}},{\"type\":\"object\",\"name\":\"panel.models.state.State\",\"id\":\"1ffce721-624a-4924-918f-6972c8f1c5f0\",\"attributes\":{\"state\":{\"type\":\"map\",\"entries\":[[20,{\"type\":\"map\",\"entries\":[[\"header\",\"{\\\"msgid\\\": \\\"9038914b-9354-4ddd-9c7e-023241055a6c\\\", \\\"msgtype\\\": \\\"PATCH-DOC\\\"}\"],[\"metadata\",\"{\\\"use_buffers\\\": false}\"],[\"content\",\"{\\\"events\\\":[{\\\"kind\\\":\\\"ModelChanged\\\",\\\"model\\\":{\\\"id\\\":\\\"cc8bc2bc-4cbc-48f0-9ff0-5d1f47f864c0\\\"},\\\"attr\\\":\\\"text\\\",\\\"new\\\":\\\"Time step: <b>40</b>\\\"},{\\\"kind\\\":\\\"ModelChanged\\\",\\\"model\\\":{\\\"id\\\":\\\"6c12dd4a-1ea1-4997-b47b-e467c6feffa9\\\"},\\\"attr\\\":\\\"text\\\",\\\"new\\\":\\\"&lt;p&gt;STEADY STATE&lt;br /&gt;\\\\n[0.26190476 0.19047619 0.54761905]@T == [0.26190476 0.19047619 0.54761905]&lt;/p&gt;\\\\n\\\"}]}\"]]}],[19,{\"type\":\"map\",\"entries\":[[\"header\",\"{\\\"msgid\\\": \\\"d83fd610-c6d3-4858-9154-abfb56128905\\\", \\\"msgtype\\\": \\\"PATCH-DOC\\\"}\"],[\"metadata\",\"{\\\"use_buffers\\\": false}\"],[\"content\",\"{\\\"events\\\":[{\\\"kind\\\":\\\"ModelChanged\\\",\\\"model\\\":{\\\"id\\\":\\\"cc8bc2bc-4cbc-48f0-9ff0-5d1f47f864c0\\\"},\\\"attr\\\":\\\"text\\\",\\\"new\\\":\\\"Time step: <b>38</b>\\\"}]}\"]]}],[18,{\"type\":\"map\",\"entries\":[[\"header\",\"{\\\"msgid\\\": \\\"fc7b9be7-7006-40ba-8063-7cf9c364892a\\\", \\\"msgtype\\\": \\\"PATCH-DOC\\\"}\"],[\"metadata\",\"{\\\"use_buffers\\\": false}\"],[\"content\",\"{\\\"events\\\":[{\\\"kind\\\":\\\"ModelChanged\\\",\\\"model\\\":{\\\"id\\\":\\\"cc8bc2bc-4cbc-48f0-9ff0-5d1f47f864c0\\\"},\\\"attr\\\":\\\"text\\\",\\\"new\\\":\\\"Time step: <b>36</b>\\\"}]}\"]]}],[17,{\"type\":\"map\",\"entries\":[[\"header\",\"{\\\"msgid\\\": \\\"2102c0a9-1f22-43c7-b0a5-5ae03edd06a5\\\", \\\"msgtype\\\": \\\"PATCH-DOC\\\"}\"],[\"metadata\",\"{\\\"use_buffers\\\": false}\"],[\"content\",\"{\\\"events\\\":[{\\\"kind\\\":\\\"ModelChanged\\\",\\\"model\\\":{\\\"id\\\":\\\"cc8bc2bc-4cbc-48f0-9ff0-5d1f47f864c0\\\"},\\\"attr\\\":\\\"text\\\",\\\"new\\\":\\\"Time step: <b>34</b>\\\"}]}\"]]}],[16,{\"type\":\"map\",\"entries\":[[\"header\",\"{\\\"msgid\\\": \\\"10ce4627-9a85-4243-b599-76cfc634ac0b\\\", \\\"msgtype\\\": \\\"PATCH-DOC\\\"}\"],[\"metadata\",\"{\\\"use_buffers\\\": false}\"],[\"content\",\"{\\\"events\\\":[{\\\"kind\\\":\\\"ModelChanged\\\",\\\"model\\\":{\\\"id\\\":\\\"cc8bc2bc-4cbc-48f0-9ff0-5d1f47f864c0\\\"},\\\"attr\\\":\\\"text\\\",\\\"new\\\":\\\"Time step: <b>32</b>\\\"}]}\"]]}],[15,{\"type\":\"map\",\"entries\":[[\"header\",\"{\\\"msgid\\\": \\\"a76c3322-a644-4b5d-9ea3-a6d251f2a842\\\", \\\"msgtype\\\": \\\"PATCH-DOC\\\"}\"],[\"metadata\",\"{\\\"use_buffers\\\": false}\"],[\"content\",\"{\\\"events\\\":[{\\\"kind\\\":\\\"ModelChanged\\\",\\\"model\\\":{\\\"id\\\":\\\"cc8bc2bc-4cbc-48f0-9ff0-5d1f47f864c0\\\"},\\\"attr\\\":\\\"text\\\",\\\"new\\\":\\\"Time step: <b>30</b>\\\"}]}\"]]}],[14,{\"type\":\"map\",\"entries\":[[\"header\",\"{\\\"msgid\\\": \\\"7ef30391-0c64-43ab-9ca2-99fa05472459\\\", \\\"msgtype\\\": \\\"PATCH-DOC\\\"}\"],[\"metadata\",\"{\\\"use_buffers\\\": false}\"],[\"content\",\"{\\\"events\\\":[{\\\"kind\\\":\\\"ModelChanged\\\",\\\"model\\\":{\\\"id\\\":\\\"cc8bc2bc-4cbc-48f0-9ff0-5d1f47f864c0\\\"},\\\"attr\\\":\\\"text\\\",\\\"new\\\":\\\"Time step: <b>28</b>\\\"}]}\"]]}],[13,{\"type\":\"map\",\"entries\":[[\"header\",\"{\\\"msgid\\\": \\\"e8ccce2a-5cfd-48ef-bb43-69e6482c85fd\\\", \\\"msgtype\\\": \\\"PATCH-DOC\\\"}\"],[\"metadata\",\"{\\\"use_buffers\\\": false}\"],[\"content\",\"{\\\"events\\\":[{\\\"kind\\\":\\\"ModelChanged\\\",\\\"model\\\":{\\\"id\\\":\\\"cc8bc2bc-4cbc-48f0-9ff0-5d1f47f864c0\\\"},\\\"attr\\\":\\\"text\\\",\\\"new\\\":\\\"Time step: <b>26</b>\\\"}]}\"]]}],[12,{\"type\":\"map\",\"entries\":[[\"header\",\"{\\\"msgid\\\": \\\"ab612441-8b28-48d4-b079-c1ee886621fe\\\", \\\"msgtype\\\": \\\"PATCH-DOC\\\"}\"],[\"metadata\",\"{\\\"use_buffers\\\": false}\"],[\"content\",\"{\\\"events\\\":[{\\\"kind\\\":\\\"ModelChanged\\\",\\\"model\\\":{\\\"id\\\":\\\"cc8bc2bc-4cbc-48f0-9ff0-5d1f47f864c0\\\"},\\\"attr\\\":\\\"text\\\",\\\"new\\\":\\\"Time step: <b>24</b>\\\"}]}\"]]}],[11,{\"type\":\"map\",\"entries\":[[\"header\",\"{\\\"msgid\\\": \\\"c9bf437f-cf20-4605-be26-52ba2e3a3cab\\\", \\\"msgtype\\\": \\\"PATCH-DOC\\\"}\"],[\"metadata\",\"{\\\"use_buffers\\\": false}\"],[\"content\",\"{\\\"events\\\":[{\\\"kind\\\":\\\"ModelChanged\\\",\\\"model\\\":{\\\"id\\\":\\\"cc8bc2bc-4cbc-48f0-9ff0-5d1f47f864c0\\\"},\\\"attr\\\":\\\"text\\\",\\\"new\\\":\\\"Time step: <b>22</b>\\\"}]}\"]]}],[10,{\"type\":\"map\",\"entries\":[[\"header\",\"{\\\"msgid\\\": \\\"f3832246-e26b-442b-923b-03df17734ba0\\\", \\\"msgtype\\\": \\\"PATCH-DOC\\\"}\"],[\"metadata\",\"{\\\"use_buffers\\\": false}\"],[\"content\",\"{\\\"events\\\":[{\\\"kind\\\":\\\"ModelChanged\\\",\\\"model\\\":{\\\"id\\\":\\\"cc8bc2bc-4cbc-48f0-9ff0-5d1f47f864c0\\\"},\\\"attr\\\":\\\"text\\\",\\\"new\\\":\\\"Time step: <b>20</b>\\\"}]}\"]]}],[9,{\"type\":\"map\",\"entries\":[[\"header\",\"{\\\"msgid\\\": \\\"b3da7ee5-1628-4537-8e17-e7ce194736c4\\\", \\\"msgtype\\\": \\\"PATCH-DOC\\\"}\"],[\"metadata\",\"{\\\"use_buffers\\\": false}\"],[\"content\",\"{\\\"events\\\":[{\\\"kind\\\":\\\"ModelChanged\\\",\\\"model\\\":{\\\"id\\\":\\\"cc8bc2bc-4cbc-48f0-9ff0-5d1f47f864c0\\\"},\\\"attr\\\":\\\"text\\\",\\\"new\\\":\\\"Time step: <b>18</b>\\\"}]}\"]]}],[8,{\"type\":\"map\",\"entries\":[[\"header\",\"{\\\"msgid\\\": \\\"403327a2-f8a0-452a-b289-ee6c85d2ce89\\\", \\\"msgtype\\\": \\\"PATCH-DOC\\\"}\"],[\"metadata\",\"{\\\"use_buffers\\\": false}\"],[\"content\",\"{\\\"events\\\":[{\\\"kind\\\":\\\"ModelChanged\\\",\\\"model\\\":{\\\"id\\\":\\\"cc8bc2bc-4cbc-48f0-9ff0-5d1f47f864c0\\\"},\\\"attr\\\":\\\"text\\\",\\\"new\\\":\\\"Time step: <b>16</b>\\\"}]}\"]]}],[7,{\"type\":\"map\",\"entries\":[[\"header\",\"{\\\"msgid\\\": \\\"ba762dc9-fd23-41f7-8cac-b37c6bab10a9\\\", \\\"msgtype\\\": \\\"PATCH-DOC\\\"}\"],[\"metadata\",\"{\\\"use_buffers\\\": false}\"],[\"content\",\"{\\\"events\\\":[{\\\"kind\\\":\\\"ModelChanged\\\",\\\"model\\\":{\\\"id\\\":\\\"cc8bc2bc-4cbc-48f0-9ff0-5d1f47f864c0\\\"},\\\"attr\\\":\\\"text\\\",\\\"new\\\":\\\"Time step: <b>14</b>\\\"}]}\"]]}],[6,{\"type\":\"map\",\"entries\":[[\"header\",\"{\\\"msgid\\\": \\\"399ab504-d00a-4ddf-bf68-0c83e79389f5\\\", \\\"msgtype\\\": \\\"PATCH-DOC\\\"}\"],[\"metadata\",\"{\\\"use_buffers\\\": false}\"],[\"content\",\"{\\\"events\\\":[{\\\"kind\\\":\\\"ModelChanged\\\",\\\"model\\\":{\\\"id\\\":\\\"cc8bc2bc-4cbc-48f0-9ff0-5d1f47f864c0\\\"},\\\"attr\\\":\\\"text\\\",\\\"new\\\":\\\"Time step: <b>12</b>\\\"},{\\\"kind\\\":\\\"ModelChanged\\\",\\\"model\\\":{\\\"id\\\":\\\"6c12dd4a-1ea1-4997-b47b-e467c6feffa9\\\"},\\\"attr\\\":\\\"text\\\",\\\"new\\\":\\\"&lt;p&gt;STEADY STATE&lt;br /&gt;\\\\n[0.26190475 0.19047621 0.54761904]@T == [0.26190475 0.19047621 0.54761904]&lt;/p&gt;\\\\n\\\"}]}\"]]}],[5,{\"type\":\"map\",\"entries\":[[\"header\",\"{\\\"msgid\\\": \\\"12993008-3a36-4f65-85db-9b60f33b9bf6\\\", \\\"msgtype\\\": \\\"PATCH-DOC\\\"}\"],[\"metadata\",\"{\\\"use_buffers\\\": false}\"],[\"content\",\"{\\\"events\\\":[{\\\"kind\\\":\\\"ModelChanged\\\",\\\"model\\\":{\\\"id\\\":\\\"cc8bc2bc-4cbc-48f0-9ff0-5d1f47f864c0\\\"},\\\"attr\\\":\\\"text\\\",\\\"new\\\":\\\"Time step: <b>10</b>\\\"},{\\\"kind\\\":\\\"ModelChanged\\\",\\\"model\\\":{\\\"id\\\":\\\"6c12dd4a-1ea1-4997-b47b-e467c6feffa9\\\"},\\\"attr\\\":\\\"text\\\",\\\"new\\\":\\\"&lt;p&gt;STEADY STATE&lt;br /&gt;\\\\n[0.26190462 0.19047604 0.54761934]@T == [0.26190462 0.19047604 0.54761934]&lt;/p&gt;\\\\n\\\"}]}\"]]}],[4,{\"type\":\"map\",\"entries\":[[\"header\",\"{\\\"msgid\\\": \\\"effea7c6-97e8-4952-8190-403381c10731\\\", \\\"msgtype\\\": \\\"PATCH-DOC\\\"}\"],[\"metadata\",\"{\\\"use_buffers\\\": false}\"],[\"content\",\"{\\\"events\\\":[{\\\"kind\\\":\\\"ModelChanged\\\",\\\"model\\\":{\\\"id\\\":\\\"cc8bc2bc-4cbc-48f0-9ff0-5d1f47f864c0\\\"},\\\"attr\\\":\\\"text\\\",\\\"new\\\":\\\"Time step: <b>8</b>\\\"},{\\\"kind\\\":\\\"ModelChanged\\\",\\\"model\\\":{\\\"id\\\":\\\"6c12dd4a-1ea1-4997-b47b-e467c6feffa9\\\"},\\\"attr\\\":\\\"text\\\",\\\"new\\\":\\\"&lt;p&gt;STEADY STATE&lt;br /&gt;\\\\n[0.26190948 0.19047394 0.54761658]@T == [0.26190948 0.19047394 0.54761658]&lt;/p&gt;\\\\n\\\"}]}\"]]}],[3,{\"type\":\"map\",\"entries\":[[\"header\",\"{\\\"msgid\\\": \\\"060c64f1-9ae2-41f3-8fbf-e96e57483a33\\\", \\\"msgtype\\\": \\\"PATCH-DOC\\\"}\"],[\"metadata\",\"{\\\"use_buffers\\\": false}\"],[\"content\",\"{\\\"events\\\":[{\\\"kind\\\":\\\"ModelChanged\\\",\\\"model\\\":{\\\"id\\\":\\\"cc8bc2bc-4cbc-48f0-9ff0-5d1f47f864c0\\\"},\\\"attr\\\":\\\"text\\\",\\\"new\\\":\\\"Time step: <b>6</b>\\\"},{\\\"kind\\\":\\\"ModelChanged\\\",\\\"model\\\":{\\\"id\\\":\\\"6c12dd4a-1ea1-4997-b47b-e467c6feffa9\\\"},\\\"attr\\\":\\\"text\\\",\\\"new\\\":\\\"&lt;p&gt;STEADY STATE&lt;br /&gt;\\\\n[0.26186523 0.19055176 0.54758301]@T == [0.26186523 0.19055176 0.54758301]&lt;/p&gt;\\\\n\\\"}]}\"]]}],[2,{\"type\":\"map\",\"entries\":[[\"header\",\"{\\\"msgid\\\": \\\"d58d8bb7-e617-4701-8f35-3100f9a9bba5\\\", \\\"msgtype\\\": \\\"PATCH-DOC\\\"}\"],[\"metadata\",\"{\\\"use_buffers\\\": false}\"],[\"content\",\"{\\\"events\\\":[{\\\"kind\\\":\\\"ModelChanged\\\",\\\"model\\\":{\\\"id\\\":\\\"cc8bc2bc-4cbc-48f0-9ff0-5d1f47f864c0\\\"},\\\"attr\\\":\\\"text\\\",\\\"new\\\":\\\"Time step: <b>4</b>\\\"},{\\\"kind\\\":\\\"ModelChanged\\\",\\\"model\\\":{\\\"id\\\":\\\"6c12dd4a-1ea1-4997-b47b-e467c6feffa9\\\"},\\\"attr\\\":\\\"text\\\",\\\"new\\\":\\\"&lt;p&gt;NO STEADDY STATE YET&lt;br /&gt;\\\\n[0.26132813 0.18984375 0.54882812] @T != [0.26132813 0.18984375 0.54882812]&lt;/p&gt;\\\\n\\\"}]}\"]]}],[1,{\"type\":\"map\",\"entries\":[[\"header\",\"{\\\"msgid\\\": \\\"9b14af8e-a872-405f-adde-eb1bb1ed1965\\\", \\\"msgtype\\\": \\\"PATCH-DOC\\\"}\"],[\"metadata\",\"{\\\"use_buffers\\\": false}\"],[\"content\",\"{\\\"events\\\":[{\\\"kind\\\":\\\"ModelChanged\\\",\\\"model\\\":{\\\"id\\\":\\\"cc8bc2bc-4cbc-48f0-9ff0-5d1f47f864c0\\\"},\\\"attr\\\":\\\"text\\\",\\\"new\\\":\\\"Time step: <b>2</b>\\\"},{\\\"kind\\\":\\\"ModelChanged\\\",\\\"model\\\":{\\\"id\\\":\\\"6c12dd4a-1ea1-4997-b47b-e467c6feffa9\\\"},\\\"attr\\\":\\\"text\\\",\\\"new\\\":\\\"&lt;p&gt;NO STEADDY STATE YET&lt;br /&gt;\\\\n[0.28125 0.18125 0.5375 ] @T != [0.28125 0.18125 0.5375 ]&lt;/p&gt;\\\\n\\\"}]}\"]]}],[0,{\"type\":\"map\",\"entries\":[[\"header\",\"{\\\"msgid\\\": \\\"3b8f72fd-57aa-4dfe-8f4b-3f5f4ba9a7c9\\\", \\\"msgtype\\\": \\\"PATCH-DOC\\\"}\"],[\"metadata\",\"{\\\"use_buffers\\\": false}\"],[\"content\",\"{\\\"events\\\":[{\\\"kind\\\":\\\"ModelChanged\\\",\\\"model\\\":{\\\"id\\\":\\\"cc8bc2bc-4cbc-48f0-9ff0-5d1f47f864c0\\\"},\\\"attr\\\":\\\"text\\\",\\\"new\\\":\\\"Time step: <b>0</b>\\\"},{\\\"kind\\\":\\\"ModelChanged\\\",\\\"model\\\":{\\\"id\\\":\\\"6c12dd4a-1ea1-4997-b47b-e467c6feffa9\\\"},\\\"attr\\\":\\\"text\\\",\\\"new\\\":\\\"&lt;p&gt;NO STEADDY STATE YET&lt;br /&gt;\\\\n[0.1 0.5 0.4] @T != [0.1 0.5 0.4]&lt;/p&gt;\\\\n\\\"}]}\"]]}]]},\"widgets\":{\"type\":\"map\",\"entries\":[[\"fb072e42-7fab-4248-91a7-7952b17c9b6c\",0]]},\"values\":[0]}}],\"defs\":[{\"type\":\"model\",\"name\":\"ReactiveHTML1\"},{\"type\":\"model\",\"name\":\"FlexBox1\",\"properties\":[{\"name\":\"align_content\",\"kind\":\"Any\",\"default\":\"flex-start\"},{\"name\":\"align_items\",\"kind\":\"Any\",\"default\":\"flex-start\"},{\"name\":\"flex_direction\",\"kind\":\"Any\",\"default\":\"row\"},{\"name\":\"flex_wrap\",\"kind\":\"Any\",\"default\":\"wrap\"},{\"name\":\"justify_content\",\"kind\":\"Any\",\"default\":\"flex-start\"}]},{\"type\":\"model\",\"name\":\"FloatPanel1\",\"properties\":[{\"name\":\"config\",\"kind\":\"Any\",\"default\":{\"type\":\"map\"}},{\"name\":\"contained\",\"kind\":\"Any\",\"default\":true},{\"name\":\"position\",\"kind\":\"Any\",\"default\":\"right-top\"},{\"name\":\"offsetx\",\"kind\":\"Any\",\"default\":null},{\"name\":\"offsety\",\"kind\":\"Any\",\"default\":null},{\"name\":\"theme\",\"kind\":\"Any\",\"default\":\"primary\"},{\"name\":\"status\",\"kind\":\"Any\",\"default\":\"normalized\"}]},{\"type\":\"model\",\"name\":\"GridStack1\",\"properties\":[{\"name\":\"mode\",\"kind\":\"Any\",\"default\":\"warn\"},{\"name\":\"ncols\",\"kind\":\"Any\",\"default\":null},{\"name\":\"nrows\",\"kind\":\"Any\",\"default\":null},{\"name\":\"allow_resize\",\"kind\":\"Any\",\"default\":true},{\"name\":\"allow_drag\",\"kind\":\"Any\",\"default\":true},{\"name\":\"state\",\"kind\":\"Any\",\"default\":[]}]},{\"type\":\"model\",\"name\":\"drag1\",\"properties\":[{\"name\":\"slider_width\",\"kind\":\"Any\",\"default\":5},{\"name\":\"slider_color\",\"kind\":\"Any\",\"default\":\"black\"},{\"name\":\"value\",\"kind\":\"Any\",\"default\":50}]},{\"type\":\"model\",\"name\":\"click1\",\"properties\":[{\"name\":\"terminal_output\",\"kind\":\"Any\",\"default\":\"\"},{\"name\":\"debug_name\",\"kind\":\"Any\",\"default\":\"\"},{\"name\":\"clears\",\"kind\":\"Any\",\"default\":0}]},{\"type\":\"model\",\"name\":\"copy_to_clipboard1\",\"properties\":[{\"name\":\"fill\",\"kind\":\"Any\",\"default\":\"none\"},{\"name\":\"value\",\"kind\":\"Any\",\"default\":null}]},{\"type\":\"model\",\"name\":\"FastWrapper1\",\"properties\":[{\"name\":\"object\",\"kind\":\"Any\",\"default\":null},{\"name\":\"style\",\"kind\":\"Any\",\"default\":null}]},{\"type\":\"model\",\"name\":\"NotificationAreaBase1\",\"properties\":[{\"name\":\"js_events\",\"kind\":\"Any\",\"default\":{\"type\":\"map\"}},{\"name\":\"position\",\"kind\":\"Any\",\"default\":\"bottom-right\"},{\"name\":\"_clear\",\"kind\":\"Any\",\"default\":0}]},{\"type\":\"model\",\"name\":\"NotificationArea1\",\"properties\":[{\"name\":\"js_events\",\"kind\":\"Any\",\"default\":{\"type\":\"map\"}},{\"name\":\"notifications\",\"kind\":\"Any\",\"default\":[]},{\"name\":\"position\",\"kind\":\"Any\",\"default\":\"bottom-right\"},{\"name\":\"_clear\",\"kind\":\"Any\",\"default\":0},{\"name\":\"types\",\"kind\":\"Any\",\"default\":[{\"type\":\"map\",\"entries\":[[\"type\",\"warning\"],[\"background\",\"#ffc107\"],[\"icon\",{\"type\":\"map\",\"entries\":[[\"className\",\"fas fa-exclamation-triangle\"],[\"tagName\",\"i\"],[\"color\",\"white\"]]}]]},{\"type\":\"map\",\"entries\":[[\"type\",\"info\"],[\"background\",\"#007bff\"],[\"icon\",{\"type\":\"map\",\"entries\":[[\"className\",\"fas fa-info-circle\"],[\"tagName\",\"i\"],[\"color\",\"white\"]]}]]}]}]},{\"type\":\"model\",\"name\":\"Notification\",\"properties\":[{\"name\":\"background\",\"kind\":\"Any\",\"default\":null},{\"name\":\"duration\",\"kind\":\"Any\",\"default\":3000},{\"name\":\"icon\",\"kind\":\"Any\",\"default\":null},{\"name\":\"message\",\"kind\":\"Any\",\"default\":\"\"},{\"name\":\"notification_type\",\"kind\":\"Any\",\"default\":null},{\"name\":\"_destroyed\",\"kind\":\"Any\",\"default\":false}]},{\"type\":\"model\",\"name\":\"TemplateActions1\",\"properties\":[{\"name\":\"open_modal\",\"kind\":\"Any\",\"default\":0},{\"name\":\"close_modal\",\"kind\":\"Any\",\"default\":0}]},{\"type\":\"model\",\"name\":\"BootstrapTemplateActions1\",\"properties\":[{\"name\":\"open_modal\",\"kind\":\"Any\",\"default\":0},{\"name\":\"close_modal\",\"kind\":\"Any\",\"default\":0}]},{\"type\":\"model\",\"name\":\"MaterialTemplateActions1\",\"properties\":[{\"name\":\"open_modal\",\"kind\":\"Any\",\"default\":0},{\"name\":\"close_modal\",\"kind\":\"Any\",\"default\":0}]}]}};\n",
       "  var render_items = [{\"docid\":\"fce39d75-718e-484c-ac74-eee23226c32b\",\"roots\":{\"22316ac3-0536-4f87-bc6e-dcc16aa287f0\":\"e8703ef0-7116-456e-b2c0-7e24b2dd1d5a\"},\"root_ids\":[\"22316ac3-0536-4f87-bc6e-dcc16aa287f0\"]}];\n",
       "  var docs = Object.values(docs_json)\n",
       "  if (!docs) {\n",
       "    return\n",
       "  }\n",
       "  const py_version = docs[0].version.replace('rc', '-rc.').replace('.dev', '-dev.')\n",
       "  function embed_document(root) {\n",
       "    var Bokeh = get_bokeh(root)\n",
       "    Bokeh.embed.embed_items_notebook(docs_json, render_items);\n",
       "    for (const render_item of render_items) {\n",
       "      for (const root_id of render_item.root_ids) {\n",
       "\tconst id_el = document.getElementById(root_id)\n",
       "\tif (id_el.children.length && (id_el.children[0].className === 'bk-root')) {\n",
       "\t  const root_el = id_el.children[0]\n",
       "\t  root_el.id = root_el.id + '-rendered'\n",
       "\t}\n",
       "      }\n",
       "    }\n",
       "  }\n",
       "  function get_bokeh(root) {\n",
       "    if (root.Bokeh === undefined) {\n",
       "      return null\n",
       "    } else if (root.Bokeh.version !== py_version) {\n",
       "      if (root.Bokeh.versions === undefined || !root.Bokeh.versions.has(py_version)) {\n",
       "\treturn null\n",
       "      }\n",
       "      return root.Bokeh.versions.get(py_version);\n",
       "    } else if (root.Bokeh.version === py_version) {\n",
       "      return root.Bokeh\n",
       "    }\n",
       "    return null\n",
       "  }\n",
       "  function is_loaded(root) {\n",
       "    var Bokeh = get_bokeh(root)\n",
       "    return (Bokeh != null && Bokeh.Panel !== undefined)\n",
       "  }\n",
       "  if (is_loaded(root)) {\n",
       "    embed_document(root);\n",
       "  } else {\n",
       "    var attempts = 0;\n",
       "    var timer = setInterval(function(root) {\n",
       "      if (is_loaded(root)) {\n",
       "        clearInterval(timer);\n",
       "        embed_document(root);\n",
       "      } else if (document.readyState == \"complete\") {\n",
       "        attempts++;\n",
       "        if (attempts > 200) {\n",
       "          clearInterval(timer);\n",
       "\t  var Bokeh = get_bokeh(root)\n",
       "\t  if (Bokeh == null || Bokeh.Panel == null) {\n",
       "            console.warn(\"Panel: ERROR: Unable to run Panel code because Bokeh or Panel library is missing\");\n",
       "\t  } else {\n",
       "\t    console.warn(\"Panel: WARNING: Attempting to render but not all required libraries could be resolved.\")\n",
       "\t    embed_document(root)\n",
       "\t  }\n",
       "        }\n",
       "      }\n",
       "    }, 25, root)\n",
       "  }\n",
       "})(window);</script>"
      ],
      "text/plain": [
       "<panel.io.notebook.Mimebundle at 0x149201310>"
      ]
     },
     "execution_count": 12,
     "metadata": {
      "application/vnd.holoviews_exec.v0+json": {
       "id": "22316ac3-0536-4f87-bc6e-dcc16aa287f0"
      }
     },
     "output_type": "execute_result"
    }
   ],
   "source": [
    "def f(time_step):\n",
    "    pi_time_step = pi_0 @ np.linalg.matrix_power(T, time_step)\n",
    "    if not np.allclose(pi_time_step @ T, pi_time_step, atol=1e-04):\n",
    "        s = f\"NO STEADDY STATE YET\\n {pi_time_step} @T != {pi_time_step}\" \n",
    "    else:\n",
    "        s = f\"STEADY STATE\\n {pi_time_step}@T == {pi_time_step}\" \n",
    "    return s\n",
    "\n",
    "interact(f, time_step=widgets.IntSlider(name='Time step', start=0, end=40, step=2, value=0)).embed(max_opts=20)"
   ]
  },
  {
   "cell_type": "markdown",
   "metadata": {},
   "source": [
    "- Seems like after the $10^{th}$ time step, the state probabilities stay the same (within a tolerance). \n",
    "- So we have reached a steady state at $\\pi = \\begin{bmatrix} 0.26190462 & 0.19047604 & 0.54761934 \\end{bmatrix}$ such that\n",
    "\n",
    "$$\\pi \\begin{bmatrix}\n",
    "1/8 & 3/8 & 4/8\\\\\n",
    "1/8 & 1/8 & 6/8\\\\\n",
    "3/8 & 1/8 & 4/8\n",
    "\\end{bmatrix} = \\pi\n",
    "$$\n",
    "\n",
    "- So the distribution $\\pi = \\begin{bmatrix} 0.26190462 & 0.19047604 & 0.54761934 \\end{bmatrix}$ is a stationary distribution in this case because we have $\\pi T = \\pi$. \n",
    "- In the long run, MDS webpage is going to be visited more often followed by Vincent webpage. Varada webpage is not going to be visited much 😀. "
   ]
  },
  {
   "cell_type": "markdown",
   "metadata": {},
   "source": [
    "This is a high-level idea of Google's famous PageRank algorithm. The question is how do we create the transition matrix? We'll talk about this a bit in the next lecture. "
   ]
  },
  {
   "cell_type": "markdown",
   "metadata": {
    "slideshow": {
     "slide_type": "slide"
    }
   },
   "source": [
    "### 4.2 Conditions for stationary distribution\n",
    "\n",
    "- Stationary distribution looks like a desirable property. \n",
    "- Does a stationary distribution $\\pi$ exist and is it unique?\n",
    "- Under mild assumptions, a Markov chain has a stationary distribution. "
   ]
  },
  {
   "cell_type": "markdown",
   "metadata": {
    "slideshow": {
     "slide_type": "slide"
    }
   },
   "source": [
    "- Sufficient condition for existence/uniqueness is positive transitions. \n",
    "    * $P(s_t \\mid s_{t-1}) > 0$\n",
    "- But very often at least some of the transition probabilities are non-positive (e.g., zero)."
   ]
  },
  {
   "cell_type": "markdown",
   "metadata": {
    "slideshow": {
     "slide_type": "slide"
    },
    "tags": []
   },
   "source": [
    "- Weaker sufficient conditions for existence/uniqueness\n",
    "    * _Irreducible_\n",
    "        - A finite Markov chain is irreducible if it is possible to get to any state from any state, potentially over multiple steps. This means that the state space is fully connected. \n",
    "        - In other words, a finite Markov chain is irreducible if and only if its corresponding graph is strongly connected.\n",
    "    * _Aperiodic_        \n",
    "        - A Markov chain is aperiodic if there's no fixed cycle over which the transitions occur. Loosely speaking, this means the chain doesn't fall into a repetitive loop over a specific number of steps.      "
   ]
  },
  {
   "cell_type": "markdown",
   "metadata": {},
   "source": [
    "**(Optional) Periodicity formal definition**\n",
    "\n",
    "A state in a Markov chain is periodic if the chain can return to the state only at multiples of some integer larger than 1. Thus, starting in state $i$, the chain can return to $i$ only at multiples of the period $k$, and $k$ is the largest such integer. State $i$ is aperiodic if $k = 1$ and periodic if $k > 1$."
   ]
  },
  {
   "cell_type": "markdown",
   "metadata": {
    "slideshow": {
     "slide_type": "slide"
    }
   },
   "source": [
    "### 4.3 Irreducibility and aperiodicity\n",
    "\n",
    "Consider the Markov chains shown below. Assume that if a connection is shown from node A to B, there is a non-zero probability of transitioning from A to B.  \n",
    "\n",
    "- Which chains are irreducible? Which ones are aperiodic?\n",
    "    * _Irreducible_ (doesn’t get stuck in part of the graph)\n",
    "    * _Aperiodic_ (doesn’t keep repeating same sequence).    \n",
    "![](img/Markov_irreducibility_aperiodicity.png)    \n",
    "<!-- <img src=\"img/Markov_irreducibility_aperiodicity.png\" height=\"900\" width=\"900\">  -->"
   ]
  },
  {
   "cell_type": "markdown",
   "metadata": {
    "slideshow": {
     "slide_type": "skip"
    }
   },
   "source": [
    "**(Optional) Some ways to examine irreducibility**\n",
    "\n",
    "- Power method: Compute higher powers of the transition matrix $T^k$. If the chain is irreducible, for some $k$, all the elements of $T^k$ should be positive. This means there's a positive probability of going from any state to any other state in k steps.\n",
    "- Check whether the graph is strongly connected or not.  \n",
    "    - Check out [Kosaraju's algorithm](https://en.wikipedia.org/wiki/Kosaraju%27s_algorithm). "
   ]
  },
  {
   "cell_type": "markdown",
   "metadata": {},
   "source": [
    "**(Optional) Some ways to examine aperiodicity**\n",
    "\n",
    "Check diagonal of powers:\n",
    "- Take higher powers of the transition matrix $T^k$.  \n",
    "- If you find a power where all diagonal elements (which correspond to returning to the same state) are positive, it indicates that there's no fixed cycle length for returning to any state, suggesting that the chain is aperiodic."
   ]
  },
  {
   "cell_type": "markdown",
   "metadata": {
    "slideshow": {
     "slide_type": "slide"
    }
   },
   "source": [
    "### 4.4 How to estimate the stationary distribution?\n",
    "\n",
    "- Power iteration method\n",
    "    - Multiply $\\pi_0$ by powers of the transition matrix $T$ until the product looks stable. \n",
    "- Taking the eigenvalue decomposition of the transpose of the transition matrix $\\pi T=\\pi$\n",
    "- Through Monte Carlo simulation.\n",
    "- In some cases (not always) simply counting the occurrences (lab 1). \n",
    "\n",
    "There are other ways too! "
   ]
  },
  {
   "cell_type": "markdown",
   "metadata": {},
   "source": [
    "**(Optional) Eigendecomposition to get stationary distribution**\n",
    "\n",
    "- Note that $\\pi T = \\pi$ looks very similar to the eigenvalue equation $Av = \\lambda v$ for eigenvalues and eigenvectors, with $\\lambda = 1$.\n",
    "- If you transpose the matrix \n",
    "\n",
    "$$(\\pi T)^T = \\pi^T \\implies T^T \\pi^T = \\pi^T$$ \n",
    "\n",
    "In other words, if we transpose the matrix and take its eigendecomposition, the eigenvector with eigenvalue 1 is going to be the stationary distribution.\n",
    "\n",
    "If there are multiple eigenvectors with eigenvalue 1.0, then the stationary distribution is not unique. "
   ]
  },
  {
   "cell_type": "markdown",
   "metadata": {},
   "source": [
    "<br><br><br><br>"
   ]
  },
  {
   "cell_type": "markdown",
   "metadata": {
    "slideshow": {
     "slide_type": "slide"
    },
    "tags": []
   },
   "source": [
    "## Final thoughts, summary, reflection\n",
    "\n",
    "We define a discrete Markov chain as \n",
    "* a set of finite states \n",
    "* an initial probability distribution over states\n",
    "* a transition probability matrix"
   ]
  },
  {
   "cell_type": "markdown",
   "metadata": {
    "slideshow": {
     "slide_type": "slide"
    }
   },
   "source": [
    "We can do a number of things with Markov chains\n",
    "- Calculate the probability of a sequence.  \n",
    "- Compute the probability of being in a particular state at time $t$. \n",
    "- Calculate stationary distribution which is a probability distribution that remains unchanged in the Markov chain as time progresses. \n",
    "- Generate a sequence of states. "
   ]
  },
  {
   "cell_type": "markdown",
   "metadata": {
    "slideshow": {
     "slide_type": "slide"
    }
   },
   "source": [
    "- Learning Markov chains is just counting (next lecture). \n",
    "- Example applications of Markov chains in NLP (next lecture)\n",
    "    - Language modeling\n",
    "    - PageRank"
   ]
  },
  {
   "cell_type": "markdown",
   "metadata": {
    "slideshow": {
     "slide_type": "slide"
    }
   },
   "source": [
    "<br><br><br><br>"
   ]
  },
  {
   "cell_type": "markdown",
   "metadata": {
    "slideshow": {
     "slide_type": "slide"
    }
   },
   "source": [
    "## ❓❓ Questions for you"
   ]
  },
  {
   "cell_type": "markdown",
   "metadata": {},
   "source": [
    "### Exercise 1.2: Select all of the following statements which are **True**\n",
    "**iClicker join link: https://join.iclicker.com/ZTLY**\n",
    "\n",
    "- (A) For a stationary distribution, the initial state probability distribution $\\pi_0$ must satisfy  $\\pi_0T \\approx \\pi_0$.\n",
    "- (B) If a state has only one possible transition, the transition probability for that transition would be 1.0.\n",
    "- (C) If each row in the transition matrix of a Markov chain has only one possible transition, the chain would be deterministic.\n",
    "- (D) If we have a self loop transition with probability 1.0 for state A in a Markov chain and we happen to be at state A, the chain is going to get stuck in that state forever. "
   ]
  },
  {
   "cell_type": "markdown",
   "metadata": {},
   "source": [
    "```{admonition} Exercise 1.2: V's Solutions! \n",
    ":class: tip, dropdown\n",
    "- B, C, D \n",
    "```"
   ]
  },
  {
   "cell_type": "markdown",
   "metadata": {},
   "source": [
    "<br><br>"
   ]
  },
  {
   "cell_type": "markdown",
   "metadata": {
    "slideshow": {
     "slide_type": "slide"
    }
   },
   "source": [
    "### Resources and fun things with Markov chains \n",
    "\n",
    "- [Create and visualize Markov chains](https://www.stat.auckland.ac.nz/~wild/MarkovChains/)\n",
    "- [Markov chains \"explained visually\"](http://setosa.io/ev/markov-chains)\n",
    "- [Snakes and ladders](http://datagenetics.com/blog/november12011/index.html)\n",
    "- [Candyland](http://www.datagenetics.com/blog/december12011/index.html)\n",
    "- [Yahtzee](http://www.datagenetics.com/blog/january42012)\n",
    "- [Chess pieces returning home and K-pop vs. ska](https://www.youtube.com/watch?v=63HHmjlh794)\n",
    "- [The Life and Work of A. A. Markov](http://www.meyn.ece.ufl.edu/archive/spm_files/Markov-Work-and-life.pdf)\n"
   ]
  }
 ],
 "metadata": {
  "celltoolbar": "Slideshow",
  "kernelspec": {
   "display_name": "Python [conda env:575]",
   "language": "python",
   "name": "conda-env-575-py"
  },
  "language_info": {
   "codemirror_mode": {
    "name": "ipython",
    "version": 3
   },
   "file_extension": ".py",
   "mimetype": "text/x-python",
   "name": "python",
   "nbconvert_exporter": "python",
   "pygments_lexer": "ipython3",
   "version": "3.12.2"
  }
 },
 "nbformat": 4,
 "nbformat_minor": 4
}
