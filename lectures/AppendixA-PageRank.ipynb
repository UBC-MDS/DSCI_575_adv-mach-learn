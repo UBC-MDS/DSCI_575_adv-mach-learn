{
 "cells": [
  {
   "cell_type": "markdown",
   "metadata": {},
   "source": [
    "## PageRank as a Markov model"
   ]
  },
  {
   "cell_type": "markdown",
   "metadata": {
    "slideshow": {
     "slide_type": "slide"
    }
   },
   "source": [
    "### PageRank: intuition \n",
    "\n",
    "- Important webpages are linked from other important webpages.\n",
    "- Don't just look at the number of links coming to a webpage but consider who the links are coming from \n",
    "<center>\n",
    "<img src=\"img/wiki_page_rank.jpg\" height=\"500\" width=\"500\"> \n",
    "</center>\n",
    "\n",
    "[Credit](https://en.wikipedia.org/wiki/PageRank#/media/File:PageRanks-Example.jpg)\n"
   ]
  },
  {
   "cell_type": "markdown",
   "metadata": {
    "slideshow": {
     "slide_type": "slide"
    }
   },
   "source": [
    "### PageRank: scoring\n",
    "\n",
    "- Imagine a browser doing a random walk \n",
    "    - At time t=0, start at a random webpage.\n",
    "    - At time t=1, follow a random link on the current page.\n",
    "    - At time t=2, follow a random link on the current page. \n",
    "    \n",
    "- Intuition\n",
    "    - In the \"steady state\" each page has a long-term visit rate, which is the page's score (rank). "
   ]
  },
  {
   "cell_type": "markdown",
   "metadata": {
    "slideshow": {
     "slide_type": "slide"
    }
   },
   "source": [
    "### PageRank: teleporting\n",
    "\n",
    "- Obvious problem with the random walk:\n",
    "    - Pages with no in-links have a rank of 0.\n",
    "    - Algorithm can get \"stuck\" in part of the graph, as the web is full of dead-ends. "
   ]
  },
  {
   "cell_type": "markdown",
   "metadata": {
    "slideshow": {
     "slide_type": "slide"
    }
   },
   "source": [
    "### PageRank: teleporting\n",
    "\n",
    "- At a dead end, jump to a random web page.\n",
    "- At a non-dead end, we still jump to a random web page with probability $\\alpha$. \n",
    "- With the remaining probability $(1-\\alpha)$ go out on a random link. \n",
    "- With teleporting, we cannot get stuck locally. "
   ]
  },
  {
   "cell_type": "markdown",
   "metadata": {
    "slideshow": {
     "slide_type": "slide"
    }
   },
   "source": [
    "### Questions"
   ]
  },
  {
   "cell_type": "markdown",
   "metadata": {
    "slideshow": {
     "slide_type": "slide"
    }
   },
   "source": [
    "### PageRank as a Markov chain\n",
    "\n",
    "- A state is a web page\n",
    "- Transition probabilities represent probabilities of moving from one page to another\n",
    "- We derive these from the adjacency matrix of the web graph\n",
    "    - Adjacency matrix $M$ is a $n \\times n$ matrix, if $n$ is the number of states (web pages)\n",
    "    - $M_{ij} = 1$ if there is a hyperlink from page $i$ to page $j$. "
   ]
  },
  {
   "cell_type": "markdown",
   "metadata": {
    "slideshow": {
     "slide_type": "slide"
    }
   },
   "source": [
    "### PageRank: deriving transition matrix\n",
    "\n",
    "- If a state has no out-links, the random surfer teleports: \n",
    "    - the transition probability to each state from this state is $1/n$, if $n$ is the number of states\n",
    "- If a node has K > 0 outgoing links:\n",
    "    - with probability $0 \\leq \\alpha \\leq 1$ the surfer teleports to a random node\n",
    "        - probability is $\\alpha/n$\n",
    "    - with probability $(1-\\alpha)$ the surfer takes a normal random walk\n",
    "        - probability is $(1-\\alpha)/K$\n",
    "    "
   ]
  },
  {
   "cell_type": "markdown",
   "metadata": {
    "slideshow": {
     "slide_type": "slide"
    }
   },
   "source": [
    "### PageRank: deriving transition matrix\n",
    "\n",
    "- If a row has all 0's, replace each element by $1/n$\n",
    "- Else\n",
    "    - Normalize: divide each 1 by the number of 1's in the row\n",
    "    - Multiply the resulting matrix by $(1-\\alpha)$\n",
    "    - Add $\\alpha/n$ to every element in the resulting matrix to create the transition matrix $A$.  "
   ]
  },
  {
   "cell_type": "markdown",
   "metadata": {
    "slideshow": {
     "slide_type": "slide"
    }
   },
   "source": [
    "### PageRank: deriving transition matrix (example) \n",
    "\n",
    "- Adjacency matrix: $\n",
    "M = \n",
    "\\begin{bmatrix}\n",
    "0 & 1 & 0\\\\\n",
    "1 & 0 & 1\\\\\n",
    "0 & 1 & 0\\\\    \n",
    "\\end{bmatrix}\n",
    ", \\alpha = 0.0$ \n",
    "\n",
    "- Transition matrix: $\n",
    "A_{\\alpha=0} = \n",
    "\\begin{bmatrix}\n",
    "0 & 1 & 0\\\\\n",
    "0.5 & 0 & 0.5\\\\\n",
    "0 & 1 & 0\\\\    \n",
    "\\end{bmatrix}$\n",
    "\n"
   ]
  },
  {
   "cell_type": "markdown",
   "metadata": {
    "slideshow": {
     "slide_type": "slide"
    }
   },
   "source": [
    "### PageRank: deriving transition matrix (example) \n",
    "\n",
    "$\n",
    "M = \n",
    "\\begin{bmatrix}\n",
    "0 & 1 & 0\\\\\n",
    "1 & 0 & 1\\\\\n",
    "0 & 1 & 0\\\\    \n",
    "\\end{bmatrix}\n",
    ", n =3, \\alpha = 0.5$ \n",
    "\n",
    "Normalize: divide each 1 by the number of 1's in the row:  \n",
    "$\n",
    "\\begin{bmatrix}\n",
    "0 & 1 & 0\\\\\n",
    "1/2 & 0 & 1/2\\\\\n",
    "0 & 1 & 0\\\\    \n",
    "\\end{bmatrix}$\n"
   ]
  },
  {
   "cell_type": "markdown",
   "metadata": {
    "slideshow": {
     "slide_type": "slide"
    }
   },
   "source": [
    "### PageRank: deriving transition matrix (example) \n",
    "\n",
    "$\n",
    "M = \n",
    "\\begin{bmatrix}\n",
    "0 & 1 & 0\\\\\n",
    "1 & 0 & 1\\\\\n",
    "0 & 1 & 0\\\\    \n",
    "\\end{bmatrix}\n",
    ", n =3, \\alpha = 0.5$ \n",
    "\n",
    "- Normalized\n",
    "- Multiply the resulting matrix by $(1-\\alpha)$: $ (1-0.5)\n",
    "\\begin{bmatrix}\n",
    "0 & 1 & 0\\\\\n",
    "1/2 & 0 & 1/2\\\\\n",
    "0 & 1 & 0\\\\    \n",
    "\\end{bmatrix}$ \n",
    "$ =\n",
    "\\begin{bmatrix}\n",
    "0 & 1/2 & 0\\\\\n",
    "1/4 & 0 & 1/4\\\\\n",
    "0 & 1/2 & 0\\\\    \n",
    "\\end{bmatrix}$\n",
    "\n",
    "- Add $\\alpha/n$ to every element in the resulting matrix to create the transition matrix:\n",
    "$\n",
    "A_{\\alpha = 0.5} = \n",
    "\\begin{bmatrix}\n",
    "1/6 & 2/3 & 1/6\\\\\n",
    "5/12 & 1/6 & 5/12\\\\\n",
    "1/6 & 2/3 & 1/6\\\\    \n",
    "\\end{bmatrix}$"
   ]
  },
  {
   "cell_type": "markdown",
   "metadata": {
    "slideshow": {
     "slide_type": "slide"
    }
   },
   "source": [
    "### Questions"
   ]
  },
  {
   "cell_type": "markdown",
   "metadata": {
    "slideshow": {
     "slide_type": "slide"
    }
   },
   "source": [
    "### Calculate page rank\n",
    "\n",
    "- We have a transition matrix: $A_{\\alpha = 0.5} = \n",
    "\\begin{bmatrix}\n",
    "1/6 & 2/3 & 1/6\\\\\n",
    "5/12 & 1/6 & 5/12\\\\\n",
    "1/6 & 2/3 & 1/6\\\\    \n",
    "\\end{bmatrix}$\n",
    "- We want to find the stationary distribution\n",
    "    - Is it irreducible?\n",
    "    - Is it aperiodic? \n",
    "    "
   ]
  },
  {
   "cell_type": "markdown",
   "metadata": {
    "slideshow": {
     "slide_type": "slide"
    }
   },
   "source": [
    "### Calculate page rank: power iteration method\n",
    "\n",
    "- Start with a random initial probability distribution $\\pi$\n",
    "- Multiply $\\pi$ by powers of the transition matrix $A$ until the product looks stable \n",
    "    - After one step, we are at $\\pi A$\n",
    "    - After two steps, we are at $\\pi A^2$\n",
    "    - After three steps, we are at $\\pi A^3$\n",
    "    - Eventually (for a large $k$), $\\pi A^k = \\pi$ "
   ]
  },
  {
   "cell_type": "markdown",
   "metadata": {
    "slideshow": {
     "slide_type": "slide"
    }
   },
   "source": [
    "### How to do this in Python? \n",
    "\n",
    "- Use [networkx](https://networkx.github.io/documentation/networkx-1.9/index.html) package [google_matrix](https://networkx.github.io/documentation/networkx-1.9/reference/generated/networkx.algorithms.link_analysis.pagerank_alg.google_matrix.html) function. Warning: their definition of  𝛼  is opposite from ours."
   ]
  },
  {
   "cell_type": "code",
   "execution_count": 12,
   "metadata": {
    "slideshow": {
     "slide_type": "slide"
    }
   },
   "outputs": [
    {
     "data": {
      "image/png": "[encoded data removed]",
      "text/plain": [
       "<Figure size 432x288 with 1 Axes>"
      ]
     },
     "metadata": {},
     "output_type": "display_data"
    }
   ],
   "source": [
    "import networkx as nx\n",
    "G=nx.Graph()\n",
    "G.add_node('A')\n",
    "G.add_node('B')\n",
    "G.add_node('C')\n",
    "G.add_edge('A','B')\n",
    "G.add_edge('B','A')\n",
    "G.add_edge('B','C')\n",
    "G.add_edge('C','B')\n",
    "nx.draw(G, with_labels=True)\n",
    "plt.show()"
   ]
  },
  {
   "cell_type": "code",
   "execution_count": 16,
   "metadata": {
    "slideshow": {
     "slide_type": "slide"
    }
   },
   "outputs": [
    {
     "name": "stdout",
     "output_type": "stream",
     "text": [
      "[[0.  1.  0. ]\n",
      " [0.5 0.  0.5]\n",
      " [0.  1.  0. ]]\n"
     ]
    }
   ],
   "source": [
    "# Transition matrix for alpha = 0.0\n",
    "print(nx.google_matrix(G, nodelist=sorted(G.nodes()), alpha=1.0 - 0.0))"
   ]
  },
  {
   "cell_type": "code",
   "execution_count": 19,
   "metadata": {
    "slideshow": {
     "slide_type": "slide"
    }
   },
   "outputs": [
    {
     "name": "stdout",
     "output_type": "stream",
     "text": [
      "[[0.16666667 0.66666667 0.16666667]\n",
      " [0.41666667 0.16666667 0.41666667]\n",
      " [0.16666667 0.66666667 0.16666667]]\n"
     ]
    }
   ],
   "source": [
    "# Transition matrix for alpha = 0.5\n",
    "A = nx.google_matrix(G, nodelist=sorted(G.nodes()), alpha = 1.0 - 0.5)\n",
    "print(A)"
   ]
  },
  {
   "cell_type": "code",
   "execution_count": 22,
   "metadata": {
    "slideshow": {
     "slide_type": "skip"
    }
   },
   "outputs": [],
   "source": [
    "def print_pi_over_time(s0, T, steps=10):\n",
    "    prev = s0\n",
    "    print('Step 0', prev)\n",
    "    for i in range(steps):    \n",
    "        current = prev@T\n",
    "        print('Step ', i+1, current)\n",
    "        prev = current"
   ]
  },
  {
   "cell_type": "code",
   "execution_count": 27,
   "metadata": {
    "slideshow": {
     "slide_type": "slide"
    }
   },
   "outputs": [
    {
     "name": "stdout",
     "output_type": "stream",
     "text": [
      "Step 0 [0.4, 0.2, 0.2]\n",
      "Step  1 [[0.18333333 0.43333333 0.18333333]]\n",
      "Step  2 [[0.24166667 0.31666667 0.24166667]]\n",
      "Step  3 [[0.2125 0.375  0.2125]]\n",
      "Step  4 [[0.22708333 0.34583333 0.22708333]]\n",
      "Step  5 [[0.21979167 0.36041667 0.21979167]]\n",
      "Step  6 [[0.2234375 0.353125  0.2234375]]\n",
      "Step  7 [[0.22161458 0.35677083 0.22161458]]\n",
      "Step  8 [[0.22252604 0.35494792 0.22252604]]\n",
      "Step  9 [[0.22207031 0.35585937 0.22207031]]\n",
      "Step  10 [[0.22229818 0.35540365 0.22229818]]\n",
      "Step  11 [[0.22218424 0.35563151 0.22218424]]\n",
      "Step  12 [[0.22224121 0.35551758 0.22224121]]\n",
      "Step  13 [[0.22221273 0.35557454 0.22221273]]\n",
      "Step  14 [[0.22222697 0.35554606 0.22222697]]\n",
      "Step  15 [[0.22221985 0.3555603  0.22221985]]\n",
      "Step  16 [[0.22222341 0.35555318 0.22222341]]\n",
      "Step  17 [[0.22222163 0.35555674 0.22222163]]\n",
      "Step  18 [[0.22222252 0.35555496 0.22222252]]\n",
      "Step  19 [[0.22222207 0.35555585 0.22222207]]\n",
      "Step  20 [[0.2222223  0.35555541 0.2222223 ]]\n",
      "Step  21 [[0.22222219 0.35555563 0.22222219]]\n",
      "Step  22 [[0.22222224 0.35555552 0.22222224]]\n",
      "Step  23 [[0.22222221 0.35555557 0.22222221]]\n",
      "Step  24 [[0.22222223 0.35555555 0.22222223]]\n",
      "Step  25 [[0.22222222 0.35555556 0.22222222]]\n",
      "Step  26 [[0.22222222 0.35555555 0.22222222]]\n",
      "Step  27 [[0.22222222 0.35555556 0.22222222]]\n",
      "Step  28 [[0.22222222 0.35555555 0.22222222]]\n",
      "Step  29 [[0.22222222 0.35555556 0.22222222]]\n",
      "Step  30 [[0.22222222 0.35555556 0.22222222]]\n",
      "Step  31 [[0.22222222 0.35555556 0.22222222]]\n",
      "Step  32 [[0.22222222 0.35555556 0.22222222]]\n",
      "Step  33 [[0.22222222 0.35555556 0.22222222]]\n",
      "Step  34 [[0.22222222 0.35555556 0.22222222]]\n",
      "Step  35 [[0.22222222 0.35555556 0.22222222]]\n",
      "Step  36 [[0.22222222 0.35555556 0.22222222]]\n",
      "Step  37 [[0.22222222 0.35555556 0.22222222]]\n",
      "Step  38 [[0.22222222 0.35555556 0.22222222]]\n",
      "Step  39 [[0.22222222 0.35555556 0.22222222]]\n",
      "Step  40 [[0.22222222 0.35555556 0.22222222]]\n"
     ]
    }
   ],
   "source": [
    "# Random initialization of pi\n",
    "pi = [.4, 0.2, 0.2]\n",
    "# Power iteration method\n",
    "print_pi_over_time(pi, A, steps=40)"
   ]
  },
  {
   "cell_type": "markdown",
   "metadata": {
    "slideshow": {
     "slide_type": "slide"
    }
   },
   "source": [
    "### Modern ranking methods are more advanced:\n",
    "\n",
    "- Guarding against methods that exploit algorithm.\n",
    "- Removing offensive/illegal content.\n",
    "- Supervised and personalized ranking methods.\n",
    "- Take into account that you often only care about top rankings.\n",
    "- Also work on diversity of rankings:\n",
    "- E.g., divide objects into sub-topics and do weighted \"covering\" of topics.\n",
    "- Persistence/freshness as in recommender systems (news articles)."
   ]
  }
 ],
 "metadata": {
  "kernelspec": {
   "display_name": "Python [conda env:575]",
   "language": "python",
   "name": "conda-env-575-py"
  },
  "language_info": {
   "codemirror_mode": {
    "name": "ipython",
    "version": 3
   },
   "file_extension": ".py",
   "mimetype": "text/x-python",
   "name": "python",
   "nbconvert_exporter": "python",
   "pygments_lexer": "ipython3",
   "version": "3.10.2"
  }
 },
 "nbformat": 4,
 "nbformat_minor": 4
}
