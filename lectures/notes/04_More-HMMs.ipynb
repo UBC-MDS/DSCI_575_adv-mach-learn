{
 "cells": [
  {
   "cell_type": "markdown",
   "metadata": {},
   "source": [
    "![](../img/575_banner.png)"
   ]
  },
  {
   "cell_type": "markdown",
   "metadata": {
    "slideshow": {
     "slide_type": "slide"
    }
   },
   "source": [
    "# Lecture 4: More HMMs\n",
    "\n",
    "UBC Master of Data Science program, 2024-25"
   ]
  },
  {
   "cell_type": "markdown",
   "metadata": {},
   "source": [
    "## Imports, LO"
   ]
  },
  {
   "cell_type": "markdown",
   "metadata": {},
   "source": [
    "<br><br>"
   ]
  },
  {
   "cell_type": "markdown",
   "metadata": {
    "slideshow": {
     "slide_type": "skip"
    }
   },
   "source": [
    "### Imports "
   ]
  },
  {
   "cell_type": "code",
   "execution_count": 1,
   "metadata": {
    "slideshow": {
     "slide_type": "skip"
    }
   },
   "outputs": [],
   "source": [
    "import numpy as np\n",
    "import pandas as pd\n",
    "import os.path\n",
    "import string\n",
    "\n",
    "import matplotlib.pyplot as plt\n",
    "import numpy as np\n",
    "import pandas as pd\n",
    "\n",
    "import sys\n",
    "sys.path.append(os.path.join(os.path.abspath(\"..\"), \"code\"))\n",
    "from plotting_functions import *\n",
    "\n",
    "%matplotlib inline"
   ]
  },
  {
   "cell_type": "markdown",
   "metadata": {},
   "source": [
    "<br><br>"
   ]
  },
  {
   "cell_type": "markdown",
   "metadata": {
    "slideshow": {
     "slide_type": "skip"
    }
   },
   "source": [
    "## Learning outcomes\n",
    "\n",
    "From this lesson you will be able to\n",
    "\n",
    "- Describe the purpose and high-level idea of the Viterbi algorithm.\n",
    "- Identify and explain the three main steps of the Viterbi algorithm, and apply it to a given HMM and observation sequence.\n",
    "- Compute the values of $\\delta_i(t)$ and $\\psi_i(t)$ for a specific state $i$ at time step $t$.\n",
    "- Distinguish between discrete and continuous observation models in the context of HMMs.\n",
    "- Use the hmmlearn library to perform likelihood computation, sequence decoding, and unsupervised training of HMMs.\n",
    "- Provide a broad explanation of the concept and components of Markov Decision Processes (MDPs). "
   ]
  },
  {
   "cell_type": "markdown",
   "metadata": {},
   "source": [
    "<br><br><br><br>"
   ]
  },
  {
   "cell_type": "markdown",
   "metadata": {
    "slideshow": {
     "slide_type": "slide"
    }
   },
   "source": [
    "## Recap"
   ]
  },
  {
   "cell_type": "markdown",
   "metadata": {
    "slideshow": {
     "slide_type": "slide"
    }
   },
   "source": [
    "- Hidden Markov models (HMMs) model sequential data with latent factors.\n",
    "- There are tons of applications associated with them and they are more realistic than Markov models. \n",
    "\n",
    "![](../img/HMM_example_small.png)\n",
    "\n",
    "<!-- <img src=\"img/HMM_example.png\" height=\"500\" width=\"500\"> -->"
   ]
  },
  {
   "cell_type": "markdown",
   "metadata": {
    "slideshow": {
     "slide_type": "slide"
    }
   },
   "source": [
    "### HMM ingredients\n",
    "- Hidden states (e.g., Happy, Sad)\n",
    "  \n",
    "- Output alphabet or output symbols or observations (e.g., learn, study, cry, facebook)\n",
    "- Discrete initial state probability distribution\n",
    "- Transition probabilities\n",
    "- Emission probabilities    "
   ]
  },
  {
   "cell_type": "markdown",
   "metadata": {
    "slideshow": {
     "slide_type": "-"
    }
   },
   "source": [
    "The three fundamental questions for an HMM. \n",
    "\n",
    "- **Likelihood**\n",
    "Given a model with parameters $\\theta = <\\pi, A, B>$, how do we efficiently compute the likelihood of a particular observation sequence $O$?\n",
    "\n",
    "- **Decoding**\n",
    "Given an observation sequence $O$ and a model $\\theta$ how do we choose a state sequence $Q={q_0, q_1, \\dots q_T}$ that best explains the observation sequence?\n",
    "\n",
    "- **Learning**\n",
    "Training: Given a large observation sequence $O$ how do we choose the best parameters $\\theta$ that explain the data $O$? "
   ]
  },
  {
   "cell_type": "markdown",
   "metadata": {
    "slideshow": {
     "slide_type": "slide"
    }
   },
   "source": [
    "### Recap: The forward algorithm\n",
    "- The forward algorithm is a dynamic programming algorithm to efficiently estimate the probability of an observation sequence $P(O;\\theta)$ given an HMM.\n",
    "  \n",
    "- For each state $i$, we calculated $\\alpha_i(0), \\alpha_i(1), \\alpha_i(2), ...\\alpha_i(t)$, which represent the probabilities of being in state $i$ at times $t$ knowing all the observations which came before and at time $t$. \n",
    "- The trellis was computed left to right and top to bottom.\n",
    "- The forward algorithm stores the probabilities of all possible 1-state sequences (from the start), to store all possible 2-state sequences (from the start), to store all possible 3-state sequences (from the start) and so on. \n",
    "\n",
    "![](../img/hmm_alpha_values_small.png)\n",
    "\n",
    "- Sum over all possible final states:\n",
    "  * $P(O;\\theta) = \\sum\\limits_{i=1}^{n}\\alpha_i(T-1)$\n",
    "  * $P(E,L,F,C) = \\alpha_🙂(3) + \\alpha_😔(3) = 0.00023 + 0.00207 = 0.0023$ \n",
    "\n",
    "<!-- <center> -->\n",
    "<!-- <img src=\"img/hmm_alpha_values.png\" height=\"500\" width=\"500\">  -->\n",
    "<!-- </center> -->"
   ]
  },
  {
   "cell_type": "markdown",
   "metadata": {
    "slideshow": {
     "slide_type": "-"
    }
   },
   "source": [
    "Recall the three fundamental questions for an HMM. \n",
    "\n",
    "- **Likelihood**\n",
    "Given a model with parameters $\\theta = <\\pi, A, B>$, how do we efficiently compute the likelihood of a particular observation sequence $O$?\n",
    "\n",
    "- **Decoding**\n",
    "Given an observation sequence $O$ and a model $\\theta$ how do we choose a state sequence $Q={q_0, q_1, \\dots q_T}$ that best explains the observation sequence?\n",
    "\n",
    "- **Learning**\n",
    "Training: Given a large observation sequence $O$ how do we choose the best parameters $\\theta$ that explain the data $O$? "
   ]
  },
  {
   "cell_type": "markdown",
   "metadata": {
    "slideshow": {
     "slide_type": "skip"
    }
   },
   "source": [
    "<br><br><br><br>"
   ]
  },
  {
   "cell_type": "markdown",
   "metadata": {
    "slideshow": {
     "slide_type": "slide"
    }
   },
   "source": [
    "## 1. Decoding: The Viterbi algorithm"
   ]
  },
  {
   "cell_type": "markdown",
   "metadata": {},
   "source": [
    "### 1.1 Introduction"
   ]
  },
  {
   "cell_type": "markdown",
   "metadata": {
    "slideshow": {
     "slide_type": "slide"
    }
   },
   "source": [
    "- Given an observation sequence $O$ and a model $\\theta$ how do we choose a state sequence $Q={q_0, q_1, \\dots q_T}$ that best explains the observation sequence?\n",
    "  \n",
    "- Purpose: finding what's most likely going on under the hood. \n",
    "- For example: It tells us the most likely part-of-speech tags given an English sentence.\n",
    "\n",
    "<blockquote>\n",
    "Will/MD the/DT chair/NN chair/VB the/DT meeting/NN from/IN that/DT chair/NN?\n",
    "</blockquote>    "
   ]
  },
  {
   "cell_type": "markdown",
   "metadata": {
    "slideshow": {
     "slide_type": "skip"
    }
   },
   "source": [
    "More formally, \n",
    "\n",
    "- Given an HMM, choose the state sequence that maximizes the probability of the output sequence.\n",
    "  \n",
    " * $Q^* = \\arg \\max\\limits_Q P(O,Q;\\theta)$, \n",
    " * $P(O,Q;\\theta) = \\pi_{q_0}b_{q_0}(o_0) \\prod\\limits_{t=1}^{T}a_{q_{t-1}}a_{q_t}b_{q_t}(o_t)$\n",
    " \n",
    "![](../img/HMM_example_trellis.png)\n",
    "\n",
    "<!-- <center> -->\n",
    "<!-- <img src=\"img/HMM_example_trellis.png\" height=\"700\" width=\"700\">  -->\n",
    "<!-- </center> -->"
   ]
  },
  {
   "cell_type": "markdown",
   "metadata": {
    "slideshow": {
     "slide_type": "slide"
    }
   },
   "source": [
    "**Can we use the forward algorithm for decoding?**\n",
    "\n",
    "If we want to pick an optimal state sequence which maximizes the probability of the observation sequence, how about picking the state with maximum $\\alpha$ value at each time step? \n",
    "\n",
    "Remember that $\\alpha_i(t)$ is the total probability of seeing the first $t$ observations and ending up in state $i$ at time $t$, considering all possible paths that could have led there.\n",
    "\n",
    "\n",
    "![](../img/hmm_alpha_values_small.png)\n",
    "\n",
    "<!-- <center> -->\n",
    "<!-- <img src=\"img/hmm_alpha_values.png\" height=\"500\" width=\"500\">  -->\n",
    "<!-- </center> -->\n",
    "\n",
    "If we pick the most probable state at each time step based on the $\\alpha$ values, it might not end up as the best state sequence because it might be possible that the transition between two highly probable states in a sequence is very unlikely. \n",
    "\n",
    "We need something else. "
   ]
  },
  {
   "cell_type": "markdown",
   "metadata": {},
   "source": [
    "<br><br>"
   ]
  },
  {
   "cell_type": "markdown",
   "metadata": {
    "slideshow": {
     "slide_type": "slide"
    }
   },
   "source": [
    "**The Viterbi algorithm: Overview**\n",
    "\n",
    "- Dynamic programming algorithm.\n",
    "  \n",
    "- We use a different kind of trellis.\n",
    "  \n",
    "- Want: Given an HMM, choose the state sequence that maximizes the probability of the output sequence.  \n",
    " * $Q^* = \\arg \\max\\limits_Q P(O,Q;\\theta)$"
   ]
  },
  {
   "cell_type": "markdown",
   "metadata": {
    "slideshow": {
     "slide_type": "slide"
    }
   },
   "source": [
    "- We store $\\delta$ and $\\psi$ values at each node in the trellis\n",
    "\n",
    "- $\\delta_i(t)$ represents the probability of the **single most probable path** that produces the first $t$ observations and ends in state $i$ at time $t$. \n",
    "- $\\psi_i(t)$ represents the best possible previous state if I am in state $i$ at time $t$. \n",
    "\n",
    "![](../img/HMM_example_trellis.png)\n",
    "\n",
    "<!-- <center> -->\n",
    "<!-- <img src=\"img/HMM_example_trellis.png\" height=\"700\" width=\"700\">  -->\n",
    "<!-- </center> -->"
   ]
  },
  {
   "cell_type": "markdown",
   "metadata": {},
   "source": [
    "Let's go through the algorithm step by step. "
   ]
  },
  {
   "cell_type": "markdown",
   "metadata": {},
   "source": [
    "<br><br>"
   ]
  },
  {
   "cell_type": "markdown",
   "metadata": {
    "slideshow": {
     "slide_type": "slide"
    }
   },
   "source": [
    "### 1.2 Viterbi: Initialization\n",
    "- Initialize with $\\delta_i(0) = \\pi_i b_i(o_0)$ for all states\n",
    "    - $\\delta_🙂(0) = \\pi_🙂 b_🙂(E) = 0.8 \\times 0.2 = 0.16$\n",
    "    - $\\delta_😔(0) = \\pi_😔 b_😔(E) = 0.2 \\times 0.1 = 0.02$\n",
    "    \n",
    "- Initialize with $\\psi_i(0) = 0 $, for all states   \n",
    "    - $\\psi_🙂(0) = 0, \\psi_😔(0) = 0$\n",
    "\n",
    "![](../img/HMM_example_trellis.png)\n",
    "<!-- <center> -->\n",
    "<!-- <img src=\"img/HMM_example_trellis.png\" height=\"700\" width=\"700\">  -->\n",
    "<!-- </center>     -->"
   ]
  },
  {
   "cell_type": "markdown",
   "metadata": {},
   "source": [
    "<br><br>"
   ]
  },
  {
   "cell_type": "markdown",
   "metadata": {
    "slideshow": {
     "slide_type": "slide"
    }
   },
   "source": [
    "### 1.3 Viterbi: Induction\n",
    "\n",
    "The best path $\\delta_t$ to state $j$ at time $t$ depends on the best path to each\n",
    "possible previous state $\\delta_i(t-1)$ and their transitions to $j$ ($a_{ij}$). \n",
    "\n",
    "- $\\delta_j(t) = \\max\\limits_i \\{\\delta_i(t-1)a_{ij}\\} b_j(o_t)$\n",
    "- $\\psi_j(t) = \\arg \\max\\limits_i \\{\\delta_i(t-1)a_{ij}\\} $\n",
    "\n",
    "![](../img/HMM_example_trellis.png)"
   ]
  },
  {
   "cell_type": "markdown",
   "metadata": {
    "slideshow": {
     "slide_type": "slide"
    }
   },
   "source": [
    "\n",
    "![](../img/viterbi_explanation_small.png)\n",
    "\n",
    "<!-- <center> -->\n",
    "<!-- <img src=\"img/viterbi_explanation.png\" height=\"150\" width=\"150\">  -->\n",
    "<!-- </center> -->\n",
    "\n",
    "- There are two possible paths to state 🙂 at $T = 1$. Which is the best one? \n",
    "- $\\delta_🙂(1) = \\max \\begin{Bmatrix} \\delta_🙂(0) \\times a_{🙂🙂},\\\\ \\delta_😔(0) \\times a_{😔🙂}\\end{Bmatrix}  \\times b_🙂(L)$\n",
    "- First take the max between $\\delta_🙂(0) \\times a_{🙂🙂}$ and $\\delta_😔(0) \\times a_{😔🙂}$ and then multiply the max by $b_🙂(L)$.   \n",
    "    \n",
    "- $\\psi_🙂(1)$ = the state at $T=0$ from where the path to 🙂 at $T=1$ was the best one.     \n",
    "\n",
    "- **Note that we use parentheses to show two quantities for taking the max. (Not the best notation but I have seen it being used in this context.)**"
   ]
  },
  {
   "cell_type": "markdown",
   "metadata": {},
   "source": [
    "<br><br>"
   ]
  },
  {
   "cell_type": "markdown",
   "metadata": {
    "slideshow": {
     "slide_type": "skip"
    }
   },
   "source": [
    "**Viterbi: Induction (T = 1)**\n",
    "\n",
    "$\\delta$ and $\\psi$ at state 🙂 and T = 1\n",
    "- $\\delta_{🙂}(1) = \\max\\limits_i \\{\\delta_i(0)a_{ij}\\} b_j(o_t) = \n",
    "\\max \\begin{Bmatrix} 0.16 \\times 0.7, \\\\ 0.02 \\times 0.4\\end{Bmatrix} \\times 0.7 = 0.0784$\n",
    "- $\\psi_{🙂}(1) = \\arg \\max\\limits_i \\{\\delta_i(0)a_{ij}\\} = 🙂$\n",
    "\n",
    "$\\delta$ and $\\psi$ at state 😔 and T = 1\n",
    "- $\\delta_{😔}(1) = \\max\\limits_i \\{\\delta_i(0)a_{ij}\\} b_j(o_t) =  \\max \\begin{Bmatrix} 0.16 \\times 0.3, \\\\ 0.02 \\times 0.6\\end{Bmatrix} \\times 0.1 = 0.0048$\n",
    "- $\\psi_{😔}(1) = \\arg \\max\\limits_i \\{\\delta_i(0)a_{ij}\\} = 🙂$\n",
    "\n",
    "![](../img/HMM_example_trellis.png)\n",
    "\n",
    "<!-- <center> -->\n",
    "<!-- <img src=\"img/HMM_example_trellis.png\" height=\"800\" width=\"800\">  -->\n",
    "<!-- </center>     -->"
   ]
  },
  {
   "cell_type": "markdown",
   "metadata": {
    "slideshow": {
     "slide_type": "slide"
    }
   },
   "source": [
    "**Viterbi: Induction (T = 1)**\n",
    "\n",
    "$\\delta$ and $\\psi$ at state 🙂 and T = 1\n",
    "- $\\delta_{🙂}(1) = \\max \\begin{Bmatrix} \\delta_🙂(0) \\times a_{🙂🙂}, \\\\ \\delta_😔(0) \\times a_{😔🙂}\\end{Bmatrix}  \\times b_🙂(L) = \n",
    "\\max \\begin{Bmatrix} 0.16 \\times 0.7, \\\\ 0.02 \\times 0.4\\end{Bmatrix} \\times 0.7 = 0.0784$\n",
    "- $\\psi_{🙂}(1)  = 🙂$\n",
    "\n",
    "![](../img/HMM_example_trellis.png)\n",
    "\n",
    "<!-- <center> -->\n",
    "<!-- <img src=\"img/HMM_example_trellis.png\" height=\"800\" width=\"800\">  -->\n",
    "<!-- </center>     -->"
   ]
  },
  {
   "cell_type": "markdown",
   "metadata": {
    "slideshow": {
     "slide_type": "slide"
    }
   },
   "source": [
    "**Viterbi: Induction (T = 1)**\n",
    "\n",
    "$\\delta$ and $\\psi$ at state 😔 and T = 1\n",
    "- $\\delta_{😔}(1) = \\max\\limits_i \\{\\delta_i(0)a_{ij}\\} b_j(o_t) =  \\max \\begin{Bmatrix} 0.16 \\times 0.3 ,\\\\ 0.02 \\times 0.6\\end{Bmatrix} \\times 0.1 = 0.0048$\n",
    "- $\\psi_{😔}(1) = \\arg \\max\\limits_i \\{\\delta_i(0)a_{ij}\\} = 🙂$\n",
    "\n",
    "![](../img/HMM_example_trellis.png)\n",
    "\n",
    "<!-- <center> -->\n",
    "<!-- <img src=\"img/HMM_example_trellis.png\" height=\"800\" width=\"800\">  -->\n",
    "<!-- </center>     -->"
   ]
  },
  {
   "cell_type": "markdown",
   "metadata": {
    "slideshow": {
     "slide_type": "slide"
    }
   },
   "source": [
    "**Viterbi: Induction (T = 2)**\n",
    "\n",
    "- $\\delta$ and $\\psi$ at state 🙂 and T = 2\n",
    "    - $\\delta_{🙂}(2) = \\max\\limits_i \\{\\delta_i(1)a_{ij}\\} b_j(o_t) =  \\max \\begin{Bmatrix} 0.784 \\times 0.7, \\\\ 0.0048 \\times 0.4 \\end{Bmatrix}\\times 0 = 0\n",
    "$\n",
    "    - $\\psi_{🙂}(2) = \\arg \\max\\limits_i \\{\\delta_i(1)a_{ij}\\} = 🙂$\n",
    "\n",
    "- $\\delta$ and $\\psi$ at state 😔 and T = 2\n",
    "    - $\\delta_{😔}(2) = \\max\\limits_i \\{\\delta_i(1)a_{ij}\\} b_j(o_t) =  \\max \\begin{Bmatrix} 0.784 \\times 0.3, \\\\ 0.0048 \\times 0.6 \\end{Bmatrix}\\times 0.2 = 4.704 \\times 10^{-3}$\n",
    "    - $\\psi_{😔}(2) = \\arg \\max\\limits_i \\{\\delta_i(1)a_{ij}\\} = 🙂$\n",
    "\n",
    "<br>"
   ]
  },
  {
   "cell_type": "markdown",
   "metadata": {
    "jp-MarkdownHeadingCollapsed": true,
    "slideshow": {
     "slide_type": "slide"
    },
    "tags": []
   },
   "source": [
    "**Viterbi: Induction (T = 3)**\n",
    "\n",
    "- $\\delta$ and $\\psi$ at state 🙂 and T = 3\n",
    "    - $\\delta_{🙂}(3) = \\max\\limits_i \\{\\delta_i(2)a_{ij}\\} b_j(o_t) = \\max \\begin{Bmatrix} 0 \\times 0.7, \\\\ 4.704 \\times 10^{-3} \\times 0.4 \\end{Bmatrix} \\times 0.1 = 1.88\\times10^{-4}\n",
    "$\n",
    "    - $\\psi_{🙂}(3) = \\arg \\max\\limits_i \\{\\delta_i(2)a_{ij}\\} = 😔$\n",
    "\n",
    "- $\\delta$ and $\\psi$ at state 😔 and T = 3\n",
    "    - $\\delta_{😔}(3) = \\max\\limits_i \\{\\delta_i(2)a_{ij}\\} b_j(o_t) = \\max \\begin{Bmatrix} 0 \\times 0.3, \\\\ 4.704 \\times 10^{-3} \\times 0.6 \\end{Bmatrix} \\times 0.6 = 1.69 \\times 10^{-3}$\n",
    "    - $\\psi_{😔}(3) = \\arg \\max\\limits_i \\{\\delta_i(2)a_{ij}\\} = 😔$"
   ]
  },
  {
   "cell_type": "markdown",
   "metadata": {
    "slideshow": {
     "slide_type": "slide"
    }
   },
   "source": [
    "### 1.4 Viterbi conclusion\n",
    "- Choose the best final state: $q_t^* = \\arg \\max\\limits_i \\delta_i(t)$\n",
    "- Recursively choose the best previous state: $q_{t-1}^* = \\psi_{q_t^*}(t)$\n",
    "    - The most likely state sequence for the observation sequence ELFC is 🙂🙂😔😔.\n",
    "- The probability of the state sequence is the probability of $q_t^*$\n",
    "    - $P(🙂🙂😔😔) = 1.69 \\times 10^{-3}$    \n",
    "    \n",
    "![](../img/HMM_viterbi_conclusion_small.png)\n",
    "\n",
    "<!-- <img src=\"img/HMM_viterbi_conclusion.png\" height=\"600\" width=\"600\">  -->"
   ]
  },
  {
   "cell_type": "markdown",
   "metadata": {},
   "source": [
    "<br><br>"
   ]
  },
  {
   "cell_type": "markdown",
   "metadata": {
    "slideshow": {
     "slide_type": "slide"
    }
   },
   "source": [
    "### 1.5 Viterbi with [ `hmmlearn`](https://hmmlearn.readthedocs.io) on our toy HMM\n",
    "\n",
    "![](../img/HMM_example_small.png)\n",
    "\n",
    "<!-- <center> -->\n",
    "<!-- <img src=\"img/HMM_example.png\" height=\"500\" width=\"500\">  -->\n",
    "<!-- </center>     -->"
   ]
  },
  {
   "cell_type": "markdown",
   "metadata": {
    "slideshow": {
     "slide_type": "skip"
    }
   },
   "source": [
    "Let's get the optimal state sequence using Viterbi in our toy example.  \n",
    "- We assume that we already have the model, i.e., transition probabilities, emission probabilities, and initial state probabilities. \n",
    "- Our goal is to efficiently find the best state sequence for the given observation sequence. "
   ]
  },
  {
   "cell_type": "code",
   "execution_count": 2,
   "metadata": {
    "slideshow": {
     "slide_type": "skip"
    }
   },
   "outputs": [],
   "source": [
    "import numpy as np\n",
    "import pandas as pd\n",
    "from hmmlearn import hmm\n",
    "\n",
    "# Initializing an HMM\n",
    "states = [\"Happy\", \"Sad\"]\n",
    "n_states = len(states)\n",
    "\n",
    "observations = [\"Learn\", \"Eat\", \"Cry\", \"Facebook\"]\n",
    "n_observations = len(observations)\n",
    "\n",
    "# Since we've discrete observations, we'll use `CategoricalHMM`\n",
    "model = hmm.CategoricalHMM(n_components=n_states)\n",
    "\n",
    "# Set the initial state probabilities\n",
    "model.startprob_ = np.array([0.8, 0.2])\n",
    "\n",
    "# Set the transition matrix\n",
    "model.transmat_ = np.array([[0.7, 0.3], [0.4, 0.6]])\n",
    "\n",
    "# Set the emission probabilities of shape (n_components, n_symbols)\n",
    "model.emissionprob_ = np.array([[0.7, 0.2, 0.1, 0.0], [0.1, 0.1, 0.6, 0.2]])"
   ]
  },
  {
   "cell_type": "code",
   "execution_count": 3,
   "metadata": {
    "slideshow": {
     "slide_type": "skip"
    }
   },
   "outputs": [],
   "source": [
    "def get_state_seq(model, observation_seq, states=states, symbols=observations):\n",
    "    logprob, state_seq = model.decode(observation_seq, algorithm=\"viterbi\")\n",
    "    o_seq = map(lambda x: symbols[x], observation_seq.T[0])\n",
    "    s_seq = map(lambda x: states[x], state_seq)\n",
    "    print(\"log probability of state sequence: \", logprob)\n",
    "    return pd.DataFrame(data=s_seq, index=o_seq, columns=[\"state sequence\"])"
   ]
  },
  {
   "cell_type": "code",
   "execution_count": 4,
   "metadata": {
    "slideshow": {
     "slide_type": "skip"
    }
   },
   "outputs": [
    {
     "name": "stdout",
     "output_type": "stream",
     "text": [
      "log probability of state sequence:  -6.3809933159177925\n"
     ]
    },
    {
     "data": {
      "text/html": [
       "<div>\n",
       "<style scoped>\n",
       "    .dataframe tbody tr th:only-of-type {\n",
       "        vertical-align: middle;\n",
       "    }\n",
       "\n",
       "    .dataframe tbody tr th {\n",
       "        vertical-align: top;\n",
       "    }\n",
       "\n",
       "    .dataframe thead th {\n",
       "        text-align: right;\n",
       "    }\n",
       "</style>\n",
       "<table border=\"1\" class=\"dataframe\">\n",
       "  <thead>\n",
       "    <tr style=\"text-align: right;\">\n",
       "      <th></th>\n",
       "      <th>state sequence</th>\n",
       "    </tr>\n",
       "  </thead>\n",
       "  <tbody>\n",
       "    <tr>\n",
       "      <th>Eat</th>\n",
       "      <td>Happy</td>\n",
       "    </tr>\n",
       "    <tr>\n",
       "      <th>Learn</th>\n",
       "      <td>Happy</td>\n",
       "    </tr>\n",
       "    <tr>\n",
       "      <th>Facebook</th>\n",
       "      <td>Sad</td>\n",
       "    </tr>\n",
       "    <tr>\n",
       "      <th>Cry</th>\n",
       "      <td>Sad</td>\n",
       "    </tr>\n",
       "  </tbody>\n",
       "</table>\n",
       "</div>"
      ],
      "text/plain": [
       "         state sequence\n",
       "Eat               Happy\n",
       "Learn             Happy\n",
       "Facebook            Sad\n",
       "Cry                 Sad"
      ]
     },
     "execution_count": 4,
     "metadata": {},
     "output_type": "execute_result"
    }
   ],
   "source": [
    "# Decoding example\n",
    "toy_seq = np.array([[1], [0], [3], [2]])\n",
    "get_state_seq(model, toy_seq)"
   ]
  },
  {
   "cell_type": "markdown",
   "metadata": {
    "slideshow": {
     "slide_type": "slide"
    }
   },
   "source": [
    "- This is how you find the best state sequence that explains the observation sequence using the Viterbi algorithm!\n",
    "  \n",
    "- Much faster than the brute force approach of considering all possible state combinations, calculating probabilities for each of them and taking the one resulting in maximum probability. "
   ]
  },
  {
   "cell_type": "markdown",
   "metadata": {
    "slideshow": {
     "slide_type": "slide"
    }
   },
   "source": [
    "<br><br><br><br>"
   ]
  },
  {
   "cell_type": "markdown",
   "metadata": {
    "slideshow": {
     "slide_type": "slide"
    }
   },
   "source": [
    "## ❓❓ Questions for you"
   ]
  },
  {
   "cell_type": "markdown",
   "metadata": {},
   "source": [
    "### Exercise 4.1: Select all of the following statements which are **True** (iClicker)\n",
    "\n",
    "- (A) In Viterbi, $\\delta_i(t)$ is the probability of the best path (i.e., the path with highest probability) which accounts for the first $t$ observations and ending at state $i$.\n",
    "  \n",
    "- (B) In Viterbi, suppose at $t-1$, state $i$ has the highest $\\delta_i(t-1)$ among all states. Then at time step $t$, the path from $i$ at $t-1$ is going to give us the highest $\\delta_j(t)$ for all states $j$ at time $t$.\n",
    "- (C) In Viterbi, the $\\psi_j(t)$ keeps track of the state from the previous time step which results in highest $\\delta_i(t-1)a_{ij}$ so that we can keep track of where we came from and we can recreate the path. "
   ]
  },
  {
   "cell_type": "markdown",
   "metadata": {},
   "source": [
    "```{admonition} Exercise 4.1: V's Solutions!\n",
    ":class: tip, dropdown\n",
    "\n",
    "- (A) True\n",
    "- (B) False. This will also depend upon the transition probabilities between states.\n",
    "- (C) True\n",
    "```"
   ]
  },
  {
   "cell_type": "markdown",
   "metadata": {
    "slideshow": {
     "slide_type": "slide"
    }
   },
   "source": [
    "<br><br><br><br>"
   ]
  },
  {
   "cell_type": "markdown",
   "metadata": {},
   "source": [
    "## 3. Training of HMMs \n",
    "\n",
    "Given a large observation sequence (or a set of observation sequences) $O$ for training, but **not** the state sequence, how do we choose the \"best\" parameters $\\theta$ that explain the data $O$? \n",
    "\n",
    "We want our parameters $\\theta$ to be set so that the available training data is maximally likely. "
   ]
  },
  {
   "cell_type": "markdown",
   "metadata": {},
   "source": [
    "**Can we use MLE?**\n",
    "\n",
    "- If the training data contained state sequences, we could simply do maximum likelihood estimation, as we did in the last lecture, to get transition probabilities and the emission probabilities.\n",
    "  \n",
    "- But when we are only given observations, we **cannot** count the following: \n",
    "    -  How often we move from $q_{i-1}$ to $q_i$ normalized by how often we move from $q_{i-1}$ to anything: \n",
    "      $p(q_i|q_{i-1}) = \\frac{Count(q_{i-1} q_i)}{Count(q_{i-1} \\text{ANY STATE })}$\n",
    "    - What's the proportion of $q_i$ emitting the observation $o_i$ .   \n",
    "      $p(o_i|q_{i}) = \\frac{Count(o_i \\text{ and } q_i)}{Count(q_{i})}$\n",
    "\n",
    "- In many cases, the mapping between hidden states and observations is unknown and so we can't use MLE.      \n",
    "- How to deal with the incomplete data?\n",
    "    - Use an iterative unsupervised approach (expectation-maximization)\n",
    "    - We won't go into the details. If you are interested in knowing more, checkout [AppendixA](AppendixA-BaumWelch.ipynb). "
   ]
  },
  {
   "cell_type": "markdown",
   "metadata": {},
   "source": [
    "<br><br>"
   ]
  },
  {
   "cell_type": "markdown",
   "metadata": {},
   "source": [
    "**Using HMMs with `hmmlearn`**"
   ]
  },
  {
   "cell_type": "markdown",
   "metadata": {
    "slideshow": {
     "slide_type": "slide"
    }
   },
   "source": [
    "Let's try out HMM decoding and learning with `hmmlearn`. "
   ]
  },
  {
   "cell_type": "code",
   "execution_count": 5,
   "metadata": {},
   "outputs": [
    {
     "data": {
      "text/plain": [
       "(3878, 1)"
      ]
     },
     "execution_count": 5,
     "metadata": {},
     "output_type": "execute_result"
    }
   ],
   "source": [
    "import numpy as np\n",
    "import pandas as pd\n",
    "import random\n",
    "from hmmlearn import hmm\n",
    "import matplotlib.pyplot as plt\n",
    "\n",
    "# Set random seeds for reproducibility\n",
    "np.random.seed(42)\n",
    "random.seed(42)\n",
    "\n",
    "# Define states and observations\n",
    "states = [\"Happy\", \"Sad\"]\n",
    "observations = [\"Learn\", \"Eat\", \"Cry\", \"Facebook\"]\n",
    "state_map = {i: s for i, s in enumerate(states)}\n",
    "obs_map = {i: o for i, o in enumerate(observations)}\n",
    "\n",
    "# Define HMM parameters\n",
    "true_model = hmm.CategoricalHMM(n_components=2, random_state=42)\n",
    "true_model.startprob_ = np.array([0.8, 0.2])\n",
    "true_model.transmat_ = np.array([[0.7, 0.3],\n",
    "                                 [0.4, 0.6]])\n",
    "true_model.emissionprob_ = np.array([[0.7, 0.2, 0.1, 0.0],\n",
    "                                     [0.1, 0.1, 0.6, 0.2]])\n",
    "\n",
    "# Generate sequences\n",
    "n_sequences = 50\n",
    "lengths = [random.randint(60, 100) for _ in range(n_sequences)]\n",
    "total_length = sum(lengths)\n",
    "X, Z = true_model.sample(total_length)\n",
    "X = X.reshape(-1, 1)\n",
    "X.shape"
   ]
  },
  {
   "cell_type": "markdown",
   "metadata": {},
   "source": [
    "Let's train an unsupervised HMM on these sampled sequences. "
   ]
  },
  {
   "cell_type": "code",
   "execution_count": 6,
   "metadata": {},
   "outputs": [],
   "source": [
    "# Fit multiple unsupervised models and pick best\n",
    "best_score = -np.inf\n",
    "best_model = None\n",
    "\n",
    "for seed in range(10):\n",
    "    model = hmm.CategoricalHMM(n_components=2, n_iter=100, random_state=seed)\n",
    "    model.fit(X, lengths) # Pass X and seqlens \n",
    "    score = model.score(X, lengths)\n",
    "    if score > best_score:\n",
    "        best_model = model\n",
    "        best_score = score"
   ]
  },
  {
   "cell_type": "code",
   "execution_count": 7,
   "metadata": {},
   "outputs": [
    {
     "name": "stdout",
     "output_type": "stream",
     "text": [
      "Nodes:\n",
      "['s0', 's1']\n",
      "\n"
     ]
    },
    {
     "name": "stderr",
     "output_type": "stream",
     "text": [
      "/Users/kvarada/miniforge3/envs/575/lib/python3.12/site-packages/pygraphviz/agraph.py:1403: RuntimeWarning:\n",
      "\n",
      "Warning: Could not load \"/Users/kvarada/miniforge3/envs/575/lib/graphviz/libgvplugin_pango.6.dylib\" - It was found, so perhaps one of its dependents was not.  Try ldd.\n",
      "\n",
      "\n",
      "Warning: Could not load \"/Users/kvarada/miniforge3/envs/575/lib/graphviz/libgvplugin_pango.6.dylib\" - It was found, so perhaps one of its dependents was not.  Try ldd.\n"
     ]
    },
    {
     "data": {
      "image/svg+xml": [
       "<?xml version=\"1.0\" encoding=\"UTF-8\" standalone=\"no\"?>\n",
       "<!DOCTYPE svg PUBLIC \"-//W3C//DTD SVG 1.1//EN\"\n",
       " \"http://www.w3.org/Graphics/SVG/1.1/DTD/svg11.dtd\">\n",
       "<!-- Generated by graphviz version 2.50.0 (0)\n",
       " -->\n",
       "<!-- Pages: 1 -->\n",
       "<svg width=\"112pt\" height=\"133pt\"\n",
       " viewBox=\"0.00 0.00 111.73 132.80\" xmlns=\"http://www.w3.org/2000/svg\" xmlns:xlink=\"http://www.w3.org/1999/xlink\">\n",
       "<g id=\"graph0\" class=\"graph\" transform=\"scale(1 1) rotate(0) translate(4 128.8)\">\n",
       "<polygon fill=\"white\" stroke=\"transparent\" points=\"-4,4 -4,-128.8 107.73,-128.8 107.73,4 -4,4\"/>\n",
       "<!-- s0 -->\n",
       "<g id=\"node1\" class=\"node\">\n",
       "<title>s0</title>\n",
       "<ellipse fill=\"none\" stroke=\"black\" cx=\"27.23\" cy=\"-106.8\" rx=\"27\" ry=\"18\"/>\n",
       "<text text-anchor=\"middle\" x=\"27.23\" y=\"-102.6\" font-family=\"Times,serif\" font-size=\"14.00\">s0</text>\n",
       "</g>\n",
       "<!-- s0&#45;&gt;s0 -->\n",
       "<g id=\"edge1\" class=\"edge\">\n",
       "<title>s0&#45;&gt;s0</title>\n",
       "<path fill=\"none\" stroke=\"black\" d=\"M51.77,-114.92C62.74,-115.69 72.23,-112.99 72.23,-106.8 72.23,-102.64 67.95,-100.06 61.81,-99.04\"/>\n",
       "<polygon fill=\"black\" stroke=\"black\" points=\"61.89,-95.54 51.77,-98.68 61.63,-102.54 61.89,-95.54\"/>\n",
       "<text text-anchor=\"middle\" x=\"87.98\" y=\"-102.6\" font-family=\"Times,serif\" font-size=\"14.00\">0.676</text>\n",
       "</g>\n",
       "<!-- s1 -->\n",
       "<g id=\"node2\" class=\"node\">\n",
       "<title>s1</title>\n",
       "<ellipse fill=\"none\" stroke=\"black\" cx=\"27.23\" cy=\"-18\" rx=\"27\" ry=\"18\"/>\n",
       "<text text-anchor=\"middle\" x=\"27.23\" y=\"-13.8\" font-family=\"Times,serif\" font-size=\"14.00\">s1</text>\n",
       "</g>\n",
       "<!-- s0&#45;&gt;s1 -->\n",
       "<g id=\"edge2\" class=\"edge\">\n",
       "<title>s0&#45;&gt;s1</title>\n",
       "<path fill=\"none\" stroke=\"black\" d=\"M13.5,-91.3C8.82,-85.4 4.16,-78.23 1.73,-70.8 -0.58,-63.7 -0.58,-61.1 1.73,-54 3.1,-49.82 5.17,-45.72 7.55,-41.89\"/>\n",
       "<polygon fill=\"black\" stroke=\"black\" points=\"10.57,-43.68 13.5,-33.5 4.86,-39.63 10.57,-43.68\"/>\n",
       "<text text-anchor=\"middle\" x=\"17.98\" y=\"-58.2\" font-family=\"Times,serif\" font-size=\"14.00\">0.324</text>\n",
       "</g>\n",
       "<!-- s1&#45;&gt;s0 -->\n",
       "<g id=\"edge3\" class=\"edge\">\n",
       "<title>s1&#45;&gt;s0</title>\n",
       "<path fill=\"none\" stroke=\"black\" d=\"M30.75,-36.02C31.76,-41.71 32.73,-48.1 33.23,-54 33.87,-61.44 33.87,-63.36 33.23,-70.8 33.01,-73.38 32.71,-76.06 32.34,-78.73\"/>\n",
       "<polygon fill=\"black\" stroke=\"black\" points=\"28.86,-78.36 30.75,-88.78 35.77,-79.46 28.86,-78.36\"/>\n",
       "<text text-anchor=\"middle\" x=\"48.98\" y=\"-58.2\" font-family=\"Times,serif\" font-size=\"14.00\">0.324</text>\n",
       "</g>\n",
       "<!-- s1&#45;&gt;s1 -->\n",
       "<g id=\"edge4\" class=\"edge\">\n",
       "<title>s1&#45;&gt;s1</title>\n",
       "<path fill=\"none\" stroke=\"black\" d=\"M51.77,-26.12C62.74,-26.89 72.23,-24.19 72.23,-18 72.23,-13.84 67.95,-11.26 61.81,-10.24\"/>\n",
       "<polygon fill=\"black\" stroke=\"black\" points=\"61.89,-6.74 51.77,-9.88 61.63,-13.74 61.89,-6.74\"/>\n",
       "<text text-anchor=\"middle\" x=\"87.98\" y=\"-13.8\" font-family=\"Times,serif\" font-size=\"14.00\">0.676</text>\n",
       "</g>\n",
       "</g>\n",
       "</svg>\n"
      ],
      "text/plain": [
       "<graphviz.sources.Source at 0x157fc7800>"
      ]
     },
     "execution_count": 7,
     "metadata": {},
     "output_type": "execute_result"
    }
   ],
   "source": [
    "visualize_hmm(best_model)"
   ]
  },
  {
   "cell_type": "code",
   "execution_count": 8,
   "metadata": {},
   "outputs": [
    {
     "name": "stdout",
     "output_type": "stream",
     "text": [
      "Start Probabilities\n"
     ]
    },
    {
     "data": {
      "text/html": [
       "<div>\n",
       "<style scoped>\n",
       "    .dataframe tbody tr th:only-of-type {\n",
       "        vertical-align: middle;\n",
       "    }\n",
       "\n",
       "    .dataframe tbody tr th {\n",
       "        vertical-align: top;\n",
       "    }\n",
       "\n",
       "    .dataframe thead th {\n",
       "        text-align: right;\n",
       "    }\n",
       "</style>\n",
       "<table border=\"1\" class=\"dataframe\">\n",
       "  <thead>\n",
       "    <tr style=\"text-align: right;\">\n",
       "      <th></th>\n",
       "      <th>True</th>\n",
       "      <th>Learned</th>\n",
       "    </tr>\n",
       "  </thead>\n",
       "  <tbody>\n",
       "    <tr>\n",
       "      <th>Happy</th>\n",
       "      <td>0.8</td>\n",
       "      <td>0.613061</td>\n",
       "    </tr>\n",
       "    <tr>\n",
       "      <th>Sad</th>\n",
       "      <td>0.2</td>\n",
       "      <td>0.386939</td>\n",
       "    </tr>\n",
       "  </tbody>\n",
       "</table>\n",
       "</div>"
      ],
      "text/plain": [
       "       True   Learned\n",
       "Happy   0.8  0.613061\n",
       "Sad     0.2  0.386939"
      ]
     },
     "metadata": {},
     "output_type": "display_data"
    },
    {
     "name": "stdout",
     "output_type": "stream",
     "text": [
      "\n",
      "\n",
      "\n",
      "🔹 TRUE trasition matrix\n"
     ]
    },
    {
     "data": {
      "text/html": [
       "<div>\n",
       "<style scoped>\n",
       "    .dataframe tbody tr th:only-of-type {\n",
       "        vertical-align: middle;\n",
       "    }\n",
       "\n",
       "    .dataframe tbody tr th {\n",
       "        vertical-align: top;\n",
       "    }\n",
       "\n",
       "    .dataframe thead th {\n",
       "        text-align: right;\n",
       "    }\n",
       "</style>\n",
       "<table border=\"1\" class=\"dataframe\">\n",
       "  <thead>\n",
       "    <tr style=\"text-align: right;\">\n",
       "      <th></th>\n",
       "      <th>Happy</th>\n",
       "      <th>Sad</th>\n",
       "    </tr>\n",
       "  </thead>\n",
       "  <tbody>\n",
       "    <tr>\n",
       "      <th>Happy</th>\n",
       "      <td>0.7</td>\n",
       "      <td>0.3</td>\n",
       "    </tr>\n",
       "    <tr>\n",
       "      <th>Sad</th>\n",
       "      <td>0.4</td>\n",
       "      <td>0.6</td>\n",
       "    </tr>\n",
       "  </tbody>\n",
       "</table>\n",
       "</div>"
      ],
      "text/plain": [
       "       Happy  Sad\n",
       "Happy    0.7  0.3\n",
       "Sad      0.4  0.6"
      ]
     },
     "metadata": {},
     "output_type": "display_data"
    },
    {
     "name": "stdout",
     "output_type": "stream",
     "text": [
      "🔹 LEARNED transition matrix\n"
     ]
    },
    {
     "data": {
      "text/html": [
       "<div>\n",
       "<style scoped>\n",
       "    .dataframe tbody tr th:only-of-type {\n",
       "        vertical-align: middle;\n",
       "    }\n",
       "\n",
       "    .dataframe tbody tr th {\n",
       "        vertical-align: top;\n",
       "    }\n",
       "\n",
       "    .dataframe thead th {\n",
       "        text-align: right;\n",
       "    }\n",
       "</style>\n",
       "<table border=\"1\" class=\"dataframe\">\n",
       "  <thead>\n",
       "    <tr style=\"text-align: right;\">\n",
       "      <th></th>\n",
       "      <th>Happy</th>\n",
       "      <th>Sad</th>\n",
       "    </tr>\n",
       "  </thead>\n",
       "  <tbody>\n",
       "    <tr>\n",
       "      <th>Happy</th>\n",
       "      <td>0.676160</td>\n",
       "      <td>0.323840</td>\n",
       "    </tr>\n",
       "    <tr>\n",
       "      <th>Sad</th>\n",
       "      <td>0.324273</td>\n",
       "      <td>0.675727</td>\n",
       "    </tr>\n",
       "  </tbody>\n",
       "</table>\n",
       "</div>"
      ],
      "text/plain": [
       "          Happy       Sad\n",
       "Happy  0.676160  0.323840\n",
       "Sad    0.324273  0.675727"
      ]
     },
     "metadata": {},
     "output_type": "display_data"
    },
    {
     "name": "stdout",
     "output_type": "stream",
     "text": [
      "\n",
      "\n",
      "\n",
      "🔹 TRUE Emission Probabilities\n"
     ]
    },
    {
     "data": {
      "text/html": [
       "<div>\n",
       "<style scoped>\n",
       "    .dataframe tbody tr th:only-of-type {\n",
       "        vertical-align: middle;\n",
       "    }\n",
       "\n",
       "    .dataframe tbody tr th {\n",
       "        vertical-align: top;\n",
       "    }\n",
       "\n",
       "    .dataframe thead th {\n",
       "        text-align: right;\n",
       "    }\n",
       "</style>\n",
       "<table border=\"1\" class=\"dataframe\">\n",
       "  <thead>\n",
       "    <tr style=\"text-align: right;\">\n",
       "      <th></th>\n",
       "      <th>Learn</th>\n",
       "      <th>Eat</th>\n",
       "      <th>Cry</th>\n",
       "      <th>Facebook</th>\n",
       "    </tr>\n",
       "  </thead>\n",
       "  <tbody>\n",
       "    <tr>\n",
       "      <th>Happy</th>\n",
       "      <td>0.7</td>\n",
       "      <td>0.2</td>\n",
       "      <td>0.1</td>\n",
       "      <td>0.0</td>\n",
       "    </tr>\n",
       "    <tr>\n",
       "      <th>Sad</th>\n",
       "      <td>0.1</td>\n",
       "      <td>0.1</td>\n",
       "      <td>0.6</td>\n",
       "      <td>0.2</td>\n",
       "    </tr>\n",
       "  </tbody>\n",
       "</table>\n",
       "</div>"
      ],
      "text/plain": [
       "       Learn  Eat  Cry  Facebook\n",
       "Happy    0.7  0.2  0.1       0.0\n",
       "Sad      0.1  0.1  0.6       0.2"
      ]
     },
     "metadata": {},
     "output_type": "display_data"
    },
    {
     "name": "stdout",
     "output_type": "stream",
     "text": [
      "🔹 LEARNED Emission Probabilities\n"
     ]
    },
    {
     "data": {
      "text/html": [
       "<div>\n",
       "<style scoped>\n",
       "    .dataframe tbody tr th:only-of-type {\n",
       "        vertical-align: middle;\n",
       "    }\n",
       "\n",
       "    .dataframe tbody tr th {\n",
       "        vertical-align: top;\n",
       "    }\n",
       "\n",
       "    .dataframe thead th {\n",
       "        text-align: right;\n",
       "    }\n",
       "</style>\n",
       "<table border=\"1\" class=\"dataframe\">\n",
       "  <thead>\n",
       "    <tr style=\"text-align: right;\">\n",
       "      <th></th>\n",
       "      <th>Learn</th>\n",
       "      <th>Eat</th>\n",
       "      <th>Cry</th>\n",
       "      <th>Facebook</th>\n",
       "    </tr>\n",
       "  </thead>\n",
       "  <tbody>\n",
       "    <tr>\n",
       "      <th>Happy</th>\n",
       "      <td>0.689693</td>\n",
       "      <td>0.218369</td>\n",
       "      <td>0.089759</td>\n",
       "      <td>0.002178</td>\n",
       "    </tr>\n",
       "    <tr>\n",
       "      <th>Sad</th>\n",
       "      <td>0.207104</td>\n",
       "      <td>0.099313</td>\n",
       "      <td>0.531054</td>\n",
       "      <td>0.162528</td>\n",
       "    </tr>\n",
       "  </tbody>\n",
       "</table>\n",
       "</div>"
      ],
      "text/plain": [
       "          Learn       Eat       Cry  Facebook\n",
       "Happy  0.689693  0.218369  0.089759  0.002178\n",
       "Sad    0.207104  0.099313  0.531054  0.162528"
      ]
     },
     "metadata": {},
     "output_type": "display_data"
    }
   ],
   "source": [
    "# Compare parameters\n",
    "def print_comparison(true, learned, labels):\n",
    "    df = pd.DataFrame({\n",
    "        \"True\": pd.Series(true, index=labels),\n",
    "        \"Learned\": pd.Series(learned, index=labels)\n",
    "    })\n",
    "    return df\n",
    "\n",
    "print(\"Start Probabilities\")\n",
    "display(print_comparison(true_model.startprob_, best_model.startprob_, states))\n",
    "\n",
    "print(\"\\n\\n\")\n",
    "trans_df = pd.DataFrame(true_model.transmat_, columns=states, index=states)\n",
    "\n",
    "print(\"🔹 TRUE trasition matrix\")\n",
    "trans_learned_df = pd.DataFrame(best_model.transmat_, columns=states, index=states)\n",
    "display(trans_df)\n",
    "\n",
    "print(\"🔹 LEARNED transition matrix\")\n",
    "display(trans_learned_df)\n",
    "\n",
    "print(\"\\n\\n\")\n",
    "\n",
    "emission_df = pd.DataFrame(true_model.emissionprob_, columns=observations, index=states)\n",
    "emission_learned_df = pd.DataFrame(best_model.emissionprob_, columns=observations, index=states)\n",
    "\n",
    "print(\"🔹 TRUE Emission Probabilities\")\n",
    "display(emission_df)\n",
    "\n",
    "print(\"🔹 LEARNED Emission Probabilities\")\n",
    "display(emission_learned_df)"
   ]
  },
  {
   "cell_type": "markdown",
   "metadata": {},
   "source": [
    "Compare it with our toy HMM\n",
    "\n",
    "![](../img/HMM_example_trellis.png)\n",
    "\n",
    "<!-- <img src=\"img/HMM_example_trellis.png\" height=\"600\" width=\"600\">  -->"
   ]
  },
  {
   "cell_type": "markdown",
   "metadata": {
    "slideshow": {
     "slide_type": "slide"
    }
   },
   "source": [
    "- The model is close to the real model from which we have sampled the sequences. \n",
    "- Note that it's an unsupervised model and it doesn't give you interpretation of the states. You have to do it on your own. "
   ]
  },
  {
   "cell_type": "markdown",
   "metadata": {},
   "source": [
    "<br><br>"
   ]
  },
  {
   "cell_type": "markdown",
   "metadata": {
    "slideshow": {
     "slide_type": "slide"
    }
   },
   "source": [
    "### Continuous HMMs\n",
    "\n",
    "- If the observations are drawn from a continuous space (e.g., speech), the probabilities must be continuous as well.\n",
    "  \n",
    "- HMMs generalize to continuous probability distributions.\n",
    "\n",
    "- In the lab your observations are mfcc feature vectors for time frames which are continuous observations. \n",
    "- In `hmmlearn` you can use `GaussianHMM` or `GMMHMM` for continuous observations. "
   ]
  },
  {
   "cell_type": "markdown",
   "metadata": {},
   "source": [
    "Let's extend our toy HMM into a continuous HMM demo using GaussianHMM from hmmlearn.\n",
    "\n",
    "- Instead of discrete observations like \"Eat\" or \"Cry\", we now observe continuous sensor values, e.g., from an accelerometer or heart rate monitor. Each hidden state (e.g., Happy, Sad) emits a Gaussian-distributed real number (or vector).\n",
    "\n",
    "<!-- ![](../img/continuous_hmms.png) -->\n",
    "\n",
    "<img src=\"../img/continuous_hmms.png\" height=\"400\" width=\"400\">       \n"
   ]
  },
  {
   "cell_type": "markdown",
   "metadata": {},
   "source": [
    "- Hidden states: \"Happy\" and \"Sad\"\n",
    "- Observed data: 1D continuous values representing a mood-related sensor signal"
   ]
  },
  {
   "cell_type": "code",
   "execution_count": 9,
   "metadata": {},
   "outputs": [
    {
     "data": {
      "image/png": "[encoded data removed]",
      "text/plain": [
       "<Figure size 1000x300 with 1 Axes>"
      ]
     },
     "metadata": {},
     "output_type": "display_data"
    },
    {
     "name": "stdout",
     "output_type": "stream",
     "text": [
      "True Means:\n",
      " [ 2. -1.]\n",
      "Learned Means:\n",
      " [-1.01501658  1.99077979]\n",
      "\n",
      "True Covariances:\n",
      " [0.5 0.3]\n",
      "Learned Covariances:\n",
      " [0.3095461  0.49688438]\n",
      "\n",
      "True Transitions:\n",
      " [[0.7 0.3]\n",
      " [0.4 0.6]]\n",
      "Learned Transitions:\n",
      " [[0.59659226 0.40340774]\n",
      " [0.28473954 0.71526046]]\n"
     ]
    },
    {
     "data": {
      "image/png": "[encoded data removed]",
      "text/plain": [
       "<Figure size 800x400 with 1 Axes>"
      ]
     },
     "metadata": {},
     "output_type": "display_data"
    }
   ],
   "source": [
    "import numpy as np\n",
    "import pandas as pd\n",
    "import matplotlib.pyplot as plt\n",
    "from hmmlearn import hmm\n",
    "\n",
    "# Set random seed\n",
    "np.random.seed(42)\n",
    "\n",
    "# Define hidden states and parameters\n",
    "states = [\"Happy\", \"Sad\"]\n",
    "n_states = len(states)\n",
    "\n",
    "# Define Gaussian HMM\n",
    "model_true = hmm.GaussianHMM(n_components=n_states, covariance_type='diag', n_iter=100, random_state=42)\n",
    "\n",
    "model_true.startprob_ = np.array([0.8, 0.2])\n",
    "model_true.transmat_ = np.array([[0.7, 0.3],\n",
    "                                 [0.4, 0.6]])\n",
    "model_true.means_ = np.array([[2.0],  # Happy\n",
    "                              [-1.0]])  # Sad\n",
    "model_true.covars_ = np.array([[0.5], [0.3]])\n",
    "\n",
    "# Generate synthetic data\n",
    "n_sequences = 50\n",
    "seqlens = [np.random.randint(60, 100) for _ in range(n_sequences)]\n",
    "X, Z = model_true.sample(sum(seqlens))\n",
    "\n",
    "# Plot the generated sequence and hidden states\n",
    "plt.figure(figsize=(10, 3))\n",
    "plt.plot(X, label='Sensor signal')\n",
    "plt.title(\"Generated Sensor Data with Hidden States\")\n",
    "plt.xlabel(\"Timestep\")\n",
    "plt.ylabel(\"Sensor Value\")\n",
    "plt.legend()\n",
    "plt.show()\n",
    "\n",
    "# Fit a GaussianHMM on the data\n",
    "model_unsup = hmm.GaussianHMM(n_components=2, covariance_type='diag', n_iter=100, random_state=0)\n",
    "model_unsup.fit(X, seqlens)\n",
    "\n",
    "# Compare parameters\n",
    "print(\"True Means:\\n\", model_true.means_.ravel())\n",
    "print(\"Learned Means:\\n\", model_unsup.means_.ravel())\n",
    "\n",
    "print(\"\\nTrue Covariances:\\n\", model_true.covars_.ravel())\n",
    "print(\"Learned Covariances:\\n\", model_unsup.covars_.ravel())\n",
    "\n",
    "print(\"\\nTrue Transitions:\\n\", model_true.transmat_)\n",
    "print(\"Learned Transitions:\\n\", model_unsup.transmat_)\n",
    "\n",
    "# Plot histogram of sensor values colored by true hidden state\n",
    "plt.figure(figsize=(8, 4))\n",
    "plt.hist(X[Z==0], bins=30, alpha=0.5, label=\"Happy (Z=0)\")\n",
    "plt.hist(X[Z==1], bins=30, alpha=0.5, label=\"Sad (Z=1)\")\n",
    "plt.title(\"Sensor Value Distribution by True Hidden State\")\n",
    "plt.xlabel(\"Sensor Value\")\n",
    "plt.ylabel(\"Frequency\")\n",
    "plt.legend()\n",
    "plt.show()"
   ]
  },
  {
   "cell_type": "markdown",
   "metadata": {},
   "source": [
    "<br><br>"
   ]
  },
  {
   "cell_type": "markdown",
   "metadata": {},
   "source": [
    "## 4. From HMMs to Markov Decision Processes (MDPs)"
   ]
  },
  {
   "cell_type": "markdown",
   "metadata": {},
   "source": [
    "Now that we've explored Hidden Markov Models (HMMs), which model sequences where the system is assumed to be a Markov process with unobserved (hidden) states, we can zoom out to a broader and more action-oriented framework: the Markov Decision Process (MDP)."
   ]
  },
  {
   "cell_type": "markdown",
   "metadata": {},
   "source": [
    "### Getting to Whistler on a Friday Night in Winter 🏔️\n",
    "\n",
    "Suppose you want to get to Whistler as quickly as possible (i.e., minimize total travel time) despite unpredictable winter conditions. Pick one of the following possible choices:\n",
    "\n",
    "- (A) Drive\n",
    "- (B) Bus \n",
    "- (C) Seaplane\n",
    "- (D) Fly\n",
    "\n",
    "- (E) Bike \n",
    "\n",
    "<br><br><br><br>\n"
   ]
  },
  {
   "cell_type": "markdown",
   "metadata": {},
   "source": [
    "The world is full of uncertainties, and we constantly make decisions without knowing exactly how things will turn out.\n",
    "\n",
    "You might take an action expecting one result, but something else happens. Maybe you chose to take the seaplane to Whistler and it got canceled last minute. Or you studied late expecting to feel confident, but ended up too tired to focus. These mismatches between action and outcome happen all the time.\n",
    "\n",
    "We use Markov Decision Processes (MDPs) to model these uncertainties and plan under them."
   ]
  },
  {
   "cell_type": "markdown",
   "metadata": {},
   "source": [
    "The goal in a Markov Decision Process (MDP) is to find or learn a policy, a strategy for choosing actions, that maximizes the expected cumulative reward over time. MDPs are the foundation of **Reinforcement Learning** (RL), which is about learning how to make better decisions by trying things out and getting feedback, rewards when things go well, penalties when they don't, so over time, the system improves its behaviour."
   ]
  },
  {
   "cell_type": "markdown",
   "metadata": {},
   "source": [
    "![](../img/agent-environment-interaction-loop.png)\n",
    "\n",
    "[Source](https://spinningup.openai.com/en/latest/spinningup/rl_intro.html#id4)"
   ]
  },
  {
   "cell_type": "markdown",
   "metadata": {},
   "source": [
    "**What is an MDP?**\n",
    "\n",
    "An MDP models decision-making in environments that evolve over time in a stochastic (i.e., probabilistic) way. Formally, an MDP is defined by:\n",
    "- States $s \\in \\mathcal{S}$: the situation the agent is in (analogous to HMM states).\n",
    "  \n",
    "- Actions $a \\in \\mathcal{A}$: choices the agent can make.\n",
    "- Transition probabilities $P(s^{\\prime} \\mid s, a)$: how likely the next state $s^\\prime$ is, given the current state $s$ and chosen action $a$.\n",
    "- Rewards $R(s, a)$: how good or bad the action $a$ was in state $s$.\n",
    "- Policy $\\pi(a \\mid s)$: a rule used by an agent to decide what actions $a$ to take at state $s$. "
   ]
  },
  {
   "cell_type": "markdown",
   "metadata": {},
   "source": [
    "**A simple example**\n",
    "\n",
    "Let's extend our toy example to an MDP. \n",
    "\n",
    "In the HMM version:\n",
    "- The system (person) moves between hidden mood states: Happy (🙂), Sad (😔)\n",
    "- You observe activities like: Learn, Eat, Cry, Facebook\n",
    "\n",
    "\n",
    "Now imagine you're a virtual assistant or wellness app trying to help the person stay Happy over time. Each day, you suggest an action, and depending on the person's current mood, the action affects:\n",
    "- Their next mood\n",
    "  \n",
    "- The reward they get (i.e., how helpful that action was)\n",
    "\n",
    "![](../img/MDP-example.png)"
   ]
  },
  {
   "cell_type": "markdown",
   "metadata": {},
   "source": [
    "- **States $S$**: Happy (🙂), Sad (😔)\n",
    "  \n",
    "- **Actions $A$**: Learn, Eat, Cry, Facebook\n",
    "- **Transition probabilities $P(s^{\\prime} \\mid s,a)$**: how likely the next state is, given the current state and chosen action.\n",
    "    - $P(🙂 \\mid 🙂, L) = 0.8$\n",
    "    - $P(🙂 \\mid 😔 , L) = 0.3$\n",
    "- **Rewards $R(s,a)$**: how good or bad the action was in that state.\n",
    "    - $R(🙂, Learn) = 2$\n",
    "    - $R(😔, Learn) = -1$   \n",
    "- **Policy $\\pi$**: a strategy that tells the agent what action to take in each state.\n",
    "    - If in 😊 $\\rightarrow$ Do Learn\n",
    "    - If in 😢 $\\rightarrow$ Do Eat "
   ]
  },
  {
   "cell_type": "markdown",
   "metadata": {},
   "source": [
    "Note that we haven't included an END state here because we're modeling daily mood dynamics as an ongoing process, like how your behaviour today affects your mood tomorrow, and so on. But if we wanted to model a finite episode, like a 5-day challenge to improve your mood, or burnout after too much Facebook, we could add a terminal END state."
   ]
  },
  {
   "cell_type": "markdown",
   "metadata": {},
   "source": [
    "**Markov Property in HMMs and MDPs**\n",
    "\n",
    "Both HMMs and MDPs rely on the Markov assumption, which means that the future is independent of the past given the present. \n",
    "\n",
    "- In HMMs:\n",
    "$$P(s_{t+1} \\mid s_t, s_{t-1}, s_{t-2}, \\dots) = P(s_{t+1} \\mid s_{t})$$\n",
    "\n",
    "- In MDPs:\n",
    "$$P(s_{t+1} \\mid s_t, a_t, s_{t-1}, a_{t-1}, \\dots) = P(s_{t+1} \\mid s_t, a_t)$$\n",
    "\n",
    "This assumption is what allows these models to be tractable and scalable and opens the door for efficient learning and planning algorithms.\n",
    "<br><br>"
   ]
  },
  {
   "cell_type": "markdown",
   "metadata": {},
   "source": [
    "**(optional) Motivation: How are LLMs actually trained?**\n",
    "\n",
    "- So far, we've seen HMMs as passive predictors of sequences, and MDPs as frameworks for taking actions to maximize reward. But where does this fit in the world of Large Language Models (LLMs)?\n",
    "\n",
    "- Large language models like ChatGPT are initially trained to predict the next word in a sequence (just like a probabilistic language model).\n",
    "  \n",
    "- But that alone doesn't make them **helpful**.\n",
    "\n",
    "- To align LLM behaviour with human preferences, LLMs go through a second training phase called **Reinforcement Learning with Human Feedback (RLHF)**. This process:\n",
    "\n",
    "    - Trains a reward model to reflect human preferences\n",
    "      \n",
    "\t- Fine-tunes the model using reinforcement learning, rooted in MDPs\n",
    " \n",
    " In the context of LLMs,  \n",
    "- State ($S$): The prompt or conversation history given to the LLM.\n",
    "  \n",
    "- Action ($A$): The generated word or response\n",
    "- Policy ($\\pi$): The model's probability distribution over possible responses, fine-tuned to align with human preferences.\n",
    "- Reward ($R$): A score based on helpfulness, correctness, tone (from human or reward model)\n",
    "- Transition ($T$): How the state updates after generating a response\n",
    "\n",
    "In small MDPs like our emoji mood world, we can draw every state and arrow. But with LLMs, it's like the state space is the entire internet, and the actions are every possible English sentence. So we approximate the MDP using neural networks instead of drawing diagrams or tables."
   ]
  },
  {
   "cell_type": "markdown",
   "metadata": {},
   "source": [
    "**Take away**\n",
    "\n",
    "You don't need to dive deep into RL or MDPs now, but know that your understanding of Markov chains and HMMs gives you a solid foundation. These models are stepping stones to more advanced topics like:\n",
    "- Reinforcement learning\n",
    "  \n",
    "- Policy optimization\n",
    "- Training aligned AI systems\n"
   ]
  },
  {
   "cell_type": "markdown",
   "metadata": {},
   "source": [
    "<br><br><br><br>"
   ]
  },
  {
   "cell_type": "markdown",
   "metadata": {
    "slideshow": {
     "slide_type": "slide"
    }
   },
   "source": [
    "## Final comments and summary"
   ]
  },
  {
   "cell_type": "markdown",
   "metadata": {
    "slideshow": {
     "slide_type": "slide"
    }
   },
   "source": [
    "- Hidden Markov Models (HMMs) provide a probabilistic framework to model sequences. \n",
    "- They are much more practical compared to Markov models and are widely used. \n",
    "- Speech recognition is a success story for HMMs. "
   ]
  },
  {
   "cell_type": "markdown",
   "metadata": {
    "slideshow": {
     "slide_type": "slide"
    }
   },
   "source": [
    "### Three fundamental questions for HMMs\n",
    "\n",
    "**Likelihood**: Given a model with parameters $\\theta = <\\pi, A, B>$, how do we efficiently compute the likelihood of a particular observation sequence $O$?\n",
    "\n",
    "**Decoding**\n",
    "Given an observation sequence $O$ and a model $\\theta$ how do we choose a state sequence $Q={q_0, q_1, \\dots q_T}$ that best explains the observation sequence?\n",
    "\n",
    "**Learning**\n",
    "Given a large observation sequence $O$ how do we choose the best parameters $\\theta$ that explain the data $O$? "
   ]
  },
  {
   "cell_type": "markdown",
   "metadata": {
    "slideshow": {
     "slide_type": "slide"
    }
   },
   "source": [
    "### Important ideas to know\n",
    "\n",
    "- The definition of an HMM\n",
    "- The conditional independence assumptions of an HMM\n",
    "- The purpose of the forward algorithm.\n",
    "    - How to compute $\\alpha_i(t)$\n",
    "- The purpose of the Viterbi algorithm.\n",
    "    - How to compute $\\delta_i(t)$ and $\\psi_i(t)$\n",
    "- Definition of Markov Decision Processes (MDPs)"
   ]
  },
  {
   "cell_type": "markdown",
   "metadata": {
    "slideshow": {
     "slide_type": "slide"
    }
   },
   "source": [
    "### Important ideas to know \n",
    "\n",
    "Using `hmmlearn` \n",
    "- For unsupervised training of HMMs. \n",
    "- For likelihood (`model.score`)    \n",
    "- For decoding (`model.decode`)\n",
    "- For discrete observations (`MultinomialHMM`)\n",
    "- For continuous observations (`GaussianHMM` or `GMMHMM`)\n",
    "- For sequences with varying lengths.  "
   ]
  },
  {
   "cell_type": "markdown",
   "metadata": {},
   "source": [
    "<br><br><br><br>"
   ]
  },
  {
   "cell_type": "markdown",
   "metadata": {
    "slideshow": {
     "slide_type": "slide"
    }
   },
   "source": [
    "### Some useful resources and links \n",
    "- [Frank Rudzicz's slides on HMM](http://www.cs.toronto.edu/~frank/csc401/lectures2020/5_HMMs.pdf) \n",
    "- [Andrew McCallum's slides on HMM](https://people.cs.umass.edu/~mccallum/courses/inlp2004a/lect10-hmm2.pdf)\n",
    "- [A wonderful video on MDPs](https://www.youtube.com/watch?v=9g32v7bK3Co&list=PLot0TjjdZHmov4JDYex-9-Fv2VKmMneKZ)"
   ]
  },
  {
   "cell_type": "markdown",
   "metadata": {},
   "source": [
    "<br><br><br><br>"
   ]
  },
  {
   "cell_type": "markdown",
   "metadata": {},
   "source": [
    "## ❓❓ Questions for you"
   ]
  },
  {
   "cell_type": "markdown",
   "metadata": {},
   "source": [
    "### (Optional) Exercise 4.2: More practice questions\n",
    "\n",
    "Discuss the following questions with your neighbour. \n",
    "\n",
    "Consider the sentence below:\n",
    "<blockquote>\n",
    "    Will the chair chair the meeting from this chair ?\n",
    "</blockquote>\n",
    "\n",
    "and a simple part-of-speech tagset: \n",
    "<blockquote>\n",
    "{noun, verb, determiner, preposition, punctuation}\n",
    "</blockquote>    \n",
    "\n",
    "The table below shows the possible assignments for words and part-of-speech tags. The symbol `x` denotes that the word and part-of-speech tag combination is possible. For instance, the word _chair_ is unlikely to be used as a determiner and so we do not have an `x` there. \n",
    "\n",
    "|    <i></i>    | Will    | the     | chair   | chair   | the     | meeting  | from    | this    | chair   | ?       |\n",
    "| ------------- | :-----: | :-----: | :-----: | :-----: | :----:  | :------: | :-----: | :-----: | :-----: | :----:  |\n",
    "| noun          | x       | x       |  x      | x       | x       | x        | <i></i> | <i></i> | x       | <i></i> |\n",
    "| verb          | x       | <i></i> |  x      | x       | <i></i> | x        | <i></i> | <i></i> | x       | <i></i> |\n",
    "| determiner    | <i></i> | x       | <i></i> | <i></i> | x       | <i></i>  | <i></i> | x       | <i></i> | <i></i> |\n",
    "| preposition   | <i></i> | <i></i> | <i></i> | <i></i> | <i></i> | <i></i>  | x       | <i></i> | <i></i> | <i></i> |\n",
    "| punctuation   | <i></i> | <i></i> | <i></i> | <i></i> | <i></i> | <i></i>  | <i></i> | <i></i> | <i></i> | x       |\n",
    "\n",
    "\n",
    "Given this information, answer the following questions: \n",
    "- (A) With this simple tagset of part-of-speech tags, how many possible part-of-speech tag sequences (i.e, hidden state sequences) are there for the given sentence (observation sequence)?\n",
    "- (B) Restricting to the possibilities shown above with `x`, how many possible part-of-speech tag sequences are there?\n",
    "- (C) Given an HMM with states as part-of-speech tags and observations as words, one way to decode the observation sequence is using the brute force method below. What is the time complexity of this method in terms of the number of states ($n$) and the length of the output sequence ($T$)? You may ignore constants.    \n",
    "    - enumerate all possible hidden state sequences (i.e., enumerate all solutions)\n",
    "    - for each hidden state sequence, calculate the probability of the observation sequence given the hidden state sequence (i.e., score each solution)\n",
    "    - pick the hidden state sequence which gives the highest probability for the observation sequence (i.e., pick the best solution)    \n",
    "\n",
    "- (D) If you decode the sequence using the Viterbi algorithm instead, what will be the time complexity in terms of the number of states ($n$) and the length of the output sequence ($T$)? You may ignore constants.    "
   ]
  },
  {
   "cell_type": "markdown",
   "metadata": {},
   "source": [
    "```{admonition} Exercise 4.2: V's Solutions!\n",
    ":class: tip, dropdown\n",
    "```"
   ]
  }
 ],
 "metadata": {
  "celltoolbar": "Slideshow",
  "kernelspec": {
   "display_name": "Python [conda env:575]",
   "language": "python",
   "name": "conda-env-575-py"
  },
  "language_info": {
   "codemirror_mode": {
    "name": "ipython",
    "version": 3
   },
   "file_extension": ".py",
   "mimetype": "text/x-python",
   "name": "python",
   "nbconvert_exporter": "python",
   "pygments_lexer": "ipython3",
   "version": "3.12.0"
  }
 },
 "nbformat": 4,
 "nbformat_minor": 4
}
