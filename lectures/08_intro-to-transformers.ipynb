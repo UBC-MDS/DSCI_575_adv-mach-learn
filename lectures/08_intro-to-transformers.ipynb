{
 "cells": [
  {
   "cell_type": "markdown",
   "metadata": {},
   "source": [
    "![](img/575_banner.png)"
   ]
  },
  {
   "cell_type": "markdown",
   "metadata": {
    "slideshow": {
     "slide_type": "slide"
    }
   },
   "source": [
    "# Lecture 8: Self-attention and transformers\n",
    "\n",
    "UBC Master of Data Science program, 2021-22\n",
    "\n",
    "Instructor: Varada Kolhatkar\n",
    "\n",
    "> [Attention is all you need!](https://arxiv.org/pdf/1706.03762.pdf)"
   ]
  },
  {
   "cell_type": "markdown",
   "metadata": {},
   "source": [
    "## Lecture plan, imports, LO"
   ]
  },
  {
   "cell_type": "markdown",
   "metadata": {
    "slideshow": {
     "slide_type": "skip"
    },
    "tags": []
   },
   "source": [
    "### Lecture plan \n",
    "\n",
    "- iClicker questions\n",
    "- Recap and limitations of LSTMs \n",
    "- Self-attention layers\n",
    "- Transformer blocks \n",
    "- Break\n",
    "- iClicker questions\n",
    "- Multihead attention\n",
    "- Transfer learning \n",
    "- Course conclusion"
   ]
  },
  {
   "cell_type": "markdown",
   "metadata": {},
   "source": [
    "<br><br>"
   ]
  },
  {
   "cell_type": "markdown",
   "metadata": {},
   "source": [
    "## Imports"
   ]
  },
  {
   "cell_type": "code",
   "execution_count": 1,
   "metadata": {},
   "outputs": [],
   "source": [
    "import sys\n",
    "from collections import defaultdict\n",
    "\n",
    "import matplotlib.pyplot as plt\n",
    "import numpy as np\n",
    "import pandas as pd\n",
    "import torch\n",
    "import torch.nn as nn\n",
    "import torch.optim as optim\n",
    "\n",
    "pd.set_option(\"display.max_colwidth\", 0)"
   ]
  },
  {
   "cell_type": "markdown",
   "metadata": {},
   "source": [
    "<br><br>"
   ]
  },
  {
   "cell_type": "markdown",
   "metadata": {
    "slideshow": {
     "slide_type": "skip"
    }
   },
   "source": [
    "### Learning outcomes\n",
    "\n",
    "From this lecture you will be able to \n",
    "\n",
    "- Broadly explain the limitations of LSTMs. \n",
    "- Explain the idea of self-attention. \n",
    "- Describe the three core operations in self-attention. \n",
    "- Explain the query, key, and value roles in self-attention. \n",
    "- Explain the role of linear projections for query, key, and value in self-attention. \n",
    "- Explain transformer blocks. \n",
    "- Explain the advantages of using transformers over LSTMs. \n",
    "- Broadly explain the idea of multihead attention. \n",
    "- Broadly explain the idea of transfer learning. "
   ]
  },
  {
   "cell_type": "markdown",
   "metadata": {},
   "source": [
    "<br><br>"
   ]
  },
  {
   "cell_type": "markdown",
   "metadata": {},
   "source": [
    "### Attributions\n",
    "\n",
    "This material is heavily based on [Jurafsky and Martin, Chapter 9]((https://web.stanford.edu/~jurafsky/slp3/9.pdf))."
   ]
  },
  {
   "cell_type": "markdown",
   "metadata": {},
   "source": [
    "<br><br><br><br>"
   ]
  },
  {
   "cell_type": "markdown",
   "metadata": {},
   "source": [
    "## Recap"
   ]
  },
  {
   "cell_type": "markdown",
   "metadata": {},
   "source": [
    "### RNNs vs. LSTMs \n",
    "\n",
    "- RNNs suffer from the problem of vanishing gradients. \n",
    "    - Vanishing gradients lead to difficulty in training.  \n",
    "- We saw that LSTMs mitigate this problem by introducing a cell state and managing the context better. \n",
    "- They are better suited for sequence modeling and capturing long-distance dependencies. "
   ]
  },
  {
   "cell_type": "markdown",
   "metadata": {
    "slideshow": {
     "slide_type": "slide"
    }
   },
   "source": [
    "![](img/RNN_alternative_representation.png)\n",
    "![](img/LSTM0.png)\n",
    "\n",
    "<!-- <img src=\"img/RNN_alternative_representation.png\" height=\"400\" width=\"400\">  -->\n",
    "\n",
    "<!-- <img src=\"img/LSTM0.png\" height=\"400\" width=\"400\">  -->\n",
    "<!-- </center>     -->\n",
    "\n",
    "(Credit: [Colah's blog](http://colah.github.io/posts/2015-08-Understanding-LSTMs/))"
   ]
  },
  {
   "cell_type": "markdown",
   "metadata": {},
   "source": [
    "There are tons of applications of LSTMs. "
   ]
  },
  {
   "cell_type": "markdown",
   "metadata": {
    "slideshow": {
     "slide_type": "slide"
    }
   },
   "source": [
    "### Wiki page on LSTM applications \n",
    "\n",
    "![](img/lstm_applications_wiki.png)\n",
    "\n",
    "<!-- <img src=\"img/lstm_applications_wiki.png\" width=\"1500\" height=\"1500\"> -->\n",
    "\n",
    "(Credit: [Learning to execute](https://arxiv.org/pdf/1410.4615.pdf))"
   ]
  },
  {
   "cell_type": "markdown",
   "metadata": {
    "slideshow": {
     "slide_type": "slide"
    }
   },
   "source": [
    "### LSTM for image captioning \n",
    "\n",
    "![](img/RNN_LSTM_image_captioning.png)\n",
    "\n",
    "<!-- <center> -->\n",
    "<!-- <img src=\"img/RNN_LSTM_image_captioning.png\" height=\"2000\" width=\"2000\">  -->\n",
    "<!-- </center>     -->\n",
    "\n",
    "\n",
    "(Credit: [LSTMs for image captioning](https://arxiv.org/pdf/1411.4555.pdf))"
   ]
  },
  {
   "cell_type": "markdown",
   "metadata": {},
   "source": [
    "<br><br>"
   ]
  },
  {
   "cell_type": "markdown",
   "metadata": {
    "slideshow": {
     "slide_type": "slide"
    }
   },
   "source": [
    "### music2dance\n",
    "\n",
    "- [Dance with Melody: An LSTM-autoencoder Approach to Music-oriented Dance Synthesis](https://hcsi.cs.tsinghua.edu.cn/Paper/Paper18/MM18-TANGTAORAN.pdf)\n",
    "- [Follow the Music: Dance Motion Synthesis Corresponding to Arbitrary Music](https://www.cs.ubc.ca/~rozentil/data/music2dance.pdf) (UBC researchers)\n",
    "\n",
    "![](img/music2dance.png)\n",
    "\n",
    "<!-- <center> -->\n",
    "<!-- <img src=\"img/music2dance.png\" height=\"1500\" width=\"1500\">  -->\n",
    "<!-- </center>     -->\n"
   ]
  },
  {
   "cell_type": "markdown",
   "metadata": {},
   "source": [
    "<br><br><br><br>"
   ]
  },
  {
   "cell_type": "markdown",
   "metadata": {
    "slideshow": {
     "slide_type": "slide"
    }
   },
   "source": [
    "## ❓❓ Questions for you\n",
    "\n",
    "iClicker cloud join link: https://join.iclicker.com/4QVT4"
   ]
  },
  {
   "cell_type": "markdown",
   "metadata": {
    "slideshow": {
     "slide_type": "slide"
    }
   },
   "source": [
    "### Exercise 8.1: Select all of the following statements which are **True** (iClicker)\n",
    "\n",
    "- (A) Input to an RNN or LSTM is a 3-D tensor with three components: sequence length, batch size, and input size.\n",
    "- (B) In the forward pass of LSTMs, in addition to the previous hidden state we also pass the previous cell state.\n",
    "- (C) In LSTMs, creating batches with sequences of similar lengths might minimize padding.\n",
    "- (D) HMMs can handle variable length sequences but LSTMs cannot.   \n",
    "- (E) It's almost always a good idea to use LSTMs to model text data over bag-of-words models, as they encode sequential information and are likely to beat bag-of-words models. \n",
    "\n",
    "<br><br><br><br>"
   ]
  },
  {
   "cell_type": "markdown",
   "metadata": {},
   "source": [
    "```{admonition} Exercise 8.1: V's Solutions!\n",
    ":class: tip, dropdown\n",
    "- (A) True\n",
    "- (B) True\n",
    "- (C) True\n",
    "- (D) False\n",
    "- (E) False\n",
    "```"
   ]
  },
  {
   "cell_type": "markdown",
   "metadata": {},
   "source": [
    "### Exercise 8.2: Questions for discussion\n",
    "\n",
    "1. Suppose you are using pre-trained embeddings to train a sentiment analysis model with LSTMs on a small corpus shown below. Now given a test sentence \"amazing\", would you expect the model to classify the sentence correctly? Why or why not? State your assumptions.  \n",
    "\n",
    "| text        | sentiment           |\n",
    "| ------------- |:-------------:|\n",
    "| what a wonderful movie ! | positive|\n",
    "| boring ... fell asleep a couple of times | negative |\n",
    "| astonishing ! ! | positive |\n",
    "\n",
    "2. In text generation using LSTMs or RNNs, why it might be a good idea to sample from the distribution rather than picking the next word with highest probability? "
   ]
  },
  {
   "cell_type": "markdown",
   "metadata": {},
   "source": [
    "```{admonition} Exercise 8.2: V's Solutions!\n",
    ":class: tip, dropdown\n",
    "1.  Most likely yes. Although the word **amazing** does not occur in the training corpus, we would be incorporating the information in the model, via pre-trained word embeddings, that the word amazing is similar to wonderful and astonishing which are associated with positive sentiment.\n",
    "2. To add novelty.\n",
    "```"
   ]
  },
  {
   "cell_type": "markdown",
   "metadata": {},
   "source": [
    "<br><br><br><br>"
   ]
  },
  {
   "cell_type": "markdown",
   "metadata": {},
   "source": [
    "## Self-attention networks: Transformers"
   ]
  },
  {
   "cell_type": "markdown",
   "metadata": {},
   "source": [
    "### Limitations of LSTMs\n",
    "\n",
    "- LSTMs are better than vanilla RNNs in mitigating the problem of loss of distant information caused by vanishing gradients. \n",
    "- But the underlying problem remains.\n",
    "- For long sequences, there is still a loss of relevant information and difficulties in training. \n",
    "- Also, inherently sequential nature of LSTMs make them hard to parallelize. So they are slow to train. \n",
    "- This led to development of **transformers**. \n",
    "    - They are much faster to train compared to LSTMs and much better at capturing long distance dependencies. \n",
    "    - They are at the core of all state-of-the-art NLP models (e.g., BERT, GPT2, GPT3). "
   ]
  },
  {
   "cell_type": "markdown",
   "metadata": {},
   "source": [
    "### Transformers \n",
    "\n",
    "- Transformers provide an approach to sequence processing but they eliminate recurrent connections in RNNs and LSTMs.   \n",
    "- Similar to RNNs or LSTMs, they map sequences of input vectors $(x_1, \\dots, x_n)$ to sequences of output vectors $(y_1, \\dots, y_n)$ of the same length.  \n",
    "- They are made up of **transformer blocks** which are multilayer networks made by combining \n",
    "    - simple linear layers,\n",
    "    - feedforward layers, and \n",
    "    - **self-attention layers**, which is the key innovation of transformers. \n",
    "- You will see these transformer blocks in modern language model architectures. \n",
    "- Let's first focus on self-attention layer. \n",
    "- Later we'll see how it fits in the larger transformer blocks. "
   ]
  },
  {
   "cell_type": "markdown",
   "metadata": {},
   "source": [
    "### Self-attention layer\n",
    "\n",
    "- Self-attention allows a network to directly extract and use information from arbitrarily large contexts without the need to pass it through intermediate recurrent connections as in RNNs. \n",
    "- Below is a single backward looking self-attention layer which maps sequences of input vectors $(x_1, \\dots, x_n)$ to sequences of output vectors $(y_1, \\dots, y_n)$ of the same length. \n",
    "- When processing an item at time $t$, the model has access to all of the inputs up to and including the one under consideration. \n",
    "- It does not have access to the input beyond the current one. \n",
    "- Note that unlike RNNs or LSTMs, each computation can be done independently; it does not depend upon the previous computation which allows us to easily parallelize forward pass and the training of such models. \n",
    "\n",
    "![](img/self_attention.png)\n",
    "<!-- <img src=\"img/self_attention.png\" width=\"600\" height=\"600\"> -->\n",
    "\n",
    "[Source](https://web.stanford.edu/~jurafsky/slp3/9.pdf)"
   ]
  },
  {
   "cell_type": "markdown",
   "metadata": {},
   "source": [
    "### Self-attention: Core idea \n",
    "\n",
    "- For each token in the sequence, we assign a weight based on how relevant they are to the token under consideration. \n",
    "- Calculate the output for the current token based on these weights. "
   ]
  },
  {
   "cell_type": "markdown",
   "metadata": {},
   "source": [
    "### Calculating the output $y$ for the token _nuts_ in the given context\n",
    "\n",
    "![](img/self_attention_ex_nuts.png)\n",
    "\n",
    "<!-- <img src=\"img/self_attention_ex_nuts.png\" width=\"600\" height=\"600\"> -->"
   ]
  },
  {
   "cell_type": "markdown",
   "metadata": {},
   "source": [
    "### The key operations in self-attention\n",
    "\n",
    "So in order to calculate the output $y_i$\n",
    "\n",
    "- We score token $x_i$ with all previous tokens $x_j$ by taking the dot product between them. \n",
    "$$\\text{score}(x_i, x_j) = x_i \\cdot x_j$$\n",
    "\n",
    "- We apply $\\text{softmax}$ on these scores to get probability distribution over these scores. \n",
    "$$\\alpha_{ij} = \\text{softmax}(\\text{score}(x_i \\cdot x_j)), \\forall j \\leq i$$\n",
    "\n",
    "- The output is the weighted sum of the inputs seen so far, where the weights correspond to the $\\alpha$ values calculated above. \n",
    " $$y_i = \\sum_{j \\leq i} \\alpha_{ij}x_j$$\n",
    " \n",
    "These three operations represent the core of an attention-based approach. These operations can be carried out independently for each input allowing easy parallelism. "
   ]
  },
  {
   "cell_type": "markdown",
   "metadata": {},
   "source": [
    "### Query, Key, and Value roles\n",
    "\n",
    "Note that in the process of calculating outputs corresponding to each input, each input embedding plays three kinds of roles. \n",
    "\n",
    "- **Query**: _the current focus of attention_ when being compared to all previous inputs. \n",
    "- **Key**: _a preceding input_ being compared to the current focus of attention.    \n",
    "- **Value**: used to compute the output for the current focus of attention. \n",
    "\n",
    "For these three roles transformer introduces three weight matrices: $W^Q, W^K, W^V$. These weights will be used to project each input vector $x_i$ into its role as a key, query, or value.\n",
    "\n",
    "$$q_i = W^Qx_i$$\n",
    "$$k_i = W^Kx_i$$\n",
    "$$v_i = W^Vx_i$$\n",
    "\n",
    "For now let's assume that all these weight matrices have the same dimensionality and so the projected vectors in each case are going to be of the same size. "
   ]
  },
  {
   "cell_type": "markdown",
   "metadata": {},
   "source": [
    "With these projections our equations become: \n",
    "\n",
    "- We score the $x_i$ with all previous tokens $x_j$ by taking the dot product between $x_i$'s query vector $q_i$ and $x_j$'s key vector $k_j$:  \n",
    "$$\\text{score}(x_i, x_j) = q_i \\cdot k_j$$\n",
    "\n",
    "- The softmax calculation remains the same but the output calculation for $y_i$ is now based on a weighted sum over the projected vectors $v$:\n",
    " $$y_i = \\sum_{j \\leq i} \\alpha_{ij}v_j$$\n",
    " "
   ]
  },
  {
   "cell_type": "markdown",
   "metadata": {},
   "source": [
    "### Self-attention: Calculating the value of $y_3$\n",
    "\n",
    "![](img/self_attention_ex.png)\n",
    "\n",
    "<!-- <img src=\"img/self_attention_ex.png\" width=\"400\" height=\"400\"> -->\n",
    "\n",
    "[Source](https://web.stanford.edu/~jurafsky/slp3/9.pdf)"
   ]
  },
  {
   "cell_type": "markdown",
   "metadata": {},
   "source": [
    "### Scaling the dot products\n",
    "\n",
    "- The result of a dot product can be arbitrarily large and exponentiating such values can lead to numerical issues and problems during training. \n",
    "- So the dot products are usually scaled before applying the softmax. \n",
    "- The most common scaling is where we divide the dot product by the square root of the dimensionality of the query and the key vectors. \n",
    "$$\\text{score}(x_i, x_j) = \\frac{q_i \\cdot k_j}{\\sqrt{d_k}}$$\n"
   ]
  },
  {
   "cell_type": "markdown",
   "metadata": {},
   "source": [
    "- This is how we calculate a single output of a single time step $i$. \n",
    "- Would the output calculation at different time steps be dependent upon each other? "
   ]
  },
  {
   "cell_type": "markdown",
   "metadata": {},
   "source": [
    "### Efficient calculations with matrix multiplication \n",
    "\n",
    "- $X_{N \\times d} \\rightarrow$ matrix of all tokens in a sequence of length $N$ with each token represented with a $d$ dimensional embedding. Each row of $X$ is embedding representation of one token of the input. The we can calculate $Q, K, V$ as follows.\n",
    "\n",
    "$$Q = XW^Q$$\n",
    "$$K = XW^K$$\n",
    "$$V = XW^V$$"
   ]
  },
  {
   "cell_type": "markdown",
   "metadata": {},
   "source": [
    "- With these, we can now calculate all the query-key scores simultaneously as $Q \\times K$. \n",
    "\n",
    "![](img/self_attention_calc_all.png)\n",
    "\n",
    "<!-- <img src=\"img/self_attention_calc_all.png\" width=\"300\" height=\"300\"> -->\n",
    "\n",
    "- We can them apply softmax on all rows and multiply the resulting matrix by $V$.\n",
    "\n",
    "$$SelfAttention(Q, K, V) = \\text{softmax}(\\frac{QK}{\\sqrt{d_k}})V$$\n",
    "\n",
    "- Finally, we get output sequence $y_1, \\dots, y_n$.   \n"
   ]
  },
  {
   "cell_type": "markdown",
   "metadata": {},
   "source": [
    "- What's the problem with the approach above?\n",
    "    - This process goes a bit too far since the calculation of the comparisons in $QK$ results in a score for each value to each key value, _including those that follow the query_. \n",
    "    - Is this appropriate in the setting of language modeling? \n",
    "\n",
    "![](img/self_attention_calc_partial.png)\n",
    "\n",
    "<!-- <img src=\"img/self_attention_calc_partial.png\" width=\"300\" height=\"300\"> -->\n",
    "\n",
    "[Source](https://web.stanford.edu/~jurafsky/slp3/9.pdf)"
   ]
  },
  {
   "cell_type": "markdown",
   "metadata": {},
   "source": [
    "### Transformer blocks\n",
    "\n",
    "- In many advanced architectures, you will see transformer blocks which consists of\n",
    "    - The self-attention layer\n",
    "    - Additional feedforward layers\n",
    "    - Residual connections\n",
    "    - Normalizing layers\n",
    "\n",
    "![](img/transformer_block.png)\n",
    "\n",
    "<!-- <img src=\"img/transformer_block.png\" width=\"350\" height=\"350\"> -->\n",
    "\n",
    "[Source](https://web.stanford.edu/~jurafsky/slp3/9.pdf)"
   ]
  },
  {
   "cell_type": "markdown",
   "metadata": {},
   "source": [
    "- The input and output dimensions of these layers are matched so that they can be stacked. \n",
    "- In deep networks, **residual connections** are connections that pass information from a lower layer to a higher layer without going through the intermediate layer. Why? It has been shown that allowing information from the activation going forward and the gradient going backwards to skip a layer improves learning and gives higher level layers direct access to information from lawer layers. \n",
    "- We then have a summed vector (projected output of the attention or feedforward layer + input of the attention or feedforward layers). \n",
    "- **Layer normalization or layer norm** normalizes the resulting vector which improves training performance in deep neural networks keeping the values of a hidden layer in a range that facilitates gradient-based training. Layer norm applies something similar to `StandardScaler` so that the mean is 0 and standard deviation is 1 in the vector. "
   ]
  },
  {
   "cell_type": "markdown",
   "metadata": {},
   "source": [
    "<br><br><br><br>"
   ]
  },
  {
   "cell_type": "markdown",
   "metadata": {},
   "source": [
    "### Break\n",
    "\n",
    "![](img/eva-coffee.png)"
   ]
  },
  {
   "cell_type": "markdown",
   "metadata": {},
   "source": [
    "<br><br><br><br>"
   ]
  },
  {
   "cell_type": "markdown",
   "metadata": {
    "slideshow": {
     "slide_type": "slide"
    }
   },
   "source": [
    "## ❓❓ Questions for you\n",
    "\n",
    "iClicker cloud join link: https://join.iclicker.com/4QVT4"
   ]
  },
  {
   "cell_type": "markdown",
   "metadata": {
    "slideshow": {
     "slide_type": "slide"
    }
   },
   "source": [
    "### Exercise 8.2: Select all of the following statements which are **True** (iClicker)\n",
    "\n",
    "- (A) The main difference between the RNN layer and a self-attention layer is that \n",
    "in self-attention, we pass the information without intermediate recurrent connections. \n",
    "- (B) In self-attention, the output $y_i$ of input $x_i$ at time $i$ is a single number. \n",
    "- (C) Calculating attention weights is quadratic in the length of the input \n",
    "since we need to compute dot products between each pair of tokens in\n",
    "the input.  \n",
    "- (D) Self-attention results in contextual embeddings. \n",
    "- (E) Transformers seem to be more intuitive compared to LSTMs. \n",
    "\n",
    "<br><br><br><br>"
   ]
  },
  {
   "cell_type": "markdown",
   "metadata": {},
   "source": [
    "```{admonition} Exercise 8.2: V's Solutions!\n",
    ":class: tip, dropdown\n",
    "- (A) True\n",
    "- (B) False\n",
    "- (C) True\n",
    "- (D) True\n",
    "- (E) True (for me)\n",
    "```"
   ]
  },
  {
   "cell_type": "markdown",
   "metadata": {},
   "source": [
    "<br><br><br><br>"
   ]
  },
  {
   "cell_type": "markdown",
   "metadata": {},
   "source": [
    "## Multi-head attention\n",
    "\n",
    "- Different words in a sentence can relate to each other in many different ways simultaneously. \n",
    "- Consider the sentence below. \n",
    "> The cat was scared because it didn't recognize me in my mask. \n",
    "\n",
    "Let's look at all the dependencies in this sentence. "
   ]
  },
  {
   "cell_type": "code",
   "execution_count": 2,
   "metadata": {},
   "outputs": [],
   "source": [
    "import spacy\n",
    "from spacy import displacy\n",
    "\n",
    "nlp = spacy.load(\"en_core_web_md\")"
   ]
  },
  {
   "cell_type": "code",
   "execution_count": 3,
   "metadata": {},
   "outputs": [
    {
     "data": {
      "text/html": [
       "<span class=\"tex2jax_ignore\"><svg xmlns=\"http://www.w3.org/2000/svg\" xmlns:xlink=\"http://www.w3.org/1999/xlink\" xml:lang=\"en\" id=\"95765706e3bd40bb8040dc5b57b8b616-0\" class=\"displacy\" width=\"1100\" height=\"399.5\" direction=\"ltr\" style=\"max-width: none; height: 399.5px; color: #000000; background: #ffffff; font-family: Arial; direction: ltr\">\n",
       "<text class=\"displacy-token\" fill=\"currentColor\" text-anchor=\"middle\" y=\"309.5\">\n",
       "    <tspan class=\"displacy-word\" fill=\"currentColor\" x=\"50\">I</tspan>\n",
       "    <tspan class=\"displacy-tag\" dy=\"2em\" fill=\"currentColor\" x=\"50\">PRON</tspan>\n",
       "</text>\n",
       "\n",
       "<text class=\"displacy-token\" fill=\"currentColor\" text-anchor=\"middle\" y=\"309.5\">\n",
       "    <tspan class=\"displacy-word\" fill=\"currentColor\" x=\"225\">gave</tspan>\n",
       "    <tspan class=\"displacy-tag\" dy=\"2em\" fill=\"currentColor\" x=\"225\">VERB</tspan>\n",
       "</text>\n",
       "\n",
       "<text class=\"displacy-token\" fill=\"currentColor\" text-anchor=\"middle\" y=\"309.5\">\n",
       "    <tspan class=\"displacy-word\" fill=\"currentColor\" x=\"400\">my</tspan>\n",
       "    <tspan class=\"displacy-tag\" dy=\"2em\" fill=\"currentColor\" x=\"400\">PRON</tspan>\n",
       "</text>\n",
       "\n",
       "<text class=\"displacy-token\" fill=\"currentColor\" text-anchor=\"middle\" y=\"309.5\">\n",
       "    <tspan class=\"displacy-word\" fill=\"currentColor\" x=\"575\">cat</tspan>\n",
       "    <tspan class=\"displacy-tag\" dy=\"2em\" fill=\"currentColor\" x=\"575\">NOUN</tspan>\n",
       "</text>\n",
       "\n",
       "<text class=\"displacy-token\" fill=\"currentColor\" text-anchor=\"middle\" y=\"309.5\">\n",
       "    <tspan class=\"displacy-word\" fill=\"currentColor\" x=\"750\">some</tspan>\n",
       "    <tspan class=\"displacy-tag\" dy=\"2em\" fill=\"currentColor\" x=\"750\">DET</tspan>\n",
       "</text>\n",
       "\n",
       "<text class=\"displacy-token\" fill=\"currentColor\" text-anchor=\"middle\" y=\"309.5\">\n",
       "    <tspan class=\"displacy-word\" fill=\"currentColor\" x=\"925\">food</tspan>\n",
       "    <tspan class=\"displacy-tag\" dy=\"2em\" fill=\"currentColor\" x=\"925\">NOUN</tspan>\n",
       "</text>\n",
       "\n",
       "<g class=\"displacy-arrow\">\n",
       "    <path class=\"displacy-arc\" id=\"arrow-95765706e3bd40bb8040dc5b57b8b616-0-0\" stroke-width=\"2px\" d=\"M70,264.5 C70,177.0 215.0,177.0 215.0,264.5\" fill=\"none\" stroke=\"currentColor\"/>\n",
       "    <text dy=\"1.25em\" style=\"font-size: 0.8em; letter-spacing: 1px\">\n",
       "        <textPath xlink:href=\"#arrow-95765706e3bd40bb8040dc5b57b8b616-0-0\" class=\"displacy-label\" startOffset=\"50%\" side=\"left\" fill=\"currentColor\" text-anchor=\"middle\">nsubj</textPath>\n",
       "    </text>\n",
       "    <path class=\"displacy-arrowhead\" d=\"M70,266.5 L62,254.5 78,254.5\" fill=\"currentColor\"/>\n",
       "</g>\n",
       "\n",
       "<g class=\"displacy-arrow\">\n",
       "    <path class=\"displacy-arc\" id=\"arrow-95765706e3bd40bb8040dc5b57b8b616-0-1\" stroke-width=\"2px\" d=\"M420,264.5 C420,177.0 565.0,177.0 565.0,264.5\" fill=\"none\" stroke=\"currentColor\"/>\n",
       "    <text dy=\"1.25em\" style=\"font-size: 0.8em; letter-spacing: 1px\">\n",
       "        <textPath xlink:href=\"#arrow-95765706e3bd40bb8040dc5b57b8b616-0-1\" class=\"displacy-label\" startOffset=\"50%\" side=\"left\" fill=\"currentColor\" text-anchor=\"middle\">poss</textPath>\n",
       "    </text>\n",
       "    <path class=\"displacy-arrowhead\" d=\"M420,266.5 L412,254.5 428,254.5\" fill=\"currentColor\"/>\n",
       "</g>\n",
       "\n",
       "<g class=\"displacy-arrow\">\n",
       "    <path class=\"displacy-arc\" id=\"arrow-95765706e3bd40bb8040dc5b57b8b616-0-2\" stroke-width=\"2px\" d=\"M245,264.5 C245,89.5 570.0,89.5 570.0,264.5\" fill=\"none\" stroke=\"currentColor\"/>\n",
       "    <text dy=\"1.25em\" style=\"font-size: 0.8em; letter-spacing: 1px\">\n",
       "        <textPath xlink:href=\"#arrow-95765706e3bd40bb8040dc5b57b8b616-0-2\" class=\"displacy-label\" startOffset=\"50%\" side=\"left\" fill=\"currentColor\" text-anchor=\"middle\">dative</textPath>\n",
       "    </text>\n",
       "    <path class=\"displacy-arrowhead\" d=\"M570.0,266.5 L578.0,254.5 562.0,254.5\" fill=\"currentColor\"/>\n",
       "</g>\n",
       "\n",
       "<g class=\"displacy-arrow\">\n",
       "    <path class=\"displacy-arc\" id=\"arrow-95765706e3bd40bb8040dc5b57b8b616-0-3\" stroke-width=\"2px\" d=\"M770,264.5 C770,177.0 915.0,177.0 915.0,264.5\" fill=\"none\" stroke=\"currentColor\"/>\n",
       "    <text dy=\"1.25em\" style=\"font-size: 0.8em; letter-spacing: 1px\">\n",
       "        <textPath xlink:href=\"#arrow-95765706e3bd40bb8040dc5b57b8b616-0-3\" class=\"displacy-label\" startOffset=\"50%\" side=\"left\" fill=\"currentColor\" text-anchor=\"middle\">det</textPath>\n",
       "    </text>\n",
       "    <path class=\"displacy-arrowhead\" d=\"M770,266.5 L762,254.5 778,254.5\" fill=\"currentColor\"/>\n",
       "</g>\n",
       "\n",
       "<g class=\"displacy-arrow\">\n",
       "    <path class=\"displacy-arc\" id=\"arrow-95765706e3bd40bb8040dc5b57b8b616-0-4\" stroke-width=\"2px\" d=\"M245,264.5 C245,2.0 925.0,2.0 925.0,264.5\" fill=\"none\" stroke=\"currentColor\"/>\n",
       "    <text dy=\"1.25em\" style=\"font-size: 0.8em; letter-spacing: 1px\">\n",
       "        <textPath xlink:href=\"#arrow-95765706e3bd40bb8040dc5b57b8b616-0-4\" class=\"displacy-label\" startOffset=\"50%\" side=\"left\" fill=\"currentColor\" text-anchor=\"middle\">dobj</textPath>\n",
       "    </text>\n",
       "    <path class=\"displacy-arrowhead\" d=\"M925.0,266.5 L933.0,254.5 917.0,254.5\" fill=\"currentColor\"/>\n",
       "</g>\n",
       "</svg></span>"
      ],
      "text/plain": [
       "<IPython.core.display.HTML object>"
      ]
     },
     "metadata": {},
     "output_type": "display_data"
    }
   ],
   "source": [
    "doc = nlp(\"I gave my cat some food\")\n",
    "displacy.render(doc, style=\"dep\")"
   ]
  },
  {
   "cell_type": "markdown",
   "metadata": {},
   "source": [
    "- So a single attention layer usually is not enough to capture all different kinds of parallel relations between inputs. \n",
    "- Transformers address this issue with **multihead self-attention layers**.\n",
    "- These self-attention layers are called **heads**.\n",
    "- They are at the same depth of the model, operate in parallel, each with a different set of parameters. \n",
    "- The idea is that with these different sets of parameters, each head can learn different aspects of the relationships that exist among inputs.\n",
    "\n",
    "\\begin{equation}\n",
    "\\begin{split}\n",
    "MultiHeadAttn(X) &= (\\text{head}_1 \\oplus \\text{head}_2 \\dots \\oplus \\text{head}_h)W^O\\\\\n",
    "               Q &= XW_i^Q ; K = XW_i^K ; V = XW_i^V\\\\\n",
    "               \\text{head}_i &= SelfAttention(Q,K,V)\n",
    "\\end{split}\n",
    "\\end{equation}"
   ]
  },
  {
   "cell_type": "markdown",
   "metadata": {},
   "source": [
    "![](img/multihead_attention.png)\n",
    "\n",
    "<!-- <img src=\"img/multihead_attention.png\" width=\"600\" height=\"600\"> -->\n",
    "\n",
    "[Source](https://web.stanford.edu/~jurafsky/slp3/9.pdf)"
   ]
  },
  {
   "cell_type": "markdown",
   "metadata": {},
   "source": [
    "### Multi-head attention visualization\n",
    "- Similar to RNNs you can stack self-attention layers or multihead self-attention layers on the top of each other.\n",
    "- Let's look at this visualization which shows where the attention of different attention heads is going in multihead attention. \n",
    "    - [Multi-head attention interactive visualization](https://colab.research.google.com/github/tensorflow/tensor2tensor/blob/master/tensor2tensor/notebooks/hello_t2t.ipynb#scrollTo=OJKU36QAfqOC)"
   ]
  },
  {
   "cell_type": "markdown",
   "metadata": {},
   "source": [
    "### (Optional) Let's try it out with PyTorch"
   ]
  },
  {
   "cell_type": "code",
   "execution_count": 4,
   "metadata": {},
   "outputs": [],
   "source": [
    "from torch.nn import MultiheadAttention"
   ]
  },
  {
   "cell_type": "code",
   "execution_count": 5,
   "metadata": {},
   "outputs": [],
   "source": [
    "embed_dim = 12\n",
    "num_heads = 4\n",
    "seqlen = 20\n",
    "\n",
    "multi_attn = nn.MultiheadAttention(embed_dim, num_heads)"
   ]
  },
  {
   "cell_type": "code",
   "execution_count": 6,
   "metadata": {},
   "outputs": [],
   "source": [
    "query = torch.rand(10, embed_dim)  # target_seq_len, query_embedding_dim\n",
    "key = torch.rand(seqlen, embed_dim)  # source_seq_len, key_embedding_dim\n",
    "value = torch.rand(seqlen, embed_dim)  # source_seq_len, value_embedding_dim"
   ]
  },
  {
   "cell_type": "code",
   "execution_count": 7,
   "metadata": {},
   "outputs": [],
   "source": [
    "attn_output, attn_output_weights = multi_attn(query, key, value)"
   ]
  },
  {
   "cell_type": "code",
   "execution_count": 8,
   "metadata": {},
   "outputs": [
    {
     "data": {
      "text/plain": [
       "torch.Size([10, 12])"
      ]
     },
     "execution_count": 8,
     "metadata": {},
     "output_type": "execute_result"
    }
   ],
   "source": [
    "attn_output.shape"
   ]
  },
  {
   "cell_type": "code",
   "execution_count": 9,
   "metadata": {},
   "outputs": [
    {
     "data": {
      "text/plain": [
       "tensor([[ 0.0234, -0.1684, -0.0636,  0.1402,  0.0948, -0.0758, -0.2251,  0.0719,\n",
       "          0.2606,  0.1671, -0.1268, -0.2008],\n",
       "        [ 0.0224, -0.1690, -0.0622,  0.1398,  0.0944, -0.0767, -0.2234,  0.0721,\n",
       "          0.2599,  0.1671, -0.1263, -0.2007],\n",
       "        [ 0.0206, -0.1691, -0.0622,  0.1391,  0.0945, -0.0769, -0.2237,  0.0728,\n",
       "          0.2610,  0.1680, -0.1266, -0.2000],\n",
       "        [ 0.0232, -0.1680, -0.0623,  0.1394,  0.0941, -0.0760, -0.2240,  0.0722,\n",
       "          0.2594,  0.1672, -0.1267, -0.2005],\n",
       "        [ 0.0225, -0.1687, -0.0631,  0.1392,  0.0945, -0.0760, -0.2242,  0.0730,\n",
       "          0.2604,  0.1670, -0.1271, -0.2004],\n",
       "        [ 0.0236, -0.1682, -0.0623,  0.1401,  0.0949, -0.0752, -0.2253,  0.0726,\n",
       "          0.2608,  0.1682, -0.1266, -0.2019],\n",
       "        [ 0.0224, -0.1696, -0.0640,  0.1400,  0.0953, -0.0768, -0.2245,  0.0726,\n",
       "          0.2602,  0.1663, -0.1268, -0.2002],\n",
       "        [ 0.0233, -0.1684, -0.0624,  0.1400,  0.0948, -0.0759, -0.2243,  0.0721,\n",
       "          0.2604,  0.1680, -0.1265, -0.2009],\n",
       "        [ 0.0212, -0.1692, -0.0629,  0.1395,  0.0951, -0.0765, -0.2244,  0.0727,\n",
       "          0.2612,  0.1676, -0.1267, -0.2005],\n",
       "        [ 0.0231, -0.1677, -0.0627,  0.1386,  0.0933, -0.0755, -0.2244,  0.0729,\n",
       "          0.2597,  0.1664, -0.1268, -0.2005]], grad_fn=<SqueezeBackward1>)"
      ]
     },
     "execution_count": 9,
     "metadata": {},
     "output_type": "execute_result"
    }
   ],
   "source": [
    "attn_output"
   ]
  },
  {
   "cell_type": "code",
   "execution_count": 10,
   "metadata": {},
   "outputs": [
    {
     "data": {
      "text/plain": [
       "torch.Size([10, 20])"
      ]
     },
     "execution_count": 10,
     "metadata": {},
     "output_type": "execute_result"
    }
   ],
   "source": [
    "attn_output_weights.shape"
   ]
  },
  {
   "cell_type": "code",
   "execution_count": 11,
   "metadata": {},
   "outputs": [
    {
     "data": {
      "text/plain": [
       "torch.Size([10, 20])"
      ]
     },
     "execution_count": 11,
     "metadata": {},
     "output_type": "execute_result"
    }
   ],
   "source": [
    "attn_output_weights.shape"
   ]
  },
  {
   "cell_type": "markdown",
   "metadata": {},
   "source": [
    "<br><br>"
   ]
  },
  {
   "cell_type": "markdown",
   "metadata": {},
   "source": [
    "### Transformers as language models\n",
    "\n",
    "- Given a training corpus of plain text we want to train a model to predict the next word in a sequence with semi-supervised learning. \n",
    "- At each time step, given all the preceding words, the final transformer layer produces an output distribution over the entire vocabulary. \n",
    "- During training the probability assigned to the correct word is used to calculate the cross-entropy loss for each item in the sequence. \n",
    "- Similar to RNNs, the loss for the training sequence is the average cross-entropy loss over the entire sequence. \n",
    "\n",
    "![](img/transformer_language_model.png)\n",
    "\n",
    "<!-- <img src=\"img/transformer_language_model.png\" width=\"700\" height=\"700\"> -->\n",
    "\n",
    "[Source](https://web.stanford.edu/~jurafsky/slp3/9.pdf)"
   ]
  },
  {
   "cell_type": "markdown",
   "metadata": {},
   "source": [
    "### RNN as language models\n",
    "\n",
    "- What's the difference between RNN-based language models vs. Transformers-based language model? \n",
    "    - The calculation of outputs and the losses at each time step was inherently serial in RNNs.\n",
    "    - With transformers, each training item can be processed in parallel.\n",
    "\n",
    "![](img/RNN_language_model.png)\n",
    "\n",
    "<!-- <img src=\"img/RNN_language_model.png\" width=\"700\" height=\"700\"> -->\n",
    "\n",
    "[Source](https://web.stanford.edu/~jurafsky/slp3/9.pdf)"
   ]
  },
  {
   "cell_type": "markdown",
   "metadata": {},
   "source": [
    "### Contextual generation \n",
    "\n",
    "- A seed is provided and the model is asked to generate a possible completition to it. \n",
    "- Also called **autoregressive text completion**. \n",
    "- During the generation process, the model has direct access to the priming context as well as the generated tokens. \n",
    "\n",
    "![](img/transformer_autoregressive_text_generation.png)\n",
    "\n",
    "<!-- <img src=\"img/transformer_autoregressive_text_generation.png\" width=\"700\" height=\"700\"> -->\n",
    "\n",
    "[Source](https://web.stanford.edu/~jurafsky/slp3/9.pdf)"
   ]
  },
  {
   "cell_type": "markdown",
   "metadata": {},
   "source": [
    "<br><br><br><br>"
   ]
  },
  {
   "cell_type": "markdown",
   "metadata": {},
   "source": [
    "## Bidirectional transformer encoders\n",
    "\n",
    "- Models such as [**BERT**](https://en.wikipedia.org/wiki/BERT_(language_model)) and its variant **RoBERTa** are **bidirectional transformer models**.  \n",
    "- Remember the [sentence transformers](https://www.sbert.net/) you used in DSCI 563 lab1 to get sentence embeddings? They are based on **BERT**.  \n",
    "- In the lab you're doing transfer learning using RoBERTa which was proposed in 2019. \n",
    "    - If you look at the `config_spacy.cfg`, you'll see the name of the model which is `roberta-base`.  \n",
    "- What underlies these models? "
   ]
  },
  {
   "cell_type": "markdown",
   "metadata": {},
   "source": [
    "### Backward looking self-attention \n",
    "\n",
    "- We have seen backward looking self-attention. \n",
    "- Each output is computed using only information seen **earlier** in the context. \n",
    "- This is appropriate for language models. \n",
    "\n",
    "![](img/self_attention.png)\n",
    "\n",
    "<!-- <img src=\"img/self_attention.png\" width=\"700\" height=\"700\"> -->"
   ]
  },
  {
   "cell_type": "markdown",
   "metadata": {},
   "source": [
    "#### Bidirectional self-attention\n",
    "\n",
    "- Information flows in both directions in bidirectional self attention. \n",
    "- The model attends to all inputs, both before and after the current one.\n",
    "\n",
    "![](img/bidirectional_self_attention.png)\n",
    "\n",
    "<!-- <img src=\"img/bidirectional_self_attention.png\" width=\"700\" height=\"700\"> -->\n",
    "\n",
    "[Source](https://web.stanford.edu/~jurafsky/slp3/9.pdf)"
   ]
  },
  {
   "cell_type": "markdown",
   "metadata": {},
   "source": [
    "- All the computations are exactly the same as before. \n",
    "- The matrix below shows $q_i \\cdot k_i$ comparisons. We do not set the values in the upper triangle to $\\infty$ anymore. \n",
    "\n",
    "![](img/self_attention_calc_all.png)\n",
    "\n",
    "<!-- <img src=\"img/self_attention_calc_all.png\" width=\"400\" height=\"400\"> -->"
   ]
  },
  {
   "cell_type": "markdown",
   "metadata": {},
   "source": [
    "The original bidirectional transformer encoder model (BERT) consisted of the following:\n",
    "\n",
    "- A subword vocabulary of 30,000 tokens \n",
    "- Hidden layers of size 768 (If you recall the sentence embeddings from DSCI 563 lab 1 were 768 dimensional.)\n",
    "- 12 layers of transformer blocks with 12 multihead attention layers each! \n",
    "\n",
    "The model has over 100M parameters. "
   ]
  },
  {
   "cell_type": "markdown",
   "metadata": {},
   "source": [
    "## Contextual embeddings \n",
    "\n",
    "- The methods like word2vec learned a single vector embedding for each unique word $w$ in the vocabulary. \n",
    "- By contrast, with contextual embeddings, such as those learned by popular methods such like BERT or GPT or their descendants, each word $w$ will be represented by a different vector each time it appears in a different context. \n"
   ]
  },
  {
   "cell_type": "markdown",
   "metadata": {},
   "source": [
    "## Transfer learning\n",
    "- Pretraining is the process of learning some representation of input (words or sentences in NLP context) by processing large amounts of text.  \n",
    "- Fine-tuning is the process of taking the representations from these pretrained models and further training the model often by adding a neural net classifier to perform some downstream task such as named entity recognition similar to what you are doing in the lab. \n",
    "- The intuition is that the pretrained phase learns a language model which in the process learns a rich representation of contextual word meaning enabling the model to be fine-tuned to the requirements of the downstream language understanding task.   \n",
    "- This pretrain and fine-tune paradigm is called **transfer learning** in machine learning. "
   ]
  },
  {
   "cell_type": "markdown",
   "metadata": {},
   "source": [
    "![](img/BERT_sequence_labeling.png)\n",
    "\n",
    "<!-- <img src=\"img/BERT_sequence_labeling.png\" width=\"700\" height=\"700\"> -->\n",
    "\n",
    "[Source](https://web.stanford.edu/~jurafsky/slp3/9.pdf)"
   ]
  },
  {
   "cell_type": "markdown",
   "metadata": {},
   "source": [
    "There are many things related to transformers which we have not covered. You can look up the following if you want to know more. [The Illustrated Transformer](http://jalammar.github.io/illustrated-transformer/) is an excellent resource. \n",
    "- Seq2seq models with attention \n",
    "- Masked language modeling \n",
    "- Contextual embeddings \n",
    "- ...\n",
    "\n",
    "Transformers are not only for NLP. They have been successfully applied in many other domains often with state-of-the-art results. For example, \n",
    "- [Vision Transformers](https://arxiv.org/pdf/2010.11929.pdf)\n",
    "- Bioinformatics: See [this](https://www.deepmind.com/blog/alphafold-a-solution-to-a-50-year-old-grand-challenge-in-biology) and [this](http://people.csail.mit.edu/tommi/papers/Ingraham_etal_neurips19.pdf)."
   ]
  },
  {
   "cell_type": "markdown",
   "metadata": {
    "slideshow": {
     "slide_type": "slide"
    }
   },
   "source": [
    "<br><br><br><br>"
   ]
  },
  {
   "cell_type": "markdown",
   "metadata": {
    "slideshow": {
     "slide_type": "slide"
    }
   },
   "source": [
    "## Resources\n",
    "Attention-mechanisms and transformers are quite new. But there are many resources on transformers. I'm listing a few resources here. \n",
    "\n",
    "- [Attention is all you need](https://arxiv.org/pdf/1706.03762.pdf)\n",
    "- [Transformers](https://ai.googleblog.com/2017/08/transformer-novel-neural-network.html)\n",
    "- [The Illustrated Transformer](http://jalammar.github.io/illustrated-transformer/)\n",
    "- [Transformers documentation](https://huggingface.co/transformers/index.html)\n",
    "- [A funny video: I taught an AI to make pasta](https://www.youtube.com/watch?v=Y_NvR5dIaOY)\n",
    "- [BERT](https://ai.googleblog.com/2018/11/open-sourcing-bert-state-of-art-pre.html)"
   ]
  },
  {
   "cell_type": "markdown",
   "metadata": {
    "slideshow": {
     "slide_type": "slide"
    }
   },
   "source": [
    "<br><br><br><br>"
   ]
  },
  {
   "cell_type": "markdown",
   "metadata": {
    "slideshow": {
     "slide_type": "slide"
    }
   },
   "source": [
    "## Summary and wrap up "
   ]
  },
  {
   "cell_type": "markdown",
   "metadata": {
    "slideshow": {
     "slide_type": "slide"
    }
   },
   "source": [
    "### Week 1 ✅\n",
    "\n",
    "- Markov models, language models, text generation \n",
    "\n",
    "![](img/Markov_autocompletion.png)\n",
    "\n",
    "<!-- <center> -->\n",
    "<!-- <img src=\"img/Markov_autocompletion.png\" height=\"800\" width=\"800\">  -->\n",
    "<!-- </center>     -->\n",
    "    "
   ]
  },
  {
   "cell_type": "markdown",
   "metadata": {
    "slideshow": {
     "slide_type": "slide"
    }
   },
   "source": [
    "### Applications of Markov models\n",
    "\n",
    "![](img/Markov_chain_applications.png)\n",
    "\n",
    "<!-- <center> -->\n",
    "<!-- <img src=\"img/Markov_chain_applications.png\" width=\"500\" height=\"500\"> -->\n",
    "<!-- </center>     -->\n",
    "    "
   ]
  },
  {
   "cell_type": "markdown",
   "metadata": {
    "slideshow": {
     "slide_type": "slide"
    }
   },
   "source": [
    "### Week 2 ✅\n",
    "\n",
    "- Hidden Markov models, speech recognition, POS tagging\n",
    "\n",
    "![](img/hmm_eks.gif)\n",
    "\n",
    "<!-- <center> -->\n",
    "<!-- <img src=\"img/hmm_eks.gif\" height=\"800\" width=\"800\"> -->\n",
    "<!-- </center> -->\n",
    "\n",
    "    "
   ]
  },
  {
   "cell_type": "markdown",
   "metadata": {
    "slideshow": {
     "slide_type": "slide"
    }
   },
   "source": [
    "### Week 3 ✅\n",
    "\n",
    "- Topic modeling (Latent Dirichlet Allocation (LDA)), organizing documents \n",
    "- Introduction to Recurrent Neural Networks (RNNs)\n",
    "\n",
    "![](img/TM_food_magazines.png)\n",
    "\n",
    "<!-- <center> -->\n",
    "<!-- <img src=\"img/TM_food_magazines.png\" height=\"1000\" width=\"1000\">  -->\n",
    "<!-- </center>     -->\n"
   ]
  },
  {
   "cell_type": "markdown",
   "metadata": {
    "slideshow": {
     "slide_type": "slide"
    }
   },
   "source": [
    "### Week 4 ✅\n",
    "\n",
    "- LSTMs, Transformers, Custom NER using transfer learning \n"
   ]
  },
  {
   "cell_type": "markdown",
   "metadata": {},
   "source": [
    "![](img/eva-accomplished.png)"
   ]
  },
  {
   "cell_type": "markdown",
   "metadata": {
    "slideshow": {
     "slide_type": "slide"
    }
   },
   "source": [
    "### Final remarks \n",
    "\n",
    "That's all! I had fun teaching you this complex material. I very much appreciate your support, patience, and great questions ♥️!   \n",
    "\n",
    "It has been a challenging year but we all tried to make the best out of it. I wish you every success in your job search. Stay in touch!"
   ]
  },
  {
   "cell_type": "markdown",
   "metadata": {},
   "source": [
    "### Time for course evaluations\n",
    "\n",
    "I would love to hear your thoughts on this course. When you get a chance, it'll be great if you fill in the evaluation survey for this course on [Canvas](https://canvas.ubc.ca/courses/83559/external_tools/4732). \n",
    "\n",
    "The evaluation closing date is: **April 29th, 2022**"
   ]
  },
  {
   "cell_type": "markdown",
   "metadata": {},
   "source": [
    "<br><br><br><br>"
   ]
  }
 ],
 "metadata": {
  "celltoolbar": "Slideshow",
  "kernelspec": {
   "display_name": "Python [conda env:575]",
   "language": "python",
   "name": "conda-env-575-py"
  },
  "language_info": {
   "codemirror_mode": {
    "name": "ipython",
    "version": 3
   },
   "file_extension": ".py",
   "mimetype": "text/x-python",
   "name": "python",
   "nbconvert_exporter": "python",
   "pygments_lexer": "ipython3",
   "version": "3.10.4"
  }
 },
 "nbformat": 4,
 "nbformat_minor": 4
}
