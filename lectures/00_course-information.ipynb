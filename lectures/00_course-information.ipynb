{
 "cells": [
  {
   "cell_type": "markdown",
   "metadata": {},
   "source": [
    "![](img/575_banner.png)"
   ]
  },
  {
   "cell_type": "markdown",
   "metadata": {
    "slideshow": {
     "slide_type": "slide"
    }
   },
   "source": [
    "# Course Information\n",
    "\n",
    "UBC Master of Data Science program, 2023-24\n",
    "\n",
    "Instructor: Varada Kolhatkar"
   ]
  },
  {
   "cell_type": "markdown",
   "metadata": {
    "slideshow": {
     "slide_type": "skip"
    }
   },
   "source": [
    "## Learning outcomes \n",
    "\n",
    "From this lecture, students are expected to be able to:\n",
    "\n",
    "- Explain relevance of NLP and some goals of natural language processing (NLP). \n",
    "- Explain difficulties associated with NLP. \n",
    "- Name a few applications of natural language processing.  "
   ]
  },
  {
   "cell_type": "markdown",
   "metadata": {
    "slideshow": {
     "slide_type": "slide"
    }
   },
   "source": [
    "### Map of ML courses in MDS \n",
    "\n",
    "![](img/MDS-ML-map.png)\n",
    "<!-- <img src=\"img/MDS-ML-map.png\" height=\"1200\" width=\"1200\">  -->\n"
   ]
  },
  {
   "cell_type": "markdown",
   "metadata": {
    "slideshow": {
     "slide_type": "slide"
    }
   },
   "source": [
    "## What is Natural Language Processing (NLP)?\n",
    "\n",
    "- What should a search engine return when asked the following question? \n",
    "\n",
    "![](img/lexical_ambiguity.png)\n",
    "<!-- <img src=\"img/lexical_ambiguity.png\" width=\"1000\" height=\"1000\"> -->"
   ]
  },
  {
   "cell_type": "markdown",
   "metadata": {
    "slideshow": {
     "slide_type": "slide"
    }
   },
   "source": [
    "### What is Natural Language Processing (NLP)?\n",
    "#### How often do you search everyday? \n",
    "\n",
    "\n",
    "![](img/Google_search.png)\n",
    "<!-- <img src=\"img/Google_search.png\" width=\"900\" height=\"900\"> -->"
   ]
  },
  {
   "cell_type": "markdown",
   "metadata": {
    "slideshow": {
     "slide_type": "slide"
    }
   },
   "source": [
    "### What is Natural Language Processing (NLP)?\n",
    "\n",
    "\n",
    "![](img/WhatisNLP.png)\n",
    "<!-- <img src=\"img/WhatisNLP.png\" width=\"800\" height=\"800\"> -->\n",
    "    "
   ]
  },
  {
   "cell_type": "markdown",
   "metadata": {
    "slideshow": {
     "slide_type": "slide"
    }
   },
   "source": [
    "### Everyday NLP applications\n",
    "\n",
    "![](img/annotation-image.png)\n",
    "<!-- <img src=\"img/annotation-image.png\" height=\"1200\" width=\"1200\"> -->\n"
   ]
  },
  {
   "cell_type": "markdown",
   "metadata": {
    "slideshow": {
     "slide_type": "slide"
    }
   },
   "source": [
    "### NLP in news \n",
    "\n",
    "Often you'll NLP in news. Some examples: \n",
    "- [How suicide prevention is getting a boost from artificial intelligence](https://abcnews.go.com/GMA/Wellness/suicide-prevention-boost-artificial-intelligence-exclusive/story?id=76541481)\n",
    "- [Meet GPT-3. It Has Learned to Code (and Blog and Argue).](https://www.nytimes.com/2020/11/24/science/artificial-intelligence-ai-gpt3.html)\n",
    "- [How Do You Know a Human Wrote This?](https://www.nytimes.com/2020/07/29/opinion/gpt-3-ai-automation.html)\n",
    "- ..."
   ]
  },
  {
   "cell_type": "markdown",
   "metadata": {
    "slideshow": {
     "slide_type": "slide"
    }
   },
   "source": [
    "### Why is NLP hard?\n",
    "\n",
    "- Language is complex and subtle. \n",
    "- Language is ambiguous at different levels. \n",
    "- Language understanding involves common-sense knowledge and real-world reasoning.\n",
    "- All the problems related to representation and reasoning in artificial intelligence arise in this domain. "
   ]
  },
  {
   "cell_type": "markdown",
   "metadata": {
    "slideshow": {
     "slide_type": "slide"
    }
   },
   "source": [
    "## Example: Lexical ambiguity\n",
    "\n",
    "<br><br>\n",
    "\n",
    "![](img/lexical_ambiguity.png)\n",
    "<!-- <img src=\"img/lexical_ambiguity.png\" width=\"1000\" height=\"1000\"> -->\n",
    "    "
   ]
  },
  {
   "cell_type": "markdown",
   "metadata": {
    "slideshow": {
     "slide_type": "slide"
    }
   },
   "source": [
    "## Example: Referential ambiguity\n",
    "<br><br>\n",
    "\n",
    "![](img/referential_ambiguity.png)\n",
    "<!-- <img src=\"img/referential_ambiguity.png\" width=\"1000\" height=\"1000\">    -->"
   ]
  },
  {
   "cell_type": "markdown",
   "metadata": {
    "slideshow": {
     "slide_type": "slide"
    }
   },
   "source": [
    "### [Ambiguous news headlines](http://www.fun-with-words.com/ambiguous_headlines.html)\n",
    "\n",
    "<blockquote>\n",
    "PROSTITUTES APPEAL TO POPE\n",
    "</blockquote>    \n",
    "\n",
    "- **appeal to** means make a serious or urgent request or be attractive or interesting?\n",
    "\n",
    "<blockquote>\n",
    "KICKING BABY CONSIDERED TO BE HEALTHY    \n",
    "</blockquote> \n",
    "\n",
    "- **kicking** is used as an adjective or a verb?\n",
    "\n",
    "<blockquote>\n",
    "MILK DRINKERS ARE TURNING TO POWDER\n",
    "</blockquote>\n",
    "\n",
    "- **turning** means becoming or take up?"
   ]
  },
  {
   "cell_type": "markdown",
   "metadata": {
    "slideshow": {
     "slide_type": "slide"
    }
   },
   "source": [
    "<br><br><br><br>"
   ]
  },
  {
   "cell_type": "markdown",
   "metadata": {
    "slideshow": {
     "slide_type": "slide"
    }
   },
   "source": [
    "### High-level goals of this course\n",
    "\n",
    "- Learn and apply new ML algorithms and methods with the theme of NLP applications.\n",
    "- Prepare you a bit for employment in the NLP area.\n",
    "- Have fun! \n",
    "\n",
    "![](img/NLP_in_industry.png)\n",
    "<!-- <img src=\"img/NLP_in_industry.png\" width=\"900\" height=\"900\"> -->    "
   ]
  },
  {
   "cell_type": "markdown",
   "metadata": {
    "slideshow": {
     "slide_type": "slide"
    }
   },
   "source": [
    "<br><br><br><br>"
   ]
  },
  {
   "cell_type": "markdown",
   "metadata": {
    "slideshow": {
     "slide_type": "slide"
    }
   },
   "source": [
    "## Course roadmap\n"
   ]
  },
  {
   "cell_type": "markdown",
   "metadata": {
    "slideshow": {
     "slide_type": "slide"
    }
   },
   "source": [
    "### Week 1\n",
    "\n",
    "- Markov models\n",
    "\n",
    "![](img/Markov_autocompletion.png)\n",
    "<!-- <img src=\"img/Markov_autocompletion.png\" height=\"800\" width=\"800\">  -->    "
   ]
  },
  {
   "cell_type": "markdown",
   "metadata": {
    "slideshow": {
     "slide_type": "slide"
    }
   },
   "source": [
    "### Applications of Markov models\n",
    "\n",
    "![](img/Markov_chain_applications.png)\n",
    "<!-- <img src=\"img/Markov_chain_applications.png\" width=\"500\" height=\"500\">     -->"
   ]
  },
  {
   "cell_type": "markdown",
   "metadata": {
    "slideshow": {
     "slide_type": "slide"
    }
   },
   "source": [
    "### Week 2\n",
    "\n",
    "- Hidden Markov models\n",
    "\n",
    "![](img/hmm_pos_tagging.png)\n",
    "<!-- <img src=\"img/hmm_pos_tagging.png\" height=\"1000\" width=\"1000\">      -->"
   ]
  },
  {
   "cell_type": "markdown",
   "metadata": {
    "slideshow": {
     "slide_type": "slide"
    }
   },
   "source": [
    "### Week 3\n",
    "\n",
    "- Topic modeling (Latent Dirichlet Allocation (LDA))\n",
    "    - Suppose given a large collection of documents, you are asked to \n",
    "        - Infer different topics in the documents\n",
    "        - Pull all documents about a certain topic    \n",
    "- Introduction to Recurrent Neural Networks (RNNs)\n",
    "<!-- <img src=\"img/TM_food_magazines.png\" height=\"1000\" width=\"1000\">  -->\n",
    "![](img/TM_food_magazines.png)"
   ]
  },
  {
   "cell_type": "markdown",
   "metadata": {
    "slideshow": {
     "slide_type": "slide"
    }
   },
   "source": [
    "### Week 4 \n",
    "\n",
    "\n",
    "- Transformers\n",
    "\n",
    "<blockquote>\n",
    "\n",
    "![](img/image_captioning.png)\n",
    "<!-- <img src=\"img/image_captioning.png\" width=\"1000\" height=\"1000\"> -->\n",
    "    \n",
    " \n",
    "[Source](https://cs.stanford.edu/people/karpathy/sfmltalk.pdf)"
   ]
  },
  {
   "cell_type": "markdown",
   "metadata": {
    "slideshow": {
     "slide_type": "slide"
    }
   },
   "source": [
    "### ASIDE: [Neural Storyteller](https://github.com/ryankiros/neural-storyteller)\n",
    "\n",
    "\n",
    "<!-- <img src=\"img/RNN_example.jpg\" width=\"600\" height=\"600\"> -->\n",
    "![](img/RNN_example.jpg)\n",
    "    \n",
    "\n",
    "<blockquote> \n",
    "<p style=\"font-size:30px\">We were barely able to catch the breeze at the beach , and it felt as if someone stepped out of my mind . She was in love with him for the first time in months , so she had no intention of escaping . The sun had risen from the ocean , making her feel more alive than normal . She 's beautiful , but the truth is that I do n't know what to do ...</p>\n",
    "</blockquote>    \n",
    "\n",
    "[Source](https://github.com/ryankiros/neural-storyteller)"
   ]
  },
  {
   "cell_type": "markdown",
   "metadata": {
    "slideshow": {
     "slide_type": "slide"
    }
   },
   "source": [
    "### Tools we will be using in this class \n",
    "\n",
    "- [sklearn](https://scikit-learn.org/stable/)\n",
    "- [Gensim](https://radimrehurek.com/gensim/)\n",
    "- [spaCy](https://spacy.io/)\n",
    "- [nltk](https://www.nltk.org/)\n",
    "- [PyTorch](https://pytorch.org/)\n",
    "- [Kaggle Notebooks](https://www.kaggle.com/code) or [Google Colab](https://colab.research.google.com/notebooks/intro.ipynb#recent=true)\n",
    "\n",
    "Make sure to set up the environment using [the course environment file](https://github.ubc.ca/MDS-2023-24/DSCI_575_adv-mach-learn_students/blob/master/README.md). "
   ]
  },
  {
   "cell_type": "markdown",
   "metadata": {
    "slideshow": {
     "slide_type": "slide"
    }
   },
   "source": [
    "That's all about course information! "
   ]
  }
 ],
 "metadata": {
  "celltoolbar": "Slideshow",
  "kernelspec": {
   "display_name": "Python [conda env:563]",
   "language": "python",
   "name": "conda-env-563-py"
  },
  "language_info": {
   "codemirror_mode": {
    "name": "ipython",
    "version": 3
   },
   "file_extension": ".py",
   "mimetype": "text/x-python",
   "name": "python",
   "nbconvert_exporter": "python",
   "pygments_lexer": "ipython3",
   "version": "3.11.8"
  }
 },
 "nbformat": 4,
 "nbformat_minor": 4
}
