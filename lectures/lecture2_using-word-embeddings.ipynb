{
 "cells": [
  {
   "cell_type": "markdown",
   "metadata": {
    "slideshow": {
     "slide_type": "slide"
    }
   },
   "source": [
    "# DSCI 575: Advanced Machine Learning (in the context of Natural Language Processing (NLP) applications)\n",
    "\n",
    "## Lecture 2: Using word embeddings\n",
    "\n",
    "UBC Master of Data Science program, 2019-20\n",
    "\n",
    "Instructor: Varada Kolhatkar [ʋəɾəda kɔːlɦəʈkər]\n",
    "\n",
    "### Lecture plan \n",
    "\n",
    "- Evaluating quality of word vectors (Video Lecture 2.1)\n",
    "- Using word embeddings for text classification (Video Lecture 2.1)\n",
    "- Using word2vec for product recommendation (Video Lecture 2.2)\n",
    "- Basic text preprocessing (Video Lecture 2.3)"
   ]
  },
  {
   "cell_type": "code",
   "execution_count": 6,
   "metadata": {
    "slideshow": {
     "slide_type": "skip"
    }
   },
   "outputs": [],
   "source": [
    "# Thanks to Firas for the following code for making jupyter RISE slides pretty! \n",
    "from traitlets.config.manager import BaseJSONConfigManager\n",
    "from pathlib import Path\n",
    "path = Path.home() / \".jupyter\" / \"nbconfig\"\n",
    "cm = BaseJSONConfigManager(config_dir=str(path))\n",
    "tmp = cm.update(\n",
    "        \"rise\",\n",
    "        {\n",
    "            \"theme\": \"serif\",\n",
    "            \"transition\": \"fade\",\n",
    "            \"start_slideshow_at\": \"selected\",            \n",
    "            \"width\": \"100%\",\n",
    "            \"height\": \"100%\",\n",
    "            \"header\": \"\",\n",
    "            \"footer\":\"\",\n",
    "            \"scroll\": True,\n",
    "            \"enable_chalkboard\": True,\n",
    "            \"slideNumber\": True,\n",
    "            \"center\": False,\n",
    "            \"controlsLayout\": \"edges\",\n",
    "            \"slideNumber\": True,\n",
    "            \"hash\": True,\n",
    "        }\n",
    "    )\n"
   ]
  },
  {
   "cell_type": "code",
   "execution_count": 7,
   "metadata": {
    "slideshow": {
     "slide_type": "skip"
    }
   },
   "outputs": [
    {
     "data": {
      "text/html": [
       "<style>\n",
       ".rendered_html table, .rendered_html th, .rendered_html tr, .rendered_html td {\n",
       "     font-size: 130%;\n",
       "}\n",
       "\n",
       "body.rise-enabled div.inner_cell>div.input_area {\n",
       "    font-size: 100%;\n",
       "}\n",
       "\n",
       "body.rise-enabled div.output_subarea.output_text.output_result {\n",
       "    font-size: 100%;\n",
       "}\n",
       "body.rise-enabled div.output_subarea.output_text.output_stream.output_stdout {\n",
       "  font-size: 150%;\n",
       "}\n",
       "</style>\n"
      ],
      "text/plain": [
       "<IPython.core.display.HTML object>"
      ]
     },
     "metadata": {},
     "output_type": "display_data"
    }
   ],
   "source": [
    "%%HTML\n",
    "<style>\n",
    ".rendered_html table, .rendered_html th, .rendered_html tr, .rendered_html td {\n",
    "     font-size: 130%;\n",
    "}\n",
    "\n",
    "body.rise-enabled div.inner_cell>div.input_area {\n",
    "    font-size: 100%;\n",
    "}\n",
    "\n",
    "body.rise-enabled div.output_subarea.output_text.output_result {\n",
    "    font-size: 100%;\n",
    "}\n",
    "body.rise-enabled div.output_subarea.output_text.output_stream.output_stdout {\n",
    "  font-size: 150%;\n",
    "}\n",
    "</style>"
   ]
  },
  {
   "cell_type": "code",
   "execution_count": 8,
   "metadata": {
    "slideshow": {
     "slide_type": "skip"
    }
   },
   "outputs": [],
   "source": [
    "import pandas as pd\n",
    "import numpy as np\n",
    "import os, sys\n",
    "from IPython.display import display, HTML\n",
    "\n",
    "import matplotlib.pyplot as plt\n",
    "\n",
    "from sklearn.linear_model import LinearRegression, LogisticRegression\n",
    "from sklearn.model_selection import train_test_split\n",
    "from sklearn.feature_extraction.text import CountVectorizer\n",
    "\n",
    "\n",
    "import nltk\n",
    "import string\n",
    "from nltk.tokenize import sent_tokenize, word_tokenize\n",
    "from nltk.corpus import stopwords\n",
    "\n",
    "from gensim.models import Word2Vec,FastText\n",
    "import time\n",
    "\n",
    "import re\n",
    "from collections import defaultdict\n",
    "from collections import Counter"
   ]
  },
  {
   "cell_type": "markdown",
   "metadata": {
    "slideshow": {
     "slide_type": "slide"
    }
   },
   "source": [
    "\n",
    "###  Learning outcomes\n",
    "\n",
    "By the end of this class you will be able to \n",
    "\n",
    "- Explain how could we evaluate quality of word embeddings \n",
    "- Use word embeddings in text classification  \n",
    "- Use the word2vec algorithm to build product recommendation system\n",
    "- Carry out basic text preprocessing using `nltk` and `spaCy`"
   ]
  },
  {
   "cell_type": "markdown",
   "metadata": {
    "slideshow": {
     "slide_type": "slide"
    }
   },
   "source": [
    "### Evaluating quality of word vectors"
   ]
  },
  {
   "cell_type": "markdown",
   "metadata": {
    "slideshow": {
     "slide_type": "slide"
    }
   },
   "source": [
    "### t-SNE projection of embeddings of some words"
   ]
  },
  {
   "cell_type": "code",
   "execution_count": 6,
   "metadata": {
    "slideshow": {
     "slide_type": "slide"
    }
   },
   "outputs": [],
   "source": [
    "# Load GoogleNews pretrained embeddings\n",
    "from gensim.models import KeyedVectors\n",
    "model = KeyedVectors.load_word2vec_format('/Users/kvarada/MDS/2019-20/575/data/GoogleNews-vectors-negative300.bin', binary=True)"
   ]
  },
  {
   "cell_type": "code",
   "execution_count": 11,
   "metadata": {
    "slideshow": {
     "slide_type": "skip"
    }
   },
   "outputs": [],
   "source": [
    "import matplotlib.pyplot as plt\n",
    "import matplotlib.cm as cm\n",
    "\n",
    "def tsne_plot_similar_words(title, labels, embedding_clusters, word_clusters, a, filename=None):\n",
    "    plt.figure(figsize=(16, 9))\n",
    "    #colors = cm.rainbow(np.linspace(0, 1, len(labels)))\n",
    "    colors = ['red', 'green', 'blue', 'cyan', 'orange']\n",
    "    for label, embeddings, words, color in zip(labels, embedding_clusters, word_clusters, colors):\n",
    "        x = embeddings[:, 0]\n",
    "        y = embeddings[:, 1]\n",
    "        plt.scatter(x, y, c=color, alpha=a, label=label)\n",
    "        for i, word in enumerate(words):\n",
    "            plt.annotate(word, alpha=2.0, xy=(x[i], y[i]), xytext=(5, 2),\n",
    "                         textcoords='offset points', ha='right', va='bottom', size=12)\n",
    "    plt.legend(loc=2)\n",
    "    plt.title(title)\n",
    "    plt.grid(True)\n",
    "    if filename:\n",
    "        plt.savefig(filename, format='png', dpi=150, bbox_inches='tight')\n",
    "    plt.show()"
   ]
  },
  {
   "cell_type": "code",
   "execution_count": 12,
   "metadata": {
    "slideshow": {
     "slide_type": "skip"
    }
   },
   "outputs": [],
   "source": [
    "keys = ['Vancouver', 'data', 'mango', 'hockey', 'meditation']\n",
    "\n",
    "embedding_clusters = []\n",
    "word_clusters = []\n",
    "for word in keys:\n",
    "    embeddings = []\n",
    "    words = []\n",
    "    for similar_word, _ in model.most_similar(word, topn=10):\n",
    "        words.append(similar_word)\n",
    "        embeddings.append(model[similar_word])\n",
    "        \n",
    "    embedding_clusters.append(embeddings)\n",
    "    word_clusters.append(words)\n",
    "    \n",
    "from sklearn.manifold import TSNE\n",
    "import numpy as np\n",
    "\n",
    "embedding_clusters = np.array(embedding_clusters)\n",
    "n, m, k = embedding_clusters.shape\n",
    "tsne_model_en_2d = TSNE(perplexity=15, n_components=2, init='pca', n_iter=3500, random_state=32)\n",
    "embeddings_en_2d = np.array(tsne_model_en_2d.fit_transform(embedding_clusters.reshape(n * m, k))).reshape(n, m, 2)    \n",
    "\n",
    "import matplotlib.pyplot as plt\n",
    "import matplotlib.cm as cm"
   ]
  },
  {
   "cell_type": "code",
   "execution_count": 13,
   "metadata": {
    "slideshow": {
     "slide_type": "slide"
    }
   },
   "outputs": [
    {
     "data": {
      "image/png": "[encoded data removed]",
      "text/plain": [
       "<Figure size 1152x648 with 1 Axes>"
      ]
     },
     "metadata": {
      "needs_background": "light"
     },
     "output_type": "display_data"
    }
   ],
   "source": [
    "#keys = ['Vancouver', 'data', 'mango', 'hockey', 'meditation']\n",
    "tsne_plot_similar_words('Similar words from Wikipedia', keys, embeddings_en_2d, word_clusters,  0.9)"
   ]
  },
  {
   "cell_type": "markdown",
   "metadata": {
    "slideshow": {
     "slide_type": "slide"
    }
   },
   "source": [
    "### Quality of word vectors\n",
    "\n",
    "- Extrinsic evaluation \n",
    "    * See if they improve accuracy of of downstream applications such as question answering and sentiment analysis. \n",
    "- Intrinsic evaluation\n",
    "    * Compare it to human judgment on the similarity between words.\n",
    "    * Taking TOEFL multiple-choice vocabulary tests.\n",
    "        - **Levied**  is closest in meaning to:\n",
    "          _imposed, believed, requested, correlated_"
   ]
  },
  {
   "cell_type": "code",
   "execution_count": 43,
   "metadata": {
    "slideshow": {
     "slide_type": "slide"
    }
   },
   "outputs": [
    {
     "data": {
      "text/plain": [
       "[('levying', 0.7044811844825745),\n",
       " ('Dedicating_fines', 0.5996161103248596),\n",
       " ('levies', 0.5890565514564514),\n",
       " ('imposed', 0.5830395221710205),\n",
       " ('fines_levied', 0.5777179002761841),\n",
       " ('Levying', 0.5654435753822327),\n",
       " ('Osteens_paid', 0.5609164834022522),\n",
       " ('levy', 0.5559998154640198),\n",
       " ('fines', 0.5462918281555176),\n",
       " ('Longe_Velazquez', 0.522169291973114)]"
      ]
     },
     "execution_count": 43,
     "metadata": {},
     "output_type": "execute_result"
    }
   ],
   "source": [
    "model.most_similar('levied')"
   ]
  },
  {
   "cell_type": "markdown",
   "metadata": {
    "slideshow": {
     "slide_type": "slide"
    }
   },
   "source": [
    "### Using embeddings for text classification\n",
    "\n",
    "- Assuming that we have reasonable representations of words. \n",
    "- How do we represent meaning of paragraphs or documents?\n",
    "- Two simple approaches\n",
    "    - Averaging embeddings?\n",
    "    - Concatenating embeddings?"
   ]
  },
  {
   "cell_type": "markdown",
   "metadata": {
    "slideshow": {
     "slide_type": "slide"
    }
   },
   "source": [
    "### Averaging embeddings\n",
    "\n",
    "<blockquote>\n",
    "All empty promises!\n",
    "</blockquote>\n",
    "    \n",
    "$(embedding(all) + embedding(empty) + embedding(promise))/3$"
   ]
  },
  {
   "cell_type": "code",
   "execution_count": 32,
   "metadata": {
    "slideshow": {
     "slide_type": "slide"
    }
   },
   "outputs": [],
   "source": [
    "# Here is how you upload the pretrained GloVe twitter embeddings. \n",
    "# Download [GloVe embeddings for Twitter](http://nlp.stanford.edu/data/glove.twitter.27B.zip). This is a large file (the compressed file is ~1.42 GB ).\n",
    "# Unzip the downloaded file. For this exercise we'll be using `glove.twitter.27B/glove.twitter.27B.100d.txt`. The file has words and their corresponding pre-trained embeddings.\n",
    "# Convert the GloVe embeddings to the Word2Vec format using the following command. More details [here](https://www.pydoc.io/pypi/gensim-3.2.0/autoapi/scripts/glove2word2vec/index.html).\n",
    "\n",
    "# > python -m gensim.scripts.glove2word2vec -i \"glove.twitter.27B.100d.txt\" -o \"glove.twitter.27B.100d.w2v.txt\"\n",
    "\n",
    "# Load the `glove_twitter_model` as follows\n",
    "\n",
    "\n",
    "glove_twitter_model = KeyedVectors.load_word2vec_format('/Users/kvarada/MDS/2018-19/575/data/glove.twitter.27B/glove.twitter.27B.100d.w2v.txt', \n",
    "                                                          binary=False)  # C text format"
   ]
  },
  {
   "cell_type": "code",
   "execution_count": 33,
   "metadata": {
    "slideshow": {
     "slide_type": "slide"
    }
   },
   "outputs": [],
   "source": [
    "def get_average_embeddings(text, model = glove_twitter_model):\n",
    "    \"\"\"\n",
    "    Returns the average embedding of the given text\n",
    "    using the given trained model (e.g., Word2vec, FastText). \n",
    "    \n",
    "    Arguments\n",
    "    ---------\n",
    "    text : (str) input text \n",
    "    model : (gensim.models) model to use to get embeddings\n",
    "    \n",
    "    Returns\n",
    "    -------\n",
    "    feat_vect : (numpy.ndarray) the average embedding vector of the given text\n",
    "    \"\"\"\n",
    "    n_features = model.vector_size\n",
    "    \n",
    "    stop_words = list(set(stopwords.words('english')))\n",
    "    punctuation = string.punctuation\n",
    "    stop_words += list(punctuation)\n",
    "    stop_words.extend(['``','’', '`','br','\"',\"”\", \"''\", \"'s\"])        \n",
    "        \n",
    "    preprocessed = []    \n",
    "    tokenized = word_tokenize(text)\n",
    "    for token in tokenized:\n",
    "        token = token.lower()\n",
    "        if token not in stop_words:\n",
    "            preprocessed.append(token)\n",
    "\n",
    "    feat_vect = np.zeros(n_features, dtype='float64')\n",
    "    #index2word_set = set(model.wv.index2word)    \n",
    "    nwords = 0 \n",
    "\n",
    "    for word in preprocessed:\n",
    "        #if word in index2word_set:\n",
    "        try: \n",
    "            nwords += 1\n",
    "            feat_vect = np.add(feat_vect, model[word])\n",
    "        except:\n",
    "            continue\n",
    "    if nwords == 0:\n",
    "        nwords = 1\n",
    "    feat_vect = np.divide(feat_vect, nwords)     \n",
    "    return feat_vect"
   ]
  },
  {
   "cell_type": "code",
   "execution_count": 34,
   "metadata": {
    "slideshow": {
     "slide_type": "slide"
    }
   },
   "outputs": [
    {
     "data": {
      "text/plain": [
       "array([ 3.60035002e-01,  5.18444985e-01, -2.39145003e-01, -1.46000013e-02,\n",
       "       -3.29401998e-01, -3.16575006e-01,  3.07255000e-01,  2.64699906e-02,\n",
       "        1.30725019e-02, -9.27980007e-02,  1.34200003e-01, -4.45720032e-02,\n",
       "       -4.00855005e+00,  1.61449999e-01,  3.08024995e-01,  4.08237513e-01,\n",
       "        1.99725010e-01,  4.36849967e-02, -3.68525486e-01,  8.04770023e-01,\n",
       "        3.41830015e-01,  3.75235006e-01,  1.66220000e-01, -1.64515004e-02,\n",
       "        5.06889984e-01,  3.68501246e-03,  1.75049976e-02, -6.24995008e-01,\n",
       "        3.48306007e-01, -4.60869998e-01, -9.68150031e-02, -3.87620002e-01,\n",
       "       -1.13109006e-01,  2.02615000e-01, -9.97699946e-02,  4.71134990e-01,\n",
       "        4.99360010e-01, -6.41520023e-01, -3.90730008e-01,  1.36126999e-01,\n",
       "       -4.49696001e-01, -7.52635002e-01,  3.04244995e-01, -7.60949850e-02,\n",
       "        1.04534995e-01,  5.39649474e-01,  1.33495003e-01, -3.06942999e-01,\n",
       "        2.09695004e-01, -3.11054997e-01, -6.92490011e-01, -1.08889500e-01,\n",
       "       -5.45754991e-01,  1.09384984e-01, -4.07935001e-01, -8.18814993e-01,\n",
       "       -4.59100008e-02,  2.55035006e-01,  1.30274996e-01, -5.12939990e-01,\n",
       "        2.66397003e-01, -2.37294994e-01,  3.00400034e-02, -1.17744997e-01,\n",
       "       -3.47279996e-01, -3.32599878e-02, -3.50498997e-01,  1.12188501e-01,\n",
       "        2.91870005e-01,  4.78869990e-01,  5.68649918e-02, -7.90049881e-03,\n",
       "        1.99564993e-01, -3.46895009e-01,  6.45690009e-01, -1.52334988e-01,\n",
       "       -6.02459997e-01, -1.44580007e-01, -4.45735008e-01,  2.17155002e-01,\n",
       "        1.82430005e+00,  2.51299962e-02,  3.20379995e-02,  6.64300025e-02,\n",
       "        6.74309999e-01,  8.92399997e-02,  3.83928485e-01, -1.00850001e-01,\n",
       "       -1.89060554e-01, -4.23110008e-01,  8.98959965e-01,  4.92814988e-01,\n",
       "       -4.57587995e-01,  1.80214003e-01,  2.82035001e-01,  4.22697501e-01,\n",
       "        2.57079959e-01, -3.77890006e-01, -3.49000096e-03, -4.04055014e-01])"
      ]
     },
     "execution_count": 34,
     "metadata": {},
     "output_type": "execute_result"
    }
   ],
   "source": [
    "toy_review = 'I loved the movie!'\n",
    "avg_embedding = get_average_embeddings(toy_review)\n",
    "avg_embedding"
   ]
  },
  {
   "cell_type": "code",
   "execution_count": 16,
   "metadata": {
    "slideshow": {
     "slide_type": "slide"
    }
   },
   "outputs": [
    {
     "data": {
      "text/html": [
       "<div>\n",
       "<style scoped>\n",
       "    .dataframe tbody tr th:only-of-type {\n",
       "        vertical-align: middle;\n",
       "    }\n",
       "\n",
       "    .dataframe tbody tr th {\n",
       "        vertical-align: top;\n",
       "    }\n",
       "\n",
       "    .dataframe thead th {\n",
       "        text-align: right;\n",
       "    }\n",
       "</style>\n",
       "<table border=\"1\" class=\"dataframe\">\n",
       "  <thead>\n",
       "    <tr style=\"text-align: right;\">\n",
       "      <th></th>\n",
       "      <th>label</th>\n",
       "      <th>id</th>\n",
       "      <th>date</th>\n",
       "      <th>no_query</th>\n",
       "      <th>name</th>\n",
       "      <th>text</th>\n",
       "    </tr>\n",
       "  </thead>\n",
       "  <tbody>\n",
       "    <tr>\n",
       "      <th>0</th>\n",
       "      <td>neg</td>\n",
       "      <td>1467810369</td>\n",
       "      <td>Mon Apr 06 22:19:45 PDT 2009</td>\n",
       "      <td>NO_QUERY</td>\n",
       "      <td>_TheSpecialOne_</td>\n",
       "      <td>@switchfoot http://twitpic.com/2y1zl - Awww, t...</td>\n",
       "    </tr>\n",
       "    <tr>\n",
       "      <th>1</th>\n",
       "      <td>neg</td>\n",
       "      <td>1467810672</td>\n",
       "      <td>Mon Apr 06 22:19:49 PDT 2009</td>\n",
       "      <td>NO_QUERY</td>\n",
       "      <td>scotthamilton</td>\n",
       "      <td>is upset that he can't update his Facebook by ...</td>\n",
       "    </tr>\n",
       "    <tr>\n",
       "      <th>2</th>\n",
       "      <td>neg</td>\n",
       "      <td>1467810917</td>\n",
       "      <td>Mon Apr 06 22:19:53 PDT 2009</td>\n",
       "      <td>NO_QUERY</td>\n",
       "      <td>mattycus</td>\n",
       "      <td>@Kenichan I dived many times for the ball. Man...</td>\n",
       "    </tr>\n",
       "    <tr>\n",
       "      <th>3</th>\n",
       "      <td>neg</td>\n",
       "      <td>1467811184</td>\n",
       "      <td>Mon Apr 06 22:19:57 PDT 2009</td>\n",
       "      <td>NO_QUERY</td>\n",
       "      <td>ElleCTF</td>\n",
       "      <td>my whole body feels itchy and like its on fire</td>\n",
       "    </tr>\n",
       "    <tr>\n",
       "      <th>4</th>\n",
       "      <td>neg</td>\n",
       "      <td>1467811193</td>\n",
       "      <td>Mon Apr 06 22:19:57 PDT 2009</td>\n",
       "      <td>NO_QUERY</td>\n",
       "      <td>Karoli</td>\n",
       "      <td>@nationwideclass no, it's not behaving at all....</td>\n",
       "    </tr>\n",
       "  </tbody>\n",
       "</table>\n",
       "</div>"
      ],
      "text/plain": [
       "  label          id                          date  no_query             name  \\\n",
       "0   neg  1467810369  Mon Apr 06 22:19:45 PDT 2009  NO_QUERY  _TheSpecialOne_   \n",
       "1   neg  1467810672  Mon Apr 06 22:19:49 PDT 2009  NO_QUERY    scotthamilton   \n",
       "2   neg  1467810917  Mon Apr 06 22:19:53 PDT 2009  NO_QUERY         mattycus   \n",
       "3   neg  1467811184  Mon Apr 06 22:19:57 PDT 2009  NO_QUERY          ElleCTF   \n",
       "4   neg  1467811193  Mon Apr 06 22:19:57 PDT 2009  NO_QUERY           Karoli   \n",
       "\n",
       "                                                text  \n",
       "0  @switchfoot http://twitpic.com/2y1zl - Awww, t...  \n",
       "1  is upset that he can't update his Facebook by ...  \n",
       "2  @Kenichan I dived many times for the ball. Man...  \n",
       "3    my whole body feels itchy and like its on fire   \n",
       "4  @nationwideclass no, it's not behaving at all....  "
      ]
     },
     "execution_count": 16,
     "metadata": {},
     "output_type": "execute_result"
    }
   ],
   "source": [
    "# Data loading and preprocessing\n",
    "# Using the Sentiment140 corpus (http://help.sentiment140.com/home), \n",
    "# which contains tweets labeled with sentiment associated with a brand, product, or topic. \n",
    "# The actual dataset contains 1,600,000 tweets. \n",
    "# We will be using a small portion of this corpus. \n",
    "# You can experiment with the full corpus if your laptop can handle it. \n",
    "\n",
    "tweets_df = pd.read_csv('/Users/kvarada/MDS/2018-19/575/data/training.1600000.processed.noemoticon.csv', \n",
    "                        encoding = \"ISO-8859-1\",\n",
    "                        names=[\"label\",\"id\", \"date\", \"no_query\", \"name\", \"text\"])\n",
    "tweets_df['label'] = tweets_df['label'].map({0: 'neg', 4: 'pos'})\n",
    "\n",
    "# only consider positive and negative reviews\n",
    "tweets_pos_neg_df = tweets_df[tweets_df['label'].str.startswith(('pos','neg'))]\n",
    "tweets_pos_neg_df.head()"
   ]
  },
  {
   "cell_type": "code",
   "execution_count": 17,
   "metadata": {
    "slideshow": {
     "slide_type": "slide"
    }
   },
   "outputs": [],
   "source": [
    "tweets_pos_neg_subset_df = tweets_pos_neg_df.sample(40000)\n",
    "X = tweets_pos_neg_subset_df['text']\n",
    "y = tweets_pos_neg_subset_df['label']\n",
    "X_train, X_test, y_train, y_test = train_test_split(X, y, test_size=0.20, random_state = 110)"
   ]
  },
  {
   "cell_type": "code",
   "execution_count": 21,
   "metadata": {
    "slideshow": {
     "slide_type": "slide"
    }
   },
   "outputs": [],
   "source": [
    "# initialize movie_vector object and then turn movie reviews train data into a vector \n",
    "from nltk.corpus import stopwords\n",
    "import string\n",
    "stop_words = list(set(stopwords.words('english')))\n",
    "punctuation = string.punctuation\n",
    "stop_words += list(punctuation)\n",
    "stop_words.extend(['``','`','br','\"',\"”\", \"''\", \"'s\"])\n",
    "\n",
    "vec = CountVectorizer(min_df=2, \n",
    "                      tokenizer=nltk.word_tokenize,\n",
    "                      stop_words=stop_words)\n",
    "\n",
    "X_train_counts = vec.fit_transform(X_train) \n",
    "\n",
    "# just use the already-fit vectorizer\n",
    "X_test_counts = vec.transform(X_test) "
   ]
  },
  {
   "cell_type": "code",
   "execution_count": 24,
   "metadata": {
    "slideshow": {
     "slide_type": "slide"
    }
   },
   "outputs": [
    {
     "name": "stdout",
     "output_type": "stream",
     "text": [
      "Train error rate:  0.14665625000000004\n",
      "Test error rate:  0.25612500000000005\n"
     ]
    }
   ],
   "source": [
    "from sklearn.linear_model import LogisticRegression\n",
    "lr_cv = LogisticRegression(solver='lbfgs', max_iter = 10000)\n",
    "lr_cv.fit(X_train_counts, y_train);\n",
    "print('Train error rate: ', 1 - lr_cv.score(X_train_counts, y_train))\n",
    "print('Test error rate: ', 1 - lr_cv.score(X_test_counts, y_test))"
   ]
  },
  {
   "cell_type": "code",
   "execution_count": 35,
   "metadata": {
    "slideshow": {
     "slide_type": "slide"
    }
   },
   "outputs": [],
   "source": [
    "X_train_glove = [get_average_embeddings(review, model = glove_twitter_model) for review in X_train]\n",
    "X_test_glove = [get_average_embeddings(review, model = glove_twitter_model) for review in X_test]"
   ]
  },
  {
   "cell_type": "code",
   "execution_count": 38,
   "metadata": {
    "slideshow": {
     "slide_type": "slide"
    }
   },
   "outputs": [
    {
     "name": "stdout",
     "output_type": "stream",
     "text": [
      "Train error:  0.25931249999999995\n",
      "Test Error:  0.25825\n"
     ]
    }
   ],
   "source": [
    "lr_glove = LogisticRegression(solver='lbfgs', max_iter=10000)\n",
    "lr_glove.fit(X_train_glove, y_train);\n",
    "print('Train error: ', 1 - lr_glove.score(X_train_glove, y_train))\n",
    "print('Test Error: ', 1 - lr_glove.score(X_test_glove, y_test))"
   ]
  },
  {
   "cell_type": "markdown",
   "metadata": {
    "slideshow": {
     "slide_type": "slide"
    }
   },
   "source": [
    "### Observations\n",
    "- Not a big difference in the results compared to the `CountVectorizer` in this particular case \n",
    "- Seems like we are not overfitting with the average embedding model. \n",
    "- Note that we are using word embeddings trained on a completely different corpus as our features for classification."
   ]
  },
  {
   "cell_type": "markdown",
   "metadata": {
    "slideshow": {
     "slide_type": "slide"
    }
   },
   "source": [
    "### Concatenating embeddings\n",
    "\n",
    "<blockquote>\n",
    "All empty promises!\n",
    "</blockquote>\n",
    "\n",
    "- $embedding(all)$ $embedding(empty)$ $embedding(promise)$\n",
    "- Might have to chop some text in order to make fixed-sized vectors to feed into ML algorithms."
   ]
  },
  {
   "cell_type": "markdown",
   "metadata": {
    "slideshow": {
     "slide_type": "slide"
    }
   },
   "source": [
    "## Extensions and more advanced models\n",
    "\n",
    "- [Include phrases](https://papers.nips.cc/paper/5021-distributed-representations-of-words-and-phrases-and-their-compositionality.pdf)\n",
    "    * New York : New York Times :: Vancouver : Vancouver Sun?\n",
    "- Contextual representations of words ([ELMo](https://github.com/allenai/allennlp/blob/master/tutorials/how_to/elmo.md))\n",
    "    * I went to the **bank** to deposit a cheque. \n",
    "    * She loves to walk along the <b>bank</b> of a river, and look into the water.\n",
    "- [doc2vec](https://radimrehurek.com/gensim/models/doc2vec.html) and [paragraph2vec](https://arxiv.org/abs/1405.4053)\n",
    "    * Learns fixed-length feature representations from variable-length pieces of texts\n",
    "- [BERT](https://github.com/google-research/bert)\n",
    "    * A general-purpose language understanding model\n"
   ]
  },
  {
   "cell_type": "markdown",
   "metadata": {
    "slideshow": {
     "slide_type": "slide"
    }
   },
   "source": [
    "###  Word2Vec beyond text and words\n",
    "\n",
    "- Word2Vec is not limited to text and words and it has been used in many different domains and for many different applications.\n",
    "    - Examples\n",
    "        - [graph2vec](https://github.com/benedekrozemberczki/graph2vec)\n",
    "        - [node2vec](https://github.com/topics/node2vec)\n",
    "        - [song2vec](https://github.com/lihenryhfl/song2vec)\n",
    "        - ...             "
   ]
  },
  {
   "cell_type": "markdown",
   "metadata": {
    "slideshow": {
     "slide_type": "slide"
    }
   },
   "source": [
    "### Using Word2Vec for product recommendation\n",
    "\n",
    "- In the lab you will be using Word2Vec for product recommendation. \n",
    "- Word2Vec exploits the sequential nature of text data and assumes that the words in similar contexts tend to be similar or related. \n",
    "- We could apply the same intuition to product purchasing behaviour of customers! \n",
    "    - If we consider products bought together with each other as contexts of each other, then we can say that the products that occur in similar contexts are related or similar. \n",
    "   "
   ]
  },
  {
   "cell_type": "markdown",
   "metadata": {
    "slideshow": {
     "slide_type": "slide"
    }
   },
   "source": [
    "### Purchase history example\n",
    "- Bike light and waterproof pants occur in similar contexts\n",
    "- How about recommending waterproof pants to Sam and Bike light to Jamie?\n",
    "<img src=\"images/customer_purchase_history_example.png\" width=\"600\" height=\"600\">\n",
    "(Credit: https://www.bicycling.com/bikes-gear/g20011461/winter-cycling-gear-0/)"
   ]
  },
  {
   "cell_type": "markdown",
   "metadata": {
    "slideshow": {
     "slide_type": "slide"
    }
   },
   "source": [
    "### How to train Word2Vec for this?\n",
    "\n",
    "- What are words, sentences, and vocabulary?\n",
    "    - Words $\\rightarrow$ products\n",
    "    - Sentences $\\rightarrow$ purchase histories \n",
    "    - Vocabulary $\\rightarrow$ all unique products\n",
    "\n",
    "<img src=\"images/customer_purchase_history_labeled.png\" width=\"800\" height=\"800\">\n",
    "(Credit: https://www.bicycling.com/bikes-gear/g20011461/winter-cycling-gear-0/)"
   ]
  },
  {
   "cell_type": "markdown",
   "metadata": {
    "slideshow": {
     "slide_type": "skip"
    }
   },
   "source": [
    "### Training the Word2Vec algorithm for product recommendation \n",
    "- The idea is to model similarity/relatedness between products based on the distributional hypothesis; the products that occur in similar contexts tend to be related/similar.  \n",
    "- Using the Word2Vec algorithm, we learn short and dense representations for all products based on the contexts in which they appear.\n",
    "- If we have a large dataset, we learn meaningful representations of products.  "
   ]
  },
  {
   "cell_type": "markdown",
   "metadata": {
    "slideshow": {
     "slide_type": "slide"
    }
   },
   "source": [
    "### Training Word2Vec for product recommendation \n",
    "\n",
    "- To train Word2Vec model we need: \n",
    "    - preprocessed corpus\n",
    "    - embedding dimension\n",
    "    - window size"
   ]
  },
  {
   "cell_type": "markdown",
   "metadata": {
    "slideshow": {
     "slide_type": "slide"
    }
   },
   "source": [
    "### Training Word2Vec for product recommendation: Preprocessed corpus \n",
    "\n",
    "- List of lists of purchase histories of customers\n",
    "- `[Customer2_item33, Customer1_item22, ....]` equivalent to a sentence in a typical Word2Vec model\n",
    "- `Customer2_item33` and `Customer2_item22` are equivalent to words in a typical Word2Vec model. \n",
    "    ```\n",
    "    [\n",
    "     [Customer1_item1, Customer1_item2, ....], # purchase history for customer1\n",
    "     [Customer2_item33, Customer1_item22, ....], # purchase history for customer2\n",
    "     ...\n",
    "     [Customer100_item244, Customer1_item1, ....], # purchase history for customer100\n",
    "     ...\n",
    "     ]\n",
    "    ```"
   ]
  },
  {
   "cell_type": "markdown",
   "metadata": {
    "slideshow": {
     "slide_type": "slide"
    }
   },
   "source": [
    "### Training Word2Vec for product recommendation: window size, embedding dimensions\n",
    "\n",
    "- Now that you have input for the Word2Vec algorithm, you can train is by setting the appropriate hyperparameters\n",
    "    - window size\n",
    "    - embedding dimensions"
   ]
  },
  {
   "cell_type": "markdown",
   "metadata": {
    "slideshow": {
     "slide_type": "slide"
    }
   },
   "source": [
    "### What to do with the trained product embeddings? \n",
    "\n",
    "- With the trained model, we can find products similar to the product of interest in the vector space and recommend it to the user.  \n",
    "- Example: Recommend waterproof pants to Sam and bike light to Jamie.\n",
    "\n",
    "<img src=\"images/customer_purchase_history_example.png\" width=\"600\" height=\"600\">\n",
    "(Credit: https://www.bicycling.com/bikes-gear/g20011461/winter-cycling-gear-0/)"
   ]
  },
  {
   "cell_type": "markdown",
   "metadata": {
    "slideshow": {
     "slide_type": "slide"
    }
   },
   "source": [
    "## Preprocessing"
   ]
  },
  {
   "cell_type": "markdown",
   "metadata": {
    "slideshow": {
     "slide_type": "slide"
    }
   },
   "source": [
    "### Preprocessing \n",
    "- Why do we need preprocessing?\n",
    "    - Text data is unstructured and messy. \n",
    "    - We need to \"normalize\" it before we do anything interesting with it. \n",
    "- Example:     \n",
    "    - **Lemma**: Same stem, same part-of-speech, roughly the same meaning\n",
    "        - Vancouver's &rarr; Vancouver\n",
    "        - computers &rarr; computer \n",
    "        - rising &rarr; rise, rose, rises    "
   ]
  },
  {
   "cell_type": "markdown",
   "metadata": {
    "slideshow": {
     "slide_type": "slide"
    }
   },
   "source": [
    "### Tokenization\n",
    "\n",
    "- Sentence segmentation\n",
    "    - Split text into sentences\n",
    "- Word tokenization \n",
    "    - Split sentences into words"
   ]
  },
  {
   "cell_type": "markdown",
   "metadata": {
    "slideshow": {
     "slide_type": "slide"
    }
   },
   "source": [
    "### Tokenization: sentence segmentation\n",
    "\n",
    "<blockquote>\n",
    "MDS is a Master's program at UBC in British Columbia. MDS teaching team is truly multicultural!! Dr. Beuzen did his Ph.D. in Australia. Dr. Lourenzutti did his in Brazil. Dr. Timbers, Dr. Moosvi, and Dr. Kolhatkar did theirs in Canada. Dr. Gelbart did his PhD in the U.S.\n",
    "</blockquote>\n",
    "\n",
    "- How many sentences are there in this text? "
   ]
  },
  {
   "cell_type": "code",
   "execution_count": 57,
   "metadata": {
    "slideshow": {
     "slide_type": "slide"
    }
   },
   "outputs": [
    {
     "name": "stdout",
     "output_type": "stream",
     "text": [
      "[\"MDS is a Master's program at UBC in British Columbia\", ' MDS teaching team is truly multicultural!! Dr', ' Beuzen did his Ph', 'D', ' in Australia', ' Dr', ' Lourenzutti did his in Brazil', ' Dr', ' Timbers, Dr', ' Moosvi, and Dr', ' Kolhatkar did theirs in Canada', ' Dr', ' Gelbart did his PhD in the U', 'S', '']\n"
     ]
    }
   ],
   "source": [
    "### Let's do sentence segmentation on \".\"\n",
    "text = (\"MDS is a Master's program at UBC in British Columbia. \"\n",
    "        \"MDS teaching team is truly multicultural!! \"\n",
    "         \"Dr. Beuzen did his Ph.D. in Australia. \"\n",
    "         \"Dr. Lourenzutti did his in Brazil. \"\n",
    "         \"Dr. Timbers, Dr. Moosvi, and Dr. Kolhatkar did theirs in Canada. \" \n",
    "         \"Dr. Gelbart did his PhD in the U.S.\")\n",
    "\n",
    "print(text.split('.'))"
   ]
  },
  {
   "cell_type": "markdown",
   "metadata": {
    "slideshow": {
     "slide_type": "slide"
    }
   },
   "source": [
    "### Sentence segmentation\n",
    "\n",
    "- In English, period (.) is quite ambiguous. (In Chinese, it is unambiguous.)\n",
    "    - Abbreviations like Dr., U.S., Inc.  \n",
    "    - Numbers like 60.44%, 0.98\n",
    "- ! and ? are relatively ambiguous.\n",
    "- How about writing regular expressions? \n",
    "- A common way is using off-the-shelf models for sentence segmentation. "
   ]
  },
  {
   "cell_type": "code",
   "execution_count": 33,
   "metadata": {
    "slideshow": {
     "slide_type": "slide"
    }
   },
   "outputs": [
    {
     "name": "stdout",
     "output_type": "stream",
     "text": [
      "[\"MDS is a Master's program at UBC in British Columbia.\", 'MDS teaching team is truly multicultural!!', 'Dr. Beuzen did his Ph.D. in Australia.', 'Dr. Lourenzutti did his in Brazil.', 'Dr. Timbers, Dr. Moosvi, and Dr. Kolhatkar did theirs in Canada.', 'Dr. Gelbart did his PhD in the U.S.']\n"
     ]
    }
   ],
   "source": [
    "### Let's try to do sentence segmentation using nltk\n",
    "from nltk.tokenize import sent_tokenize\n",
    "sent_tokenized = sent_tokenize(text)\n",
    "print(sent_tokenized)"
   ]
  },
  {
   "cell_type": "markdown",
   "metadata": {
    "slideshow": {
     "slide_type": "slide"
    }
   },
   "source": [
    "### Word tokenization\n",
    "\n",
    "<blockquote>\n",
    "MDS is a Master's program at UBC in British Columbia. \n",
    "</blockquote>\n",
    "\n",
    "- How many words are there in this sentence?  \n",
    "- Is whitespace a sufficient condition for a word boundary"
   ]
  },
  {
   "cell_type": "markdown",
   "metadata": {
    "slideshow": {
     "slide_type": "slide"
    }
   },
   "source": [
    "### Word tokenization \n",
    "\n",
    "<blockquote>\n",
    "MDS is a Master's program at UBC in British Columbia. \n",
    "</blockquote>\n",
    "\n",
    "- What's our definition of a word?\n",
    "    - Should British Columbia be one word or two words? \n",
    "    - Should punctuation be considered a separate word?\n",
    "    - What about the punctuations in `U.S.`?\n",
    "    - What do we do with words like `Master's`?\n",
    "- This process of identifying word boundaries is referred to as **tokenization**.\n",
    "- You can use regex but better to do it with off-the-shelf ML models.  "
   ]
  },
  {
   "cell_type": "code",
   "execution_count": 38,
   "metadata": {
    "slideshow": {
     "slide_type": "slide"
    }
   },
   "outputs": [
    {
     "name": "stdout",
     "output_type": "stream",
     "text": [
      "Splitting on whitespace:  [['MDS', 'is', 'a', \"Master's\", 'program', 'at', 'UBC', 'in', 'British', 'Columbia.'], ['MDS', 'teaching', 'team', 'is', 'truly', 'multicultural!!'], ['Dr.', 'Beuzen', 'did', 'his', 'Ph.D.', 'in', 'Australia.'], ['Dr.', 'Lourenzutti', 'did', 'his', 'in', 'Brazil.'], ['Dr.', 'Timbers,', 'Dr.', 'Moosvi,', 'and', 'Dr.', 'Kolhatkar', 'did', 'theirs', 'in', 'Canada.'], ['Dr.', 'Gelbart', 'did', 'his', 'PhD', 'in', 'the', 'U.S.']]\n",
      "\n",
      "\n",
      "\n",
      "Tokenized:  [['MDS', 'is', 'a', 'Master', \"'s\", 'program', 'at', 'UBC', 'in', 'British', 'Columbia', '.'], ['MDS', 'teaching', 'team', 'is', 'truly', 'multicultural', '!', '!'], ['Dr.', 'Beuzen', 'did', 'his', 'Ph.D.', 'in', 'Australia', '.'], ['Dr.', 'Lourenzutti', 'did', 'his', 'in', 'Brazil', '.'], ['Dr.', 'Timbers', ',', 'Dr.', 'Moosvi', ',', 'and', 'Dr.', 'Kolhatkar', 'did', 'theirs', 'in', 'Canada', '.'], ['Dr.', 'Gelbart', 'did', 'his', 'PhD', 'in', 'the', 'U.S', '.']]\n"
     ]
    }
   ],
   "source": [
    "### Let's do word segmentation on white spaces\n",
    "print(\"Splitting on whitespace: \", [sent.split() for sent in sent_tokenized])\n",
    "\n",
    "### Let's try to do word segmentation using nltk\n",
    "from nltk.tokenize import word_tokenize\n",
    "word_tokenized = [word_tokenize(sent) for sent in sent_tokenized]\n",
    "# This is similar to the input format of word2vec algorithm \n",
    "print('\\n\\n\\nTokenized: ', word_tokenized)"
   ]
  },
  {
   "cell_type": "markdown",
   "metadata": {
    "slideshow": {
     "slide_type": "slide"
    }
   },
   "source": [
    "### Word segmentation \n",
    "\n",
    "For some languages you need much more sophisticated tokenizers. \n",
    "- For languages such as Chinese, there are no spaces between words.\n",
    "    - [jieba](https://github.com/fxsjy/jieba) is a popular tokenizer for Chinese. \n",
    "- German doesn't separate compound words.\n",
    "    * Example: _rindfleischetikettierungsüberwachungsaufgabenübertragungsgesetz_\n",
    "    * (the law for the delegation of monitoring beef labeling)"
   ]
  },
  {
   "cell_type": "markdown",
   "metadata": {
    "slideshow": {
     "slide_type": "slide"
    }
   },
   "source": [
    "### Types and tokens\n",
    "- Usually in NLP, we talk about \n",
    "    - **Type** an element in the vocabulary\n",
    "    - **Token** an instance of that type in running text \n",
    "\n",
    "### Exercise for you \n",
    "<blockquote>    \n",
    "UBC is located in the beautiful province of British Columbia. It's very close \n",
    "to the U.S. border. You'll get to the USA border in about 45 mins by car.     \n",
    "</blockquote>  \n",
    "\n",
    "- Consider the example above. \n",
    "    - How many types? (task dependent)\n",
    "    - How many tokens? "
   ]
  },
  {
   "cell_type": "markdown",
   "metadata": {
    "slideshow": {
     "slide_type": "slide"
    }
   },
   "source": [
    "### Other commonly used preprocessing steps\n",
    "\n",
    "- Punctuation and stopword removal\n",
    "- Stemming and lemmatization"
   ]
  },
  {
   "cell_type": "markdown",
   "metadata": {
    "slideshow": {
     "slide_type": "slide"
    }
   },
   "source": [
    "### Punctuation and stopword removal\n",
    "\n",
    "- The most frequently occurring words in English are not very useful in many NLP tasks\n",
    "    - Example: _the_ , _is_ , _a_ , and punctuation\n",
    "- Probably not very informative in many tasks "
   ]
  },
  {
   "cell_type": "code",
   "execution_count": 40,
   "metadata": {
    "slideshow": {
     "slide_type": "slide"
    }
   },
   "outputs": [
    {
     "name": "stdout",
     "output_type": "stream",
     "text": [
      "['i', 'itself', 've', 'just', \"wasn't\", 'd', \"needn't\", 'm', 'when', 'won', 'above', 'more', 'few', \"weren't\", 'doing', 'off', 'but', \"it's\", 'this', 'all', 'how', 'for', 'mightn', \"aren't\", 'because', 'both', 'you', \"haven't\", 'hasn', 'nor', 'same', 'such', 'he', 'now', 'can', 'why', \"shouldn't\", 'his', 'where', 'weren', 'until', \"mightn't\", \"won't\", 'most', 'was', 'have', 'a', 'are', 'about', 'after', 'o', 'it', 'be', 'from', 'them', 'of', 'aren', 'didn', 'once', 'yours', 'any', 'do', 'an', \"hasn't\", \"you've\", 'own', 'him', 'its', \"couldn't\", 'further', 'which', 'whom', 'couldn', 'does', 'to', 'who', 'my', 'wouldn', \"that'll\", 'those', 'during', 'am', 'under', \"should've\", 'into', 'down', 'is', 'through', 'these', 'shouldn', \"you're\", 'as', 'in', \"you'll\", 'some', 't', 'll', \"don't\", 'herself', 'again', 'will', 'our', 'there', \"shan't\", 'ourselves', \"mustn't\", 'doesn', \"hadn't\", 'needn', 'isn', 'her', 'your', \"doesn't\", \"wouldn't\", 'theirs', 'been', \"she's\", \"isn't\", 'ours', 'wasn', 'on', 'their', 'before', 'by', 'between', 'should', \"didn't\", \"you'd\", 'or', 'below', 'ain', 'if', 'has', 'yourself', 'the', 'we', 'themselves', 'not', 'too', 'over', 'with', 'against', 'me', 'and', 'out', 's', 'they', 're', 'what', 'did', 'so', 'were', 'mustn', 'don', 'each', 'no', 'only', 'at', 'ma', 'having', 'myself', 'then', 'that', 'haven', 'up', 'she', 'here', 'himself', 'hadn', 'being', 'yourselves', 'y', 'other', 'than', 'very', 'had', 'shan', 'hers', 'while', '!', '\"', '#', '$', '%', '&', \"'\", '(', ')', '*', '+', ',', '-', '.', '/', ':', ';', '<', '=', '>', '?', '@', '[', '\\\\', ']', '^', '_', '`', '{', '|', '}', '~']\n"
     ]
    }
   ],
   "source": [
    "# Let's use `nltk.stopwords`.  \n",
    "# Add punctuations to the list. \n",
    "stop_words = list(set(stopwords.words('english')))\n",
    "import string \n",
    "punctuation = string.punctuation\n",
    "stop_words += list(punctuation)\n",
    "#stop_words.extend(['``','`','br','\"',\"”\", \"''\", \"'s\"])\n",
    "print(stop_words)"
   ]
  },
  {
   "cell_type": "code",
   "execution_count": 41,
   "metadata": {
    "slideshow": {
     "slide_type": "slide"
    }
   },
   "outputs": [
    {
     "name": "stdout",
     "output_type": "stream",
     "text": [
      "['mds', 'master', \"'s\", 'program', 'ubc', 'british', 'columbia', 'mds', 'teaching', 'team', 'truly', 'multicultural', 'dr.', 'beuzen', 'ph.d.', 'australia', 'dr.', 'lourenzutti', 'brazil', 'dr.', 'timbers', 'dr.', 'moosvi', 'dr.', 'kolhatkar', 'canada', 'dr.', 'gelbart', 'phd', 'u.s']\n"
     ]
    }
   ],
   "source": [
    "### Get rid of stop words\n",
    "preprocessed = []\n",
    "for sent in word_tokenized:\n",
    "    for token in sent:\n",
    "        token = token.lower()\n",
    "        if token not in stop_words:\n",
    "            preprocessed.append(token)\n",
    "print(preprocessed)"
   ]
  },
  {
   "cell_type": "markdown",
   "metadata": {
    "slideshow": {
     "slide_type": "slide"
    }
   },
   "source": [
    "### Lemmatization \n",
    "\n",
    "- For many NLP tasks (e.g., web search) we want to ignore morphological differences between words\n",
    "    - Example: If your search term is \"studying for ML quiz\" you might want to include pages containing \"tips to study for an ML quiz\" or \"here is how I studied for my ML quiz\"\n",
    "- Lemmatization converts inflected forms into the base form. "
   ]
  },
  {
   "cell_type": "code",
   "execution_count": 15,
   "metadata": {
    "slideshow": {
     "slide_type": "slide"
    }
   },
   "outputs": [
    {
     "name": "stdout",
     "output_type": "stream",
     "text": [
      "Lemma of studying:  study\n",
      "Lemma of studied:  study\n"
     ]
    }
   ],
   "source": [
    "# nltk has a lemmatizer \n",
    "from nltk.stem import WordNetLemmatizer\n",
    "lemmatizer= WordNetLemmatizer()\n",
    "print(\"Lemma of studying: \", lemmatizer.lemmatize('studying','v'))\n",
    "print(\"Lemma of studied: \", lemmatizer.lemmatize('studied','v'))"
   ]
  },
  {
   "cell_type": "markdown",
   "metadata": {
    "slideshow": {
     "slide_type": "slide"
    }
   },
   "source": [
    "### Stemming\n",
    "\n",
    "- Has a similar purpose but it is a crude chopping of affixes \n",
    "    * _automates, automatic, automation_ all reduced to _automat_.\n",
    "- Usually these reduced forms (stems) are not actual words themselves.  \n",
    "- A popular stemming algorithm for English is PorterStemmer. \n",
    "- Beware that it can be aggressive sometimes."
   ]
  },
  {
   "cell_type": "code",
   "execution_count": 43,
   "metadata": {
    "slideshow": {
     "slide_type": "slide"
    }
   },
   "outputs": [
    {
     "name": "stdout",
     "output_type": "stream",
     "text": [
      "Before stemming:  UBC is located in the beautiful province of British Columbia... It's very close to the U.S. border.\n",
      "\n",
      "\n",
      "After stemming:  ubc is locat in the beauti provinc of british columbia ... It 's veri close to the u.s. border .\n"
     ]
    }
   ],
   "source": [
    "from nltk.stem.porter import PorterStemmer\n",
    "text = (\"UBC is located in the beautiful province of British Columbia... \"\n",
    "       \"It's very close to the U.S. border.\")\n",
    "ps = PorterStemmer()\n",
    "tokenized = word_tokenize(text)\n",
    "stemmed = [ps.stem(token) for token in tokenized]\n",
    "print('Before stemming: ', text)\n",
    "print('\\n\\nAfter stemming: ', \" \".join(stemmed))"
   ]
  },
  {
   "cell_type": "markdown",
   "metadata": {
    "slideshow": {
     "slide_type": "slide"
    }
   },
   "source": [
    "### Other tools for preprocessing \n",
    "\n",
    "- We used [Natural Language Processing Toolkit (nltk)](https://www.nltk.org/) above\n",
    "    - You already have used it in 571 and 573  \n",
    "- Many available tools    \n",
    "- [spaCy](https://spacy.io/)"
   ]
  },
  {
   "cell_type": "markdown",
   "metadata": {
    "slideshow": {
     "slide_type": "slide"
    }
   },
   "source": [
    "### [spaCy](https://spacy.io/)\n",
    "\n",
    "- Industrial strength NLP library. \n",
    "- Lightweight, fast, and convenient to use. \n",
    "- spaCy does many things that we did above in one line of code! \n",
    "- Also has [multi-lingual](https://spacy.io/models/xx) support"
   ]
  },
  {
   "cell_type": "code",
   "execution_count": 17,
   "metadata": {
    "slideshow": {
     "slide_type": "slide"
    }
   },
   "outputs": [],
   "source": [
    "import spacy\n",
    "\n",
    "# Load the model\n",
    "nlp = spacy.load(\"en_core_web_sm\")\n",
    "text = (\"MDS is a Master's program at UBC. \"\n",
    "        \"MDS teaching team is truly multicultural. \"\n",
    "         \"Dr. Beuzen did his Ph.D. in Australia. \"\n",
    "         \"Dr. Lourenzutti did his in Brazil. \"\n",
    "         \"Dr. Timbers, Dr. Moosvi, and Dr. Kolhatkar did their's in Canada. \" \n",
    "         \"Dr. Gelbart did his Ph.D. in the U.S.\")\n",
    "\n",
    "doc = nlp(text)"
   ]
  },
  {
   "cell_type": "code",
   "execution_count": 18,
   "metadata": {
    "slideshow": {
     "slide_type": "slide"
    }
   },
   "outputs": [
    {
     "name": "stdout",
     "output_type": "stream",
     "text": [
      "\n",
      "Tokens:  [MDS, is, a, Master, 's, program, at, UBC, ., MDS, teaching, team, is, truly, multicultural, ., Dr., Beuzen, did, his, Ph.D., in, Australia, ., Dr., Lourenzutti, did, his, in, Brazil, ., Dr., Timbers, ,, Dr., Moosvi, ,, and, Dr., Kolhatkar, did, their, 's, in, Canada, ., Dr., Gelbart, did, his, Ph.D., in, the, U.S.]\n",
      "\n",
      "Lemmas:  ['MDS', 'be', 'a', 'Master', \"'s\", 'program', 'at', 'UBC', '.', 'MDS', 'teaching', 'team', 'be', 'truly', 'multicultural', '.', 'Dr.', 'Beuzen', 'do', '-PRON-', 'ph.d.', 'in', 'Australia', '.', 'Dr.', 'Lourenzutti', 'do', '-PRON-', 'in', 'Brazil', '.', 'Dr.', 'Timbers', ',', 'Dr.', 'Moosvi', ',', 'and', 'Dr.', 'Kolhatkar', 'do', '-PRON-', \"'\", 'in', 'Canada', '.', 'Dr.', 'Gelbart', 'do', '-PRON-', 'ph.d.', 'in', 'the', 'U.S.']\n",
      "\n",
      "POS:  ['PROPN', 'AUX', 'DET', 'PROPN', 'PART', 'NOUN', 'ADP', 'PROPN', 'PUNCT', 'PROPN', 'NOUN', 'NOUN', 'AUX', 'ADV', 'ADJ', 'PUNCT', 'PROPN', 'PROPN', 'AUX', 'DET', 'NOUN', 'ADP', 'PROPN', 'PUNCT', 'PROPN', 'PROPN', 'AUX', 'PRON', 'ADP', 'PROPN', 'PUNCT', 'PROPN', 'PROPN', 'PUNCT', 'PROPN', 'PROPN', 'PUNCT', 'CCONJ', 'PROPN', 'PROPN', 'AUX', 'DET', 'NOUN', 'ADP', 'PROPN', 'PUNCT', 'PROPN', 'PROPN', 'AUX', 'DET', 'NOUN', 'ADP', 'DET', 'PROPN']\n"
     ]
    }
   ],
   "source": [
    "# Accessing tokens\n",
    "tokens = [token for token in doc]\n",
    "print('\\nTokens: ', tokens)\n",
    "\n",
    "# Accessing lemma\n",
    "lemmas = [token.lemma_ for token in doc]\n",
    "print('\\nLemmas: ', lemmas)\n",
    "\n",
    "# Accessing pos\n",
    "pos = [token.pos_ for token in doc]\n",
    "print('\\nPOS: ', pos)"
   ]
  },
  {
   "cell_type": "markdown",
   "metadata": {
    "slideshow": {
     "slide_type": "slide"
    }
   },
   "source": [
    "### Other typical NLP tasks \n",
    "\n",
    "- In order to understand text, we usually are interested in extracting information from text.\n",
    "- Part of speech tagging\n",
    "    - Assigning part-of-speech tags to all words in a sentence.\n",
    "- Named entity recognition\n",
    "    - Labelling named “real-world” objects, like persons, companies or locations.    \n",
    "- Coreference resolution\n",
    "    - Deciding whether two strings (e.g., UBC vs University of British Columbia) refer to the same entity\n",
    "- Dependency parsing\n",
    "    - Representing grammatical structure of a sentence"
   ]
  },
  {
   "cell_type": "code",
   "execution_count": 49,
   "metadata": {
    "slideshow": {
     "slide_type": "slide"
    }
   },
   "outputs": [
    {
     "name": "stdout",
     "output_type": "stream",
     "text": [
      "Named entities:\n",
      " [('University of British Columbia', 'ORG'), ('British Columbia', 'GPE')]\n",
      "\n",
      "ORG means:  Companies, agencies, institutions, etc.\n",
      "GPE means:  Countries, cities, states\n"
     ]
    }
   ],
   "source": [
    "doc = nlp(\"University of British Columbia \"\n",
    "          \"is located in the beautiful \"\n",
    "          \"province of British Columbia.\")\n",
    "# Text and label of named entity span\n",
    "print(\"Named entities:\\n\", [(ent.text, ent.label_) for ent in doc.ents])\n",
    "print('\\nORG means: ', spacy.explain('ORG'))\n",
    "print('GPE means: ', spacy.explain('GPE'))"
   ]
  },
  {
   "cell_type": "code",
   "execution_count": 56,
   "metadata": {
    "slideshow": {
     "slide_type": "slide"
    }
   },
   "outputs": [
    {
     "data": {
      "text/html": [
       "<svg xmlns=\"http://www.w3.org/2000/svg\" xmlns:xlink=\"http://www.w3.org/1999/xlink\" xml:lang=\"en\" id=\"5a0c8c3340c54c91a36e3348a2d9b4e0-0\" class=\"displacy\" width=\"575\" height=\"224.5\" direction=\"ltr\" style=\"max-width: none; height: 224.5px; color: #000000; background: #ffffff; font-family: Arial; direction: ltr\">\n",
       "<text class=\"displacy-token\" fill=\"currentColor\" text-anchor=\"middle\" y=\"134.5\">\n",
       "    <tspan class=\"displacy-word\" fill=\"currentColor\" x=\"50\">I</tspan>\n",
       "    <tspan class=\"displacy-tag\" dy=\"2em\" fill=\"currentColor\" x=\"50\">PRON</tspan>\n",
       "</text>\n",
       "\n",
       "<text class=\"displacy-token\" fill=\"currentColor\" text-anchor=\"middle\" y=\"134.5\">\n",
       "    <tspan class=\"displacy-word\" fill=\"currentColor\" x=\"225\">like</tspan>\n",
       "    <tspan class=\"displacy-tag\" dy=\"2em\" fill=\"currentColor\" x=\"225\">VERB</tspan>\n",
       "</text>\n",
       "\n",
       "<text class=\"displacy-token\" fill=\"currentColor\" text-anchor=\"middle\" y=\"134.5\">\n",
       "    <tspan class=\"displacy-word\" fill=\"currentColor\" x=\"400\">cats</tspan>\n",
       "    <tspan class=\"displacy-tag\" dy=\"2em\" fill=\"currentColor\" x=\"400\">NOUN</tspan>\n",
       "</text>\n",
       "\n",
       "<g class=\"displacy-arrow\">\n",
       "    <path class=\"displacy-arc\" id=\"arrow-5a0c8c3340c54c91a36e3348a2d9b4e0-0-0\" stroke-width=\"2px\" d=\"M70,89.5 C70,2.0 225.0,2.0 225.0,89.5\" fill=\"none\" stroke=\"currentColor\"/>\n",
       "    <text dy=\"1.25em\" style=\"font-size: 0.8em; letter-spacing: 1px\">\n",
       "        <textPath xlink:href=\"#arrow-5a0c8c3340c54c91a36e3348a2d9b4e0-0-0\" class=\"displacy-label\" startOffset=\"50%\" side=\"left\" fill=\"currentColor\" text-anchor=\"middle\">nsubj</textPath>\n",
       "    </text>\n",
       "    <path class=\"displacy-arrowhead\" d=\"M70,91.5 L62,79.5 78,79.5\" fill=\"currentColor\"/>\n",
       "</g>\n",
       "\n",
       "<g class=\"displacy-arrow\">\n",
       "    <path class=\"displacy-arc\" id=\"arrow-5a0c8c3340c54c91a36e3348a2d9b4e0-0-1\" stroke-width=\"2px\" d=\"M245,89.5 C245,2.0 400.0,2.0 400.0,89.5\" fill=\"none\" stroke=\"currentColor\"/>\n",
       "    <text dy=\"1.25em\" style=\"font-size: 0.8em; letter-spacing: 1px\">\n",
       "        <textPath xlink:href=\"#arrow-5a0c8c3340c54c91a36e3348a2d9b4e0-0-1\" class=\"displacy-label\" startOffset=\"50%\" side=\"left\" fill=\"currentColor\" text-anchor=\"middle\">dobj</textPath>\n",
       "    </text>\n",
       "    <path class=\"displacy-arrowhead\" d=\"M400.0,91.5 L408.0,79.5 392.0,79.5\" fill=\"currentColor\"/>\n",
       "</g>\n",
       "</svg>"
      ],
      "text/plain": [
       "<IPython.core.display.HTML object>"
      ]
     },
     "metadata": {},
     "output_type": "display_data"
    }
   ],
   "source": [
    "# Dependency parsing example. \n",
    "from spacy import displacy\n",
    "doc = nlp(\"I like cats\")\n",
    "displacy.render(doc, style=\"dep\")"
   ]
  },
  {
   "cell_type": "markdown",
   "metadata": {
    "slideshow": {
     "slide_type": "slide"
    }
   },
   "source": [
    "### Many other things possible\n",
    "\n",
    "- A powerful tool \n",
    "- All my Capstone groups last year used this tool. \n",
    "- You can build your own rule-based searches. \n",
    "- You can also access word vectors using spaCy with bigger models. (Currently we are using `en_core_web_sm` model.)"
   ]
  },
  {
   "cell_type": "markdown",
   "metadata": {
    "slideshow": {
     "slide_type": "slide"
    }
   },
   "source": [
    "### Useful links\n",
    "\n",
    "- [spaCy's Python for data science cheat sheet](http://datacamp-community-prod.s3.amazonaws.com/29aa28bf-570a-4965-8f54-d6a541ae4e06)\n",
    "\n",
    "- [Regular Expressions, Text Normalization, Edit Distance](https://web.stanford.edu/~jurafsky/slp3/2.pdf)\n",
    "- [Try preprocessing using unix shell](https://web.stanford.edu/class/cs124/lec/124-2020-UnixForPoets.pdf)\n",
    "- [Flair](https://github.com/flairNLP/flair) is another library with state-of-the-art NLP tools.  "
   ]
  }
 ],
 "metadata": {
  "celltoolbar": "Slideshow",
  "kernelspec": {
   "display_name": "Python 3",
   "language": "python",
   "name": "python3"
  },
  "language_info": {
   "codemirror_mode": {
    "name": "ipython",
    "version": 3
   },
   "file_extension": ".py",
   "mimetype": "text/x-python",
   "name": "python",
   "nbconvert_exporter": "python",
   "pygments_lexer": "ipython3",
   "version": "3.7.6"
  }
 },
 "nbformat": 4,
 "nbformat_minor": 4
}
