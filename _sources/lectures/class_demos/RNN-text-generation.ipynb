{
 "cells": [
  {
   "cell_type": "code",
   "execution_count": 2,
   "id": "addaabb8-deb3-434b-9cb7-29afbf469d56",
   "metadata": {},
   "outputs": [
    {
     "ename": "NameError",
     "evalue": "name 'char2int' is not defined",
     "output_type": "error",
     "traceback": [
      "\u001b[0;31m---------------------------------------------------------------------------\u001b[0m",
      "\u001b[0;31mNameError\u001b[0m                                 Traceback (most recent call last)",
      "Cell \u001b[0;32mIn[2], line 28\u001b[0m\n\u001b[1;32m     25\u001b[0m         \u001b[38;5;28;01mreturn\u001b[39;00m torch\u001b[38;5;241m.\u001b[39mzeros(\u001b[38;5;28mself\u001b[39m\u001b[38;5;241m.\u001b[39mn_layers, batch_size, \u001b[38;5;28mself\u001b[39m\u001b[38;5;241m.\u001b[39mhidden_dim)\n\u001b[1;32m     27\u001b[0m \u001b[38;5;66;03m# Parameters\u001b[39;00m\n\u001b[0;32m---> 28\u001b[0m input_size \u001b[38;5;241m=\u001b[39m \u001b[38;5;28mlen\u001b[39m(\u001b[43mchar2int\u001b[49m)  \u001b[38;5;66;03m# Number of unique characters in your text\u001b[39;00m\n\u001b[1;32m     29\u001b[0m output_size \u001b[38;5;241m=\u001b[39m input_size    \u001b[38;5;66;03m# Same as input size\u001b[39;00m\n\u001b[1;32m     30\u001b[0m hidden_dim \u001b[38;5;241m=\u001b[39m \u001b[38;5;241m256\u001b[39m\n",
      "\u001b[0;31mNameError\u001b[0m: name 'char2int' is not defined"
     ]
    }
   ],
   "source": [
    "import torch\n",
    "import torch.nn as nn\n",
    "import numpy as np\n",
    "import random\n",
    "\n",
    "# Assuming you have your text data loaded and preprocessed into 'data'\n",
    "class RNNModel(nn.Module):\n",
    "    def __init__(self, input_size, output_size, hidden_dim, n_layers):\n",
    "        super(RNNModel, self).__init__()\n",
    "        self.hidden_dim = hidden_dim\n",
    "        self.n_layers = n_layers\n",
    "\n",
    "        # Defining the layers\n",
    "        self.embedding = nn.Embedding(input_size, hidden_dim)\n",
    "        self.rnn = nn.RNN(hidden_dim, hidden_dim, n_layers, batch_first=True)\n",
    "        self.fc = nn.Linear(hidden_dim, output_size)\n",
    "    \n",
    "    def forward(self, x, hidden):\n",
    "        embedded = self.embedding(x)\n",
    "        out, hidden = self.rnn(embedded, hidden)\n",
    "        out = self.fc(out)\n",
    "        return out, hidden\n",
    "\n",
    "    def init_hidden(self, batch_size):\n",
    "        return torch.zeros(self.n_layers, batch_size, self.hidden_dim)\n",
    "\n",
    "# Parameters\n",
    "input_size = len(char2int)  # Number of unique characters in your text\n",
    "output_size = input_size    # Same as input size\n",
    "hidden_dim = 256\n",
    "n_layers = 2\n",
    "\n",
    "model = RNNModel(input_size, output_size, hidden_dim, n_layers)\n",
    "\n",
    "# Define loss and optimizer\n",
    "criterion = nn.CrossEntropyLoss()\n",
    "optimizer = torch.optim.Adam(model.parameters(), lr=0.001)\n",
    "\n",
    "# Training loop (simplified for demonstration)\n",
    "for epoch in range(100):  # Assuming 100 epochs\n",
    "    hidden = model.init_hidden(batch_size)\n",
    "    \n",
    "    for batch, (inputs, targets) in enumerate(train_loader):  # Assuming you have a DataLoader\n",
    "        # Zero gradients\n",
    "        optimizer.zero_grad()\n",
    "        \n",
    "        # Forward pass\n",
    "        output, hidden = model(inputs, hidden)\n",
    "        loss = criterion(output.view(-1, input_size), targets.view(-1))\n",
    "        \n",
    "        # Backward pass and optimize\n",
    "        loss.backward()\n",
    "        optimizer.step()\n",
    "\n",
    "    print(f'Epoch {epoch+1}, Loss: {loss.item()}')\n",
    "\n",
    "# Text generation (simplified for demonstration)\n",
    "def generate_text(model, start_str, len_generate=100):\n",
    "    model.eval()  # Evaluation mode\n",
    "    input_seq = [char2int[char] for char in start_str]\n",
    "    hidden = model.init_hidden(1)\n",
    "    for i in range(len_generate):\n",
    "        input_tensor = torch.tensor(input_seq[-1]).unsqueeze(0).unsqueeze(0)\n",
    "        output, hidden = model(input_tensor, hidden)\n",
    "        output_dist = nn.functional.softmax(output.view(-1).detach(), dim=0).numpy()\n",
    "        top_char = np.random.choice(len(char2int), p=output_dist)\n",
    "        input_seq.append(top_char)\n",
    "    \n",
    "    return ''.join([int2char[idx] for idx in input_seq])\n",
    "\n",
    "# Example usage\n",
    "# generate_text(model, start_str=\"Hello\", len_generate=100)\n"
   ]
  },
  {
   "cell_type": "code",
   "execution_count": null,
   "id": "fb5aebb5-b708-48bc-b423-b5a489539849",
   "metadata": {},
   "outputs": [],
   "source": []
  }
 ],
 "metadata": {
  "kernelspec": {
   "display_name": "Python [conda env:575]",
   "language": "python",
   "name": "conda-env-575-py"
  },
  "language_info": {
   "codemirror_mode": {
    "name": "ipython",
    "version": 3
   },
   "file_extension": ".py",
   "mimetype": "text/x-python",
   "name": "python",
   "nbconvert_exporter": "python",
   "pygments_lexer": "ipython3",
   "version": "3.12.2"
  }
 },
 "nbformat": 4,
 "nbformat_minor": 5
}
