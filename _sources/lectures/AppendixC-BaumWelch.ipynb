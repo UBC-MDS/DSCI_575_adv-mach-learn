{
 "cells": [
  {
   "cell_type": "markdown",
   "id": "4c54b707-ff96-4da7-bdab-bf87eac7e952",
   "metadata": {},
   "source": [
    "# Baum-Welch (BW) algorithm"
   ]
  },
  {
   "cell_type": "markdown",
   "id": "2d6f6ad2-40cb-4cb9-9719-a2086f10c069",
   "metadata": {
    "slideshow": {
     "slide_type": "slide"
    }
   },
   "source": [
    "### Can we use MLE?\n",
    "\n",
    "- If the training data contained state sequences, we could simply do maximum likelihood estimation, as we did in the last lecture. \n",
    "- But when we are only given observations, we **cannot** count the following: \n",
    "    -  How often $q_{i-1}$ and $q_i$ occur together normalized by how often $q_{i-1}$ occurs: \n",
    "      $p(q_i|q_{i-1}) = \\frac{Count(q_{i-1} q_i)}{Count(q_{i-1} \\text{ANY STATE })}$\n",
    "    - How often $q_i$ is associated with the observation $o_i$.   \n",
    "      $p(o_i|q_{i}) = \\frac{Count(o_i \\text{ and } q_i)}{Count(q_{i})}$    "
   ]
  },
  {
   "cell_type": "markdown",
   "id": "69197195-1c80-4d51-8366-68bb07b966de",
   "metadata": {
    "slideshow": {
     "slide_type": "slide"
    }
   },
   "source": [
    "### Solution: iterative unsupervised approach \n",
    "\n",
    "- Iterative approach. \n",
    "- We guess the counts and iterate. \n",
    "- Unsupervised HMM training is done using a combination of the forward and the backward algorithms.  \n",
    "- The idea is that we can combine $\\alpha$ and $\\beta$ at any point in time to represent the probability of an entire observation sequence.  "
   ]
  },
  {
   "cell_type": "markdown",
   "id": "6d089854-d9c6-423e-aed6-0e19eac09954",
   "metadata": {
    "slideshow": {
     "slide_type": "slide"
    }
   },
   "source": [
    "### What do we have so far?\n",
    "\n",
    "- $\\alpha_i(t)$ gives us the probability of being in state $i$ at time $t$ knowing everything that came till time $t$.  \n",
    "- $\\beta_i(t)$ gives us the probability of being in state $i$ at time $t$ knowing what's going to come in the future. \n",
    "\n",
    "![](img/alpha_beta.png)\n",
    "\n",
    "<!-- <center> -->\n",
    "<!-- <img src=\"img/alpha_beta.png\" height=\"600\" width=\"600\">  -->\n",
    "<!-- </center> -->\n",
    "\n",
    "[Source](http://www.cs.toronto.edu/~frank/csc401/lectures2020/5_HMMs.pdf)"
   ]
  },
  {
   "cell_type": "markdown",
   "id": "1c49d842-f4f0-4ef7-a4be-7a1ca91e3ace",
   "metadata": {
    "slideshow": {
     "slide_type": "slide"
    }
   },
   "source": [
    "### Combing $\\alpha$ and $\\beta$\n",
    "\n",
    "- We define one more parameter $\\gamma_i(t)$, which is a fusion of the $\\alpha_i(t)$ and the $\\beta_i(t)$ parameters. \n",
    "- $\\gamma_i(t)$ tells us the probability of being in a state $i$ at time $t$ knowing everything that came till time step $t$ and everything that's coming in the future. \n",
    "\n",
    "![](img/alpha_beta.png)\n",
    "\n",
    "<!-- <center> -->\n",
    "<!-- <img src=\"img/alpha_beta.png\" height=\"600\" width=\"600\">  -->\n",
    "<!-- </center>  -->\n",
    "\n",
    "[Source](http://www.cs.toronto.edu/~frank/csc401/lectures2020/5_HMMs.pdf)"
   ]
  },
  {
   "cell_type": "markdown",
   "id": "63e96be9-d341-4a31-89d5-a234662a9b41",
   "metadata": {
    "slideshow": {
     "slide_type": "slide"
    }
   },
   "source": [
    "### How to calculate $\\gamma_i(t)$?\n",
    "\n",
    "- What's the probability of being in state $i$ at time $t$ and given the **entire observation sequence** $O$? \n",
    "\n",
    "\\begin{equation}\n",
    "\\begin{split}\n",
    "\\gamma_i(t) = & \\frac{P(q_t = i, O; \\theta)}{P(O;\\theta)}\\\\\n",
    "              = & \\frac{\\alpha_i(t) \\beta_i(t)}{\\sum_{i=1}^{N}\\alpha_i(t)\\beta_i(t)}\n",
    "\\end{split}\n",
    "\\end{equation}\n",
    "- Note that this is different than just looking at $\\alpha$ or $\\beta$. \n",
    "- If you know what came before you might guess some state which is optimal given what you've seen so far, but if you also know what's coming in the future, you might have to revise that guess because what's coming in future might make the current most likely position not very likely in the global picture. \n"
   ]
  },
  {
   "cell_type": "markdown",
   "id": "892a3653-6378-4062-a573-e68a757afc66",
   "metadata": {
    "slideshow": {
     "slide_type": "slide"
    }
   },
   "source": [
    "### A new probability $\\xi_{ij}(t)$ \n",
    "\n",
    "- We also need $\\xi_{ij}(t)$ for Baum-Welch. \n",
    "- We define a probability $\\xi_{ij}(t)$ of landing in state $s_i$ at time $t$ and transitioning to state $s_j$ at time $t+1$ regardless of the previous states and future states given the observations. \n",
    "\n",
    "![](img/xi_baum_welch.png)\n",
    "\n",
    "<!-- <center> -->\n",
    "<!-- <img src=\"img/xi_baum_welch.png\" height=\"500\" width=\"500\">        -->\n",
    "<!-- </center> -->\n",
    "\n",
    "[Source](http://www.cs.toronto.edu/~frank/csc401/lectures2020/5_HMMs.pdf)\n",
    "\n",
    "> Let's call it a bow-tie (🎀) picture. "
   ]
  },
  {
   "cell_type": "markdown",
   "id": "021b8573-d092-4716-951a-e5b69c1dda4b",
   "metadata": {
    "slideshow": {
     "slide_type": "skip"
    }
   },
   "source": [
    "### Calculating $\\xi_{ij}(t)$ \n",
    "\n",
    "- We define a new probability $\\xi_{ij}(t)$ as the probability of transitioning from state $i$ at time $t$ to state $j$ at time $t+1$ based on our current model, $\\theta_k$ and given the entire observation sequence $O$. \n",
    "\n",
    "\\begin{equation}\n",
    "\\begin{split}\n",
    "\\xi_{ij}(t) = & P(q_t = i, q_{t+1}=j \\mid O;\\theta ) \\\\\n",
    "              = & \\frac{\\alpha_i(t)a_{ij}b_j(o_{t+1})\\beta_j(t+1)}{P(O;\\theta)}\n",
    "\\end{split}\n",
    "\\end{equation}"
   ]
  },
  {
   "cell_type": "markdown",
   "id": "198b5106-13ad-4592-83b0-4e1c4457a6fa",
   "metadata": {
    "slideshow": {
     "slide_type": "slide"
    }
   },
   "source": [
    "### Where are we so far? \n",
    "\n",
    "- We have an existing model $\\theta=<\\pi,A,B>$. \n",
    "- We have observations $O$.\n",
    "- We have some tools: $\\alpha_i(t), \\beta_i(t), \\gamma_i(t), \\xi_{ij}(t)$. \n",
    "\n",
    "- Goal: We want to modify the parameters of our model $\\theta = <\\pi, T, B>$ so that $P(O;\\theta)$ is maximized for the training data $O$. \n",
    "\n",
    "$$\\bar{\\theta} = argmax_\\theta P(O; \\theta) $$\n",
    "\n",
    "- How can we use these tools to improve our model? "
   ]
  },
  {
   "cell_type": "markdown",
   "id": "97486d4b-b80d-4e39-b1bd-26fc07be416d",
   "metadata": {
    "slideshow": {
     "slide_type": "slide"
    }
   },
   "source": [
    "### Baum-Welch algorithm or forward-backward algorithm \n",
    "\n",
    "- There is no known way to solve for a globally optimal solution. \n",
    "- We search for a locally optimal solution.  \n",
    "- We use an algorithm called Baum-Welch, which is a special case of expectation-maximization algorithm.\n",
    "- An expectation–maximization (EM) algorithm is an iterative method to find (local) maximum likelihood of parameters, where the model depends on unobserved latent variables. \n",
    "- With this algorithm we estimate the values for the hidden parameters of the model. "
   ]
  },
  {
   "cell_type": "markdown",
   "id": "840d71b4-c832-4906-a006-4459fb67d10d",
   "metadata": {
    "slideshow": {
     "slide_type": "slide"
    }
   },
   "source": [
    "### Expectation maximization \n",
    "\n",
    "- We will start with a randomly initialized model. \n",
    "- We use the model to calculate new $\\alpha_i(t), \\beta_i(t), \\gamma_i(t), \\xi_{ij}(t)$. \n",
    "- We update the model.  \n",
    "- We can do this iteratively until convergence or stopping condition. \n",
    "\n",
    "![](img/em.png)\n",
    "\n",
    "<!-- <center> -->\n",
    "<!-- <img src=\"img/em.png\" height=\"700\" width=\"700\">        -->\n",
    "<!-- </center>    -->"
   ]
  },
  {
   "cell_type": "markdown",
   "id": "60cc9bf5-6cfe-4866-b198-75cfa0bcc59d",
   "metadata": {
    "slideshow": {
     "slide_type": "slide"
    }
   },
   "source": [
    "- Given a model, we know how to calculate  $\\alpha_i(t), \\beta_i(t), \\gamma_i(t), \\xi_{ij}(t)$"
   ]
  },
  {
   "cell_type": "markdown",
   "id": "52e819c1-25c2-4301-b61f-60be56bafe15",
   "metadata": {
    "slideshow": {
     "slide_type": "slide"
    }
   },
   "source": [
    "### How to update the model? \n",
    "\n",
    "- What's the probability of ever being in state $i$ regardless of the time? \n",
    "    - $\\gamma_i(t)$ is the probability of being in state $i$ at time $t$\n",
    "    - If we sum over all $t$ then we have a number that can be treated as the expected number of times $i$ is ever visited. \n",
    "\n",
    "- What's the probability of ever transitioning from state $i$ to state $j$? \n",
    "    - $\\xi_{ij}(t)$ is the probability of transitioning from $i$ at $t$ to $j$ at $t+1$\n",
    "    - If we sum over all $t$ then we have a number which can be treated as the expected number of times $i$ ever transitions to $j$.\n",
    "    \n"
   ]
  },
  {
   "cell_type": "markdown",
   "id": "e1a9d5da-bb25-41a6-a2e8-70bb631fcbfc",
   "metadata": {
    "slideshow": {
     "slide_type": "slide"
    }
   },
   "source": [
    "### Updating $\\pi$\n",
    "\n",
    "For each state $i$\n",
    "- $\\bar{\\pi_i} = \\gamma_i(0)$ = expected frequency in state $i$ at time 0. "
   ]
  },
  {
   "cell_type": "markdown",
   "id": "a5dba6ff-a630-49d0-b2ff-eec2e20a123b",
   "metadata": {
    "slideshow": {
     "slide_type": "slide"
    }
   },
   "source": [
    "### Updating transition probabilities $A$\n",
    "\n",
    "$$\\bar{a}_{ij} = \\frac{\\text{expected number of transitions from $i$ to $j$}}{\\text{expected number of transitions from $i$}}$$\n",
    "\n",
    "$$\\bar{a}_{ij} = \\frac{\\sum_{t=0}^{T-1} \\xi_{ij}(t)}{\\sum_{t=0}^{T-1}\\gamma_i(t)}$$"
   ]
  },
  {
   "cell_type": "markdown",
   "id": "9dc9f75c-572b-43d3-ba89-f4e5269163d1",
   "metadata": {
    "slideshow": {
     "slide_type": "slide"
    }
   },
   "source": [
    "### Updating observation probabilities $B$\n",
    "\n",
    "$$\\bar{b}_j(o) = \\frac{\\text{expected number of times in state $j$ and observing $o$}}{\\text{expected number of times in state $j$}}$$\n",
    "\n",
    "$$\\bar{b}_j(o) = \\frac{\\sum_{t=0\\text{ st }O_t = o}^{T} \\gamma_j(t)}{\\sum_{t=0}^{T}\\gamma_j(t)}$$"
   ]
  },
  {
   "cell_type": "markdown",
   "id": "c5a294c2-9309-46aa-a2dc-258e7070b41e",
   "metadata": {
    "slideshow": {
     "slide_type": "slide"
    }
   },
   "source": [
    "### Expectation maximization \n",
    "\n",
    "- We now have our updated parameters $\\bar{\\theta}$\n",
    "- We can use these updated parameters to calculate new $\\alpha_i(t), \\beta_i(t), \\gamma_i(t), \\xi_{ij}(t)$. \n",
    "- We can do this iteratively until convergence or stopping condition. \n",
    "<br><br>\n",
    "\n",
    "![](img/em.png)\n",
    "\n",
    "<!-- <center> -->\n",
    "<!-- <img src=\"img/em.png\" height=\"700\" width=\"700\">        -->\n",
    "<!-- </center>    -->\n"
   ]
  },
  {
   "cell_type": "markdown",
   "id": "53941ed8-e9d7-4726-91d1-e5878425883b",
   "metadata": {
    "slideshow": {
     "slide_type": "slide"
    }
   },
   "source": [
    "### Expectation and maximization  \n",
    "\n",
    "If we knew $\\theta$, we could make **expectations** such as \n",
    "- Expected number of times we are in state $s_i$\n",
    "- Expected number of transitions $s_i \\rightarrow s_j$\n",
    "\n",
    "If we knew \n",
    "- Expected number of times we are in state $s_i$\n",
    "- Expected number of transitions $s_i \\rightarrow s_j$\n",
    "then we could computer the maximum likelihood estimate of $\\theta$\n",
    "$$\\theta = <\\pi_i, {a_{ij}}, {b_i(o)}>$$"
   ]
  },
  {
   "cell_type": "markdown",
   "id": "23110b19-ef82-4586-ba1e-4246a9074e65",
   "metadata": {
    "slideshow": {
     "slide_type": "slide"
    }
   },
   "source": [
    "### Expectation-maximization \n",
    "\n",
    "- Expectation maximization (EM) is an iterative algorithm that alternates between two steps: **expectation (E-step)** and **maximization (M-step)**. \n",
    "- Guesses the expected counts for the hidden sequence using the current model $\\theta_k$ in the $k^{th}$ iteration. \n",
    "- Computes a new $\\theta_{k+1}$ that maximizes the likelihood of the data given the guesses in the E-step, which is used in the next E-step of $k+1^{th}$ iteration. \n",
    "- Continue until convergence or stopping condition. "
   ]
  },
  {
   "cell_type": "markdown",
   "id": "35d04da2-3894-453e-9200-f46617930957",
   "metadata": {},
   "source": [
    "### EM algorithm for HMM learning\n",
    "\n",
    "- Initialize $A$ and $B$\n",
    "- Iterate until convergence \n",
    "    - E-step\n",
    "$$\\gamma_i(t) = \\frac{\\alpha_i(t) \\beta_i(t)}{P(O;\\theta)} \\forall t \\text{ and } i$$    \n",
    "$$\\xi_{ij}(t) = \\frac{\\alpha_i(t)a_{ij}b_j(o_{t+1})\\beta_j(t+1)}{P(O;\\theta)} \\forall t, i, \\text{ and } j$$\n",
    "\n",
    "    - M-Step \n",
    "    $$\\bar{\\pi_i} = \\gamma_i(0), i=1 \\dots N$$\n",
    "    $$\\bar{a}_{ij} = \\frac{\\sum_{t=1}^{T-1} \\xi_{ij}(t)}{\\sum_{t=0}^{T-1}\\gamma_i(t)}, i,j=1 \\dots N$$\n",
    "    $$\\bar{b}_j(o) = \\frac{\\sum_{t=1\\text{ st }O_t = o}^T \\gamma_j(t)}{\\sum_{t=1}^{T}\\gamma_j(t)}, i=1 \\dots N, o \\in O$$\n",
    "\n",
    "- Return $A$ and $B$"
   ]
  },
  {
   "cell_type": "markdown",
   "id": "827e6b45-010a-4aff-ab37-0d75e8cdcda7",
   "metadata": {},
   "source": [
    "- Update parameters $\\theta_{k+1}$ after each iteration.  \n",
    "- Rinse and repeat until $\\theta_{k} \\approx \\theta_{k+1}$.\n",
    "- This algorithm does not estimate the number of states, which must be known beforehand.\n",
    "- Moreover, in practice, some constraints on the topology and initial state probability are imposed at the beginning to assist training.  "
   ]
  },
  {
   "cell_type": "markdown",
   "id": "8d37e3b4-d036-497f-80b9-b88437128d1f",
   "metadata": {
    "slideshow": {
     "slide_type": "slide"
    }
   },
   "source": [
    "### A note on the EM algorithm\n",
    "\n",
    "- Here, we are looking at EM in the context of hidden Markov models. \n",
    "- But EM algorithm is a general iterative method to find local MLE estimates of parameters when little or no labeled training data is available. \n",
    "- We can view K-Means clustering as a special case of expectation maximization. "
   ]
  }
 ],
 "metadata": {
  "kernelspec": {
   "display_name": "Python [conda env:575]",
   "language": "python",
   "name": "conda-env-575-py"
  },
  "language_info": {
   "codemirror_mode": {
    "name": "ipython",
    "version": 3
   },
   "file_extension": ".py",
   "mimetype": "text/x-python",
   "name": "python",
   "nbconvert_exporter": "python",
   "pygments_lexer": "ipython3",
   "version": "3.12.2"
  }
 },
 "nbformat": 4,
 "nbformat_minor": 5
}
